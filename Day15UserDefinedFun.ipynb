{
 "cells": [
  {
   "cell_type": "markdown",
   "id": "0782da2b-a522-4b01-b324-8bfb2bbde309",
   "metadata": {},
   "source": [
    "# user-defined functions"
   ]
  },
  {
   "cell_type": "code",
   "execution_count": 11,
   "id": "bce0ee90-3c0d-4b7e-8a98-17de5ea328ed",
   "metadata": {},
   "outputs": [
    {
     "name": "stdout",
     "output_type": "stream",
     "text": [
      "11\n",
      "Python is high level programming language\n",
      "Python is dynamically typed\n",
      "Pyhton ,good to learn\n",
      "339\n",
      "Python is high level programming language\n",
      "Python is dynamically typed\n",
      "Pyhton ,good to learn\n"
     ]
    }
   ],
   "source": [
    "def success():\n",
    "    print(\"Python is high level programming language\")\n",
    "    print(\"Python is dynamically typed\")\n",
    "    print(\"Pyhton ,good to learn\")\n",
    "\n",
    "a=5\n",
    "b=6\n",
    "print(a+b)\n",
    "success()\n",
    "m=12\n",
    "n=13\n",
    "o=14\n",
    "print((m*n)+(n*o)+(n-m))\n",
    "success()"
   ]
  },
  {
   "cell_type": "code",
   "execution_count": null,
   "id": "659f9a76-8c01-4366-bcfb-fd9c97b5c5f1",
   "metadata": {},
   "outputs": [
    {
     "name": "stdin",
     "output_type": "stream",
     "text": [
      "Enter your weight 45\n",
      "Enter your height 5\n",
      "enter your HB 9\n"
     ]
    },
    {
     "name": "stdout",
     "output_type": "stream",
     "text": [
      "Patient's BMI  9.0\n",
      "This is your diet plan\n",
      "In the breakfast take meal\n",
      "In the lunch eat some protiens\n",
      "In the dinner please take some cereals\n",
      "do regualr exercise\n",
      "morning walks most recommended\n"
     ]
    },
    {
     "name": "stdin",
     "output_type": "stream",
     "text": [
      "Enter your weight 26\n",
      "Enter your height 8\n",
      "enter your HB 6\n"
     ]
    },
    {
     "name": "stdout",
     "output_type": "stream",
     "text": [
      "Patient's BMI  3.25\n",
      "This is your diet plan\n",
      "In the breakfast take meal\n",
      "In the lunch eat some protiens\n",
      "In the dinner please take some cereals\n",
      "do regualr exercise\n",
      "morning walks most recommended\n"
     ]
    },
    {
     "name": "stdin",
     "output_type": "stream",
     "text": [
      "Enter your weight 88\n",
      "Enter your height 6\n",
      "enter your HB 10\n"
     ]
    },
    {
     "name": "stdout",
     "output_type": "stream",
     "text": [
      "Patient's BMI  14.666666666666666\n",
      "This is your diet plan\n",
      "In the breakfast take meal\n",
      "In the lunch eat some protiens\n",
      "In the dinner please take some cereals\n",
      "do regualr exercise\n",
      "morning walks most recommended\n"
     ]
    },
    {
     "name": "stdin",
     "output_type": "stream",
     "text": [
      "Enter your weight 96\n",
      "Enter your height 5\n",
      "enter your HB 11\n"
     ]
    },
    {
     "name": "stdout",
     "output_type": "stream",
     "text": [
      "Patient's BMI  19.2\n",
      "This is your diet plan\n",
      "In the breakfast take meal\n",
      "In the lunch eat some protiens\n",
      "In the dinner please take some cereals\n",
      "do regualr exercise\n",
      "morning walks most recommended\n"
     ]
    },
    {
     "name": "stdin",
     "output_type": "stream",
     "text": [
      "Enter your weight 88\n",
      "Enter your height 5\n",
      "enter your HB 6\n"
     ]
    },
    {
     "name": "stdout",
     "output_type": "stream",
     "text": [
      "Patient's BMI  17.6\n",
      "This is your diet plan\n",
      "In the breakfast take meal\n",
      "In the lunch eat some protiens\n",
      "In the dinner please take some cereals\n",
      "do regualr exercise\n",
      "morning walks most recommended\n"
     ]
    },
    {
     "name": "stdin",
     "output_type": "stream",
     "text": [
      "Enter your weight 78\n",
      "Enter your height 4\n",
      "enter your HB 14\n"
     ]
    },
    {
     "name": "stdout",
     "output_type": "stream",
     "text": [
      "Patient's BMI  19.5\n",
      "This is your diet plan\n",
      "In the breakfast take meal\n",
      "In the lunch eat some protiens\n",
      "In the dinner please take some cereals\n",
      "do regualr exercise\n",
      "morning walks most recommended\n"
     ]
    },
    {
     "name": "stdin",
     "output_type": "stream",
     "text": [
      "Enter your weight 85\n",
      "Enter your height 6\n",
      "enter your HB 5\n"
     ]
    },
    {
     "name": "stdout",
     "output_type": "stream",
     "text": [
      "Patient's BMI  14.166666666666666\n",
      "This is your diet plan\n",
      "In the breakfast take meal\n",
      "In the lunch eat some protiens\n",
      "In the dinner please take some cereals\n",
      "do regualr exercise\n",
      "morning walks most recommended\n"
     ]
    },
    {
     "name": "stdin",
     "output_type": "stream",
     "text": [
      "Enter your weight 45\n",
      "Enter your height 6\n",
      "enter your HB 8\n"
     ]
    },
    {
     "name": "stdout",
     "output_type": "stream",
     "text": [
      "Patient's BMI  7.5\n",
      "This is your diet plan\n",
      "In the breakfast take meal\n",
      "In the lunch eat some protiens\n",
      "In the dinner please take some cereals\n",
      "do regualr exercise\n",
      "morning walks most recommended\n"
     ]
    },
    {
     "name": "stdin",
     "output_type": "stream",
     "text": [
      "Enter your weight 96\n",
      "Enter your height 6\n",
      "enter your HB 8\n"
     ]
    },
    {
     "name": "stdout",
     "output_type": "stream",
     "text": [
      "Patient's BMI  16.0\n",
      "This is your diet plan\n",
      "In the breakfast take meal\n",
      "In the lunch eat some protiens\n",
      "In the dinner please take some cereals\n",
      "do regualr exercise\n",
      "morning walks most recommended\n"
     ]
    },
    {
     "name": "stdin",
     "output_type": "stream",
     "text": [
      "Enter your weight 78\n",
      "Enter your height 8\n",
      "enter your HB 6\n"
     ]
    },
    {
     "name": "stdout",
     "output_type": "stream",
     "text": [
      "Patient's BMI  9.75\n",
      "This is your diet plan\n",
      "In the breakfast take meal\n",
      "In the lunch eat some protiens\n",
      "In the dinner please take some cereals\n",
      "do regualr exercise\n",
      "morning walks most recommended\n"
     ]
    },
    {
     "name": "stdin",
     "output_type": "stream",
     "text": [
      "Enter your weight 45\n",
      "Enter your height 6\n",
      "enter your HB 12\n"
     ]
    },
    {
     "name": "stdout",
     "output_type": "stream",
     "text": [
      "Patient's BMI  7.5\n",
      "This is your diet plan\n",
      "In the breakfast take meal\n",
      "In the lunch eat some protiens\n",
      "In the dinner please take some cereals\n",
      "do regualr exercise\n",
      "morning walks most recommended\n"
     ]
    },
    {
     "name": "stdin",
     "output_type": "stream",
     "text": [
      "Enter your weight 45\n",
      "Enter your height 6\n",
      "enter your HB 2\n"
     ]
    },
    {
     "name": "stdout",
     "output_type": "stream",
     "text": [
      "Patient's BMI  7.5\n",
      "This is your diet plan\n",
      "In the breakfast take meal\n",
      "In the lunch eat some protiens\n",
      "In the dinner please take some cereals\n",
      "do regualr exercise\n",
      "morning walks most recommended\n"
     ]
    }
   ],
   "source": [
    "\"\"\"write a program to make a report of a patient calculate the BMI ,and take input\n",
    "from the patient like weight ,height ,hbp,do this for let supopose 5 patients\"\"\"\n",
    "\n",
    "\n",
    "\n",
    "def dietplan():\n",
    "    print(\"This is your diet plan\")\n",
    "    print(\"In the breakfast take meal\")\n",
    "    print(\"In the lunch eat some protiens\")\n",
    "    print(\"In the dinner please take some cereals\")\n",
    "    print(\"do regualr exercise\")\n",
    "    print(\"morning walks most recommended\")\n",
    "\n",
    "n=5\n",
    "while n<=5:\n",
    "    a=int(input(\"Enter your weight\"))\n",
    "    b=int(input(\"Enter your height\"))\n",
    "    c=int(input(\"enter your HB\"))\n",
    "    BMI=a/b\n",
    "    print(\"Patient's BMI \",BMI)\n",
    "    dietplan()\n",
    "n=n+1    \n",
    "    \n",
    "    "
   ]
  },
  {
   "cell_type": "markdown",
   "id": "c0799b81-d85e-4c24-bd9a-9be3dd08f824",
   "metadata": {},
   "source": [
    "# Doc-string"
   ]
  },
  {
   "cell_type": "code",
   "execution_count": null,
   "id": "bdcef854-93b5-4907-9e6c-c3ca10898ee5",
   "metadata": {},
   "outputs": [],
   "source": [
    "def learn():\n",
    "    \"\"\"This function does nothing execept print\"\"\"\n",
    "    print(\"Hi,I am student of DataScience\")\n",
    "    print(\"DataScience\")\n",
    "learn()    "
   ]
  },
  {
   "cell_type": "code",
   "execution_count": null,
   "id": "de836c3e-ebbe-4011-ac6b-7374ef005ba8",
   "metadata": {},
   "outputs": [],
   "source": []
  },
  {
   "cell_type": "code",
   "execution_count": null,
   "id": "4e10fb72-8ab6-4574-bfb7-8b8801b50af1",
   "metadata": {},
   "outputs": [],
   "source": []
  },
  {
   "cell_type": "code",
   "execution_count": null,
   "id": "fb2c5d40-12f4-4a49-a014-333baa33fc98",
   "metadata": {},
   "outputs": [],
   "source": []
  },
  {
   "cell_type": "code",
   "execution_count": null,
   "id": "d05898cb-7d38-401d-85f0-62d1e3738fca",
   "metadata": {},
   "outputs": [],
   "source": []
  }
 ],
 "metadata": {
  "kernelspec": {
   "display_name": "Python [conda env:base] *",
   "language": "python",
   "name": "conda-base-py"
  },
  "language_info": {
   "codemirror_mode": {
    "name": "ipython",
    "version": 3
   },
   "file_extension": ".py",
   "mimetype": "text/x-python",
   "name": "python",
   "nbconvert_exporter": "python",
   "pygments_lexer": "ipython3",
   "version": "3.12.7"
  }
 },
 "nbformat": 4,
 "nbformat_minor": 5
}
