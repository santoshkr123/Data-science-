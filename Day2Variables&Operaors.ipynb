{
 "cells": [
  {
   "cell_type": "code",
   "execution_count": 1,
   "id": "87d69e7c-d515-453a-991b-00c4ced5c95b",
   "metadata": {},
   "outputs": [
    {
     "name": "stdout",
     "output_type": "stream",
     "text": [
      "6\n"
     ]
    }
   ],
   "source": [
    "x=6\n",
    "print(x)\n"
   ]
  },
  {
   "cell_type": "code",
   "execution_count": 5,
   "id": "4a82536b-8162-4a33-b53d-01d7be792852",
   "metadata": {},
   "outputs": [
    {
     "name": "stdout",
     "output_type": "stream",
     "text": [
      "<class 'int'>\n"
     ]
    }
   ],
   "source": [
    "print(type(x))"
   ]
  },
  {
   "cell_type": "code",
   "execution_count": 7,
   "id": "433373fe-1157-4c81-9acf-b39f844fd1b1",
   "metadata": {},
   "outputs": [
    {
     "name": "stdout",
     "output_type": "stream",
     "text": [
      "6\n",
      "<class 'float'>\n"
     ]
    }
   ],
   "source": [
    "y=5.68974\n",
    "print(x)\n",
    "print(type(y))"
   ]
  },
  {
   "cell_type": "code",
   "execution_count": 9,
   "id": "f7ced4dc-6cca-4101-8659-9b9db51a66f1",
   "metadata": {},
   "outputs": [
    {
     "name": "stdout",
     "output_type": "stream",
     "text": [
      "(12+13j)\n",
      "<class 'complex'>\n"
     ]
    }
   ],
   "source": [
    "z=12+13j\n",
    "print(z)\n",
    "print(type(z))"
   ]
  },
  {
   "cell_type": "code",
   "execution_count": 11,
   "id": "1188ec26-b10d-4e55-90df-3e27d8d717db",
   "metadata": {},
   "outputs": [
    {
     "name": "stdout",
     "output_type": "stream",
     "text": [
      "Learning python\n",
      "<class 'str'>\n"
     ]
    }
   ],
   "source": [
    "t=\"Learning python\"\n",
    "print(t)\n",
    "print(type(t))"
   ]
  },
  {
   "cell_type": "code",
   "execution_count": 1,
   "id": "dc67c7f6-b859-4043-ac01-9af2c6e9d940",
   "metadata": {},
   "outputs": [
    {
     "name": "stdout",
     "output_type": "stream",
     "text": [
      "Learning python  , 23 Happy Coding \n",
      "<class 'str'>\n"
     ]
    }
   ],
   "source": [
    "o=\"Learning python  , 23 Happy Coding \"\n",
    "print(o)\n",
    "print(type(o))\n"
   ]
  },
  {
   "cell_type": "markdown",
   "id": "3f2f261d-0a26-4ad5-81bc-23e29d42a4cd",
   "metadata": {},
   "source": [
    "how many variables are there in the notebook"
   ]
  },
  {
   "cell_type": "code",
   "execution_count": 3,
   "id": "f34c51fb-65a4-46b9-9bab-fbdcabb8bca1",
   "metadata": {},
   "outputs": [
    {
     "name": "stdout",
     "output_type": "stream",
     "text": [
      "Variable               Type        Data/Info\n",
      "--------------------------------------------\n",
      "dataframe_columns      function    <function dataframe_colum<...>ns at 0x0000025486AB5BC0>\n",
      "dataframe_hash         function    <function dataframe_hash at 0x0000025486AB4D60>\n",
      "dtypes_str             function    <function dtypes_str at 0x0000025486AB4CC0>\n",
      "get_dataframes         function    <function get_dataframes at 0x000002548813B1A0>\n",
      "getpass                module      <module 'getpass' from 'C<...>conda3\\\\Lib\\\\getpass.py'>\n",
      "hashlib                module      <module 'hashlib' from 'C<...>conda3\\\\Lib\\\\hashlib.py'>\n",
      "import_pandas_safely   function    <function import_pandas_s<...>ly at 0x0000025486AB5DA0>\n",
      "is_data_frame          function    <function is_data_frame at 0x0000025486AB5120>\n",
      "json                   module      <module 'json' from 'C:\\\\<...>\\Lib\\\\json\\\\__init__.py'>\n",
      "o                      str         Learning python  , 23 Happy Coding \n"
     ]
    }
   ],
   "source": [
    "%whos"
   ]
  },
  {
   "cell_type": "code",
   "execution_count": null,
   "id": "d6c8a0c0-9d3a-4c24-a5e7-37f5c2b3dae2",
   "metadata": {},
   "outputs": [],
   "source": [
    "del o\n"
   ]
  },
  {
   "cell_type": "code",
   "execution_count": 5,
   "id": "189f1297-f138-4f65-8700-e9d0bb1d0030",
   "metadata": {},
   "outputs": [
    {
     "name": "stdout",
     "output_type": "stream",
     "text": [
      "Variable               Type        Data/Info\n",
      "--------------------------------------------\n",
      "dataframe_columns      function    <function dataframe_colum<...>ns at 0x0000025486AB5120>\n",
      "dataframe_hash         function    <function dataframe_hash at 0x0000025486AB4CC0>\n",
      "dtypes_str             function    <function dtypes_str at 0x0000025486AB5BC0>\n",
      "get_dataframes         function    <function get_dataframes at 0x0000025486AB4D60>\n",
      "getpass                module      <module 'getpass' from 'C<...>conda3\\\\Lib\\\\getpass.py'>\n",
      "hashlib                module      <module 'hashlib' from 'C<...>conda3\\\\Lib\\\\hashlib.py'>\n",
      "import_pandas_safely   function    <function import_pandas_s<...>ly at 0x000002548813C680>\n",
      "is_data_frame          function    <function is_data_frame at 0x0000025486AB5DA0>\n",
      "json                   module      <module 'json' from 'C:\\\\<...>\\Lib\\\\json\\\\__init__.py'>\n",
      "o                      str         Learning python  , 23 Happy Coding \n"
     ]
    }
   ],
   "source": [
    "%whos"
   ]
  },
  {
   "cell_type": "code",
   "execution_count": null,
   "id": "eaade455-b111-4c21-a715-9ab5eaffbf44",
   "metadata": {},
   "outputs": [],
   "source": [
    "Multiple assighnenmnts in the variable"
   ]
  },
  {
   "cell_type": "code",
   "execution_count": 7,
   "id": "35d3e328-c24a-4fc2-a5c4-c91844aac761",
   "metadata": {},
   "outputs": [
    {
     "name": "stdout",
     "output_type": "stream",
     "text": [
      "3 12 Happy Coding\n",
      "<class 'int'> <class 'int'> <class 'str'>\n"
     ]
    }
   ],
   "source": [
    "a,b,c=3,12,\"Happy Coding\"\n",
    "print(a,b,c)\n",
    "print(type(a),type(b),type(c))"
   ]
  },
  {
   "cell_type": "code",
   "execution_count": 9,
   "id": "ba65d980-84c8-45fa-a6a8-19dd9af7ec8c",
   "metadata": {},
   "outputs": [
    {
     "name": "stdout",
     "output_type": "stream",
     "text": [
      "12\n"
     ]
    }
   ],
   "source": [
    "x=12\n",
    "X=13\n",
    "print(x)"
   ]
  },
  {
   "cell_type": "code",
   "execution_count": 11,
   "id": "d911da69-268e-4fe8-bae1-77edf1960f32",
   "metadata": {},
   "outputs": [
    {
     "name": "stdout",
     "output_type": "stream",
     "text": [
      "13\n"
     ]
    }
   ],
   "source": [
    "print(X)"
   ]
  },
  {
   "cell_type": "code",
   "execution_count": null,
   "id": "8be90830-3fcf-4d9f-b29d-0ee9255826a3",
   "metadata": {},
   "outputs": [],
   "source": [
    "Operators-Arithematic"
   ]
  },
  {
   "cell_type": "code",
   "execution_count": 19,
   "id": "7b892445-c6a0-4c83-b3eb-b68022d602e8",
   "metadata": {},
   "outputs": [
    {
     "name": "stdout",
     "output_type": "stream",
     "text": [
      "3\n"
     ]
    }
   ],
   "source": [
    "a=1\n",
    "b=2\n",
    "c=3.5\n",
    "d=\"Happy coding\"\n",
    "e=\"tata\"\n",
    "f=3+15j\n",
    "\n",
    "print(a+b)"
   ]
  },
  {
   "cell_type": "code",
   "execution_count": 21,
   "id": "7da1bd13-6dda-4136-bfbe-eff9e9c94ec5",
   "metadata": {},
   "outputs": [
    {
     "name": "stdout",
     "output_type": "stream",
     "text": [
      "4.5\n"
     ]
    }
   ],
   "source": [
    "print(a+c)"
   ]
  },
  {
   "cell_type": "code",
   "execution_count": 25,
   "id": "2cf27a36-e4ae-4646-9a14-9f7ab8d1f5c9",
   "metadata": {},
   "outputs": [
    {
     "name": "stdout",
     "output_type": "stream",
     "text": [
      "Happy codingtata\n"
     ]
    }
   ],
   "source": [
    "print(d+e)"
   ]
  },
  {
   "cell_type": "code",
   "execution_count": 27,
   "id": "a12873f2-20b1-4577-b3c1-64be6ca41c6b",
   "metadata": {},
   "outputs": [
    {
     "name": "stdout",
     "output_type": "stream",
     "text": [
      "(4+15j)\n"
     ]
    }
   ],
   "source": [
    "print(a+f)"
   ]
  },
  {
   "cell_type": "code",
   "execution_count": 29,
   "id": "0a7d3813-8127-422d-ab36-06559844caba",
   "metadata": {},
   "outputs": [
    {
     "ename": "TypeError",
     "evalue": "can only concatenate str (not \"complex\") to str",
     "output_type": "error",
     "traceback": [
      "\u001b[1;31m---------------------------------------------------------------------------\u001b[0m",
      "\u001b[1;31mTypeError\u001b[0m                                 Traceback (most recent call last)",
      "Cell \u001b[1;32mIn[29], line 1\u001b[0m\n\u001b[1;32m----> 1\u001b[0m \u001b[38;5;28mprint\u001b[39m(d\u001b[38;5;241m+\u001b[39mf)\n",
      "\u001b[1;31mTypeError\u001b[0m: can only concatenate str (not \"complex\") to str"
     ]
    }
   ],
   "source": [
    "print(d+f)"
   ]
  },
  {
   "cell_type": "code",
   "execution_count": 31,
   "id": "719d7daa-d1e8-435e-9966-32f282cc9442",
   "metadata": {},
   "outputs": [
    {
     "name": "stdout",
     "output_type": "stream",
     "text": [
      "(6.5+15j)\n"
     ]
    }
   ],
   "source": [
    "print(c+f)"
   ]
  },
  {
   "cell_type": "code",
   "execution_count": null,
   "id": "1334a468-3ac4-44b0-8bd8-4843bc39293d",
   "metadata": {},
   "outputs": [],
   "source": [
    "Substract\n"
   ]
  },
  {
   "cell_type": "code",
   "execution_count": 33,
   "id": "38d7bde1-5ab5-4da1-b4a4-d9d42edcc8a0",
   "metadata": {},
   "outputs": [
    {
     "name": "stdout",
     "output_type": "stream",
     "text": [
      "Variable               Type        Data/Info\n",
      "--------------------------------------------\n",
      "X                      int         13\n",
      "a                      int         1\n",
      "b                      int         2\n",
      "c                      float       3.5\n",
      "d                      str         Happy coding\n",
      "dataframe_columns      function    <function dataframe_colum<...>ns at 0x000002548813C900>\n",
      "dataframe_hash         function    <function dataframe_hash at 0x000002548813C7C0>\n",
      "dtypes_str             function    <function dtypes_str at 0x000002548813C860>\n",
      "e                      str         tata\n",
      "f                      complex     (3+15j)\n",
      "get_dataframes         function    <function get_dataframes at 0x000002548813C4A0>\n",
      "getpass                module      <module 'getpass' from 'C<...>conda3\\\\Lib\\\\getpass.py'>\n",
      "hashlib                module      <module 'hashlib' from 'C<...>conda3\\\\Lib\\\\hashlib.py'>\n",
      "import_pandas_safely   function    <function import_pandas_s<...>ly at 0x000002548803F100>\n",
      "is_data_frame          function    <function is_data_frame at 0x0000025486A42AC0>\n",
      "json                   module      <module 'json' from 'C:\\\\<...>\\Lib\\\\json\\\\__init__.py'>\n",
      "o                      str         Learning python  , 23 Happy Coding \n",
      "x                      int         12\n"
     ]
    }
   ],
   "source": [
    "%whos"
   ]
  },
  {
   "cell_type": "code",
   "execution_count": 35,
   "id": "2af3250d-6a9b-4eec-aead-af6d4ff0fea7",
   "metadata": {},
   "outputs": [
    {
     "name": "stdout",
     "output_type": "stream",
     "text": [
      "1\n"
     ]
    }
   ],
   "source": [
    "print(b-a)"
   ]
  },
  {
   "cell_type": "code",
   "execution_count": 37,
   "id": "48218cb9-176a-4d64-b6b3-72072322f3e8",
   "metadata": {},
   "outputs": [
    {
     "name": "stdout",
     "output_type": "stream",
     "text": [
      "1.5\n"
     ]
    }
   ],
   "source": [
    "print(c-b)"
   ]
  },
  {
   "cell_type": "code",
   "execution_count": 39,
   "id": "9094ce76-f69b-465c-aa53-ef5e7cf4a612",
   "metadata": {},
   "outputs": [
    {
     "ename": "TypeError",
     "evalue": "unsupported operand type(s) for -: 'str' and 'str'",
     "output_type": "error",
     "traceback": [
      "\u001b[1;31m---------------------------------------------------------------------------\u001b[0m",
      "\u001b[1;31mTypeError\u001b[0m                                 Traceback (most recent call last)",
      "Cell \u001b[1;32mIn[39], line 1\u001b[0m\n\u001b[1;32m----> 1\u001b[0m \u001b[38;5;28mprint\u001b[39m(d\u001b[38;5;241m-\u001b[39me)\n",
      "\u001b[1;31mTypeError\u001b[0m: unsupported operand type(s) for -: 'str' and 'str'"
     ]
    }
   ],
   "source": [
    "print(d-e)"
   ]
  },
  {
   "cell_type": "code",
   "execution_count": 41,
   "id": "2001587f-44b6-42ca-b24d-206438ce456c",
   "metadata": {},
   "outputs": [
    {
     "name": "stdout",
     "output_type": "stream",
     "text": [
      "(1+15j)\n"
     ]
    }
   ],
   "source": [
    "print(f-b)"
   ]
  },
  {
   "cell_type": "code",
   "execution_count": null,
   "id": "60e17736-2077-4921-a082-0244347796fa",
   "metadata": {},
   "outputs": [],
   "source": [
    "Multiplication"
   ]
  },
  {
   "cell_type": "code",
   "execution_count": 45,
   "id": "36fb11a3-125c-4bc9-bc02-64d8480bcbd8",
   "metadata": {},
   "outputs": [
    {
     "name": "stdout",
     "output_type": "stream",
     "text": [
      "Variable               Type        Data/Info\n",
      "--------------------------------------------\n",
      "X                      int         13\n",
      "a                      int         1\n",
      "b                      int         2\n",
      "c                      float       3.5\n",
      "d                      str         Happy coding\n",
      "dataframe_columns      function    <function dataframe_colum<...>ns at 0x0000025489172A20>\n",
      "dataframe_hash         function    <function dataframe_hash at 0x0000025489173740>\n",
      "dtypes_str             function    <function dtypes_str at 0x0000025489173420>\n",
      "e                      str         tata\n",
      "f                      complex     (3+15j)\n",
      "get_dataframes         function    <function get_dataframes at 0x0000025489172C00>\n",
      "getpass                module      <module 'getpass' from 'C<...>conda3\\\\Lib\\\\getpass.py'>\n",
      "hashlib                module      <module 'hashlib' from 'C<...>conda3\\\\Lib\\\\hashlib.py'>\n",
      "import_pandas_safely   function    <function import_pandas_s<...>ly at 0x0000025489173E20>\n",
      "is_data_frame          function    <function is_data_frame at 0x0000025489172DE0>\n",
      "json                   module      <module 'json' from 'C:\\\\<...>\\Lib\\\\json\\\\__init__.py'>\n",
      "o                      str         Learning python  , 23 Happy Coding \n",
      "x                      int         12\n"
     ]
    }
   ],
   "source": [
    "%whos"
   ]
  },
  {
   "cell_type": "code",
   "execution_count": 47,
   "id": "bb5bb58e-ceaf-4f7a-8b56-89b97771e07b",
   "metadata": {},
   "outputs": [
    {
     "name": "stdout",
     "output_type": "stream",
     "text": [
      "2\n"
     ]
    }
   ],
   "source": [
    "print(a*b)"
   ]
  },
  {
   "cell_type": "raw",
   "id": "d4b8a596-6a86-4516-a123-01f379182fe0",
   "metadata": {},
   "source": []
  },
  {
   "cell_type": "code",
   "execution_count": 49,
   "id": "8d01c007-1f23-4d9a-b04f-d5049ed3ccd7",
   "metadata": {},
   "outputs": [
    {
     "name": "stdout",
     "output_type": "stream",
     "text": [
      "3.5\n"
     ]
    }
   ],
   "source": [
    "print(a*c)"
   ]
  },
  {
   "cell_type": "code",
   "execution_count": 51,
   "id": "73d31c4c-0c3d-4430-aa4a-d3b20ef3906f",
   "metadata": {},
   "outputs": [
    {
     "name": "stdout",
     "output_type": "stream",
     "text": [
      "(3+15j)\n"
     ]
    }
   ],
   "source": [
    "print(a*f)"
   ]
  },
  {
   "cell_type": "code",
   "execution_count": 53,
   "id": "8b792970-fe83-4fd5-aa7a-d4bae97cf11b",
   "metadata": {},
   "outputs": [
    {
     "ename": "TypeError",
     "evalue": "can't multiply sequence by non-int of type 'str'",
     "output_type": "error",
     "traceback": [
      "\u001b[1;31m---------------------------------------------------------------------------\u001b[0m",
      "\u001b[1;31mTypeError\u001b[0m                                 Traceback (most recent call last)",
      "Cell \u001b[1;32mIn[53], line 1\u001b[0m\n\u001b[1;32m----> 1\u001b[0m \u001b[38;5;28mprint\u001b[39m(d\u001b[38;5;241m*\u001b[39me)\n",
      "\u001b[1;31mTypeError\u001b[0m: can't multiply sequence by non-int of type 'str'"
     ]
    }
   ],
   "source": [
    "print(d*e)"
   ]
  },
  {
   "cell_type": "code",
   "execution_count": null,
   "id": "9f83e130-865f-4c7d-82b3-e0bd4c7130aa",
   "metadata": {},
   "outputs": [],
   "source": [
    "Division"
   ]
  },
  {
   "cell_type": "code",
   "execution_count": 55,
   "id": "c726b565-a6ff-462b-b2d8-a6bea5465456",
   "metadata": {},
   "outputs": [
    {
     "name": "stdout",
     "output_type": "stream",
     "text": [
      "Variable               Type        Data/Info\n",
      "--------------------------------------------\n",
      "X                      int         13\n",
      "a                      int         1\n",
      "b                      int         2\n",
      "c                      float       3.5\n",
      "d                      str         Happy coding\n",
      "dataframe_columns      function    <function dataframe_colum<...>ns at 0x000002548813C4A0>\n",
      "dataframe_hash         function    <function dataframe_hash at 0x00000254891731A0>\n",
      "dtypes_str             function    <function dtypes_str at 0x0000025489173560>\n",
      "e                      str         tata\n",
      "f                      complex     (3+15j)\n",
      "get_dataframes         function    <function get_dataframes at 0x0000025489173E20>\n",
      "getpass                module      <module 'getpass' from 'C<...>conda3\\\\Lib\\\\getpass.py'>\n",
      "hashlib                module      <module 'hashlib' from 'C<...>conda3\\\\Lib\\\\hashlib.py'>\n",
      "import_pandas_safely   function    <function import_pandas_s<...>ly at 0x000002548813C720>\n",
      "is_data_frame          function    <function is_data_frame at 0x000002548813C7C0>\n",
      "json                   module      <module 'json' from 'C:\\\\<...>\\Lib\\\\json\\\\__init__.py'>\n",
      "o                      str         Learning python  , 23 Happy Coding \n",
      "x                      int         12\n"
     ]
    }
   ],
   "source": [
    "%whos"
   ]
  },
  {
   "cell_type": "code",
   "execution_count": 57,
   "id": "1492672e-26d3-49a9-8ff5-64c0dda18f06",
   "metadata": {},
   "outputs": [
    {
     "name": "stdout",
     "output_type": "stream",
     "text": [
      "2.0\n"
     ]
    }
   ],
   "source": [
    "print(b/a)"
   ]
  },
  {
   "cell_type": "code",
   "execution_count": 59,
   "id": "c61aef34-9065-4857-a526-7b960efd84b9",
   "metadata": {},
   "outputs": [
    {
     "name": "stdout",
     "output_type": "stream",
     "text": [
      "3.5\n"
     ]
    }
   ],
   "source": [
    "print(c/a)"
   ]
  },
  {
   "cell_type": "code",
   "execution_count": 61,
   "id": "12990db9-c8b5-43bd-a48f-86d434f799f3",
   "metadata": {},
   "outputs": [
    {
     "name": "stdout",
     "output_type": "stream",
     "text": [
      "(1.5+7.5j)\n"
     ]
    }
   ],
   "source": [
    "print(f/b)"
   ]
  },
  {
   "cell_type": "code",
   "execution_count": 63,
   "id": "8b292371-1688-449a-80e9-ec2a1ee6a2f3",
   "metadata": {},
   "outputs": [
    {
     "ename": "TypeError",
     "evalue": "unsupported operand type(s) for /: 'str' and 'str'",
     "output_type": "error",
     "traceback": [
      "\u001b[1;31m---------------------------------------------------------------------------\u001b[0m",
      "\u001b[1;31mTypeError\u001b[0m                                 Traceback (most recent call last)",
      "Cell \u001b[1;32mIn[63], line 1\u001b[0m\n\u001b[1;32m----> 1\u001b[0m \u001b[38;5;28mprint\u001b[39m(d\u001b[38;5;241m/\u001b[39me)\n",
      "\u001b[1;31mTypeError\u001b[0m: unsupported operand type(s) for /: 'str' and 'str'"
     ]
    }
   ],
   "source": [
    "print(d/e)"
   ]
  },
  {
   "cell_type": "code",
   "execution_count": null,
   "id": "cc253be9-85d1-407f-8deb-da3890957131",
   "metadata": {},
   "outputs": [],
   "source": [
    "Modolus"
   ]
  },
  {
   "cell_type": "code",
   "execution_count": 65,
   "id": "ff98acc3-5cda-4456-a280-4951ce3b7dd2",
   "metadata": {},
   "outputs": [
    {
     "name": "stdout",
     "output_type": "stream",
     "text": [
      "Variable               Type        Data/Info\n",
      "--------------------------------------------\n",
      "X                      int         13\n",
      "a                      int         1\n",
      "b                      int         2\n",
      "c                      float       3.5\n",
      "d                      str         Happy coding\n",
      "dataframe_columns      function    <function dataframe_colum<...>ns at 0x0000025489173E20>\n",
      "dataframe_hash         function    <function dataframe_hash at 0x0000025489172DE0>\n",
      "dtypes_str             function    <function dtypes_str at 0x0000025489172C00>\n",
      "e                      str         tata\n",
      "f                      complex     (3+15j)\n",
      "get_dataframes         function    <function get_dataframes at 0x0000025489173600>\n",
      "getpass                module      <module 'getpass' from 'C<...>conda3\\\\Lib\\\\getpass.py'>\n",
      "hashlib                module      <module 'hashlib' from 'C<...>conda3\\\\Lib\\\\hashlib.py'>\n",
      "import_pandas_safely   function    <function import_pandas_s<...>ly at 0x0000025489173740>\n",
      "is_data_frame          function    <function is_data_frame at 0x0000025489173F60>\n",
      "json                   module      <module 'json' from 'C:\\\\<...>\\Lib\\\\json\\\\__init__.py'>\n",
      "o                      str         Learning python  , 23 Happy Coding \n",
      "x                      int         12\n"
     ]
    }
   ],
   "source": [
    "%whos"
   ]
  },
  {
   "cell_type": "code",
   "execution_count": 67,
   "id": "34d8b69c-1b5c-49ce-9584-22b15213f078",
   "metadata": {},
   "outputs": [
    {
     "name": "stdout",
     "output_type": "stream",
     "text": [
      "0\n"
     ]
    }
   ],
   "source": [
    "print(b%a)"
   ]
  },
  {
   "cell_type": "code",
   "execution_count": 69,
   "id": "c634f5bd-9460-4662-b8ee-abddb0de0b88",
   "metadata": {},
   "outputs": [
    {
     "name": "stdout",
     "output_type": "stream",
     "text": [
      "0.5\n"
     ]
    }
   ],
   "source": [
    "print(c%a)"
   ]
  },
  {
   "cell_type": "code",
   "execution_count": 71,
   "id": "f4aa2c2b-16cf-440e-a910-31fb7e59493d",
   "metadata": {},
   "outputs": [
    {
     "ename": "TypeError",
     "evalue": "unsupported operand type(s) for %: 'complex' and 'int'",
     "output_type": "error",
     "traceback": [
      "\u001b[1;31m---------------------------------------------------------------------------\u001b[0m",
      "\u001b[1;31mTypeError\u001b[0m                                 Traceback (most recent call last)",
      "Cell \u001b[1;32mIn[71], line 1\u001b[0m\n\u001b[1;32m----> 1\u001b[0m \u001b[38;5;28mprint\u001b[39m(f\u001b[38;5;241m%\u001b[39ma)\n",
      "\u001b[1;31mTypeError\u001b[0m: unsupported operand type(s) for %: 'complex' and 'int'"
     ]
    }
   ],
   "source": [
    "print(f%a)"
   ]
  },
  {
   "cell_type": "code",
   "execution_count": null,
   "id": "c98e548d-1438-4487-a0db-1a7eba801ecb",
   "metadata": {},
   "outputs": [],
   "source": [
    "Exponent"
   ]
  },
  {
   "cell_type": "code",
   "execution_count": 73,
   "id": "692a43a8-6522-482b-9eae-e698571c3b82",
   "metadata": {},
   "outputs": [
    {
     "name": "stdout",
     "output_type": "stream",
     "text": [
      "Variable               Type        Data/Info\n",
      "--------------------------------------------\n",
      "X                      int         13\n",
      "a                      int         1\n",
      "b                      int         2\n",
      "c                      float       3.5\n",
      "d                      str         Happy coding\n",
      "dataframe_columns      function    <function dataframe_colum<...>ns at 0x0000025489172B60>\n",
      "dataframe_hash         function    <function dataframe_hash at 0x0000025489173740>\n",
      "dtypes_str             function    <function dtypes_str at 0x00000254891737E0>\n",
      "e                      str         tata\n",
      "f                      complex     (3+15j)\n",
      "get_dataframes         function    <function get_dataframes at 0x0000025489173F60>\n",
      "getpass                module      <module 'getpass' from 'C<...>conda3\\\\Lib\\\\getpass.py'>\n",
      "hashlib                module      <module 'hashlib' from 'C<...>conda3\\\\Lib\\\\hashlib.py'>\n",
      "import_pandas_safely   function    <function import_pandas_s<...>ly at 0x0000025489EA8EA0>\n",
      "is_data_frame          function    <function is_data_frame at 0x0000025489173560>\n",
      "json                   module      <module 'json' from 'C:\\\\<...>\\Lib\\\\json\\\\__init__.py'>\n",
      "o                      str         Learning python  , 23 Happy Coding \n",
      "x                      int         12\n"
     ]
    }
   ],
   "source": [
    "%whos"
   ]
  },
  {
   "cell_type": "code",
   "execution_count": 75,
   "id": "296dda87-3ea1-4d8a-bc94-7700cffd780e",
   "metadata": {},
   "outputs": [
    {
     "name": "stdout",
     "output_type": "stream",
     "text": [
      "1\n"
     ]
    }
   ],
   "source": [
    "print(a**b)"
   ]
  },
  {
   "cell_type": "raw",
   "id": "0072f107-b33d-49a7-ae84-9aa3b2bb5158",
   "metadata": {},
   "source": []
  },
  {
   "cell_type": "code",
   "execution_count": 77,
   "id": "d8e4f255-4d34-49dd-a6a1-c6de04904606",
   "metadata": {},
   "outputs": [
    {
     "name": "stdout",
     "output_type": "stream",
     "text": [
      "9\n"
     ]
    }
   ],
   "source": [
    "print(3**2)"
   ]
  },
  {
   "cell_type": "code",
   "execution_count": 79,
   "id": "fc108261-f970-4e9e-a36d-db43a180418a",
   "metadata": {},
   "outputs": [
    {
     "name": "stdout",
     "output_type": "stream",
     "text": [
      "(-216+90j)\n"
     ]
    }
   ],
   "source": [
    "print(f**b)"
   ]
  },
  {
   "cell_type": "code",
   "execution_count": 81,
   "id": "17cd618e-f946-40d3-b26e-9a0aefdcab5e",
   "metadata": {},
   "outputs": [
    {
     "name": "stdout",
     "output_type": "stream",
     "text": [
      "19153\n"
     ]
    }
   ],
   "source": [
    "print( (12**4)+(13**2)-(12+12)-(144*12) )"
   ]
  },
  {
   "cell_type": "code",
   "execution_count": null,
   "id": "271f28c4-0ca7-48f3-9d8e-84a04000b367",
   "metadata": {},
   "outputs": [],
   "source": [
    "Floor Division(//)"
   ]
  },
  {
   "cell_type": "code",
   "execution_count": 83,
   "id": "46a8da7e-e3b9-4aa9-b8da-176af858a6ce",
   "metadata": {},
   "outputs": [
    {
     "name": "stdout",
     "output_type": "stream",
     "text": [
      "2\n"
     ]
    }
   ],
   "source": [
    "print(b//a)"
   ]
  },
  {
   "cell_type": "code",
   "execution_count": 85,
   "id": "732f3716-4c3a-4739-b0f1-201133480f16",
   "metadata": {},
   "outputs": [
    {
     "ename": "SyntaxError",
     "evalue": "invalid syntax (2122606078.py, line 1)",
     "output_type": "error",
     "traceback": [
      "\u001b[1;36m  Cell \u001b[1;32mIn[85], line 1\u001b[1;36m\u001b[0m\n\u001b[1;33m    @123%=123\u001b[0m\n\u001b[1;37m        ^\u001b[0m\n\u001b[1;31mSyntaxError\u001b[0m\u001b[1;31m:\u001b[0m invalid syntax\n"
     ]
    }
   ],
   "source": [
    "@123%=123"
   ]
  },
  {
   "cell_type": "code",
   "execution_count": 87,
   "id": "ce096b4f-94ab-434a-8a51-7accdb0a9c18",
   "metadata": {},
   "outputs": [
    {
     "name": "stdout",
     "output_type": "stream",
     "text": [
      "123\n"
     ]
    }
   ],
   "source": [
    "_a=123\n",
    "print(_a)"
   ]
  },
  {
   "cell_type": "code",
   "execution_count": 89,
   "id": "cf9c3fd8-499d-4362-a08e-36da67223e70",
   "metadata": {},
   "outputs": [
    {
     "name": "stdout",
     "output_type": "stream",
     "text": [
      "1234\n"
     ]
    }
   ],
   "source": [
    "_b=1234\n",
    "print(_b)"
   ]
  },
  {
   "cell_type": "code",
   "execution_count": null,
   "id": "2e0dce48-c7b6-4272-a2e2-4644a87949f8",
   "metadata": {},
   "outputs": [],
   "source": [
    "Python Assighnment Operator"
   ]
  },
  {
   "cell_type": "code",
   "execution_count": 91,
   "id": "6ef2c8db-149a-4059-8bf9-cf5c55667c80",
   "metadata": {},
   "outputs": [
    {
     "name": "stdout",
     "output_type": "stream",
     "text": [
      "22\n"
     ]
    }
   ],
   "source": [
    "m=12\n",
    "m+=10\n",
    "print(m)"
   ]
  },
  {
   "cell_type": "code",
   "execution_count": 93,
   "id": "c9fc51d0-4ffe-4def-8fb9-f0228d8dd31a",
   "metadata": {},
   "outputs": [
    {
     "name": "stdout",
     "output_type": "stream",
     "text": [
      "2\n"
     ]
    }
   ],
   "source": [
    "m=12\n",
    "m-=10\n",
    "print(m)"
   ]
  },
  {
   "cell_type": "code",
   "execution_count": 95,
   "id": "44fec90d-379d-49f9-b891-aa4a0f83a795",
   "metadata": {},
   "outputs": [
    {
     "name": "stdout",
     "output_type": "stream",
     "text": [
      "120\n"
     ]
    }
   ],
   "source": [
    "m=12\n",
    "m*=10\n",
    "print(m)"
   ]
  },
  {
   "cell_type": "code",
   "execution_count": 97,
   "id": "eaa4b9a6-a901-4fd6-a32f-233ca5fe742f",
   "metadata": {},
   "outputs": [
    {
     "name": "stdout",
     "output_type": "stream",
     "text": [
      "2.0\n"
     ]
    }
   ],
   "source": [
    "m=12\n",
    "m/=6\n",
    "print(m)"
   ]
  },
  {
   "cell_type": "code",
   "execution_count": 99,
   "id": "d2931a02-97a5-4fa7-8b22-808d3d684e6c",
   "metadata": {},
   "outputs": [
    {
     "name": "stdout",
     "output_type": "stream",
     "text": [
      "144\n"
     ]
    }
   ],
   "source": [
    "m=12\n",
    "m**=2\n",
    "print(m)"
   ]
  },
  {
   "cell_type": "code",
   "execution_count": 101,
   "id": "c2af5584-2d8c-4e3b-ba55-318863d8dc46",
   "metadata": {},
   "outputs": [
    {
     "name": "stdout",
     "output_type": "stream",
     "text": [
      "2\n"
     ]
    }
   ],
   "source": [
    "m=12\n",
    "m//=6\n",
    "print(m)"
   ]
  },
  {
   "cell_type": "code",
   "execution_count": null,
   "id": "4b74310d-ba3c-4e57-9773-b2a1db98ef41",
   "metadata": {},
   "outputs": [],
   "source": []
  },
  {
   "cell_type": "code",
   "execution_count": null,
   "id": "0d338c8c-e511-4729-b5bb-f12ee037681f",
   "metadata": {},
   "outputs": [],
   "source": []
  }
 ],
 "metadata": {
  "kernelspec": {
   "display_name": "Python [conda env:base] *",
   "language": "python",
   "name": "conda-base-py"
  },
  "language_info": {
   "codemirror_mode": {
    "name": "ipython",
    "version": 3
   },
   "file_extension": ".py",
   "mimetype": "text/x-python",
   "name": "python",
   "nbconvert_exporter": "python",
   "pygments_lexer": "ipython3",
   "version": "3.12.7"
  }
 },
 "nbformat": 4,
 "nbformat_minor": 5
}
