{
 "cells": [
  {
   "cell_type": "markdown",
   "id": "99787b0e-0218-495d-8737-0a154320417c",
   "metadata": {},
   "source": [
    "# max() in tuple"
   ]
  },
  {
   "cell_type": "code",
   "execution_count": 3,
   "id": "dddab680-c8da-4175-9b26-43ca06d38ba9",
   "metadata": {},
   "outputs": [
    {
     "name": "stdout",
     "output_type": "stream",
     "text": [
      "88\n"
     ]
    }
   ],
   "source": [
    "a=(12,13,15,88,19)\n",
    "print(max(a))"
   ]
  },
  {
   "cell_type": "code",
   "execution_count": 5,
   "id": "8477c75f-98c1-4cd0-bf98-385f9b2c4a8f",
   "metadata": {},
   "outputs": [
    {
     "name": "stdout",
     "output_type": "stream",
     "text": [
      "66.98\n"
     ]
    }
   ],
   "source": [
    "a=(55,55.63,-88,-55,-36,66.98)\n",
    "print(max(a))"
   ]
  },
  {
   "cell_type": "code",
   "execution_count": 7,
   "id": "9c1e5312-713d-4d04-9e62-e8e84e2b60b3",
   "metadata": {},
   "outputs": [
    {
     "name": "stdout",
     "output_type": "stream",
     "text": [
      "tiger\n"
     ]
    }
   ],
   "source": [
    "a=(\"hello\",\"tiger\",\"python\",\"code\")\n",
    "print(max(a))"
   ]
  },
  {
   "cell_type": "markdown",
   "id": "11494b22-f3bb-4509-8c8a-8021250250f7",
   "metadata": {},
   "source": [
    "# min() in tuple"
   ]
  },
  {
   "cell_type": "code",
   "execution_count": 10,
   "id": "98ef6326-9d4c-4bde-9da8-37eb4f525a8d",
   "metadata": {},
   "outputs": [
    {
     "name": "stdout",
     "output_type": "stream",
     "text": [
      "11\n"
     ]
    }
   ],
   "source": [
    "a=(12,1355,89,11)\n",
    "print(min(a))"
   ]
  },
  {
   "cell_type": "code",
   "execution_count": 12,
   "id": "bf7b683a-cbb9-4feb-8133-23a7de11840b",
   "metadata": {},
   "outputs": [
    {
     "name": "stdout",
     "output_type": "stream",
     "text": [
      "-94\n"
     ]
    }
   ],
   "source": [
    "a=(12,13,15,-94,-63)\n",
    "print(min(a))"
   ]
  },
  {
   "cell_type": "code",
   "execution_count": 14,
   "id": "9896d860-d50d-43c5-9b8b-99d7292db9ca",
   "metadata": {},
   "outputs": [
    {
     "name": "stdout",
     "output_type": "stream",
     "text": [
      "ai\n"
     ]
    }
   ],
   "source": [
    "a=(\"hello\",\"code\",\"ai\",\"coder\")\n",
    "print(min(a))"
   ]
  },
  {
   "cell_type": "markdown",
   "id": "c1bf9933-e3d3-446a-93f8-27e4d7e33ee3",
   "metadata": {},
   "source": [
    "# unpacking of tuple"
   ]
  },
  {
   "cell_type": "code",
   "execution_count": 19,
   "id": "02904936-f605-45d2-8d73-96e1f8b174d5",
   "metadata": {},
   "outputs": [
    {
     "name": "stdout",
     "output_type": "stream",
     "text": [
      "apple\n",
      "mango\n",
      "guava\n"
     ]
    }
   ],
   "source": [
    "fruits=(\"apple\",\"mango\",\"guava\")\n",
    "(green,yellow,red)=fruits\n",
    "print(green)\n",
    "print(yellow)\n",
    "print(red)"
   ]
  },
  {
   "cell_type": "markdown",
   "id": "dcc75687-2cd0-4600-8e19-4e5ba31664a6",
   "metadata": {},
   "source": [
    "# using asterisk*"
   ]
  },
  {
   "cell_type": "code",
   "execution_count": 24,
   "id": "381b499b-ce8a-41f7-a3b0-db31764b3062",
   "metadata": {},
   "outputs": [
    {
     "name": "stdout",
     "output_type": "stream",
     "text": [
      "mango\n",
      "guava\n",
      "['apple', 'papaya', 'orange']\n"
     ]
    }
   ],
   "source": [
    "fruits=(\"mango\",\"guava\",\"apple\",\"papaya\",\"orange\")\n",
    "(green,yellow,*red)=fruits\n",
    "print(green)\n",
    "print(yellow) \n",
    "print(red)"
   ]
  },
  {
   "cell_type": "code",
   "execution_count": 27,
   "id": "ae1595b3-1852-4933-8ee7-2dd7c72fc5ba",
   "metadata": {},
   "outputs": [
    {
     "name": "stdout",
     "output_type": "stream",
     "text": [
      "mango\n",
      "['apple', 'papaya', 'orange']\n",
      "juice\n"
     ]
    }
   ],
   "source": [
    "fruits=(\"mango\",\"apple\",\"papaya\",\"orange\",\"juice\")\n",
    "(green,*red,yellow)=fruits\n",
    "print(green)\n",
    "print(red)\n",
    "print(yellow)\n"
   ]
  },
  {
   "cell_type": "code",
   "execution_count": 35,
   "id": "5d3db1a5-a4ab-4fe0-864a-8ac4cce73c57",
   "metadata": {},
   "outputs": [
    {
     "name": "stdout",
     "output_type": "stream",
     "text": [
      "[12, 13, 18, 99, 15]\n",
      "[12, 13, 15, 18, 99]\n",
      "(12, 13, 15, 18, 99)\n"
     ]
    }
   ],
   "source": [
    "\"\"\"sort a tuple\"\"\"\n",
    "t=(12,13,18,99,15)\n",
    "l=list(t)\n",
    "print(l)\n",
    "l.sort()\n",
    "print(l)\n",
    "c=tuple(l)\n",
    "print(c)"
   ]
  },
  {
   "cell_type": "code",
   "execution_count": 39,
   "id": "da0517f6-44fc-4e71-88e5-c1d8836934c5",
   "metadata": {},
   "outputs": [
    {
     "name": "stdout",
     "output_type": "stream",
     "text": [
      "[12, 13, 99, 17, 40]\n",
      "(12, 13, 99, 17, 40)\n",
      "[-55, -63, -55, -63, -40]\n",
      "(-55, -63, -55, -63, -40)\n"
     ]
    }
   ],
   "source": [
    "\"\"\"separate positive and negative numbers from tuple\"\"\"\n",
    "a=(12,13,-55,99,-63,-55,-63,17,40,-40)\n",
    "n1=[]\n",
    "n2=[]\n",
    "l=list(a)\n",
    "for i in range(len(a)):\n",
    "    if a[i]>=0:\n",
    "        n1.append(a[i])\n",
    "print(n1)\n",
    "print(tuple(n1))\n",
    "for i in range(len(a)):\n",
    "    if a[i]<0:\n",
    "        n2.append(a[i])\n",
    "\n",
    "print(n2)\n",
    "print(tuple(n2))\n",
    "\n",
    "\n",
    "\n",
    "        "
   ]
  },
  {
   "cell_type": "code",
   "execution_count": 49,
   "id": "ffb82fe4-2c45-4483-ac36-2123b7245092",
   "metadata": {},
   "outputs": [
    {
     "name": "stdout",
     "output_type": "stream",
     "text": [
      "[1, 2, 3, 4, 5, 6, 7, 8]\n",
      "[2, 6, 12, 20, 30, 42, 56]\n",
      "(2, 6, 12, 20, 30, 42, 56)\n"
     ]
    }
   ],
   "source": [
    "\"\"\"multiply adjacent elements in tuple\"\"\"\n",
    "\n",
    "t=(1,2,3,4,5,6,7,8)\n",
    "b=[]\n",
    "l=list(t)\n",
    "print(l)\n",
    "for i in range(len(t)-1):\n",
    "    b.append(t[i]*t[i+1])\n",
    "\n",
    "print(b)\n",
    "print(tuple(b))\n",
    "    \n",
    "\n"
   ]
  },
  {
   "cell_type": "code",
   "execution_count": 51,
   "id": "c187096b-6629-4933-ba7d-e6482b81d246",
   "metadata": {},
   "outputs": [
    {
     "name": "stdout",
     "output_type": "stream",
     "text": [
      "[[1, 2], [2, 1], [3, 2]]\n"
     ]
    }
   ],
   "source": [
    "\"\"\"original list of tuple [(1,2),(2,1),(3,2)]\n",
    "and convert into list of list[(1,2),(2,1),(3,2)]\"\"\"\n",
    "\n",
    "l=[(1,2),(2,1),(3,2)]\n",
    "b=[]\n",
    "n1=list(l[0])\n",
    "n2=list(l[1])\n",
    "n3=list(l[2])\n",
    "b.append(n1)\n",
    "b.append(n2)\n",
    "b.append(n3)\n",
    "print(b)"
   ]
  },
  {
   "cell_type": "code",
   "execution_count": 53,
   "id": "48a0a99d-64f4-4b10-a421-87231ece8877",
   "metadata": {},
   "outputs": [
    {
     "name": "stdout",
     "output_type": "stream",
     "text": [
      "[3, 7, 11]\n"
     ]
    }
   ],
   "source": [
    "\"\"\"original list of tuple \n",
    "[(1,2),(3,4),(5,6)] convert[3,7,11]\"\"\"\n",
    "\n",
    "a=[(1,2),(3,4),(5,6)]\n",
    "n1=a[0]\n",
    "m1=n1[0]+n1[1]\n",
    "n2=a[1]\n",
    "m2=n2[0]+n2[1]\n",
    "n3=a[2]\n",
    "m3=n3[0]+n3[1]\n",
    "b=[]\n",
    "b.append(m1)\n",
    "b.append(m2)\n",
    "b.append(m3)\n",
    "print(b)"
   ]
  },
  {
   "cell_type": "code",
   "execution_count": 57,
   "id": "dec256ec-65a4-44cb-ad41-8e97f9e31325",
   "metadata": {},
   "outputs": [
    {
     "name": "stdin",
     "output_type": "stream",
     "text": [
      "enter the values 5\n",
      "enter the eleemnts 1\n",
      "enter the eleemnts 2\n",
      "enter the eleemnts 3\n",
      "enter the eleemnts 4\n",
      "enter the eleemnts 5\n"
     ]
    },
    {
     "name": "stdout",
     "output_type": "stream",
     "text": [
      "[1, 2, 3, 4, 5]\n",
      "(1, 2, 3, 4, 5)\n"
     ]
    }
   ],
   "source": [
    "a=[]\n",
    "n=int(input(\"enter the values\"))\n",
    "for i in range(n):\n",
    "    a.append(int(input(\"enter the eleemnts\")))\n",
    "\n",
    "print(a)\n",
    "b=tuple(a)\n",
    "print(b)"
   ]
  },
  {
   "cell_type": "code",
   "execution_count": null,
   "id": "f79f5730-9ddf-4345-b7f7-de2e0829166a",
   "metadata": {},
   "outputs": [],
   "source": []
  }
 ],
 "metadata": {
  "kernelspec": {
   "display_name": "Python [conda env:base] *",
   "language": "python",
   "name": "conda-base-py"
  },
  "language_info": {
   "codemirror_mode": {
    "name": "ipython",
    "version": 3
   },
   "file_extension": ".py",
   "mimetype": "text/x-python",
   "name": "python",
   "nbconvert_exporter": "python",
   "pygments_lexer": "ipython3",
   "version": "3.12.7"
  }
 },
 "nbformat": 4,
 "nbformat_minor": 5
}
