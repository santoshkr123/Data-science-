{
 "cells": [
  {
   "cell_type": "markdown",
   "id": "cf71d96d-0a37-433c-8d77-edceed958c52",
   "metadata": {},
   "source": [
    "# isdisjoint method()\n",
    "return True if no item in set x is present in set y"
   ]
  },
  {
   "cell_type": "code",
   "execution_count": 3,
   "id": "4515728b-1383-4147-9e16-8ffc15522ccf",
   "metadata": {},
   "outputs": [
    {
     "name": "stdout",
     "output_type": "stream",
     "text": [
      "True\n"
     ]
    }
   ],
   "source": [
    "a={12,13,14,15,\"help\",\"code\"}\n",
    "b={18,19,20,21,22}\n",
    "c=a.isdisjoint(b)\n",
    "print(c)"
   ]
  },
  {
   "cell_type": "code",
   "execution_count": 6,
   "id": "b240088f-9444-485c-a226-c0bf9677f203",
   "metadata": {},
   "outputs": [
    {
     "name": "stdout",
     "output_type": "stream",
     "text": [
      "True\n"
     ]
    }
   ],
   "source": [
    "a={12,13,14,15,\"help\",\"code\"}\n",
    "b={18,19,20,21,22}\n",
    "c=b.isdisjoint(a)\n",
    "print(c)"
   ]
  },
  {
   "cell_type": "code",
   "execution_count": 8,
   "id": "562eb8c3-5dcb-4b1a-a290-16fa62aef72e",
   "metadata": {},
   "outputs": [
    {
     "name": "stdout",
     "output_type": "stream",
     "text": [
      "False\n"
     ]
    }
   ],
   "source": [
    "a={12,13,14,15,\"help\",\"code\"}\n",
    "b={18,19,20,21,22,12}\n",
    "c=a.isdisjoint(b)\n",
    "print(c)"
   ]
  },
  {
   "cell_type": "markdown",
   "id": "ed70fa19-7837-4c18-a35b-df251bc7a2fd",
   "metadata": {},
   "source": [
    "# issubset()\n",
    "Returns whether another set contains this set or not"
   ]
  },
  {
   "cell_type": "code",
   "execution_count": 14,
   "id": "10d2c245-162a-45e9-bfd7-181f497f78b8",
   "metadata": {},
   "outputs": [
    {
     "name": "stdout",
     "output_type": "stream",
     "text": [
      "True\n"
     ]
    }
   ],
   "source": [
    "a={1,2,3,4,5}\n",
    "b={1,2,3,4,5,6,7}\n",
    "c=a.issubset(b)\n",
    "print(c)"
   ]
  },
  {
   "cell_type": "code",
   "execution_count": 16,
   "id": "4124c95a-4a4f-4e67-92aa-9813d01ac302",
   "metadata": {},
   "outputs": [
    {
     "name": "stdout",
     "output_type": "stream",
     "text": [
      "False\n"
     ]
    }
   ],
   "source": [
    "a={1,2,3,4,5}\n",
    "b={1,2,3,4,5,6,7}\n",
    "c=b.issubset(a)\n",
    "print(c)"
   ]
  },
  {
   "cell_type": "code",
   "execution_count": 18,
   "id": "20207b8b-ced7-460e-b019-713f96b44613",
   "metadata": {},
   "outputs": [
    {
     "name": "stdout",
     "output_type": "stream",
     "text": [
      "True\n"
     ]
    }
   ],
   "source": [
    "a={1,2,3,4,5,6,7}\n",
    "b={1,2,3,4,5,6,7}\n",
    "c=b.issubset(a)\n",
    "print(c)"
   ]
  },
  {
   "cell_type": "code",
   "execution_count": 20,
   "id": "4e17cda1-7580-4490-9aa2-26e6191b3dfc",
   "metadata": {},
   "outputs": [
    {
     "name": "stdout",
     "output_type": "stream",
     "text": [
      "True\n"
     ]
    }
   ],
   "source": [
    "a={1,2,3,4,5,6,7}\n",
    "b={1,2,3,4,5,6,7}\n",
    "c=a.issubset(b)\n",
    "print(c)"
   ]
  },
  {
   "cell_type": "markdown",
   "id": "c89bb552-b2c4-4260-9174-27c11c22dba2",
   "metadata": {},
   "source": [
    "# issuperset()\n",
    "Returns True if all items set y are present in set x:"
   ]
  },
  {
   "cell_type": "code",
   "execution_count": 23,
   "id": "ddf2e2f4-c218-4ab8-940d-1a0c5093f73c",
   "metadata": {},
   "outputs": [
    {
     "name": "stdout",
     "output_type": "stream",
     "text": [
      "True\n"
     ]
    }
   ],
   "source": [
    "x={1,2,3,4,\"code\",\"help\"}\n",
    "y={\"code\",1,2}\n",
    "z=x.issuperset(y)\n",
    "print(z)"
   ]
  },
  {
   "cell_type": "code",
   "execution_count": 25,
   "id": "2388fda3-7f10-4cf7-96b2-ed625417b4d1",
   "metadata": {},
   "outputs": [
    {
     "name": "stdout",
     "output_type": "stream",
     "text": [
      "False\n"
     ]
    }
   ],
   "source": [
    "x={1,2,3,4,\"code\",\"help\"}\n",
    "y={\"code\",1,2}\n",
    "z=y.issuperset(x)\n",
    "print(z)"
   ]
  },
  {
   "cell_type": "code",
   "execution_count": 27,
   "id": "b3fba90a-840d-4130-96e6-bda6e2e28c0a",
   "metadata": {},
   "outputs": [
    {
     "name": "stdout",
     "output_type": "stream",
     "text": [
      "True\n"
     ]
    }
   ],
   "source": [
    "a={1,2,3}\n",
    "b={1,2,3}\n",
    "c=a.issuperset(b)\n",
    "print(c)"
   ]
  },
  {
   "cell_type": "code",
   "execution_count": 29,
   "id": "ae30d1d1-af1d-4202-9573-9966ba289117",
   "metadata": {},
   "outputs": [
    {
     "name": "stdout",
     "output_type": "stream",
     "text": [
      "True\n"
     ]
    }
   ],
   "source": [
    "a={1,2,3}\n",
    "b={1,2,3}\n",
    "c=b.issuperset(a)\n",
    "print(c)"
   ]
  },
  {
   "cell_type": "code",
   "execution_count": 31,
   "id": "c5e6e6e5-6711-44e2-82ef-eae02890c2d1",
   "metadata": {},
   "outputs": [
    {
     "name": "stdout",
     "output_type": "stream",
     "text": [
      "{3}\n",
      "<class 'set'>\n"
     ]
    }
   ],
   "source": [
    "s={3}\n",
    "print(s)\n",
    "print(type(s))"
   ]
  },
  {
   "cell_type": "code",
   "execution_count": 33,
   "id": "976c3722-5208-4f5f-a4ec-20c5cd4773f5",
   "metadata": {},
   "outputs": [
    {
     "name": "stdout",
     "output_type": "stream",
     "text": [
      "{}\n",
      "<class 'dict'>\n"
     ]
    }
   ],
   "source": [
    "s={}\n",
    "print(s)\n",
    "print(type(s))"
   ]
  },
  {
   "cell_type": "code",
   "execution_count": 37,
   "id": "3dbbe261-6456-4f4c-a818-5a5ce14d6ac0",
   "metadata": {},
   "outputs": [
    {
     "name": "stdout",
     "output_type": "stream",
     "text": [
      "set()\n",
      "<class 'set'>\n"
     ]
    }
   ],
   "source": [
    "s=set()\n",
    "print(s)\n",
    "print(type(s))"
   ]
  },
  {
   "cell_type": "markdown",
   "id": "915f7a93-ec1d-4469-a593-5f9ee39fa411",
   "metadata": {},
   "source": [
    "# set() \n",
    "# convert List into set"
   ]
  },
  {
   "cell_type": "code",
   "execution_count": 40,
   "id": "8850140d-e365-4028-a6af-60c741cfb15e",
   "metadata": {},
   "outputs": [
    {
     "name": "stdout",
     "output_type": "stream",
     "text": [
      "[1, 2, 3, 4, 5]\n",
      "<class 'list'>\n",
      "{1, 2, 3, 4, 5}\n",
      "<class 'set'>\n"
     ]
    }
   ],
   "source": [
    "L=[1,2,3,4,5]\n",
    "S=set(L)\n",
    "print(L)\n",
    "print(type(L))\n",
    "print(S)\n",
    "print(type(S))"
   ]
  },
  {
   "cell_type": "markdown",
   "id": "836be9bd-d97d-4f09-8fae-b1264718f883",
   "metadata": {},
   "source": [
    "# convert set into list"
   ]
  },
  {
   "cell_type": "code",
   "execution_count": 47,
   "id": "a04118ee-bf06-4f63-ba04-7db996e61c9d",
   "metadata": {},
   "outputs": [
    {
     "name": "stdout",
     "output_type": "stream",
     "text": [
      "{1, 2, 3, 4, 5}\n",
      "<class 'set'>\n",
      "[1, 2, 3, 4, 5]\n",
      "<class 'list'>\n"
     ]
    }
   ],
   "source": [
    "s={1,2,3,4,5}\n",
    "l=list(s)\n",
    "print(s)\n",
    "print(type(s))\n",
    "print(l)\n",
    "print(type(l))"
   ]
  },
  {
   "cell_type": "markdown",
   "id": "f1d81aa7-5af0-4696-9307-8571823db3e2",
   "metadata": {},
   "source": [
    "# tuple -> set"
   ]
  },
  {
   "cell_type": "code",
   "execution_count": 53,
   "id": "02cd84be-09bb-400e-9abe-cfeafad6cc74",
   "metadata": {},
   "outputs": [
    {
     "name": "stdout",
     "output_type": "stream",
     "text": [
      "(1, 2, 3, 4, 5)\n",
      "<class 'tuple'>\n",
      "{1, 2, 3, 4, 5}\n",
      "<class 'set'>\n"
     ]
    }
   ],
   "source": [
    "t=(1,2,3,4,5)\n",
    "s=set(t)\n",
    "print(t)\n",
    "print(type(t))\n",
    "print(s)\n",
    "print(type(s))"
   ]
  },
  {
   "cell_type": "markdown",
   "id": "4a0962ca-4053-4556-a630-8320358ee9ab",
   "metadata": {},
   "source": [
    "# set->tuple"
   ]
  },
  {
   "cell_type": "code",
   "execution_count": 56,
   "id": "c0e57cca-b534-4b22-913e-441f43e8af97",
   "metadata": {},
   "outputs": [
    {
     "name": "stdout",
     "output_type": "stream",
     "text": [
      "{1, 2, 3, 4, 5}\n",
      "<class 'set'>\n",
      "(1, 2, 3, 4, 5)\n",
      "<class 'tuple'>\n"
     ]
    }
   ],
   "source": [
    "s={1,2,3,4,5}\n",
    "t=tuple(s)\n",
    "print(s)\n",
    "print(type(s))\n",
    "print(t)\n",
    "print(type(t))"
   ]
  },
  {
   "cell_type": "markdown",
   "id": "0e50ad37-07f9-491f-bf29-500472f62b9c",
   "metadata": {},
   "source": [
    "# min in set"
   ]
  },
  {
   "cell_type": "code",
   "execution_count": 59,
   "id": "0a93082d-dec9-429b-ac49-0b1987505d4f",
   "metadata": {},
   "outputs": [
    {
     "name": "stdout",
     "output_type": "stream",
     "text": [
      "1\n"
     ]
    }
   ],
   "source": [
    "a={1,2,3,4}\n",
    "print(min(a))"
   ]
  },
  {
   "cell_type": "code",
   "execution_count": 61,
   "id": "99ca3254-8e25-4b36-9b24-8c7e9fb4479f",
   "metadata": {},
   "outputs": [
    {
     "name": "stdout",
     "output_type": "stream",
     "text": [
      "papaya\n"
     ]
    }
   ],
   "source": [
    "b={\"code\",\"apple\",\"papaya\"}\n",
    "print(max(b))"
   ]
  },
  {
   "cell_type": "markdown",
   "id": "5f99ea84-6841-4e77-93ef-726d0c1bac2f",
   "metadata": {},
   "source": [
    "# max in set"
   ]
  },
  {
   "cell_type": "code",
   "execution_count": 64,
   "id": "aafea57f-5883-4cce-9257-c0671a3184db",
   "metadata": {},
   "outputs": [
    {
     "name": "stdout",
     "output_type": "stream",
     "text": [
      "78\n"
     ]
    }
   ],
   "source": [
    "a={1,55,63,78}\n",
    "print(max(a))"
   ]
  },
  {
   "cell_type": "code",
   "execution_count": 66,
   "id": "af829361-4f8b-4550-b586-40127d7fb474",
   "metadata": {},
   "outputs": [
    {
     "name": "stdout",
     "output_type": "stream",
     "text": [
      "zebra\n"
     ]
    }
   ],
   "source": [
    "a={\"papaya\",\"code\",\"length\",\"zebra\"}\n",
    "print(max(a))"
   ]
  },
  {
   "cell_type": "markdown",
   "id": "011aa8bd-b97e-47ca-a6f5-de566d93e832",
   "metadata": {},
   "source": [
    "# copy()"
   ]
  },
  {
   "cell_type": "code",
   "execution_count": 71,
   "id": "e59a144b-daf0-4e9a-be1e-a5f6acf9a8e7",
   "metadata": {},
   "outputs": [
    {
     "name": "stdout",
     "output_type": "stream",
     "text": [
      "{1, 2, 3, 4, 5, 10}\n",
      "{1, 2, 3, 4, 5, 10}\n"
     ]
    }
   ],
   "source": [
    "a={1,2,3,4,5}\n",
    "b=a\n",
    "a.add(10)\n",
    "print(a)\n",
    "print(b)"
   ]
  },
  {
   "cell_type": "code",
   "execution_count": 73,
   "id": "373facaa-6f08-48c3-a9dc-d77ebeba1814",
   "metadata": {},
   "outputs": [
    {
     "name": "stdout",
     "output_type": "stream",
     "text": [
      "{1, 2, 3, 4, 5, 10}\n",
      "{1, 2, 3, 4, 5}\n"
     ]
    }
   ],
   "source": [
    "a={1,2,3,4,5}\n",
    "b=a.copy()\n",
    "a.add(10)\n",
    "print(a)\n",
    "print(b)"
   ]
  },
  {
   "cell_type": "code",
   "execution_count": 77,
   "id": "f37d7784-5eec-404b-bf74-28ddbc8ef3a4",
   "metadata": {},
   "outputs": [
    {
     "name": "stdout",
     "output_type": "stream",
     "text": [
      "{1, 2, 3, 4, 5}\n",
      "{1, 2, 3, 6, 9}\n",
      "{1, 2, 3}\n",
      "[1, 2, 3]\n"
     ]
    }
   ],
   "source": [
    "\"\"\"intersection of 2 lists\"\"\"\n",
    "a=[1,2,3,4,5]\n",
    "b=[1,2,3,9,6]\n",
    "a1=set(a)\n",
    "b1=set(b)\n",
    "print(a1)\n",
    "print(b1)\n",
    "c=a1.intersection(b1)\n",
    "print(c)\n",
    "z=list(c)\n",
    "print(z)"
   ]
  },
  {
   "cell_type": "code",
   "execution_count": 83,
   "id": "1c0494e7-428f-4b2c-a0bc-9ea962fbc90a",
   "metadata": {},
   "outputs": [
    {
     "name": "stdin",
     "output_type": "stream",
     "text": [
      "Enter the numbers of size :  5\n",
      "Enter a numbers according to size : 1\n",
      "Enter a numbers according to size : 2\n",
      "Enter a numbers according to size : 3\n",
      "Enter a numbers according to size : 4\n",
      "Enter a numbers according to size : 5\n"
     ]
    },
    {
     "name": "stdout",
     "output_type": "stream",
     "text": [
      "{'4', '2', '3', '5', '1'}\n"
     ]
    }
   ],
   "source": [
    "\"\"\"taking input set from user\"\"\"\n",
    "\n",
    "a=set()\n",
    "n=int(input(\"Enter the numbers of size : \"))\n",
    "for i in range(n):\n",
    "    b=input(\"Enter a numbers according to size :\")\n",
    "    a.add(b)\n",
    "\n",
    "print(a)\n"
   ]
  },
  {
   "cell_type": "code",
   "execution_count": 89,
   "id": "adb43689-2ca5-4509-b347-812f7a8913e1",
   "metadata": {},
   "outputs": [
    {
     "name": "stdout",
     "output_type": "stream",
     "text": [
      "{1, 2, 3, 4, 5, 6, 7, 8, 9, 10}\n",
      "{1, 2, 36, 5, 9, 55, 23, 63}\n",
      "{1, 2, 36, 5, 9, 80}\n",
      "{1, 2, 5, 9}\n",
      "{1, 2, 5, 9}\n",
      "[1, 2, 5, 9]\n"
     ]
    }
   ],
   "source": [
    "\"\"\"python program to find the common items in 3 lists using set\"\"\"\n",
    "a=[1,2,3,4,5,6,7,8,9,10]\n",
    "b=[1,2,23,5,9,36,63,55]\n",
    "c=[1,2,5,9,80,36]\n",
    "a1=set(a)\n",
    "a2=set(b)\n",
    "a3=set(c)\n",
    "print(a1)\n",
    "print(a2)\n",
    "print(a3)\n",
    "n=a1.intersection(a2)\n",
    "print(n)\n",
    "m=n.intersection(a3)\n",
    "print(m)\n",
    "res=list(m)\n",
    "print(res)"
   ]
  },
  {
   "cell_type": "code",
   "execution_count": null,
   "id": "81ee7d0a-07a9-46c0-a5a8-8154f626396e",
   "metadata": {},
   "outputs": [],
   "source": []
  }
 ],
 "metadata": {
  "kernelspec": {
   "display_name": "Python [conda env:base] *",
   "language": "python",
   "name": "conda-base-py"
  },
  "language_info": {
   "codemirror_mode": {
    "name": "ipython",
    "version": 3
   },
   "file_extension": ".py",
   "mimetype": "text/x-python",
   "name": "python",
   "nbconvert_exporter": "python",
   "pygments_lexer": "ipython3",
   "version": "3.12.7"
  }
 },
 "nbformat": 4,
 "nbformat_minor": 5
}
