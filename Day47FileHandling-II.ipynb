{
 "cells": [
  {
   "cell_type": "markdown",
   "id": "fe27c730-b8d8-4336-81b9-9247c3776491",
   "metadata": {},
   "source": [
    "# file handling-II"
   ]
  },
  {
   "cell_type": "markdown",
   "id": "b9905ccf-a519-4060-af9c-18239046798f",
   "metadata": {},
   "source": [
    "# binary data"
   ]
  },
  {
   "cell_type": "code",
   "execution_count": 3,
   "id": "80ef74c6-cf1f-487c-b31b-a78c507b33d7",
   "metadata": {},
   "outputs": [],
   "source": [
    "with open(\"test.bin\",\"wb\")as f:\n",
    "    f.write(b\"\\x01\\x02\\x03\")"
   ]
  },
  {
   "cell_type": "code",
   "execution_count": 9,
   "id": "7277716e-fb41-407e-8fed-a5853e32f966",
   "metadata": {},
   "outputs": [],
   "source": [
    "with open(\"test.bin\",\"wb\")as f:\n",
    "    f.write(b\"\\x01\\x02\\x03\\x44654654654\")"
   ]
  },
  {
   "cell_type": "code",
   "execution_count": 17,
   "id": "56d60ef0-faed-459b-8f6c-397e04b9115b",
   "metadata": {},
   "outputs": [
    {
     "name": "stdout",
     "output_type": "stream",
     "text": [
      "b'\\x01\\x02\\x03D654654654'\n"
     ]
    }
   ],
   "source": [
    "with open(\"test.bin\",\"rb\")as f:\n",
    "    print(f.read())"
   ]
  },
  {
   "cell_type": "markdown",
   "id": "0636659d-dc43-4d9a-9284-83526c7988b5",
   "metadata": {},
   "source": [
    "# Buffered Read and Write other file methods\n",
    "\n"
   ]
  },
  {
   "cell_type": "code",
   "execution_count": 23,
   "id": "0caab351-350e-471c-9ba6-6ce5474a85b1",
   "metadata": {},
   "outputs": [],
   "source": [
    "import io\n",
    "with open(\"xyza.txt\",\"wb\")as f:\n",
    "    file=io.BufferedWriter(f)\n",
    "    file.write(b\"This is the first place\\n\")\n",
    "    file.write(b\"Data science also integrates domain knowledge from the underlying application domain (e.g., natural sciences, information technology, and medicine).[3] Data science is multifaceted and can be described as a science, a research paradigm, a research method, a discipline, a workflow, and a profession.[4]\")\n",
    "    file.flush()"
   ]
  },
  {
   "cell_type": "code",
   "execution_count": 27,
   "id": "e150834c-db94-4803-b152-32da75b15060",
   "metadata": {},
   "outputs": [],
   "source": [
    "import io\n",
    "with open(\"xyz.txt\",\"wb\")as f:\n",
    "    file=io.BufferedWriter(f)\n",
    "    file.write(b\"This is the first file\\n\")\n",
    "    file.write(b\"This is the seconf file\")\n",
    "    file.flush()"
   ]
  },
  {
   "cell_type": "code",
   "execution_count": 33,
   "id": "c52997e6-2412-417e-972c-f0d8f89534b4",
   "metadata": {},
   "outputs": [
    {
     "name": "stdout",
     "output_type": "stream",
     "text": [
      "b'This is the first file\\nThis is the seconf file'\n"
     ]
    }
   ],
   "source": [
    "with open(\"xyz.txt\",\"rb\")as f:\n",
    "    file=io.BufferedReader(f)\n",
    "    data=file.read()\n",
    "    print(data)\n"
   ]
  },
  {
   "cell_type": "markdown",
   "id": "a3cd3c40-36a8-434d-8873-3e0849dd1376",
   "metadata": {},
   "source": [
    "# debugger and Logging"
   ]
  },
  {
   "cell_type": "code",
   "execution_count": 36,
   "id": "1fcb8a1a-5da7-45d9-885b-f16bf9195f8c",
   "metadata": {},
   "outputs": [
    {
     "name": "stdout",
     "output_type": "stream",
     "text": [
      "This is the example\n"
     ]
    }
   ],
   "source": [
    "print(\"This is the example\")"
   ]
  },
  {
   "cell_type": "code",
   "execution_count": 38,
   "id": "3d5df3bd-c076-4273-9c41-ba19551f3f37",
   "metadata": {},
   "outputs": [
    {
     "name": "stdout",
     "output_type": "stream",
     "text": [
      "This is the example2\n"
     ]
    }
   ],
   "source": [
    "print(\"This is the example2\")"
   ]
  },
  {
   "cell_type": "code",
   "execution_count": 40,
   "id": "eb8e197a-9f48-4720-8e7a-f9df89ddb497",
   "metadata": {},
   "outputs": [],
   "source": [
    "import logging\n",
    "logging.basicConfig(filename = \"test.log\",level=logging.INFO)\n",
    "logging.info(\"this is the execution time\")"
   ]
  },
  {
   "cell_type": "markdown",
   "id": "9353648d-1f5c-4bc6-945b-06f56cb141ee",
   "metadata": {},
   "source": [
    "1.NOTSET\n",
    "2.DEBUG\n",
    "3.INFO\n",
    "4.WARNING\n",
    "5.ERROR\n",
    "6.CRITICAL"
   ]
  },
  {
   "cell_type": "code",
   "execution_count": 42,
   "id": "6a20efe0-bdea-4a4c-9bcf-fb30f9e9d4fa",
   "metadata": {},
   "outputs": [],
   "source": [
    "logging.debug(\"this is the deguging area\")"
   ]
  },
  {
   "cell_type": "code",
   "execution_count": 44,
   "id": "68e7ed95-42be-4750-bd95-88a755c454bc",
   "metadata": {},
   "outputs": [],
   "source": [
    "logging.warning(\"this is the warning\")\n"
   ]
  },
  {
   "cell_type": "code",
   "execution_count": 46,
   "id": "925d574b-5a2a-4535-a28f-1e5d1023f385",
   "metadata": {},
   "outputs": [],
   "source": [
    "logging.error(\"this is the error\")"
   ]
  },
  {
   "cell_type": "code",
   "execution_count": 48,
   "id": "ecabe72c-6165-495f-afe7-40620256165c",
   "metadata": {},
   "outputs": [],
   "source": [
    "logging.critical(\"this is all about critical message\")"
   ]
  },
  {
   "cell_type": "code",
   "execution_count": 50,
   "id": "ad68a17f-aa36-451d-acca-e913625debc6",
   "metadata": {},
   "outputs": [],
   "source": [
    "logging.shutdown()"
   ]
  },
  {
   "cell_type": "code",
   "execution_count": null,
   "id": "dd23371a-2492-40ec-92d3-8b644cdc9623",
   "metadata": {},
   "outputs": [],
   "source": [
    "import logging"
   ]
  },
  {
   "cell_type": "code",
   "execution_count": null,
   "id": "be30d064-6dc0-4b24-a778-03545240b181",
   "metadata": {},
   "outputs": [],
   "source": [
    "logging.basicConfig(filename=\"demo.log\" ,level=logging.DEBUG ,format='%(asctime)s %(name)s %(levelname)s %(message)s ' )"
   ]
  },
  {
   "cell_type": "code",
   "execution_count": 52,
   "id": "a486bb12-1b38-4c08-836b-8d211cf94e4e",
   "metadata": {},
   "outputs": [],
   "source": [
    "logging.info(\"this is info message\")\n",
    "logging.warning(\"this is warning message\")\n",
    "logging.error(\"this is error message\")\n",
    "logging.critical(\"this is critical message\")"
   ]
  },
  {
   "cell_type": "code",
   "execution_count": 58,
   "id": "2e94d007-9401-4267-997a-787045fb6aa4",
   "metadata": {},
   "outputs": [
    {
     "name": "stdout",
     "output_type": "stream",
     "text": [
      "[1]\n",
      "[1, 2]\n",
      "[1, 2, 3]\n",
      "[1, 2, 3, 4]\n",
      "[1, 2, 3, 4, 5]\n",
      "[-6]\n",
      "[-6, -7]\n",
      "[-6, -7, -8]\n",
      "[-6, -7, -8, -9]\n",
      "[-6, -7, -8, -9, -10]\n",
      "[-6, -7, -8, -9, -10, -11]\n"
     ]
    }
   ],
   "source": [
    "L=[1,2,3,4,5,-6,-7,-8,-9,-10,-11]\n",
    "logging.info(\"this is the info message \")\n",
    "a=[]\n",
    "b=[]\n",
    "logging.debug(\"this is the begug message\")\n",
    "for i in range(len(L)):\n",
    "    logging.info(\"this is all about positive numbers\")\n",
    "    if L[i]>=0:\n",
    "        a.append(L[i])\n",
    "        print(a)\n",
    "        logging.info(\"passing positive number\")\n",
    "    else:\n",
    "        b.append(L[i])\n",
    "        print( b)\n",
    "        logging.warning(\"passing negative numbers\")\n",
    "        "
   ]
  },
  {
   "cell_type": "code",
   "execution_count": null,
   "id": "38ff9288-0095-468b-ae11-6914eddcf976",
   "metadata": {},
   "outputs": [],
   "source": []
  }
 ],
 "metadata": {
  "kernelspec": {
   "display_name": "Python [conda env:base] *",
   "language": "python",
   "name": "conda-base-py"
  },
  "language_info": {
   "codemirror_mode": {
    "name": "ipython",
    "version": 3
   },
   "file_extension": ".py",
   "mimetype": "text/x-python",
   "name": "python",
   "nbconvert_exporter": "python",
   "pygments_lexer": "ipython3",
   "version": "3.12.7"
  }
 },
 "nbformat": 4,
 "nbformat_minor": 5
}
