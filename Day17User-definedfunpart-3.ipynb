{
 "cells": [
  {
   "cell_type": "markdown",
   "id": "6994c96f-9cdf-40a0-bde4-7bd35907f087",
   "metadata": {},
   "source": [
    "# Return statment"
   ]
  },
  {
   "cell_type": "code",
   "execution_count": 3,
   "id": "9135c7d3-ead8-471d-bd5e-e3049aabb3d4",
   "metadata": {},
   "outputs": [
    {
     "name": "stdout",
     "output_type": "stream",
     "text": [
      "Learning return statement\n"
     ]
    },
    {
     "data": {
      "text/plain": [
       "7"
      ]
     },
     "execution_count": 3,
     "metadata": {},
     "output_type": "execute_result"
    }
   ],
   "source": [
    "def demo(a):\n",
    "    a=a+2\n",
    "    print(\"Learning return statement\")\n",
    "    return a\n",
    "\n",
    "demo(5)"
   ]
  },
  {
   "cell_type": "code",
   "execution_count": 7,
   "id": "ac0ed312-ccfb-490f-ae27-c4e2663b0d4d",
   "metadata": {},
   "outputs": [
    {
     "name": "stdout",
     "output_type": "stream",
     "text": [
      "simple interest is Rs 160.0\n"
     ]
    },
    {
     "data": {
      "text/plain": [
       "160.0"
      ]
     },
     "execution_count": 7,
     "metadata": {},
     "output_type": "execute_result"
    }
   ],
   "source": [
    "\"\"\"write a program to find simple interest\"\"\"\n",
    "def simpleinterest(p,n,r):\n",
    "    si=(p*n*r)/100\n",
    "    print(\"simple interest is Rs\",si)\n",
    "    return si\n",
    "\n",
    "simpleinterest(1000,2,8)\n"
   ]
  },
  {
   "cell_type": "markdown",
   "id": "7717abc6-acaa-435d-b4e6-12820fa86ea3",
   "metadata": {},
   "source": [
    "# *args "
   ]
  },
  {
   "cell_type": "code",
   "execution_count": 12,
   "id": "c7674da3-dd26-4306-b951-d92a048fcf54",
   "metadata": {},
   "outputs": [
    {
     "name": "stdout",
     "output_type": "stream",
     "text": [
      "212\n"
     ]
    }
   ],
   "source": [
    "def argfunc(*args):\n",
    "    s=0\n",
    "    for i in range(len(args)):\n",
    "        s=s+args[i]\n",
    "    print(s)\n",
    "argfunc(12,23,78,99)"
   ]
  },
  {
   "cell_type": "code",
   "execution_count": 14,
   "id": "08326239-d466-456a-9262-7a60d2bf4192",
   "metadata": {},
   "outputs": [
    {
     "name": "stdout",
     "output_type": "stream",
     "text": [
      "20\n"
     ]
    }
   ],
   "source": [
    "def argfunc(*args):\n",
    "    s=0\n",
    "    for i in range(len(args)):\n",
    "        s=s+args[i]\n",
    "    print(s)    \n",
    "\n",
    "argfunc(12,45,66,-12,-55,-36)"
   ]
  },
  {
   "cell_type": "code",
   "execution_count": 16,
   "id": "fd7e917f-12cc-4e62-98ee-9d6d871c5f39",
   "metadata": {},
   "outputs": [
    {
     "name": "stdout",
     "output_type": "stream",
     "text": [
      "132.79000000000002\n"
     ]
    }
   ],
   "source": [
    "def argfunc(*args):\n",
    "    s=0\n",
    "    for i in range(len(args)):\n",
    "        s=s+args[i]\n",
    "    print(s)\n",
    "argfunc(14.14,55.10,63.55)"
   ]
  },
  {
   "cell_type": "markdown",
   "id": "88435459-bac8-4e4a-bb48-a5b0b36205b3",
   "metadata": {},
   "source": [
    "# **kwargs"
   ]
  },
  {
   "cell_type": "code",
   "execution_count": 22,
   "id": "169eb90c-9646-4409-854f-9f8dbb8967ce",
   "metadata": {},
   "outputs": [
    {
     "name": "stdout",
     "output_type": "stream",
     "text": [
      "{'a': 'ravan', 'b': 2, 'c': 60} ravan\n",
      "{'a': 'ravan', 'b': 2, 'c': 60} 2\n",
      "{'a': 'ravan', 'b': 2, 'c': 60} 60\n"
     ]
    }
   ],
   "source": [
    "def practical(**kwargs):\n",
    "    for i in kwargs:\n",
    "        print(kwargs,kwargs[i])\n",
    "practical(a=\"ravan\",b=2,c=60)"
   ]
  },
  {
   "cell_type": "markdown",
   "id": "088d3e68-52e1-419f-9e59-cb64cd1d4995",
   "metadata": {},
   "source": [
    "# Generator function"
   ]
  },
  {
   "cell_type": "code",
   "execution_count": 25,
   "id": "7ba26c9b-b341-4853-908e-7a46fc675b15",
   "metadata": {},
   "outputs": [
    {
     "data": {
      "text/plain": [
       "<generator object test_fib at 0x0000024617BCA500>"
      ]
     },
     "execution_count": 25,
     "metadata": {},
     "output_type": "execute_result"
    }
   ],
   "source": [
    "def test_fib(n):\n",
    "    a=0\n",
    "    b=1\n",
    "    for i in range(n):\n",
    "        yield a\n",
    "        a,b=b ,a+b\n",
    "\n",
    "test_fib(10)"
   ]
  },
  {
   "cell_type": "code",
   "execution_count": 27,
   "id": "63cef4fe-0178-4396-9719-c39c6a71e0f2",
   "metadata": {},
   "outputs": [
    {
     "name": "stdout",
     "output_type": "stream",
     "text": [
      "0\n",
      "1\n",
      "2\n",
      "3\n",
      "4\n",
      "5\n",
      "6\n",
      "7\n",
      "8\n",
      "9\n"
     ]
    }
   ],
   "source": [
    "for i in range(10):\n",
    "    print(i)"
   ]
  },
  {
   "cell_type": "markdown",
   "id": "23984f42-a770-417a-8065-c209faa17da3",
   "metadata": {},
   "source": [
    "# lambda function"
   ]
  },
  {
   "cell_type": "code",
   "execution_count": 30,
   "id": "e895490e-b05a-4c22-b4bf-617388ce29ae",
   "metadata": {},
   "outputs": [
    {
     "data": {
      "text/plain": [
       "9"
      ]
     },
     "execution_count": 30,
     "metadata": {},
     "output_type": "execute_result"
    }
   ],
   "source": [
    "a=lambda n,p:n**p\n",
    "a(3,2)"
   ]
  },
  {
   "cell_type": "code",
   "execution_count": 32,
   "id": "ad85e06f-b65b-4354-9eb1-2a08a9eba06a",
   "metadata": {},
   "outputs": [
    {
     "data": {
      "text/plain": [
       "5"
      ]
     },
     "execution_count": 32,
     "metadata": {},
     "output_type": "execute_result"
    }
   ],
   "source": [
    "add=lambda x,y : x+y\n",
    "add(2,3)"
   ]
  },
  {
   "cell_type": "code",
   "execution_count": 36,
   "id": "d8b32143-d8b6-49a7-b50d-cb368ca08661",
   "metadata": {},
   "outputs": [
    {
     "data": {
      "text/plain": [
       "113.0"
      ]
     },
     "execution_count": 36,
     "metadata": {},
     "output_type": "execute_result"
    }
   ],
   "source": [
    "\"\"\"convert degree in celsius\"\"\"\n",
    "v=lambda c: (9/5)*c+32\n",
    "v(45)"
   ]
  },
  {
   "cell_type": "code",
   "execution_count": null,
   "id": "2a0fe6a8-9a0b-4b4f-9db5-9b85a7be359f",
   "metadata": {},
   "outputs": [],
   "source": []
  }
 ],
 "metadata": {
  "kernelspec": {
   "display_name": "Python [conda env:base] *",
   "language": "python",
   "name": "conda-base-py"
  },
  "language_info": {
   "codemirror_mode": {
    "name": "ipython",
    "version": 3
   },
   "file_extension": ".py",
   "mimetype": "text/x-python",
   "name": "python",
   "nbconvert_exporter": "python",
   "pygments_lexer": "ipython3",
   "version": "3.12.7"
  }
 },
 "nbformat": 4,
 "nbformat_minor": 5
}
