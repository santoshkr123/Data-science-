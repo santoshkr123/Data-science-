{
 "cells": [
  {
   "cell_type": "markdown",
   "id": "74697bc6-2058-4aef-abf2-aff0a7317742",
   "metadata": {},
   "source": [
    "# insert()method in list"
   ]
  },
  {
   "cell_type": "code",
   "execution_count": 3,
   "id": "a65904ed-b73d-4162-a6a4-31539297bcde",
   "metadata": {},
   "outputs": [
    {
     "name": "stdout",
     "output_type": "stream",
     "text": [
      "[1, 2, 3, 4, 5]\n",
      "[1, 2, 55, 3, 4, 5]\n"
     ]
    }
   ],
   "source": [
    "L=[1,2,3,4,5]\n",
    "print(L)\n",
    "L.insert(2,55)\n",
    "print(L)"
   ]
  },
  {
   "cell_type": "code",
   "execution_count": 5,
   "id": "74154e46-7f3c-4e25-880f-36c1b8cfaf49",
   "metadata": {},
   "outputs": [
    {
     "name": "stdout",
     "output_type": "stream",
     "text": [
      "[12, 13, 14, 15]\n",
      "[12, 'hello', 13, 14, 15]\n"
     ]
    }
   ],
   "source": [
    "L=[12,13,14,15]\n",
    "print(L)\n",
    "L.insert(1,\"hello\")\n",
    "print(L)"
   ]
  },
  {
   "cell_type": "markdown",
   "id": "0ffc2b7c-0630-4318-a891-aee1c52f3650",
   "metadata": {},
   "source": [
    "# remove()method in list"
   ]
  },
  {
   "cell_type": "code",
   "execution_count": 11,
   "id": "da93bd19-6cf8-4f2f-8168-d0f79a589d23",
   "metadata": {},
   "outputs": [
    {
     "name": "stdout",
     "output_type": "stream",
     "text": [
      "[1, 2, 3, 4, 5, 6]\n",
      "[1, 2, 4, 5, 6]\n"
     ]
    }
   ],
   "source": [
    "L=[1,2,3,4,5,6]\n",
    "print(L)\n",
    "L.remove(3)\n",
    "print(L)"
   ]
  },
  {
   "cell_type": "code",
   "execution_count": 13,
   "id": "d700508a-7591-4e3b-b44d-8aa88b3ef536",
   "metadata": {},
   "outputs": [
    {
     "name": "stdout",
     "output_type": "stream",
     "text": [
      "[1, 2, 3, 4, 5, 'hello', 'datascience']\n",
      "[1, 2, 3, 4, 5, 'hello']\n"
     ]
    }
   ],
   "source": [
    "L=[1,2,3,4,5,\"hello\",\"datascience\"]\n",
    "print(L)\n",
    "L.remove(\"datascience\")\n",
    "print(L)"
   ]
  },
  {
   "cell_type": "code",
   "execution_count": 25,
   "id": "ebf9cd98-8c0d-47da-a0cf-7f8e26202dd8",
   "metadata": {},
   "outputs": [
    {
     "name": "stdout",
     "output_type": "stream",
     "text": [
      "[12, 13, 14, 15, 16, [-14, -15, -16]]\n",
      "[12, 13, 14, 15, 16, [-14, -15, -16], ['hello', 'python', 'Cat']]\n"
     ]
    }
   ],
   "source": [
    "m=[12,13,14,15,16]\n",
    "n=[-14,-15,-16]\n",
    "m.append(n)\n",
    "print(m)\n",
    "o=[\"hello\",\"python\",\"Cat\"]\n",
    "m.append(o)\n",
    "print(m)"
   ]
  },
  {
   "cell_type": "code",
   "execution_count": 29,
   "id": "50a51c6f-6c87-43a4-8852-21ce9529d2f3",
   "metadata": {},
   "outputs": [
    {
     "name": "stdout",
     "output_type": "stream",
     "text": [
      "[12, 13, 14, 15, 16, [-14, -15, -16]]\n",
      "[12, 13, 14, 15, 16, [-14, -15, -16], ['hello', 'python', 'Cat']]\n",
      "[12, 13, 14, 15, 16, ['hello', 'python', 'Cat']]\n"
     ]
    }
   ],
   "source": [
    "m=[12,13,14,15,16]\n",
    "n=[-14,-15,-16]\n",
    "m.append(n)\n",
    "print(m)\n",
    "o=[\"hello\",\"python\",\"Cat\"]\n",
    "m.append(o)\n",
    "print(m)\n",
    "m.remove(n)\n",
    "print(m)"
   ]
  },
  {
   "cell_type": "markdown",
   "id": "180b6d9b-4a82-4fe0-8e4f-b3318e2aaeef",
   "metadata": {},
   "source": [
    "# pop()method in list"
   ]
  },
  {
   "cell_type": "code",
   "execution_count": 32,
   "id": "ffe326bc-0edd-47fd-a6c3-ae3b98928d6d",
   "metadata": {},
   "outputs": [
    {
     "name": "stdout",
     "output_type": "stream",
     "text": [
      "[12, 13, 14, 15]\n",
      "[12, 14, 15]\n"
     ]
    }
   ],
   "source": [
    "a=[12,13,14,15]\n",
    "print(a)\n",
    "a.pop(1)\n",
    "print(a)"
   ]
  },
  {
   "cell_type": "code",
   "execution_count": 38,
   "id": "90b01eb7-e372-404a-bdbc-68cd92d5a88e",
   "metadata": {},
   "outputs": [
    {
     "name": "stdout",
     "output_type": "stream",
     "text": [
      "[12, 13, 14, 15, 16, [1.2, 1.3, 1.4, 1.5]]\n",
      "[12, 13, 14, 15, 16, [1.2, 1.3, 1.4, 1.5], ['hello', 'Cat']]\n",
      "[12, 13, 14, 15, 16, ['hello', 'Cat']]\n"
     ]
    }
   ],
   "source": [
    "a=[12,13,14,15,16]\n",
    "b=[1.2,1.3,1.4,1.5]\n",
    "a.append(b)\n",
    "print(a)\n",
    "c=[\"hello\",\"Cat\"]\n",
    "a.append(c)\n",
    "print(a)\n",
    "a.pop(5)\n",
    "print(a)"
   ]
  },
  {
   "cell_type": "code",
   "execution_count": 40,
   "id": "97022018-7fd2-4c55-bf21-acef1f41b295",
   "metadata": {},
   "outputs": [
    {
     "ename": "IndexError",
     "evalue": "pop index out of range",
     "output_type": "error",
     "traceback": [
      "\u001b[1;31m---------------------------------------------------------------------------\u001b[0m",
      "\u001b[1;31mIndexError\u001b[0m                                Traceback (most recent call last)",
      "Cell \u001b[1;32mIn[40], line 2\u001b[0m\n\u001b[0;32m      1\u001b[0m a\u001b[38;5;241m=\u001b[39m[\u001b[38;5;241m12\u001b[39m,\u001b[38;5;241m13\u001b[39m,\u001b[38;5;241m14\u001b[39m]\n\u001b[1;32m----> 2\u001b[0m a\u001b[38;5;241m.\u001b[39mpop(\u001b[38;5;241m13\u001b[39m)\n\u001b[0;32m      3\u001b[0m \u001b[38;5;28mprint\u001b[39m(a)\n",
      "\u001b[1;31mIndexError\u001b[0m: pop index out of range"
     ]
    }
   ],
   "source": [
    "a=[12,13,14]\n",
    "a.pop(13)\n",
    "print(a)"
   ]
  },
  {
   "cell_type": "code",
   "execution_count": 42,
   "id": "f55b3428-3f05-4c6e-acc0-ad8427cab9df",
   "metadata": {},
   "outputs": [
    {
     "ename": "TypeError",
     "evalue": "pop expected at most 1 argument, got 2",
     "output_type": "error",
     "traceback": [
      "\u001b[1;31m---------------------------------------------------------------------------\u001b[0m",
      "\u001b[1;31mTypeError\u001b[0m                                 Traceback (most recent call last)",
      "Cell \u001b[1;32mIn[42], line 2\u001b[0m\n\u001b[0;32m      1\u001b[0m a\u001b[38;5;241m=\u001b[39m[\u001b[38;5;241m12\u001b[39m,\u001b[38;5;241m13\u001b[39m,\u001b[38;5;241m15\u001b[39m]\n\u001b[1;32m----> 2\u001b[0m a\u001b[38;5;241m.\u001b[39mpop(\u001b[38;5;241m0\u001b[39m,\u001b[38;5;241m1\u001b[39m)\n\u001b[0;32m      3\u001b[0m \u001b[38;5;28mprint\u001b[39m(a)\n",
      "\u001b[1;31mTypeError\u001b[0m: pop expected at most 1 argument, got 2"
     ]
    }
   ],
   "source": [
    "a=[12,13,15]\n",
    "a.pop(0,1)\n",
    "print(a)"
   ]
  },
  {
   "cell_type": "markdown",
   "id": "18e1171e-f079-45a6-b489-b26bf3348126",
   "metadata": {},
   "source": [
    "# clear()method in list"
   ]
  },
  {
   "cell_type": "code",
   "execution_count": 49,
   "id": "cc56937c-7ce9-4a93-848b-0d6c80782a81",
   "metadata": {},
   "outputs": [
    {
     "name": "stdout",
     "output_type": "stream",
     "text": [
      "6\n",
      "[]\n",
      "0\n"
     ]
    }
   ],
   "source": [
    "a=[12,1314,15,16,14.12,\"hello\"]\n",
    "print(len(a))\n",
    "a.clear()\n",
    "print(a)\n",
    "print(len(a))"
   ]
  },
  {
   "cell_type": "markdown",
   "id": "8df55a39-d1cd-4c1d-891e-4fcdbbda2628",
   "metadata": {},
   "source": [
    "# count()method in list"
   ]
  },
  {
   "cell_type": "code",
   "execution_count": 52,
   "id": "219d237b-7ff6-4542-b1c3-80ce91c0e33b",
   "metadata": {},
   "outputs": [
    {
     "name": "stdout",
     "output_type": "stream",
     "text": [
      "3\n"
     ]
    }
   ],
   "source": [
    "a=[12,12,12,13,14,14,15,16,88,88,88]\n",
    "b=a.count(12)\n",
    "print(b)"
   ]
  },
  {
   "cell_type": "code",
   "execution_count": 54,
   "id": "1e56e0ed-0bb8-4a56-b3c3-d4bb4359217b",
   "metadata": {},
   "outputs": [
    {
     "name": "stdout",
     "output_type": "stream",
     "text": [
      "1\n"
     ]
    }
   ],
   "source": [
    "a=[12,12,12,13,14,14,15,16,88,88,88]\n",
    "b=a.count(13)\n",
    "print(b)"
   ]
  },
  {
   "cell_type": "code",
   "execution_count": 56,
   "id": "866196bf-6665-4517-a9f2-74e02c341a49",
   "metadata": {},
   "outputs": [
    {
     "name": "stdout",
     "output_type": "stream",
     "text": [
      "2\n"
     ]
    }
   ],
   "source": [
    "a=[12,12,12,13,14,14,15,16,88,88,88]\n",
    "b=a.count(14)\n",
    "print(b)"
   ]
  },
  {
   "cell_type": "code",
   "execution_count": 58,
   "id": "a8b327d3-4e74-4102-9fd0-ccb9d9490091",
   "metadata": {},
   "outputs": [
    {
     "name": "stdout",
     "output_type": "stream",
     "text": [
      "3\n"
     ]
    }
   ],
   "source": [
    "a=[12,12,12,13,14,14,15,16,88,88,88]\n",
    "b=a.count(88)\n",
    "print(b)"
   ]
  },
  {
   "cell_type": "markdown",
   "id": "53b97ed9-effe-437a-b01b-e36f8c18827e",
   "metadata": {},
   "source": [
    "# max() method in list"
   ]
  },
  {
   "cell_type": "code",
   "execution_count": 61,
   "id": "e7c7e096-7091-4628-b3d4-95c9577ca2d6",
   "metadata": {},
   "outputs": [
    {
     "name": "stdout",
     "output_type": "stream",
     "text": [
      "22\n"
     ]
    }
   ],
   "source": [
    "a=[12,15,18,20,22]\n",
    "print(max(a))"
   ]
  },
  {
   "cell_type": "code",
   "execution_count": 63,
   "id": "ab80ccc8-7189-41f8-b4ef-253f27cb75eb",
   "metadata": {},
   "outputs": [
    {
     "name": "stdout",
     "output_type": "stream",
     "text": [
      "200.96\n"
     ]
    }
   ],
   "source": [
    "a=[88,96,26,56,99.23,200.96]\n",
    "print(max(a))"
   ]
  },
  {
   "cell_type": "code",
   "execution_count": 65,
   "id": "5645695e-e7eb-4a1f-a03d-a9396b6fbb43",
   "metadata": {},
   "outputs": [
    {
     "name": "stdout",
     "output_type": "stream",
     "text": [
      "zebra\n"
     ]
    }
   ],
   "source": [
    "a=[\"hello\",\"zebra\"]\n",
    "print(max(a))"
   ]
  },
  {
   "cell_type": "code",
   "execution_count": 67,
   "id": "3e50acbb-a522-4dbd-92c2-e8dc105d0e00",
   "metadata": {},
   "outputs": [
    {
     "name": "stdout",
     "output_type": "stream",
     "text": [
      "world\n"
     ]
    }
   ],
   "source": [
    "a=[\"hello\",\"world\",\"class\",\"apple\"]\n",
    "print(max(a))"
   ]
  },
  {
   "cell_type": "code",
   "execution_count": 69,
   "id": "0068facb-02e9-4df2-bd7d-745910f51765",
   "metadata": {},
   "outputs": [
    {
     "ename": "TypeError",
     "evalue": "'>' not supported between instances of 'int' and 'str'",
     "output_type": "error",
     "traceback": [
      "\u001b[1;31m---------------------------------------------------------------------------\u001b[0m",
      "\u001b[1;31mTypeError\u001b[0m                                 Traceback (most recent call last)",
      "Cell \u001b[1;32mIn[69], line 2\u001b[0m\n\u001b[0;32m      1\u001b[0m a\u001b[38;5;241m=\u001b[39m[\u001b[38;5;124m\"\u001b[39m\u001b[38;5;124mhello\u001b[39m\u001b[38;5;124m\"\u001b[39m,\u001b[38;5;124m\"\u001b[39m\u001b[38;5;124mcat\u001b[39m\u001b[38;5;124m\"\u001b[39m,\u001b[38;5;124m\"\u001b[39m\u001b[38;5;124mworld\u001b[39m\u001b[38;5;124m\"\u001b[39m,\u001b[38;5;241m22\u001b[39m,\u001b[38;5;241m25\u001b[39m,\u001b[38;5;241m88\u001b[39m,\u001b[38;5;241m630\u001b[39m]\n\u001b[1;32m----> 2\u001b[0m \u001b[38;5;28mprint\u001b[39m(\u001b[38;5;28mmax\u001b[39m(a))\n",
      "\u001b[1;31mTypeError\u001b[0m: '>' not supported between instances of 'int' and 'str'"
     ]
    }
   ],
   "source": [
    "a=[\"hello\",\"cat\",\"world\",22,25,88,630]\n",
    "print(max(a))"
   ]
  },
  {
   "cell_type": "markdown",
   "id": "2f0fcb2e-3793-4f72-929d-e6b873e3366e",
   "metadata": {},
   "source": [
    "# min()method in list"
   ]
  },
  {
   "cell_type": "code",
   "execution_count": 72,
   "id": "e6aa9102-7e17-42db-8d6d-105b312b6f2f",
   "metadata": {},
   "outputs": [
    {
     "name": "stdout",
     "output_type": "stream",
     "text": [
      "12\n"
     ]
    }
   ],
   "source": [
    "a=[12,13,15,88,90]\n",
    "print(min(a))"
   ]
  },
  {
   "cell_type": "code",
   "execution_count": 74,
   "id": "dd55ddf1-af7d-49ee-b7bc-52d731445eb5",
   "metadata": {},
   "outputs": [
    {
     "name": "stdout",
     "output_type": "stream",
     "text": [
      "-99\n"
     ]
    }
   ],
   "source": [
    "a=[88,96,55,-3,-88,-99]\n",
    "print(min(a))"
   ]
  },
  {
   "cell_type": "code",
   "execution_count": 76,
   "id": "362e7b8b-c126-4fff-90fa-d6f54fc7a5e6",
   "metadata": {},
   "outputs": [
    {
     "name": "stdout",
     "output_type": "stream",
     "text": [
      "cat\n"
     ]
    }
   ],
   "source": [
    "a=[\"hello\",\"python\",\"cat\",\"code\"]\n",
    "print(min(a))"
   ]
  },
  {
   "cell_type": "code",
   "execution_count": 78,
   "id": "5fa6e88b-d046-4c42-a0c5-b741a5d0b5af",
   "metadata": {},
   "outputs": [
    {
     "name": "stdout",
     "output_type": "stream",
     "text": [
      "apple\n"
     ]
    }
   ],
   "source": [
    "a=[\"hello\",\"datascience\",\"apple\",\"boy\"]\n",
    "print(min(a))"
   ]
  },
  {
   "cell_type": "code",
   "execution_count": 80,
   "id": "c4aed803-66f0-41c2-a766-1e35b1ea234e",
   "metadata": {},
   "outputs": [
    {
     "ename": "TypeError",
     "evalue": "'<' not supported between instances of 'int' and 'str'",
     "output_type": "error",
     "traceback": [
      "\u001b[1;31m---------------------------------------------------------------------------\u001b[0m",
      "\u001b[1;31mTypeError\u001b[0m                                 Traceback (most recent call last)",
      "Cell \u001b[1;32mIn[80], line 2\u001b[0m\n\u001b[0;32m      1\u001b[0m a\u001b[38;5;241m=\u001b[39m[\u001b[38;5;124m\"\u001b[39m\u001b[38;5;124mapple\u001b[39m\u001b[38;5;124m\"\u001b[39m,\u001b[38;5;124m\"\u001b[39m\u001b[38;5;124mmango\u001b[39m\u001b[38;5;124m\"\u001b[39m,\u001b[38;5;124m\"\u001b[39m\u001b[38;5;124mcat\u001b[39m\u001b[38;5;124m\"\u001b[39m,\u001b[38;5;241m12\u001b[39m,\u001b[38;5;241m13\u001b[39m,\u001b[38;5;241m14\u001b[39m]\n\u001b[1;32m----> 2\u001b[0m \u001b[38;5;28mprint\u001b[39m(\u001b[38;5;28mmin\u001b[39m(a))\n",
      "\u001b[1;31mTypeError\u001b[0m: '<' not supported between instances of 'int' and 'str'"
     ]
    }
   ],
   "source": [
    "a=[\"apple\",\"mango\",\"cat\",12,13,14]\n",
    "print(min(a))"
   ]
  },
  {
   "cell_type": "code",
   "execution_count": null,
   "id": "e34a4cd4-13cb-4d9e-b658-07d075201152",
   "metadata": {},
   "outputs": [],
   "source": []
  }
 ],
 "metadata": {
  "kernelspec": {
   "display_name": "Python [conda env:base] *",
   "language": "python",
   "name": "conda-base-py"
  },
  "language_info": {
   "codemirror_mode": {
    "name": "ipython",
    "version": 3
   },
   "file_extension": ".py",
   "mimetype": "text/x-python",
   "name": "python",
   "nbconvert_exporter": "python",
   "pygments_lexer": "ipython3",
   "version": "3.12.7"
  }
 },
 "nbformat": 4,
 "nbformat_minor": 5
}
