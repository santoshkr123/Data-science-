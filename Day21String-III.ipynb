{
 "cells": [
  {
   "cell_type": "markdown",
   "id": "0939f3bb-56e9-44fa-81d7-65517256f01f",
   "metadata": {},
   "source": [
    "# split()method"
   ]
  },
  {
   "cell_type": "code",
   "execution_count": 3,
   "id": "e5379574-7b17-49a0-bff3-7a59c7a63b4f",
   "metadata": {},
   "outputs": [
    {
     "name": "stdout",
     "output_type": "stream",
     "text": [
      "['Python is a ', ' high level ', 'language ', ' ']\n"
     ]
    }
   ],
   "source": [
    "a=\"Python is a - high level -language - \"\n",
    "b=a.split(\"-\")\n",
    "print(b)"
   ]
  },
  {
   "cell_type": "code",
   "execution_count": 5,
   "id": "3e53c141-d6db-4906-bcf0-8e3f6a748e52",
   "metadata": {},
   "outputs": [
    {
     "name": "stdout",
     "output_type": "stream",
     "text": [
      "<class 'str'>\n"
     ]
    }
   ],
   "source": [
    "print(type(a))"
   ]
  },
  {
   "cell_type": "code",
   "execution_count": 7,
   "id": "d896379e-d110-426d-b94a-c2ece0e95aa9",
   "metadata": {},
   "outputs": [
    {
     "name": "stdout",
     "output_type": "stream",
     "text": [
      "<class 'list'>\n"
     ]
    }
   ],
   "source": [
    "print(type(b))"
   ]
  },
  {
   "cell_type": "code",
   "execution_count": 9,
   "id": "8e345560-8ec5-4dee-b625-f55653969d87",
   "metadata": {},
   "outputs": [
    {
     "name": "stdout",
     "output_type": "stream",
     "text": [
      "['red', 'blue', 'green', 'yellow', 'pink ', 'are the colors of the ball']\n",
      "<class 'str'>\n",
      "<class 'list'>\n"
     ]
    }
   ],
   "source": [
    "a=\"red,blue,green,yellow,pink ,are the colors of the ball\"\n",
    "b=a.split(\",\")\n",
    "print(b)\n",
    "print(type(a))\n",
    "print(type(b))"
   ]
  },
  {
   "cell_type": "code",
   "execution_count": 13,
   "id": "b6548f75-3bae-4ca0-8bc5-4a37e7f47702",
   "metadata": {},
   "outputs": [
    {
     "name": "stdout",
     "output_type": "stream",
     "text": [
      "red\n"
     ]
    }
   ],
   "source": [
    "print(b[0])"
   ]
  },
  {
   "cell_type": "code",
   "execution_count": 17,
   "id": "b406240e-a508-4b8d-8548-90bd7a1d53f7",
   "metadata": {},
   "outputs": [
    {
     "name": "stdout",
     "output_type": "stream",
     "text": [
      "blue\n"
     ]
    }
   ],
   "source": [
    "print(b[1])"
   ]
  },
  {
   "cell_type": "markdown",
   "id": "300df890-ab48-4f3f-a7f1-104f755b8386",
   "metadata": {},
   "source": [
    "# capitalize()method\n"
   ]
  },
  {
   "cell_type": "code",
   "execution_count": 20,
   "id": "032594bb-83cd-4142-bdfd-21f09ce71033",
   "metadata": {},
   "outputs": [
    {
     "name": "stdout",
     "output_type": "stream",
     "text": [
      "Earth revolves around the sun\n"
     ]
    }
   ],
   "source": [
    "a=\"earth revolves around the sun\"\n",
    "print(a.capitalize())"
   ]
  },
  {
   "cell_type": "code",
   "execution_count": 22,
   "id": "aef5434d-bed9-4cfd-be42-d607019e4511",
   "metadata": {},
   "outputs": [
    {
     "name": "stdout",
     "output_type": "stream",
     "text": [
      "Earth revolves around the sun Moon is so beatiful\n"
     ]
    }
   ],
   "source": [
    "a=\"earth revolves around the sun\"\n",
    "b=\"moon is so beatiful\"\n",
    "print(a.capitalize() + \" \" + b.capitalize())"
   ]
  },
  {
   "cell_type": "markdown",
   "id": "dd643cb9-4ece-4fc3-a5d7-884162d61351",
   "metadata": {},
   "source": [
    "# title()method"
   ]
  },
  {
   "cell_type": "code",
   "execution_count": 25,
   "id": "fbe35b0b-cfac-4ba3-bb0b-ff24db4cc187",
   "metadata": {},
   "outputs": [
    {
     "name": "stdout",
     "output_type": "stream",
     "text": [
      "India Is A Beauiful Country\n"
     ]
    }
   ],
   "source": [
    "a=\"india is a beauiful country\"\n",
    "print(a.title())"
   ]
  },
  {
   "cell_type": "code",
   "execution_count": 27,
   "id": "e7062ada-5541-4a8b-91a8-94e2b092745f",
   "metadata": {},
   "outputs": [
    {
     "name": "stdout",
     "output_type": "stream",
     "text": [
      "Earth Revolves The Sun\n"
     ]
    }
   ],
   "source": [
    "b=\"earth revolveS thE sUN\"\n",
    "print(b.title())"
   ]
  },
  {
   "cell_type": "code",
   "execution_count": 31,
   "id": "f3d27538-9b51-40a8-ae06-f74d5ab286c3",
   "metadata": {},
   "outputs": [
    {
     "name": "stdout",
     "output_type": "stream",
     "text": [
      "earth revolves a the sUN\n",
      "Earth Revolves A The Sun\n"
     ]
    }
   ],
   "source": [
    "c=\"earth revolves The the sUN\"\n",
    "d=c.replace(\"The\",\"a\")\n",
    "print(d)\n",
    "print(d.title())"
   ]
  },
  {
   "cell_type": "markdown",
   "id": "e78aeaec-29b8-44b2-98fd-3304e6d01a50",
   "metadata": {},
   "source": [
    "# swapcase()method\n"
   ]
  },
  {
   "cell_type": "code",
   "execution_count": 34,
   "id": "082d66c5-d223-4a02-aaf6-98bd51ae93db",
   "metadata": {},
   "outputs": [
    {
     "name": "stdout",
     "output_type": "stream",
     "text": [
      "NEW DELHI IS THE CAPITAL OF INDIA\n"
     ]
    }
   ],
   "source": [
    "a=\"new delhi is the capital of india\"\n",
    "print(a.swapcase())"
   ]
  },
  {
   "cell_type": "code",
   "execution_count": 36,
   "id": "f36b8d91-3505-4cb1-b588-b4b2ae357639",
   "metadata": {},
   "outputs": [
    {
     "name": "stdout",
     "output_type": "stream",
     "text": [
      "new delhi is the capital of india\n"
     ]
    }
   ],
   "source": [
    "b=\"NEW DELHI IS THE CAPITAL OF INDIA\"\n",
    "print(b.swapcase())"
   ]
  },
  {
   "cell_type": "code",
   "execution_count": 38,
   "id": "c987f17d-9fc5-4eb7-b46f-ff871b447771",
   "metadata": {},
   "outputs": [
    {
     "name": "stdout",
     "output_type": "stream",
     "text": [
      "NEW DELHI IS THE CAPITAL OF INDIA new delhi is the capital of india\n"
     ]
    }
   ],
   "source": [
    "a=\"new delhi is the capital of india\"\n",
    "b=\"NEW DELHI IS THE CAPITAL OF INDIA\"\n",
    "print(a.swapcase()+\" \"+b.swapcase())\n"
   ]
  },
  {
   "cell_type": "markdown",
   "id": "18406050-ccc1-45b9-9a83-c32fff243956",
   "metadata": {},
   "source": [
    "# find() method"
   ]
  },
  {
   "cell_type": "code",
   "execution_count": 41,
   "id": "b8952b1e-34c2-42bf-8720-aa29b678aeb2",
   "metadata": {},
   "outputs": [
    {
     "name": "stdout",
     "output_type": "stream",
     "text": [
      "15\n",
      "10\n"
     ]
    }
   ],
   "source": [
    "a=\"python is great\"\n",
    "print(len(a))\n",
    "print(a.find(\"g\"))"
   ]
  },
  {
   "cell_type": "code",
   "execution_count": 45,
   "id": "f661df98-fff3-413a-8c0f-73e209df96e3",
   "metadata": {},
   "outputs": [
    {
     "name": "stdout",
     "output_type": "stream",
     "text": [
      "15\n",
      "2\n"
     ]
    }
   ],
   "source": [
    "b=\"python is great\"\n",
    "print(len(b))\n",
    "print(b.find(\"thon\"))"
   ]
  },
  {
   "cell_type": "code",
   "execution_count": 47,
   "id": "8ac44d22-65bd-4020-99b7-e19cb2a890b2",
   "metadata": {},
   "outputs": [
    {
     "name": "stdout",
     "output_type": "stream",
     "text": [
      "15\n",
      "-1\n"
     ]
    }
   ],
   "source": [
    "c=\"python is great\"\n",
    "print(len(c))\n",
    "print(c.find(\"world\"))"
   ]
  },
  {
   "cell_type": "markdown",
   "id": "87c8b71f-baaf-4fb8-8903-94d296bf0f2c",
   "metadata": {},
   "source": [
    "# index()method"
   ]
  },
  {
   "cell_type": "code",
   "execution_count": 50,
   "id": "27f784a6-bd0f-4b09-ba7b-8fe98df615e7",
   "metadata": {},
   "outputs": [
    {
     "name": "stdout",
     "output_type": "stream",
     "text": [
      "4\n"
     ]
    }
   ],
   "source": [
    "a=[10,20,30,40,\"Python\"]\n",
    "print(a.index(\"Python\"))"
   ]
  },
  {
   "cell_type": "code",
   "execution_count": 56,
   "id": "f2fd0b6d-8a73-4f22-8a5d-108d0483ba4e",
   "metadata": {},
   "outputs": [
    {
     "name": "stdout",
     "output_type": "stream",
     "text": [
      "2\n"
     ]
    }
   ],
   "source": [
    "b=[\"Mangoes\", \"banaya\",\"tree\",\"apple\"]\n",
    "print(b.index(\"tree\"))"
   ]
  },
  {
   "cell_type": "code",
   "execution_count": null,
   "id": "e3e3cdae-fe3b-4c56-88f3-079205a7d476",
   "metadata": {},
   "outputs": [],
   "source": []
  }
 ],
 "metadata": {
  "kernelspec": {
   "display_name": "Python [conda env:base] *",
   "language": "python",
   "name": "conda-base-py"
  },
  "language_info": {
   "codemirror_mode": {
    "name": "ipython",
    "version": 3
   },
   "file_extension": ".py",
   "mimetype": "text/x-python",
   "name": "python",
   "nbconvert_exporter": "python",
   "pygments_lexer": "ipython3",
   "version": "3.12.7"
  }
 },
 "nbformat": 4,
 "nbformat_minor": 5
}
