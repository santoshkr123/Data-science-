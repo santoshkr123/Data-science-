{
 "cells": [
  {
   "cell_type": "markdown",
   "id": "9a5db931-e45b-483a-a243-0b02b826117b",
   "metadata": {},
   "source": [
    "# sort()"
   ]
  },
  {
   "cell_type": "code",
   "execution_count": 2,
   "id": "3bafd957-5317-464f-83ff-613aa6b42073",
   "metadata": {},
   "outputs": [
    {
     "name": "stdout",
     "output_type": "stream",
     "text": [
      "[10, 12, 23, 36, 39, 55, 56, 89]\n"
     ]
    }
   ],
   "source": [
    "a=[12,56,89,36,55,10,23,39]\n",
    "a.sort()\n",
    "print(a)"
   ]
  },
  {
   "cell_type": "code",
   "execution_count": 4,
   "id": "45001669-fb45-4d6f-b4fb-188c1b500391",
   "metadata": {},
   "outputs": [
    {
     "name": "stdout",
     "output_type": "stream",
     "text": [
      "[89, 56, 55, 39, 36, 23, 12, 10]\n"
     ]
    }
   ],
   "source": [
    "a=[12,56,89,36,55,10,23,39]\n",
    "a.sort(reverse=True)\n",
    "print(a)"
   ]
  },
  {
   "cell_type": "code",
   "execution_count": 10,
   "id": "89e384bd-4535-49a4-a735-842e0690d4f0",
   "metadata": {},
   "outputs": [
    {
     "name": "stdout",
     "output_type": "stream",
     "text": [
      "['code', 'datascience', 'hello', 'list', 'python']\n"
     ]
    }
   ],
   "source": [
    "b=[\"hello\",\"python\",\"code\",\"datascience\",\"list\"]\n",
    "b.sort()\n",
    "print(b)"
   ]
  },
  {
   "cell_type": "code",
   "execution_count": 12,
   "id": "e1d5c2a0-7808-4517-b75e-a6a9d42da9f9",
   "metadata": {},
   "outputs": [
    {
     "name": "stdout",
     "output_type": "stream",
     "text": [
      "['python', 'list', 'hello', 'datascience', 'code']\n"
     ]
    }
   ],
   "source": [
    "b=[\"hello\",\"python\",\"code\",\"datascience\",\"list\"]\n",
    "b.sort(reverse=True)\n",
    "print(b)"
   ]
  },
  {
   "cell_type": "markdown",
   "id": "43b049da-b864-4633-b8d2-b94bd4060861",
   "metadata": {},
   "source": [
    "# reverse()"
   ]
  },
  {
   "cell_type": "code",
   "execution_count": 22,
   "id": "2092f60a-b20c-4668-9f25-102df0df1eb6",
   "metadata": {},
   "outputs": [
    {
     "name": "stdout",
     "output_type": "stream",
     "text": [
      "7\n",
      "[36, 45, 22, 36, 88, 7]\n",
      "36\n"
     ]
    }
   ],
   "source": [
    "a=[7,88,36,22,45,36]\n",
    "print(a[0])\n",
    "a.reverse()\n",
    "print(a)\n",
    "print(a[0])"
   ]
  },
  {
   "cell_type": "code",
   "execution_count": 18,
   "id": "22aaaa4d-50b6-47e3-bfe1-d8a552286e74",
   "metadata": {},
   "outputs": [
    {
     "name": "stdout",
     "output_type": "stream",
     "text": [
      "['AI', 'Chat', 'Code', 'Helllo', 'Python']\n"
     ]
    }
   ],
   "source": [
    "b=[\"Helllo\",\"Code\",\"Chat\",\"Python\",\"AI\"]\n",
    "b.sort()\n",
    "print(b)"
   ]
  },
  {
   "cell_type": "markdown",
   "id": "bafb21a0-a902-47ed-b3f4-cd5b76c836e3",
   "metadata": {},
   "source": [
    "# index()"
   ]
  },
  {
   "cell_type": "code",
   "execution_count": 39,
   "id": "c4484a68-907d-4ed4-a8fc-5d8d81c61575",
   "metadata": {},
   "outputs": [
    {
     "name": "stdout",
     "output_type": "stream",
     "text": [
      "0\n"
     ]
    }
   ],
   "source": [
    "a=[12,55,66,89,19,36]\n",
    "print(a.index(12))"
   ]
  },
  {
   "cell_type": "code",
   "execution_count": 41,
   "id": "54816c18-a4c3-454f-8e8b-d33fa6db3f18",
   "metadata": {},
   "outputs": [
    {
     "ename": "ValueError",
     "evalue": "200 is not in list",
     "output_type": "error",
     "traceback": [
      "\u001b[1;31m---------------------------------------------------------------------------\u001b[0m",
      "\u001b[1;31mValueError\u001b[0m                                Traceback (most recent call last)",
      "Cell \u001b[1;32mIn[41], line 2\u001b[0m\n\u001b[0;32m      1\u001b[0m a\u001b[38;5;241m=\u001b[39m[\u001b[38;5;241m12\u001b[39m,\u001b[38;5;241m55\u001b[39m,\u001b[38;5;241m66\u001b[39m,\u001b[38;5;241m89\u001b[39m,\u001b[38;5;241m19\u001b[39m,\u001b[38;5;241m36\u001b[39m]\n\u001b[1;32m----> 2\u001b[0m \u001b[38;5;28mprint\u001b[39m(a\u001b[38;5;241m.\u001b[39mindex(\u001b[38;5;241m200\u001b[39m))\n",
      "\u001b[1;31mValueError\u001b[0m: 200 is not in list"
     ]
    }
   ],
   "source": [
    "a=[12,55,66,89,19,36]\n",
    "print(a.index(200))"
   ]
  },
  {
   "cell_type": "markdown",
   "id": "c8addb47-730d-413d-b583-11ed9d057a77",
   "metadata": {},
   "source": [
    "# copy()method"
   ]
  },
  {
   "cell_type": "code",
   "execution_count": 46,
   "id": "9702c19e-22a3-404e-be70-8c26dcb9db5d",
   "metadata": {},
   "outputs": [
    {
     "name": "stdout",
     "output_type": "stream",
     "text": [
      "[12, 13, 14, 15, 16]\n"
     ]
    }
   ],
   "source": [
    "L=[12,13,14,15,16]\n",
    "L1=L.copy()\n",
    "print(L1)"
   ]
  },
  {
   "cell_type": "code",
   "execution_count": 48,
   "id": "3f441e81-9933-41a2-8a06-71e4e9f132c0",
   "metadata": {},
   "outputs": [
    {
     "name": "stdout",
     "output_type": "stream",
     "text": [
      "[12, 13, 'Hello', 15, 16]\n"
     ]
    }
   ],
   "source": [
    "L1[2]=\"Hello\"\n",
    "print(L1)"
   ]
  },
  {
   "cell_type": "code",
   "execution_count": 50,
   "id": "264695c0-7a7c-4024-8bf1-d70d1a31026e",
   "metadata": {},
   "outputs": [
    {
     "name": "stdout",
     "output_type": "stream",
     "text": [
      "[12, 13, 14, 15, 16]\n"
     ]
    }
   ],
   "source": [
    "print(L)"
   ]
  },
  {
   "cell_type": "code",
   "execution_count": 56,
   "id": "bc6de17f-8252-43b7-8ab0-44920d5d1af8",
   "metadata": {},
   "outputs": [
    {
     "name": "stdin",
     "output_type": "stream",
     "text": [
      "Enter the number of elements you want in the list 3\n",
      "Enter the elements that you enter 1\n",
      "Enter the elements that you enter 2\n",
      "Enter the elements that you enter 3\n"
     ]
    },
    {
     "name": "stdout",
     "output_type": "stream",
     "text": [
      "[1, 2, 3]\n",
      "[3, 2, 1]\n"
     ]
    }
   ],
   "source": [
    "\"\"\"take the input of the list from the user and then reverse the list\"\"\"\n",
    "a=[]\n",
    "n=int(input(\"Enter the number of elements you want in the list\"))\n",
    "for i in range(n):\n",
    "    a.append(int(input(\"Enter the elements that you enter\")))\n",
    "\n",
    "print(a)\n",
    "a.reverse()\n",
    "print(a)"
   ]
  },
  {
   "cell_type": "code",
   "execution_count": 66,
   "id": "6d6ac68b-7f24-4822-a654-048f9e57e608",
   "metadata": {},
   "outputs": [
    {
     "name": "stdin",
     "output_type": "stream",
     "text": [
      "enter the number tha you want in the elements 3\n",
      "Enter the elements 1\n",
      "Enter the elements 2\n",
      "Enter the elements 3\n"
     ]
    },
    {
     "name": "stdout",
     "output_type": "stream",
     "text": [
      "[1, 2, 3]\n",
      "[3, 2, 1]\n"
     ]
    }
   ],
   "source": [
    "\"\"\"take the input of the list and swap the number from start and end number\"\"\"\n",
    "a=[]\n",
    "n=int(input(\"enter the number tha you want in the elements\"))\n",
    "for i in range(n):\n",
    "    a.append(int(input(\"Enter the elements\")))\n",
    "\n",
    "print(a)\n",
    "temp=a[0]\n",
    "a[0]=a[2]\n",
    "a[2]=temp\n",
    "print(a)"
   ]
  },
  {
   "cell_type": "code",
   "execution_count": null,
   "id": "a17bf654-ee9a-49f6-84b5-7e27aa1e2d80",
   "metadata": {},
   "outputs": [],
   "source": []
  }
 ],
 "metadata": {
  "kernelspec": {
   "display_name": "Python [conda env:base] *",
   "language": "python",
   "name": "conda-base-py"
  },
  "language_info": {
   "codemirror_mode": {
    "name": "ipython",
    "version": 3
   },
   "file_extension": ".py",
   "mimetype": "text/x-python",
   "name": "python",
   "nbconvert_exporter": "python",
   "pygments_lexer": "ipython3",
   "version": "3.12.7"
  }
 },
 "nbformat": 4,
 "nbformat_minor": 5
}
