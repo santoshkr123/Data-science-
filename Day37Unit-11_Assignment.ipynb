{
 "cells": [
  {
   "cell_type": "code",
   "execution_count": null,
   "id": "d4862c5b-2879-4be7-a615-a557d0434a66",
   "metadata": {},
   "outputs": [],
   "source": [
    "1) Write a Python script to concatenate the following dictionaries to create a new one\n",
    "Input\n",
    "dic1={1:10, 2:20}\n",
    "dic2={3:30, 4:40}\n",
    "dic3={5:50,6:60}\n",
    "Output\n",
    "{1: 10, 2: 20, 3: 30, 4: 40, 5: 50, 6: 60}"
   ]
  },
  {
   "cell_type": "code",
   "execution_count": 19,
   "id": "4adc298a-1c26-449d-8da3-09c09506e268",
   "metadata": {},
   "outputs": [
    {
     "name": "stdout",
     "output_type": "stream",
     "text": [
      "{1: 10, 2: 20, 3: 30, 4: 40, 5: 50, 6: 60}\n"
     ]
    }
   ],
   "source": [
    "dic1={1:10, 2:20}\n",
    "dic2={3:30, 4:40}\n",
    "dic3={5:50,6:60}\n",
    "\n",
    "dic1.update(dic2)\n",
    "dic1.update(dic3)\n",
    "print(dic1)"
   ]
  },
  {
   "cell_type": "code",
   "execution_count": null,
   "id": "00820743-de30-4132-8d6a-81fd7578addc",
   "metadata": {},
   "outputs": [],
   "source": [
    "2) Write a Python program to check whether a given key already exists in a dictionary."
   ]
  },
  {
   "cell_type": "code",
   "execution_count": 25,
   "id": "d1848b3e-9576-4069-9f64-1ece3b747f60",
   "metadata": {},
   "outputs": [
    {
     "name": "stdout",
     "output_type": "stream",
     "text": [
      "True\n"
     ]
    }
   ],
   "source": [
    "d={1:\"apple\",2:\"banana\"}\n",
    "print(1 in d)"
   ]
  },
  {
   "cell_type": "code",
   "execution_count": null,
   "id": "63191011-9dad-4b13-abf6-cbf88de12909",
   "metadata": {},
   "outputs": [],
   "source": [
    "3) Write a Python program to sum all the items in a dictionary.\n",
    "Input {'data1':100,'data2':-54,'data3':247}\n",
    "Output 293"
   ]
  },
  {
   "cell_type": "code",
   "execution_count": null,
   "id": "b926afc2-0b49-490d-aa99-dcbd43a2c62b",
   "metadata": {},
   "outputs": [],
   "source": [
    "d = {'data1': 100, 'data2': -54, 'data3': 247}\n",
    "total_sum = sum(d.values())  \n",
    "print(total_sum)"
   ]
  },
  {
   "cell_type": "code",
   "execution_count": null,
   "id": "6421612e-d0e2-4535-8774-aa45d88d1336",
   "metadata": {},
   "outputs": [],
   "source": [
    "4) Write a Python program to get the maximum and minimum values of a dictionary.\n",
    "Input\n",
    "{'x':500, 'y':5874, 'z': 560}\n",
    "Output\n",
    "Maximum Value: 5874\n",
    "Minimum Value: 500"
   ]
  },
  {
   "cell_type": "code",
   "execution_count": 52,
   "id": "d7820543-032c-423f-ad05-c2ee4ce3b116",
   "metadata": {},
   "outputs": [
    {
     "name": "stdout",
     "output_type": "stream",
     "text": [
      "5874\n",
      "500\n"
     ]
    }
   ],
   "source": [
    "d={'x':500, 'y':5874, 'z': 560}\n",
    "l=list(d.values())\n",
    "print(max(l))\n",
    "print(min(l))"
   ]
  },
  {
   "cell_type": "code",
   "execution_count": null,
   "id": "74adc205-d477-4c0c-b5d0-72aa051d3352",
   "metadata": {},
   "outputs": [],
   "source": [
    "5) Write a Python program to remove a key from a dictionary.\n",
    "Input\n",
    "{'a':1,'b':2,'c':3,'d':4}\n",
    "Output\n",
    "{'b': 2, 'c': 3, 'd': 4}"
   ]
  },
  {
   "cell_type": "code",
   "execution_count": 54,
   "id": "f643849d-8ee9-4529-bfa3-587afec19a61",
   "metadata": {},
   "outputs": [
    {
     "name": "stdout",
     "output_type": "stream",
     "text": [
      "{'b': 2, 'c': 3, 'd': 4}\n"
     ]
    }
   ],
   "source": [
    "d={'a':1,'b':2,'c':3,'d':4}\n",
    "d.pop('a')\n",
    "print(d)"
   ]
  },
  {
   "cell_type": "code",
   "execution_count": null,
   "id": "4a21faee-7d58-442a-aa13-900d435a713a",
   "metadata": {},
   "outputs": [],
   "source": [
    "6) Write a Python program to sort a given dictionary by key\n",
    "Input\n",
    "{'red':'#FF0000',\n",
    " 'green':'#008000',\n",
    " 'black':'#000000',\n",
    " 'white':'#FFFFFF'}\n",
    "Output\n",
    "black: #000000\n",
    "green: #008000\n",
    "red: #FF0000\n",
    "white: #FFFFFF"
   ]
  },
  {
   "cell_type": "code",
   "execution_count": 60,
   "id": "7afef9af-a4c0-4d82-9c44-6f48607e798b",
   "metadata": {},
   "outputs": [
    {
     "name": "stdout",
     "output_type": "stream",
     "text": [
      "['black', 'green', 'red', 'white']\n"
     ]
    }
   ],
   "source": [
    "d={'red':'#FF0000',\n",
    " 'green':'#008000',\n",
    " 'black':'#000000',\n",
    " 'white':'#FFFFFF'}\n",
    "l=list(d.keys())\n",
    "l.sort()\n",
    "print(l)\n"
   ]
  },
  {
   "cell_type": "code",
   "execution_count": null,
   "id": "35af8113-dddc-4c66-b1bf-ee8fe0688673",
   "metadata": {},
   "outputs": [],
   "source": [
    "7) Write a Python program to access dictionary key's element by index.\n",
    "Input\n",
    "{'physics': 80, 'math': 90, 'chemistry': 86}\n",
    "Output\n",
    "physics\n",
    "math\n",
    "chemistry"
   ]
  },
  {
   "cell_type": "code",
   "execution_count": 66,
   "id": "11a29cad-c811-48ce-9bee-598151e07258",
   "metadata": {},
   "outputs": [
    {
     "name": "stdout",
     "output_type": "stream",
     "text": [
      "physics\n",
      "math\n",
      "chemistry\n"
     ]
    }
   ],
   "source": [
    "d={'physics': 80, 'math': 90, 'chemistry': 86}\n",
    "print(list(d)[0])\n",
    "print(list(d)[1])\n",
    "print(list(d)[2])"
   ]
  },
  {
   "cell_type": "code",
   "execution_count": null,
   "id": "b46e5551-fbc2-4b16-9efc-7b443e465909",
   "metadata": {},
   "outputs": [],
   "source": []
  },
  {
   "cell_type": "code",
   "execution_count": null,
   "id": "971f529e-013d-4c03-b8a2-3e8ba6486c93",
   "metadata": {},
   "outputs": [],
   "source": []
  },
  {
   "cell_type": "code",
   "execution_count": null,
   "id": "09721074-947d-4d50-9bcb-1e826ad1d95a",
   "metadata": {},
   "outputs": [],
   "source": []
  },
  {
   "cell_type": "code",
   "execution_count": null,
   "id": "771a9935-d27a-42a6-b66b-824d3394f826",
   "metadata": {},
   "outputs": [],
   "source": []
  },
  {
   "cell_type": "code",
   "execution_count": null,
   "id": "e0cb9894-9fc6-48aa-8f72-d013e8387b6c",
   "metadata": {},
   "outputs": [],
   "source": []
  }
 ],
 "metadata": {
  "kernelspec": {
   "display_name": "Python [conda env:base] *",
   "language": "python",
   "name": "conda-base-py"
  },
  "language_info": {
   "codemirror_mode": {
    "name": "ipython",
    "version": 3
   },
   "file_extension": ".py",
   "mimetype": "text/x-python",
   "name": "python",
   "nbconvert_exporter": "python",
   "pygments_lexer": "ipython3",
   "version": "3.12.7"
  }
 },
 "nbformat": 4,
 "nbformat_minor": 5
}
