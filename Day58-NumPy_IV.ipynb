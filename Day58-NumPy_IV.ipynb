{
 "cells": [
  {
   "cell_type": "markdown",
   "id": "32ffb6d4-5504-4820-b70a-9d275db5de09",
   "metadata": {},
   "source": [
    "# numpy in array\n",
    "# indexing in numpy array(1D)"
   ]
  },
  {
   "cell_type": "code",
   "execution_count": 5,
   "id": "584b92e9-682f-4861-9106-4655155a6035",
   "metadata": {},
   "outputs": [
    {
     "name": "stdout",
     "output_type": "stream",
     "text": [
      "15\n"
     ]
    }
   ],
   "source": [
    "import numpy as np\n",
    "arr1=np.array([10,12,13,14,15,45])\n",
    "print(arr1[4])"
   ]
  },
  {
   "cell_type": "code",
   "execution_count": 9,
   "id": "51a86864-a50b-44e6-8d87-87e812338ef2",
   "metadata": {},
   "outputs": [
    {
     "name": "stdout",
     "output_type": "stream",
     "text": [
      "54\n"
     ]
    }
   ],
   "source": [
    "import numpy as np\n",
    "arr1=np.array([10,12,14,15,45,54])\n",
    "print(arr1[5])"
   ]
  },
  {
   "cell_type": "code",
   "execution_count": 11,
   "id": "772ba802-84a3-4e64-a6f7-575c083cd1cd",
   "metadata": {},
   "outputs": [
    {
     "name": "stdout",
     "output_type": "stream",
     "text": [
      "45\n"
     ]
    }
   ],
   "source": [
    "import numpy as np\n",
    "arr1=np.array([10,11,12,13,14,45])\n",
    "print(arr1[-1])"
   ]
  },
  {
   "cell_type": "markdown",
   "id": "755f8db0-e7dd-4157-84f8-5d0f2ea4cf5b",
   "metadata": {},
   "source": [
    "# 2d array(indexing)"
   ]
  },
  {
   "cell_type": "code",
   "execution_count": 14,
   "id": "85715dae-7363-4035-9aae-dd0e65c984f4",
   "metadata": {},
   "outputs": [
    {
     "name": "stdout",
     "output_type": "stream",
     "text": [
      "3\n"
     ]
    }
   ],
   "source": [
    "import numpy as np\n",
    "arr1=np.array([[1,2],[3,4]])\n",
    "print(arr1[1,0])"
   ]
  },
  {
   "cell_type": "code",
   "execution_count": 16,
   "id": "1a604cce-525b-462a-a700-6679ed9a14cd",
   "metadata": {},
   "outputs": [
    {
     "name": "stdout",
     "output_type": "stream",
     "text": [
      "5\n"
     ]
    }
   ],
   "source": [
    "import numpy as np\n",
    "arr1=np.array([[1,2,3],[4,5,6],[7,8,9]])\n",
    "print(arr1[1,1])"
   ]
  },
  {
   "cell_type": "code",
   "execution_count": 18,
   "id": "ffa8241a-7ea0-41f2-8c14-590f631eba70",
   "metadata": {},
   "outputs": [
    {
     "name": "stdout",
     "output_type": "stream",
     "text": [
      "7\n"
     ]
    }
   ],
   "source": [
    "import numpy as np\n",
    "arr1=np.array([[1,2,3],[4,5,6],[7,8,9]])\n",
    "print(arr1[2,0])"
   ]
  },
  {
   "cell_type": "code",
   "execution_count": 20,
   "id": "b997ddc2-fcfb-4165-b0e3-0900e7c3ceef",
   "metadata": {},
   "outputs": [
    {
     "name": "stdout",
     "output_type": "stream",
     "text": [
      "1\n"
     ]
    }
   ],
   "source": [
    "import numpy as np\n",
    "arr1=np.array([[1,2,3],[4,5,6],[7,8,9]])\n",
    "print(arr1[0,0])"
   ]
  },
  {
   "cell_type": "markdown",
   "id": "4bd39683-9288-40d3-8f83-a086edc0c866",
   "metadata": {},
   "source": [
    "# 3d array(indexing)"
   ]
  },
  {
   "cell_type": "code",
   "execution_count": 27,
   "id": "e03b16cd-2493-43a5-b64b-236cee85918a",
   "metadata": {},
   "outputs": [
    {
     "name": "stdout",
     "output_type": "stream",
     "text": [
      "[[[1 2]\n",
      "  [3 4]\n",
      "  [5 6]]]\n",
      "3\n",
      "4\n"
     ]
    }
   ],
   "source": [
    "import numpy as np\n",
    "arr1=np.array([[[1,2],[3,4],[5,6]]])\n",
    "print(arr1)\n",
    "print(arr1.ndim)\n",
    "print(arr1[0,1,1])"
   ]
  },
  {
   "cell_type": "code",
   "execution_count": 33,
   "id": "432d5fcd-ed0c-4d37-a944-d1d84c9841ff",
   "metadata": {},
   "outputs": [
    {
     "name": "stdout",
     "output_type": "stream",
     "text": [
      "[[[1 2 3]\n",
      "  [4 5 6]\n",
      "  [7 8 9]]]\n",
      "3\n",
      "6\n"
     ]
    }
   ],
   "source": [
    "import numpy as np\n",
    "arr1=np.array([[[1,2,3],[4,5,6],[7,8,9]]])\n",
    "print(arr1)\n",
    "print(arr1.ndim)\n",
    "print(arr1[0,1,2])"
   ]
  },
  {
   "cell_type": "markdown",
   "id": "a8666be1-90d4-44ca-a878-ab01861297c6",
   "metadata": {},
   "source": [
    "# 5d array(indexing)"
   ]
  },
  {
   "cell_type": "code",
   "execution_count": 42,
   "id": "7499ada6-8ee5-4972-85f0-7aa07e94403a",
   "metadata": {},
   "outputs": [
    {
     "name": "stdout",
     "output_type": "stream",
     "text": [
      "[[[[[1 2 3]\n",
      "    [4 5 6]\n",
      "    [7 8 9]]]]]\n",
      "5\n",
      "8\n"
     ]
    }
   ],
   "source": [
    "import numpy as np\n",
    "arr1=np.array([[[[[1,2,3],[4,5,6],[7,8,9]]]]])\n",
    "print(arr1)\n",
    "print(arr1.ndim)\n",
    "print(arr1[0,0,0,2,1])"
   ]
  },
  {
   "cell_type": "markdown",
   "id": "f05c81d3-03b2-49e3-b6c7-532f3ab00b41",
   "metadata": {},
   "source": [
    "# slicing in numpy array(1D)"
   ]
  },
  {
   "cell_type": "code",
   "execution_count": 45,
   "id": "b0698900-62ab-4f04-aac8-da771ab4b103",
   "metadata": {},
   "outputs": [
    {
     "name": "stdout",
     "output_type": "stream",
     "text": [
      "[3 4 5 6 7 8]\n"
     ]
    }
   ],
   "source": [
    "import numpy as np\n",
    "arr1=np.array([1,2,3,4,5,6,7,8,9,10])\n",
    "print(arr1[2:8])"
   ]
  },
  {
   "cell_type": "code",
   "execution_count": 47,
   "id": "b203763a-b446-4686-a4e8-7787f60d26bd",
   "metadata": {},
   "outputs": [
    {
     "name": "stdout",
     "output_type": "stream",
     "text": [
      "[30 50 70]\n"
     ]
    }
   ],
   "source": [
    "import numpy as np\n",
    "arr1=np.array([10,20,30,40,50,60,70,80,90,100])\n",
    "print(arr1[2:8:2])"
   ]
  },
  {
   "cell_type": "code",
   "execution_count": 49,
   "id": "1c2d2fce-d8cf-4de2-8aec-9c3e3a3e2385",
   "metadata": {},
   "outputs": [
    {
     "name": "stdout",
     "output_type": "stream",
     "text": [
      "[1 2 3 4 5]\n"
     ]
    }
   ],
   "source": [
    "import numpy as np\n",
    "arr1=np.array([1,2,3,4,5,6,7,8,9,10])\n",
    "print(arr1[0:5])"
   ]
  },
  {
   "cell_type": "code",
   "execution_count": 51,
   "id": "8af041bd-4b2b-42bf-ad22-cd67b8d308d8",
   "metadata": {},
   "outputs": [
    {
     "name": "stdout",
     "output_type": "stream",
     "text": [
      "[ 1  2  3  4  5  6  7  8  9 10]\n"
     ]
    }
   ],
   "source": [
    "import numpy as np\n",
    "arr1=np.array([1,2,3,4,5,6,7,8,9,10])\n",
    "print(arr1[:])"
   ]
  },
  {
   "cell_type": "code",
   "execution_count": 53,
   "id": "77728bea-c82a-4424-bb45-9d087ffd02d6",
   "metadata": {},
   "outputs": [
    {
     "name": "stdout",
     "output_type": "stream",
     "text": [
      "[10  9  8  7  6  5  4  3  2  1]\n"
     ]
    }
   ],
   "source": [
    "import numpy as np\n",
    "arr1=np.array([1,2,3,4,5,6,7,8,9,10])\n",
    "print(arr1[::-1])"
   ]
  },
  {
   "cell_type": "code",
   "execution_count": 55,
   "id": "2ea888a2-10a9-4147-9e83-3802d88ff7d4",
   "metadata": {},
   "outputs": [
    {
     "name": "stdout",
     "output_type": "stream",
     "text": [
      "[8 6]\n"
     ]
    }
   ],
   "source": [
    "import numpy as np\n",
    "arr1=np.array([1,2,5,8,6,9,10,50,30])\n",
    "print(arr1[3:5])"
   ]
  },
  {
   "cell_type": "markdown",
   "id": "8f331362-ac82-4399-aeb3-c896b4b96d61",
   "metadata": {},
   "source": [
    "# slicing numpy in 2D array"
   ]
  },
  {
   "cell_type": "code",
   "execution_count": 65,
   "id": "529845d4-84d5-49e3-bf0e-506021731413",
   "metadata": {},
   "outputs": [
    {
     "name": "stdout",
     "output_type": "stream",
     "text": [
      "[[ 1  2  3  4  5  6  7  8  9]\n",
      " [10 11 12 13 14 15 16 17 18]]\n",
      "[11 12 13 14]\n"
     ]
    }
   ],
   "source": [
    "import numpy as np\n",
    "arr1=np.array([[1,2,3,4,5,6,7,8,9],[10,11,12,13,14,15,16,17,18]])\n",
    "print(arr1)\n",
    "print(arr1[1,1:5])"
   ]
  },
  {
   "cell_type": "code",
   "execution_count": 67,
   "id": "58da57e7-3962-47e3-b65f-c6c58e846aa4",
   "metadata": {},
   "outputs": [
    {
     "name": "stdout",
     "output_type": "stream",
     "text": [
      "[[ 1  2  3  4  5  6]\n",
      " [ 7  8  9 10 11 12]]\n",
      "[1 2 3 4]\n"
     ]
    }
   ],
   "source": [
    "import numpy as np\n",
    "arr1=np.array([[1,2,3,4,5,6],[7,8,9,10,11,12]])\n",
    "print(arr1)\n",
    "print(arr1[0,0:4])"
   ]
  },
  {
   "cell_type": "code",
   "execution_count": 69,
   "id": "a0826327-9e13-47e1-9e97-3fa53b89c85b",
   "metadata": {},
   "outputs": [
    {
     "name": "stdout",
     "output_type": "stream",
     "text": [
      "[1 3]\n"
     ]
    }
   ],
   "source": [
    "import numpy as np\n",
    "arr1=np.array([[1,2,3,4,5],[6,7,8,9,10]])\n",
    "print(arr1[0,0:4:2])"
   ]
  },
  {
   "cell_type": "code",
   "execution_count": 71,
   "id": "defd6330-c7dc-41ea-917d-810c84a8b5cd",
   "metadata": {},
   "outputs": [
    {
     "name": "stdout",
     "output_type": "stream",
     "text": [
      "[5 4 3 2 1]\n"
     ]
    }
   ],
   "source": [
    "import numpy as np\n",
    "arr1=np.array([[1,2,3,4,5],[6,7,8,9,10]])\n",
    "print(arr1[0,::-1])"
   ]
  },
  {
   "cell_type": "code",
   "execution_count": 79,
   "id": "10417886-0f92-47bb-ae1b-1e394f690821",
   "metadata": {},
   "outputs": [
    {
     "name": "stdout",
     "output_type": "stream",
     "text": [
      "[10  9  8  7  6]\n"
     ]
    }
   ],
   "source": [
    "import numpy as np\n",
    "arr1=np.array([[1,2,3,4,5],[6,7,8,9,10]])\n",
    "print(arr1[1,::-1])"
   ]
  },
  {
   "cell_type": "markdown",
   "id": "2699f195-9458-4346-89f2-72555bbc79e1",
   "metadata": {},
   "source": [
    "# slicing 3D numpy array"
   ]
  },
  {
   "cell_type": "code",
   "execution_count": 90,
   "id": "aeff93b5-2cf3-4e0a-bd95-d9a7a987f60a",
   "metadata": {},
   "outputs": [
    {
     "name": "stdout",
     "output_type": "stream",
     "text": [
      "[[[ 1  2  3  4  5]\n",
      "  [ 6  7  8  9 10]\n",
      "  [11 12 13 14 15]]]\n",
      "\n",
      "3\n",
      "\n",
      "[6 7 8 9]\n"
     ]
    }
   ],
   "source": [
    "import numpy as np\n",
    "arr1=np.array([[[1,2,3,4,5],[6,7,8,9,10],[11,12,13,14,15]]])\n",
    "print(arr1)\n",
    "print()\n",
    "print(arr1.ndim)\n",
    "print()\n",
    "print(arr1[0,1,0:4])"
   ]
  },
  {
   "cell_type": "code",
   "execution_count": 92,
   "id": "8cd79d1d-2b9b-48db-a26f-ed04f954de62",
   "metadata": {},
   "outputs": [
    {
     "name": "stdout",
     "output_type": "stream",
     "text": [
      "[[[ 1  2  3  4  5]\n",
      "  [ 6  7  8  9 10]\n",
      "  [11 12 13 14 15]]]\n",
      "\n",
      "3\n",
      "\n",
      "[10  9  8  7  6]\n"
     ]
    }
   ],
   "source": [
    "import numpy as np\n",
    "arr1=np.array([[[1,2,3,4,5],[6,7,8,9,10],[11,12,13,14,15]]])\n",
    "print(arr1)\n",
    "print()\n",
    "print(arr1.ndim)\n",
    "print()\n",
    "print(arr1[0,1,::-1])"
   ]
  },
  {
   "cell_type": "code",
   "execution_count": 94,
   "id": "b2f76f0e-c749-48de-97d4-dae818caf859",
   "metadata": {},
   "outputs": [
    {
     "name": "stdout",
     "output_type": "stream",
     "text": [
      "[[[ 1  2  3  4  5]\n",
      "  [ 6  7  8  9 10]\n",
      "  [11 12 13 14 15]]]\n",
      "\n",
      "3\n",
      "\n",
      "[5 4 3 2 1]\n"
     ]
    }
   ],
   "source": [
    "import numpy as np\n",
    "arr1=np.array([[[1,2,3,4,5],[6,7,8,9,10],[11,12,13,14,15]]])\n",
    "print(arr1)\n",
    "print()\n",
    "print(arr1.ndim)\n",
    "print()\n",
    "print(arr1[0,0,::-1])"
   ]
  },
  {
   "cell_type": "code",
   "execution_count": null,
   "id": "0fe5dade-c7ed-42be-89a8-984f454a3092",
   "metadata": {},
   "outputs": [],
   "source": []
  }
 ],
 "metadata": {
  "kernelspec": {
   "display_name": "Python [conda env:base] *",
   "language": "python",
   "name": "conda-base-py"
  },
  "language_info": {
   "codemirror_mode": {
    "name": "ipython",
    "version": 3
   },
   "file_extension": ".py",
   "mimetype": "text/x-python",
   "name": "python",
   "nbconvert_exporter": "python",
   "pygments_lexer": "ipython3",
   "version": "3.12.7"
  }
 },
 "nbformat": 4,
 "nbformat_minor": 5
}
