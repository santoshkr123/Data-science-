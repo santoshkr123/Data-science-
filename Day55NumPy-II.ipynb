{
 "cells": [
  {
   "cell_type": "markdown",
   "id": "675888f8-468f-473f-8a84-fb86f33c0abd",
   "metadata": {},
   "source": [
    "# NumPy array with all its elements values as zero"
   ]
  },
  {
   "cell_type": "code",
   "execution_count": 3,
   "id": "f3f04cab-ee06-41e1-9e28-f0804a595cef",
   "metadata": {},
   "outputs": [
    {
     "name": "stdout",
     "output_type": "stream",
     "text": [
      "[0. 0. 0. 0. 0.]\n",
      "1\n"
     ]
    }
   ],
   "source": [
    "import numpy as np\n",
    "arr=np.zeros(5)\n",
    "print(arr)\n",
    "print(arr.ndim)"
   ]
  },
  {
   "cell_type": "code",
   "execution_count": 26,
   "id": "2ac057c7-db1f-41a2-8a28-c5fcd8b26851",
   "metadata": {},
   "outputs": [
    {
     "name": "stdout",
     "output_type": "stream",
     "text": [
      "[[0. 0. 0.]\n",
      " [0. 0. 0.]\n",
      " [0. 0. 0.]\n",
      " [0. 0. 0.]]\n",
      "2\n"
     ]
    }
   ],
   "source": [
    "import numpy as np\n",
    "arr2=np.zeros((4,3))\n",
    "print(arr2)\n",
    "print(arr2.ndim)"
   ]
  },
  {
   "cell_type": "code",
   "execution_count": 24,
   "id": "07ddb735-80c4-4caf-bbbd-465ce9371f04",
   "metadata": {},
   "outputs": [
    {
     "name": "stdout",
     "output_type": "stream",
     "text": [
      "[[[0. 0. 0.]\n",
      "  [0. 0. 0.]\n",
      "  [0. 0. 0.]\n",
      "  [0. 0. 0.]]\n",
      "\n",
      " [[0. 0. 0.]\n",
      "  [0. 0. 0.]\n",
      "  [0. 0. 0.]\n",
      "  [0. 0. 0.]]]\n",
      "3\n"
     ]
    }
   ],
   "source": [
    "import numpy as np\n",
    "arr3=np.zeros((2,4,3))\n",
    "print(arr3)\n",
    "print(arr3.ndim)"
   ]
  },
  {
   "cell_type": "markdown",
   "id": "d4e5eb11-7766-449b-af77-f61f8a71f7d5",
   "metadata": {},
   "source": [
    "# Numpy array with all elements value as 1"
   ]
  },
  {
   "cell_type": "code",
   "execution_count": 16,
   "id": "93b11b41-3b1c-4304-8af6-56d177be341e",
   "metadata": {},
   "outputs": [
    {
     "name": "stdout",
     "output_type": "stream",
     "text": [
      "[1. 1. 1. 1. 1. 1.]\n",
      "1\n"
     ]
    }
   ],
   "source": [
    "import numpy as np\n",
    "arr=np.ones(6)\n",
    "print(arr)\n",
    "print(arr.ndim)"
   ]
  },
  {
   "cell_type": "code",
   "execution_count": 20,
   "id": "ddfeb875-a5ce-4b05-bbb9-e34e0b39b544",
   "metadata": {},
   "outputs": [
    {
     "name": "stdout",
     "output_type": "stream",
     "text": [
      "[[1. 1. 1. 1. 1.]\n",
      " [1. 1. 1. 1. 1.]\n",
      " [1. 1. 1. 1. 1.]\n",
      " [1. 1. 1. 1. 1.]]\n",
      "2\n"
     ]
    }
   ],
   "source": [
    "import numpy as np\n",
    "arr2=np.ones((4,5))\n",
    "print(arr2)\n",
    "print(arr2.ndim)"
   ]
  },
  {
   "cell_type": "code",
   "execution_count": 22,
   "id": "567a14ed-bda2-478c-bf1c-02de1579bb05",
   "metadata": {},
   "outputs": [
    {
     "name": "stdout",
     "output_type": "stream",
     "text": [
      "[[[1. 1. 1.]\n",
      "  [1. 1. 1.]\n",
      "  [1. 1. 1.]]\n",
      "\n",
      " [[1. 1. 1.]\n",
      "  [1. 1. 1.]\n",
      "  [1. 1. 1.]]]\n",
      "3\n"
     ]
    }
   ],
   "source": [
    "import numpy as np\n",
    "arr3=np.ones((2,3,3))\n",
    "print(arr3)\n",
    "print(arr3.ndim)"
   ]
  },
  {
   "cell_type": "code",
   "execution_count": 28,
   "id": "822d7db5-4230-4b10-a5c4-f64e7e8c11e2",
   "metadata": {},
   "outputs": [
    {
     "name": "stdout",
     "output_type": "stream",
     "text": [
      "[[[ True  True  True]\n",
      "  [ True  True  True]\n",
      "  [ True  True  True]]\n",
      "\n",
      " [[ True  True  True]\n",
      "  [ True  True  True]\n",
      "  [ True  True  True]]]\n",
      "3\n"
     ]
    }
   ],
   "source": [
    "import numpy as np\n",
    "arr3=np.ones((2,3,3),dtype=\"bool\")\n",
    "print(arr3)\n",
    "print(arr3.ndim)"
   ]
  },
  {
   "cell_type": "markdown",
   "id": "01ec94f8-814a-4f35-94a8-01c21159890e",
   "metadata": {},
   "source": [
    "# create an empty array"
   ]
  },
  {
   "cell_type": "code",
   "execution_count": 33,
   "id": "854adc6b-383d-4939-8a6a-d74dcbfaa1e6",
   "metadata": {},
   "outputs": [
    {
     "name": "stdout",
     "output_type": "stream",
     "text": [
      "[0. 0. 0.]\n",
      "1\n"
     ]
    }
   ],
   "source": [
    "import numpy as np\n",
    "arr=np.empty(3)\n",
    "print(arr)\n",
    "print(arr.ndim)"
   ]
  },
  {
   "cell_type": "code",
   "execution_count": 35,
   "id": "19436d43-5bb7-4079-a834-e3356edf3348",
   "metadata": {},
   "outputs": [
    {
     "name": "stdout",
     "output_type": "stream",
     "text": [
      "[[4.67296746e-307 1.69121096e-306 1.33511018e-306]\n",
      " [1.89146896e-307 7.56571288e-307 3.11525958e-307]\n",
      " [1.24610723e-306 1.29061142e-306 5.53353523e-322]]\n",
      "2\n"
     ]
    }
   ],
   "source": [
    "import numpy as np\n",
    "arr2=np.empty((3,3))\n",
    "print(arr2)\n",
    "print(arr2.ndim)"
   ]
  },
  {
   "cell_type": "markdown",
   "id": "335c29dd-c8cb-4136-946b-16773b4737c5",
   "metadata": {},
   "source": [
    "# creating an array with a range"
   ]
  },
  {
   "cell_type": "code",
   "execution_count": 38,
   "id": "076401bd-bef9-4a5a-8cf0-c0bba67b3c29",
   "metadata": {},
   "outputs": [
    {
     "name": "stdout",
     "output_type": "stream",
     "text": [
      "[ 1  2  3  4  5  6  7  8  9 10 11 12 13 14 15 16 17 18 19 20]\n",
      "1\n"
     ]
    }
   ],
   "source": [
    "import numpy as np\n",
    "arr=np.arange(1,21)\n",
    "print(arr)\n",
    "print(arr.ndim)"
   ]
  },
  {
   "cell_type": "code",
   "execution_count": 40,
   "id": "cf4c15b7-1b08-4dff-9aa8-e98eb5cf65bd",
   "metadata": {},
   "outputs": [
    {
     "name": "stdout",
     "output_type": "stream",
     "text": [
      "[  3   4   5   6   7   8   9  10  11  12  13  14  15  16  17  18  19  20\n",
      "  21  22  23  24  25  26  27  28  29  30  31  32  33  34  35  36  37  38\n",
      "  39  40  41  42  43  44  45  46  47  48  49  50  51  52  53  54  55  56\n",
      "  57  58  59  60  61  62  63  64  65  66  67  68  69  70  71  72  73  74\n",
      "  75  76  77  78  79  80  81  82  83  84  85  86  87  88  89  90  91  92\n",
      "  93  94  95  96  97  98  99 100]\n",
      "1\n"
     ]
    }
   ],
   "source": [
    "import numpy as np\n",
    "arr=np.arange(3,101)\n",
    "print(arr)\n",
    "print(arr.ndim)"
   ]
  },
  {
   "cell_type": "code",
   "execution_count": 42,
   "id": "ca3ef4b3-7a29-45f6-a6ec-6ee79fd96689",
   "metadata": {},
   "outputs": [
    {
     "name": "stdout",
     "output_type": "stream",
     "text": [
      "[ 3  6  9 12 15 18 21 24 27 30 33 36 39 42 45 48 51 54 57 60 63 66 69 72\n",
      " 75 78 81 84 87 90 93 96 99]\n",
      "1\n"
     ]
    }
   ],
   "source": [
    "import numpy as np\n",
    "arr=np.arange(3,101,3)\n",
    "print(arr)\n",
    "print(arr.ndim)"
   ]
  },
  {
   "cell_type": "code",
   "execution_count": 44,
   "id": "f7bd1075-f224-4386-a50e-9d26e079d6f9",
   "metadata": {},
   "outputs": [
    {
     "name": "stdout",
     "output_type": "stream",
     "text": [
      "[   5   10   15   20   25   30   35   40   45   50   55   60   65   70\n",
      "   75   80   85   90   95  100  105  110  115  120  125  130  135  140\n",
      "  145  150  155  160  165  170  175  180  185  190  195  200  205  210\n",
      "  215  220  225  230  235  240  245  250  255  260  265  270  275  280\n",
      "  285  290  295  300  305  310  315  320  325  330  335  340  345  350\n",
      "  355  360  365  370  375  380  385  390  395  400  405  410  415  420\n",
      "  425  430  435  440  445  450  455  460  465  470  475  480  485  490\n",
      "  495  500  505  510  515  520  525  530  535  540  545  550  555  560\n",
      "  565  570  575  580  585  590  595  600  605  610  615  620  625  630\n",
      "  635  640  645  650  655  660  665  670  675  680  685  690  695  700\n",
      "  705  710  715  720  725  730  735  740  745  750  755  760  765  770\n",
      "  775  780  785  790  795  800  805  810  815  820  825  830  835  840\n",
      "  845  850  855  860  865  870  875  880  885  890  895  900  905  910\n",
      "  915  920  925  930  935  940  945  950  955  960  965  970  975  980\n",
      "  985  990  995 1000]\n",
      "1\n"
     ]
    }
   ],
   "source": [
    "import numpy as np\n",
    "arr=np.arange(5,1001,5)\n",
    "print(arr)\n",
    "print(arr.ndim)"
   ]
  },
  {
   "cell_type": "markdown",
   "id": "94d15e71-5a04-4e5b-9a33-0c84eb1c056d",
   "metadata": {},
   "source": [
    "# linspace"
   ]
  },
  {
   "cell_type": "code",
   "execution_count": 47,
   "id": "55c36d0c-d11b-42a0-8887-1c1a0f685ddd",
   "metadata": {},
   "outputs": [
    {
     "name": "stdout",
     "output_type": "stream",
     "text": [
      "[ 1.   2.8  4.6  6.4  8.2 10. ]\n",
      "1\n"
     ]
    }
   ],
   "source": [
    "import numpy as np\n",
    "arr=np.linspace(1,10,6)\n",
    "print(arr)\n",
    "print(arr.ndim)"
   ]
  },
  {
   "cell_type": "code",
   "execution_count": 49,
   "id": "950cb249-7a67-4221-9175-85d28709c684",
   "metadata": {},
   "outputs": [
    {
     "name": "stdout",
     "output_type": "stream",
     "text": [
      "[ 1.          3.71428571  6.42857143  9.14285714 11.85714286 14.57142857\n",
      " 17.28571429 20.        ]\n",
      "1\n"
     ]
    }
   ],
   "source": [
    "import numpy as np\n",
    "arr=np.linspace(1,20,8)\n",
    "print(arr)\n",
    "print(arr.ndim)"
   ]
  },
  {
   "cell_type": "code",
   "execution_count": 51,
   "id": "6263bc3e-5c32-404f-8375-af7f5140c960",
   "metadata": {},
   "outputs": [
    {
     "name": "stdout",
     "output_type": "stream",
     "text": [
      "[ 5.          7.77777778 10.55555556 13.33333333 16.11111111 18.88888889\n",
      " 21.66666667 24.44444444 27.22222222 30.        ]\n",
      "1\n"
     ]
    }
   ],
   "source": [
    "import numpy as np\n",
    "arr=np.linspace(5,30,10)\n",
    "print(arr)\n",
    "print(arr.ndim)"
   ]
  },
  {
   "cell_type": "markdown",
   "id": "0c035d3e-890b-4e1b-aa56-da9694dd02dc",
   "metadata": {},
   "source": [
    "# shape "
   ]
  },
  {
   "cell_type": "code",
   "execution_count": 54,
   "id": "ee850775-6390-4e88-a173-c641259aa19e",
   "metadata": {},
   "outputs": [
    {
     "name": "stdout",
     "output_type": "stream",
     "text": [
      "[[1 2 3]\n",
      " [4 5 6]]\n",
      "2\n",
      "(2, 3)\n"
     ]
    }
   ],
   "source": [
    "import numpy as np\n",
    "arr=np.array([[1,2,3],[4,5,6]])\n",
    "print(arr)\n",
    "print(arr.ndim)\n",
    "print(arr.shape)"
   ]
  },
  {
   "cell_type": "code",
   "execution_count": 56,
   "id": "147fb6d1-a14e-45a4-bafc-53151888a96a",
   "metadata": {},
   "outputs": [
    {
     "name": "stdout",
     "output_type": "stream",
     "text": [
      "[[[1 2 3]\n",
      "  [4 5 6]\n",
      "  [7 8 9]]]\n",
      "3\n",
      "(1, 3, 3)\n"
     ]
    }
   ],
   "source": [
    "import numpy as np\n",
    "arr=np.array([[[1,2,3],[4,5,6],[7,8,9]]])\n",
    "print(arr)\n",
    "print(arr.ndim)\n",
    "print(arr.shape)"
   ]
  },
  {
   "cell_type": "code",
   "execution_count": 58,
   "id": "921aec98-379c-400d-8844-cbad531272de",
   "metadata": {},
   "outputs": [
    {
     "name": "stdout",
     "output_type": "stream",
     "text": [
      "[[1 2 3]\n",
      " [4 5 6]\n",
      " [7 8 9]]\n",
      "2\n",
      "(3, 3)\n"
     ]
    }
   ],
   "source": [
    "import numpy as np\n",
    "arr=np.array([[1,2,3],[4,5,6],[7,8,9]])\n",
    "print(arr)\n",
    "print(arr.ndim)\n",
    "print(arr.shape)"
   ]
  },
  {
   "cell_type": "markdown",
   "id": "d8113542-75f1-486f-a988-363bc3b65360",
   "metadata": {},
   "source": [
    "# reshape"
   ]
  },
  {
   "cell_type": "code",
   "execution_count": 71,
   "id": "b932117c-a087-4a2b-9a96-f78d884f7ef9",
   "metadata": {},
   "outputs": [
    {
     "name": "stdout",
     "output_type": "stream",
     "text": [
      "[ 1  2  3  4  5  6  7  8  9 10]\n",
      "\n",
      "[[ 1  2  3  4  5]\n",
      " [ 6  7  8  9 10]]\n",
      "2\n"
     ]
    }
   ],
   "source": [
    "import numpy as np\n",
    "arr=np.array([1,2,3,4,5,6,7,8,9,10])\n",
    "arr1=arr.reshape(2,5)\n",
    "print(arr)\n",
    "print()\n",
    "print(arr1)\n",
    "print(arr1.ndim)"
   ]
  },
  {
   "cell_type": "code",
   "execution_count": 73,
   "id": "c562fb7b-b529-4be9-ba3b-c1a36842b3c2",
   "metadata": {},
   "outputs": [
    {
     "name": "stdout",
     "output_type": "stream",
     "text": [
      "[1 2 3 4 5 6 7 8 9]\n",
      "\n",
      "[[1 2 3]\n",
      " [4 5 6]\n",
      " [7 8 9]]\n",
      "2\n"
     ]
    }
   ],
   "source": [
    "import numpy as np\n",
    "arr=np.array([1,2,3,4,5,6,7,8,9])\n",
    "arr1=arr.reshape(3,3)\n",
    "print(arr)\n",
    "print()\n",
    "print(arr1)\n",
    "print(arr1.ndim)"
   ]
  },
  {
   "cell_type": "code",
   "execution_count": 83,
   "id": "39dc23aa-7821-463f-a365-78a933977e72",
   "metadata": {},
   "outputs": [
    {
     "name": "stdout",
     "output_type": "stream",
     "text": [
      "[ 1  2  3  4  5  6  7  8  9 10 11 12 13 14 15 16 17 18]\n",
      "\n",
      "[[[ 1  2  3]\n",
      "  [ 4  5  6]]\n",
      "\n",
      " [[ 7  8  9]\n",
      "  [10 11 12]]\n",
      "\n",
      " [[13 14 15]\n",
      "  [16 17 18]]]\n",
      "3\n"
     ]
    }
   ],
   "source": [
    "import numpy as np\n",
    "arr=np.array([1,2,3,4,5,6,7,8,9,10,11,12,13,14,15,16,17,18])\n",
    "arr1=arr.reshape(3,2,3)\n",
    "print(arr)\n",
    "print()\n",
    "print(arr1)\n",
    "print(arr1.ndim)"
   ]
  },
  {
   "cell_type": "code",
   "execution_count": 93,
   "id": "ea25864b-afec-4d88-b736-1bfb132f34cc",
   "metadata": {},
   "outputs": [
    {
     "name": "stdout",
     "output_type": "stream",
     "text": [
      "[[ 1  2  3  4]\n",
      " [ 4  5  6  7]\n",
      " [ 7  8  9 90]]\n",
      "\n",
      "[[[[ 1  2  3  4]\n",
      "   [ 4  5  6  7]\n",
      "   [ 7  8  9 90]]]]\n",
      "\n",
      "4\n"
     ]
    }
   ],
   "source": [
    "import numpy as np\n",
    "arr2=np.array([[1,2,3,4],[4,5,6,7],[7,8,9,90]])\n",
    "arr4=arr2.reshape(1,1,3,4)\n",
    "print(arr2)\n",
    "print()\n",
    "print(arr4)\n",
    "print()\n",
    "print(arr4.ndim)\n"
   ]
  },
  {
   "cell_type": "markdown",
   "id": "c7d9bb03-0cd4-47c9-abe9-687bfed09c19",
   "metadata": {},
   "source": [
    "# ravel and flatten -converts multidimensional to 1D "
   ]
  },
  {
   "cell_type": "code",
   "execution_count": 96,
   "id": "1975006d-cddc-46c7-a9d3-a9e0d44cf712",
   "metadata": {},
   "outputs": [
    {
     "name": "stdout",
     "output_type": "stream",
     "text": [
      "[[[1 2 3]\n",
      "  [4 5 6]\n",
      "  [7 8 9]]]\n",
      "3\n",
      "\n",
      "[1 2 3 4 5 6 7 8 9]\n",
      "1\n"
     ]
    }
   ],
   "source": [
    "import numpy as np\n",
    "arr3=np.array([[[1,2,3],[4,5,6],[7,8,9]]])\n",
    "one_D=arr3.ravel()\n",
    "print(arr3)\n",
    "print(arr3.ndim)\n",
    "print()\n",
    "print(one_D)\n",
    "print(one_D.ndim)"
   ]
  },
  {
   "cell_type": "code",
   "execution_count": 98,
   "id": "42672142-2a8b-4a35-8942-8af1857928e4",
   "metadata": {},
   "outputs": [
    {
     "name": "stdout",
     "output_type": "stream",
     "text": [
      "[[[1 2 3]\n",
      "  [4 5 6]\n",
      "  [7 8 9]]]\n",
      "3\n",
      "\n",
      "[1 2 3 4 5 6 7 8 9]\n",
      "1\n"
     ]
    }
   ],
   "source": [
    "import numpy as np\n",
    "arr3=np.array([[[1,2,3],[4,5,6],[7,8,9]]])\n",
    "one_D=arr3.flatten()\n",
    "print(arr3)\n",
    "print(arr3.ndim)\n",
    "print()\n",
    "print(one_D)\n",
    "print(one_D.ndim)"
   ]
  },
  {
   "cell_type": "code",
   "execution_count": 108,
   "id": "a1ed1c80-4613-426c-a0c5-143c0a67bc43",
   "metadata": {},
   "outputs": [
    {
     "name": "stdout",
     "output_type": "stream",
     "text": [
      "[[[[1 2 3]\n",
      "   [4 5 6]\n",
      "   [7 8 9]]]]\n",
      "4\n",
      "\n",
      "[1 2 3 4 5 6 7 8 9]\n",
      "1\n"
     ]
    }
   ],
   "source": [
    "import numpy as np\n",
    "four_D=np.array([[[[1,2,3],[4,5,6],[7,8,9]]]])\n",
    "print(four_D)\n",
    "print(four_D.ndim)\n",
    "one_D=four_D.flatten()\n",
    "print()\n",
    "print(one_D)\n",
    "\n",
    "print(one_D.ndim)"
   ]
  },
  {
   "cell_type": "markdown",
   "id": "fefec308-221a-4e53-8867-492c6f6bbea9",
   "metadata": {},
   "source": [
    "# create an array with diagonal elements filled with 1-identity matrix"
   ]
  },
  {
   "cell_type": "code",
   "execution_count": 111,
   "id": "2be8492c-aded-4e81-948e-d33c25faec68",
   "metadata": {},
   "outputs": [
    {
     "name": "stdout",
     "output_type": "stream",
     "text": [
      "[[1. 0. 0. 0. 0.]\n",
      " [0. 1. 0. 0. 0.]\n",
      " [0. 0. 1. 0. 0.]\n",
      " [0. 0. 0. 1. 0.]\n",
      " [0. 0. 0. 0. 1.]]\n"
     ]
    }
   ],
   "source": [
    "import numpy as np\n",
    "arr=np.eye(5)\n",
    "print(arr)"
   ]
  },
  {
   "cell_type": "code",
   "execution_count": 113,
   "id": "ad22526c-9652-482d-a0f4-d123ae12fc1e",
   "metadata": {},
   "outputs": [
    {
     "name": "stdout",
     "output_type": "stream",
     "text": [
      "[[1. 0. 0. 0. 0. 0.]\n",
      " [0. 1. 0. 0. 0. 0.]\n",
      " [0. 0. 1. 0. 0. 0.]]\n"
     ]
    }
   ],
   "source": [
    "import numpy as np\n",
    "arr=np.eye(3,6)\n",
    "print(arr)"
   ]
  },
  {
   "cell_type": "code",
   "execution_count": 117,
   "id": "0a2160ec-341b-476d-8ce1-e31747d3b9b4",
   "metadata": {},
   "outputs": [
    {
     "name": "stdout",
     "output_type": "stream",
     "text": [
      "[[1. 0. 0. 0. 0. 0. 0. 0.]\n",
      " [0. 1. 0. 0. 0. 0. 0. 0.]\n",
      " [0. 0. 1. 0. 0. 0. 0. 0.]\n",
      " [0. 0. 0. 1. 0. 0. 0. 0.]\n",
      " [0. 0. 0. 0. 1. 0. 0. 0.]]\n"
     ]
    }
   ],
   "source": [
    "import numpy as np\n",
    "arr=np.eye(5,8)\n",
    "print(arr)"
   ]
  },
  {
   "cell_type": "markdown",
   "id": "cb8978c3-9d12-4eee-a70d-eebcd88653cc",
   "metadata": {},
   "source": [
    "# create numpy array with random number\n",
    "# rand()-the random'module rand() method returns a random float between 0 and 1"
   ]
  },
  {
   "cell_type": "code",
   "execution_count": 124,
   "id": "03ae553c-c324-42b2-b577-a9742063710a",
   "metadata": {},
   "outputs": [
    {
     "name": "stdout",
     "output_type": "stream",
     "text": [
      "[0.30063469 0.19403141 0.35268536 0.59607837 0.54178989]\n"
     ]
    }
   ],
   "source": [
    "import numpy as np\n",
    "r=np.random.rand(5)\n",
    "print(r)"
   ]
  },
  {
   "cell_type": "code",
   "execution_count": 128,
   "id": "422fcc37-abec-435f-aa4c-4783359a0876",
   "metadata": {},
   "outputs": [
    {
     "name": "stdout",
     "output_type": "stream",
     "text": [
      "[[0.91810282 0.53233738 0.94655759]\n",
      " [0.88379694 0.14188461 0.87104149]]\n"
     ]
    }
   ],
   "source": [
    "import numpy as np\n",
    "r1=np.random.rand(2,3)\n",
    "print(r1)"
   ]
  },
  {
   "cell_type": "code",
   "execution_count": 130,
   "id": "91bfaf0f-a464-4722-a4c8-365b557debc5",
   "metadata": {},
   "outputs": [
    {
     "name": "stdout",
     "output_type": "stream",
     "text": [
      "[[[0.94610913 0.32915113 0.82967867]\n",
      "  [0.1673536  0.61905982 0.32797816]]\n",
      "\n",
      " [[0.9627749  0.44425547 0.02461602]\n",
      "  [0.23097669 0.24998283 0.26825777]]]\n"
     ]
    }
   ],
   "source": [
    "import numpy as np\n",
    "r2=np.random.rand(2,2,3)\n",
    "print(r2)"
   ]
  },
  {
   "cell_type": "markdown",
   "id": "df93f32d-0f4e-48a7-a2de-18e92a5358ef",
   "metadata": {},
   "source": [
    "# randn()-the function is used to generate a value close to 0 and this may return positive or negative numbers as well"
   ]
  },
  {
   "cell_type": "code",
   "execution_count": 143,
   "id": "4185d962-1c21-42ff-930f-a4f57667b76c",
   "metadata": {},
   "outputs": [
    {
     "name": "stdout",
     "output_type": "stream",
     "text": [
      "[ 0.57100671 -0.06525374 -0.78989042  0.69080833 -1.10553167]\n",
      "1\n",
      "(5,)\n"
     ]
    }
   ],
   "source": [
    "import numpy as np\n",
    "r=np.random.randn(5)\n",
    "print(r)\n",
    "print(r.ndim)\n",
    "print(r.shape)\n"
   ]
  },
  {
   "cell_type": "code",
   "execution_count": 141,
   "id": "9f8e953c-a1cb-4855-b24b-70e3cfa22005",
   "metadata": {},
   "outputs": [
    {
     "name": "stdout",
     "output_type": "stream",
     "text": [
      "[[ 1.80485002 -2.23045599 -2.38393118]\n",
      " [-0.31736294 -0.56266878 -0.25461364]]\n",
      "2\n",
      "(2, 3)\n"
     ]
    }
   ],
   "source": [
    "import numpy as np\n",
    "r=np.random.randn(2,3)\n",
    "print(r)\n",
    "print(r.ndim)\n",
    "print(r.shape)"
   ]
  },
  {
   "cell_type": "code",
   "execution_count": 145,
   "id": "db485d61-6137-4521-a094-d9a1140235cf",
   "metadata": {},
   "outputs": [
    {
     "name": "stdout",
     "output_type": "stream",
     "text": [
      "[[[-0.11335315  0.89214763  0.32375645]\n",
      "  [ 0.59009111 -0.3051698   0.44313999]]\n",
      "\n",
      " [[ 0.23488776 -0.10696135  0.22847262]\n",
      "  [ 1.53053374 -0.31569783 -0.73739353]]]\n",
      "3\n",
      "(2, 2, 3)\n"
     ]
    }
   ],
   "source": [
    "import numpy as np\n",
    "r=np.random.randn(2,2,3)\n",
    "print(r)\n",
    "print(r.ndim)\n",
    "print(r.shape)"
   ]
  },
  {
   "cell_type": "markdown",
   "id": "19427d36-c661-4506-bcd1-34bcdb3b7a14",
   "metadata": {},
   "source": [
    "# randint"
   ]
  },
  {
   "cell_type": "code",
   "execution_count": 148,
   "id": "3e2787ab-22ba-4f45-a559-00f4028bf968",
   "metadata": {},
   "outputs": [
    {
     "name": "stdout",
     "output_type": "stream",
     "text": [
      "[ 7 12 10 18  7]\n",
      "1\n"
     ]
    }
   ],
   "source": [
    "import numpy as np\n",
    "r=np.random.randint(4,20,5)\n",
    "print(r)\n",
    "print(r.ndim)"
   ]
  },
  {
   "cell_type": "code",
   "execution_count": 150,
   "id": "cb94c3b9-9581-46bd-bd8f-64da064ef074",
   "metadata": {},
   "outputs": [
    {
     "name": "stdout",
     "output_type": "stream",
     "text": [
      "[69 84 51  9 50 11 93 36 88 73 43  8 92 79 49 87 58 11 99 73]\n",
      "1\n"
     ]
    }
   ],
   "source": [
    "import numpy as np\n",
    "r=np.random.randint(8,101,20)\n",
    "print(r)\n",
    "print(r.ndim)"
   ]
  },
  {
   "cell_type": "markdown",
   "id": "51cd1823-1b60-4997-b01f-824e7ff14fdc",
   "metadata": {},
   "source": [
    "# randf\n",
    "# -this function is used for doing random sampling in numpy.IT returns an array of specified shape and fills it with random floats in the half open interval between 0 and 1"
   ]
  },
  {
   "cell_type": "code",
   "execution_count": 159,
   "id": "2d9edacb-c748-4f25-8a6d-79f0d58df37c",
   "metadata": {},
   "outputs": [
    {
     "name": "stdout",
     "output_type": "stream",
     "text": [
      "[0.16120534 0.26176423 0.59432634 0.29077776 0.76834518]\n",
      "1\n"
     ]
    }
   ],
   "source": [
    "import numpy as np\n",
    "r=np.random.ranf(5)\n",
    "print(r)\n",
    "print(r.ndim)"
   ]
  },
  {
   "cell_type": "code",
   "execution_count": 161,
   "id": "c7b79f8b-4e89-445a-80a5-e0f449f6af5e",
   "metadata": {},
   "outputs": [
    {
     "name": "stdout",
     "output_type": "stream",
     "text": [
      "[[0.95969671 0.05671986 0.77756195]\n",
      " [0.0124289  0.90764603 0.28741049]]\n",
      "2\n"
     ]
    }
   ],
   "source": [
    "import numpy as np\n",
    "r=np.random.ranf((2,3))\n",
    "print(r)\n",
    "print(r.ndim)"
   ]
  },
  {
   "cell_type": "code",
   "execution_count": null,
   "id": "e87b62f6-eecb-4303-a539-0d59d6f2eddb",
   "metadata": {},
   "outputs": [],
   "source": []
  }
 ],
 "metadata": {
  "kernelspec": {
   "display_name": "Python [conda env:base] *",
   "language": "python",
   "name": "conda-base-py"
  },
  "language_info": {
   "codemirror_mode": {
    "name": "ipython",
    "version": 3
   },
   "file_extension": ".py",
   "mimetype": "text/x-python",
   "name": "python",
   "nbconvert_exporter": "python",
   "pygments_lexer": "ipython3",
   "version": "3.12.7"
  }
 },
 "nbformat": 4,
 "nbformat_minor": 5
}
