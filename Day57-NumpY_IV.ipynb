{
 "cells": [
  {
   "cell_type": "markdown",
   "id": "ec7400bd-6353-4fe0-a49c-b5d3735dfc1b",
   "metadata": {},
   "source": [
    "# arithmetic operators in 2D"
   ]
  },
  {
   "cell_type": "code",
   "execution_count": 2,
   "id": "d2370be3-8aa3-4c2b-9f03-84d11501405b",
   "metadata": {},
   "outputs": [
    {
     "name": "stdout",
     "output_type": "stream",
     "text": [
      "[[ 8 10 12]\n",
      " [14 16 18]]\n"
     ]
    }
   ],
   "source": [
    "import numpy as np\n",
    "arr1=np.array([[1,2,3],[4,5,6]])\n",
    "arr2=np.array([[7,8,9],[10,11,12]])\n",
    "print(arr1+arr2)\n"
   ]
  },
  {
   "cell_type": "code",
   "execution_count": 4,
   "id": "671d9b2a-2d3f-4d87-80a6-2e976a0106ff",
   "metadata": {},
   "outputs": [
    {
     "name": "stdout",
     "output_type": "stream",
     "text": [
      "[[-6 -6 -6]\n",
      " [-6 -6 -6]]\n"
     ]
    }
   ],
   "source": [
    "import numpy as np\n",
    "arr1=np.array([[1,2,3],[4,5,6]])\n",
    "arr2=np.array([[7,8,9],[10,11,12]])\n",
    "print(arr1-arr2)"
   ]
  },
  {
   "cell_type": "code",
   "execution_count": 8,
   "id": "675e8aab-d5fa-4ee5-b8c4-fce733f35695",
   "metadata": {},
   "outputs": [
    {
     "name": "stdout",
     "output_type": "stream",
     "text": [
      "[[ 7 16 27]\n",
      " [40 55 72]]\n"
     ]
    }
   ],
   "source": [
    "import numpy as np\n",
    "arr1=np.array([[1,2,3],[4,5,6]])\n",
    "arr2=np.array([[7,8,9],[10,11,12]])\n",
    "print(arr1*arr2)"
   ]
  },
  {
   "cell_type": "code",
   "execution_count": 10,
   "id": "f78de844-f1e5-4f47-8b74-051772c2607d",
   "metadata": {},
   "outputs": [
    {
     "name": "stdout",
     "output_type": "stream",
     "text": [
      "[[0.14285714 0.25       0.33333333]\n",
      " [0.4        0.45454545 0.54545455]]\n"
     ]
    }
   ],
   "source": [
    "import numpy as np\n",
    "arr1=np.array([[1,2,3],[4,5,6]])\n",
    "arr2=np.array([[7,8,9],[10,11,11]])\n",
    "print(arr1/arr2)"
   ]
  },
  {
   "cell_type": "markdown",
   "id": "bf76c2a5-929b-4fce-8f12-c4ae0cb19d57",
   "metadata": {},
   "source": [
    "# arithmetic operations in 3D"
   ]
  },
  {
   "cell_type": "code",
   "execution_count": 13,
   "id": "4a33ce60-a5e9-4497-b1ca-d1a6669b45a2",
   "metadata": {},
   "outputs": [
    {
     "name": "stdout",
     "output_type": "stream",
     "text": [
      "[[[11 13 15]\n",
      "  [17 19 21]\n",
      "  [23 25 27]]]\n"
     ]
    }
   ],
   "source": [
    "import numpy as np\n",
    "arr1=np.array([[[1,2,3],[4,5,6],[7,8,9]]])\n",
    "arr2=np.array([[[10,11,12],[13,14,15],[16,17,18]]])\n",
    "print(arr1+arr2)"
   ]
  },
  {
   "cell_type": "code",
   "execution_count": 17,
   "id": "7ef727b2-0944-4f8d-9310-34932b2949d8",
   "metadata": {},
   "outputs": [
    {
     "name": "stdout",
     "output_type": "stream",
     "text": [
      "[[[-9 -9 -9]\n",
      "  [-9 -9 -9]]]\n"
     ]
    }
   ],
   "source": [
    "import numpy as np\n",
    "arr1=np.array([[[1,2,3],[4,5,6]]])\n",
    "arr2=np.array([[[10,11,12],[13,14,15]]])\n",
    "print(arr1-arr2)"
   ]
  },
  {
   "cell_type": "code",
   "execution_count": 21,
   "id": "86c8d664-4124-4cda-b9ce-de3a2b30bf4f",
   "metadata": {},
   "outputs": [
    {
     "name": "stdout",
     "output_type": "stream",
     "text": [
      "[[[ 7 16 27]\n",
      "  [40 60 78]]]\n"
     ]
    }
   ],
   "source": [
    "import numpy as np\n",
    "arr1=np.array([[[1,2,3],[4,5,6]]])\n",
    "arr2=np.array([[[7,8,9],[10,12,13]]])\n",
    "print(arr1*arr2)"
   ]
  },
  {
   "cell_type": "code",
   "execution_count": 25,
   "id": "71c19ac2-2723-47e6-826b-6b6edfb9b7f1",
   "metadata": {},
   "outputs": [
    {
     "name": "stdout",
     "output_type": "stream",
     "text": [
      "[[[0.14285714 0.25       0.33333333]\n",
      "  [0.4        0.45454545 0.5       ]]]\n"
     ]
    }
   ],
   "source": [
    "import numpy as np\n",
    "arr1=np.array([[[1,2,3],[4,5,6]]])\n",
    "arr2=np.array([[[7,8,9],[10,11,12]]])\n",
    "print(arr1/arr2)"
   ]
  },
  {
   "cell_type": "markdown",
   "id": "a09338e4-7641-4b03-a416-6c070dbf3a24",
   "metadata": {},
   "source": [
    "# arithmetic functions\n",
    "# max and min alongwith index"
   ]
  },
  {
   "cell_type": "code",
   "execution_count": 30,
   "id": "92512c29-f8de-4fce-beba-8e72e068ab2b",
   "metadata": {},
   "outputs": [
    {
     "name": "stdout",
     "output_type": "stream",
     "text": [
      "100\n",
      "1\n"
     ]
    }
   ],
   "source": [
    "import numpy as np\n",
    "ar1=np.array([1,25,12,88,63,44,13,100])\n",
    "print(np.max(ar1))\n",
    "print(np.min(ar1))"
   ]
  },
  {
   "cell_type": "code",
   "execution_count": 38,
   "id": "a000da66-89d2-4131-a2fe-593cdc030885",
   "metadata": {},
   "outputs": [
    {
     "name": "stdout",
     "output_type": "stream",
     "text": [
      "100 7\n",
      "1 0\n"
     ]
    }
   ],
   "source": [
    "import numpy as np\n",
    "ar1=np.array([1,25,12,88,63,44,13,100])\n",
    "print(np.max(ar1),np.argmax(ar1))\n",
    "print(np.min(ar1),np.argmin(ar1))"
   ]
  },
  {
   "cell_type": "code",
   "execution_count": 54,
   "id": "154fed2b-8e29-47e0-82b1-d10a64c7bfeb",
   "metadata": {},
   "outputs": [
    {
     "name": "stdout",
     "output_type": "stream",
     "text": [
      "[[ 1  2  3]\n",
      " [10 20 30]]\n",
      "2\n",
      "[10 20 30]\n"
     ]
    }
   ],
   "source": [
    "import numpy as np\n",
    "arr1=np.array([[1,2,3],[10,20,30]])\n",
    "print(arr1)\n",
    "print(arr1.ndim)\n",
    "print(np.max(arr1,axis=0))\n"
   ]
  },
  {
   "cell_type": "code",
   "execution_count": 60,
   "id": "d8ea8ed0-bb1c-44a7-9366-c08f9a2b29c6",
   "metadata": {},
   "outputs": [
    {
     "name": "stdout",
     "output_type": "stream",
     "text": [
      "[[ 1  2  3]\n",
      " [10 20 50]]\n",
      "2\n",
      "[ 1 10]\n"
     ]
    }
   ],
   "source": [
    "import numpy as np\n",
    "arr1=np.array([[1,2,3],[10,20,50]])\n",
    "print(arr1)\n",
    "print(arr1.ndim)\n",
    "print(np.min(arr1,axis=1))"
   ]
  },
  {
   "cell_type": "code",
   "execution_count": 62,
   "id": "a4bf94a9-772e-4607-a725-eb981af29c24",
   "metadata": {},
   "outputs": [
    {
     "name": "stdout",
     "output_type": "stream",
     "text": [
      "[[ 1  2  3]\n",
      " [10 20 50]]\n",
      "2\n",
      "[ 3 50]\n"
     ]
    }
   ],
   "source": [
    "import numpy as np\n",
    "arr1=np.array([[1,2,3],[10,20,50]])\n",
    "print(arr1)\n",
    "print(arr1.ndim)\n",
    "print(np.max(arr1,axis=1))"
   ]
  },
  {
   "cell_type": "code",
   "execution_count": 64,
   "id": "2f899540-7794-4c8f-bd51-eb32fad0e52d",
   "metadata": {},
   "outputs": [
    {
     "name": "stdout",
     "output_type": "stream",
     "text": [
      "[[ 1  2  3]\n",
      " [10 20 30]]\n",
      "2\n",
      "[1 2 3]\n"
     ]
    }
   ],
   "source": [
    "import numpy as np\n",
    "arr1=np.array([[1,2,3],[10,20,30]])\n",
    "print(arr1)\n",
    "print(arr1.ndim)\n",
    "print(np.min(arr1,axis=0))"
   ]
  },
  {
   "cell_type": "code",
   "execution_count": 66,
   "id": "4163d151-7400-416d-b40b-3b9dc1cc8a12",
   "metadata": {},
   "outputs": [
    {
     "name": "stdout",
     "output_type": "stream",
     "text": [
      "[[ 1  2  3]\n",
      " [10 20 50]]\n",
      "2\n",
      "[10 20 50]\n"
     ]
    }
   ],
   "source": [
    "import numpy as np\n",
    "arr1=np.array([[1,2,3],[10,20,50]])\n",
    "print(arr1)\n",
    "print(arr1.ndim)\n",
    "print(np.max(arr1,axis=0))"
   ]
  },
  {
   "cell_type": "markdown",
   "id": "c64a6151-3a33-4cae-9a84-a37458cc09a9",
   "metadata": {},
   "source": [
    "# square root"
   ]
  },
  {
   "cell_type": "code",
   "execution_count": 71,
   "id": "37903538-0d30-47d6-b673-b75a2890fe69",
   "metadata": {},
   "outputs": [
    {
     "name": "stdout",
     "output_type": "stream",
     "text": [
      "[2. 4. 3. 9.]\n"
     ]
    }
   ],
   "source": [
    "import numpy as np\n",
    "arr1=np.array([4,16,9,81])\n",
    "print(np.sqrt(arr1))"
   ]
  },
  {
   "cell_type": "code",
   "execution_count": 75,
   "id": "88ab82b5-760b-4a76-833c-dc4255590673",
   "metadata": {},
   "outputs": [
    {
     "name": "stdout",
     "output_type": "stream",
     "text": [
      "[[2. 4.]\n",
      " [3. 9.]]\n"
     ]
    }
   ],
   "source": [
    "import numpy as np\n",
    "arr1=np.array([[4,16],[9,81]])\n",
    "print(np.sqrt(arr1))"
   ]
  },
  {
   "cell_type": "markdown",
   "id": "20783fd2-7301-4daf-ae84-65f765c8df9b",
   "metadata": {},
   "source": [
    "# sin value and cos value"
   ]
  },
  {
   "cell_type": "code",
   "execution_count": 78,
   "id": "6089f2a5-d7af-47d5-a090-9e5b7189b9e8",
   "metadata": {},
   "outputs": [
    {
     "name": "stdout",
     "output_type": "stream",
     "text": [
      "[0.84147098 0.90929743 0.14112001]\n"
     ]
    }
   ],
   "source": [
    "import numpy as np\n",
    "arr1=np.array([1,2,3])\n",
    "print(np.sin(arr1))"
   ]
  },
  {
   "cell_type": "code",
   "execution_count": 80,
   "id": "2a636df2-e01c-4bba-8ce0-a183f556d3c2",
   "metadata": {},
   "outputs": [
    {
     "name": "stdout",
     "output_type": "stream",
     "text": [
      "[[[ 0.84147098  0.90929743  0.14112001]\n",
      "  [-0.7568025  -0.95892427 -0.2794155 ]]]\n"
     ]
    }
   ],
   "source": [
    "import numpy as np\n",
    "arr1=np.array([[1,2,3],[4,5,6]])\n",
    "print(np.sin([arr1]))"
   ]
  },
  {
   "cell_type": "code",
   "execution_count": 82,
   "id": "1929470d-d839-40d8-99e6-caeeefb33281",
   "metadata": {},
   "outputs": [
    {
     "name": "stdout",
     "output_type": "stream",
     "text": [
      "[[ 0.54030231 -0.41614684 -0.9899925 ]]\n"
     ]
    }
   ],
   "source": [
    "import numpy as np\n",
    "arr1=np.array([1,2,3])\n",
    "print(np.cos([arr1]))"
   ]
  },
  {
   "cell_type": "code",
   "execution_count": 86,
   "id": "c884a526-2587-4f66-b76f-5483ec869c23",
   "metadata": {},
   "outputs": [
    {
     "name": "stdout",
     "output_type": "stream",
     "text": [
      "[[-0.65364362  0.28366219  0.96017029]\n",
      " [ 0.75390225 -0.14550003 -0.91113026]]\n"
     ]
    }
   ],
   "source": [
    "import numpy as np\n",
    "arr1=np.array([[4,5,6],[7,8,9]])\n",
    "print(np.cos(arr1))"
   ]
  },
  {
   "cell_type": "markdown",
   "id": "542d66a9-da36-4dd9-85ea-e92b7b07f7c6",
   "metadata": {},
   "source": [
    "# cumsum"
   ]
  },
  {
   "cell_type": "code",
   "execution_count": 89,
   "id": "caaf5758-4d1e-4871-a128-530a4c64dcfc",
   "metadata": {},
   "outputs": [
    {
     "name": "stdout",
     "output_type": "stream",
     "text": [
      "[ 1  3  6 10 15 21]\n"
     ]
    }
   ],
   "source": [
    "import numpy as np\n",
    "arr1=np.array([1,2,3,4,5,6])\n",
    "print(np.cumsum(arr1))"
   ]
  },
  {
   "cell_type": "code",
   "execution_count": 91,
   "id": "c7bed69a-06f4-4476-beb0-795dd91aed07",
   "metadata": {},
   "outputs": [
    {
     "name": "stdout",
     "output_type": "stream",
     "text": [
      "[ 12  67 167 175 184 190 223 248]\n"
     ]
    }
   ],
   "source": [
    "import numpy as np\n",
    "arr1=np.array([12,55,100,8,9,6,33,25])\n",
    "print(np.cumsum(arr1))"
   ]
  },
  {
   "cell_type": "code",
   "execution_count": 93,
   "id": "02cf14e6-cb35-41c0-8d0d-c9a86440adb9",
   "metadata": {},
   "outputs": [
    {
     "name": "stdout",
     "output_type": "stream",
     "text": [
      "[ 12  25  39  54 142 238 438 738]\n"
     ]
    }
   ],
   "source": [
    "import numpy as np\n",
    "arr1=np.array([[12,13,14,15],[88,96,200,300]])\n",
    "print(np.cumsum(arr1))"
   ]
  },
  {
   "cell_type": "markdown",
   "id": "9ba163f9-d0e1-4a17-a6c7-a5771c52be4e",
   "metadata": {},
   "source": [
    "# broadcasting numpy in array"
   ]
  },
  {
   "cell_type": "code",
   "execution_count": 100,
   "id": "9a9cee45-8846-40d8-8f0d-b444b4c0fe32",
   "metadata": {},
   "outputs": [
    {
     "name": "stdout",
     "output_type": "stream",
     "text": [
      "(3,)\n",
      "(2,)\n"
     ]
    },
    {
     "ename": "ValueError",
     "evalue": "operands could not be broadcast together with shapes (3,) (2,) ",
     "output_type": "error",
     "traceback": [
      "\u001b[1;31m---------------------------------------------------------------------------\u001b[0m",
      "\u001b[1;31mValueError\u001b[0m                                Traceback (most recent call last)",
      "Cell \u001b[1;32mIn[100], line 5\u001b[0m\n\u001b[0;32m      3\u001b[0m \u001b[38;5;28mprint\u001b[39m(arr1\u001b[38;5;241m.\u001b[39mshape)\n\u001b[0;32m      4\u001b[0m \u001b[38;5;28mprint\u001b[39m(arr2\u001b[38;5;241m.\u001b[39mshape)\n\u001b[1;32m----> 5\u001b[0m arr3\u001b[38;5;241m=\u001b[39marr1\u001b[38;5;241m+\u001b[39marr2\n\u001b[0;32m      6\u001b[0m \u001b[38;5;28mprint\u001b[39m(arr3)\n",
      "\u001b[1;31mValueError\u001b[0m: operands could not be broadcast together with shapes (3,) (2,) "
     ]
    }
   ],
   "source": [
    "arr1=np.array([1,2,3])\n",
    "arr2=np.array([4,5])\n",
    "print(arr1.shape)\n",
    "print(arr2.shape)\n",
    "arr3=arr1+arr2\n",
    "print(arr3)\n"
   ]
  },
  {
   "cell_type": "code",
   "execution_count": 124,
   "id": "922c233b-7c4d-4b9d-b1cd-a10dfbf6dc7b",
   "metadata": {},
   "outputs": [
    {
     "name": "stdout",
     "output_type": "stream",
     "text": [
      "(1, 4)\n",
      "[[1 2 3 4]]\n",
      "2\n",
      "\n",
      "(4, 1)\n",
      "2\n",
      "[[2 3 4 5]\n",
      " [3 4 5 6]\n",
      " [4 5 6 7]\n",
      " [5 6 7 8]]\n"
     ]
    }
   ],
   "source": [
    "import numpy as np\n",
    "arr1=np.array([[1,2,3,4]])\n",
    "print(arr1.shape)\n",
    "print(arr1)\n",
    "print(arr1.ndim)\n",
    "print()\n",
    "\n",
    "arr2=np.array([[1],[2],[3],[4]])\n",
    "print(arr2.shape)\n",
    "print(arr2.ndim)\n",
    "arr3=arr1+arr2\n",
    "print(arr3)"
   ]
  },
  {
   "cell_type": "code",
   "execution_count": 150,
   "id": "d604af37-56a0-4773-8dda-69248aefd260",
   "metadata": {},
   "outputs": [
    {
     "name": "stdout",
     "output_type": "stream",
     "text": [
      "(2, 1)\n",
      "[[1]\n",
      " [4]]\n",
      "2\n",
      "\n",
      "(2, 3)\n",
      "[[1 2 3]\n",
      " [4 5 6]]\n",
      "2\n",
      "\n",
      "[[ 2  3  4]\n",
      " [ 8  9 10]]\n",
      "\n",
      "[[ 0 -1 -2]\n",
      " [ 0 -1 -2]]\n",
      "\n",
      "[[ 1  2  3]\n",
      " [16 20 24]]\n",
      "\n",
      "[[1.         0.5        0.33333333]\n",
      " [1.         0.8        0.66666667]]\n"
     ]
    }
   ],
   "source": [
    "import numpy as np\n",
    "arr1=np.array([[1],[4]])\n",
    "print(arr1.shape)\n",
    "print(arr1)\n",
    "print(arr1.ndim)\n",
    "print()\n",
    "\n",
    "arr2=np.array([[1,2,3],[4,5,6]])\n",
    "print(arr2.shape)\n",
    "print(arr2)\n",
    "print(arr2.ndim)\n",
    "print()\n",
    "\n",
    "print(arr1+arr2)\n",
    "print()\n",
    "print(arr1-arr2)\n",
    "print()\n",
    "print(arr1*arr2)\n",
    "print()\n",
    "print(arr1/arr2)"
   ]
  },
  {
   "cell_type": "code",
   "execution_count": null,
   "id": "1fd27031-feac-4729-ae46-1c91f6ea4078",
   "metadata": {},
   "outputs": [],
   "source": []
  }
 ],
 "metadata": {
  "kernelspec": {
   "display_name": "Python [conda env:base] *",
   "language": "python",
   "name": "conda-base-py"
  },
  "language_info": {
   "codemirror_mode": {
    "name": "ipython",
    "version": 3
   },
   "file_extension": ".py",
   "mimetype": "text/x-python",
   "name": "python",
   "nbconvert_exporter": "python",
   "pygments_lexer": "ipython3",
   "version": "3.12.7"
  }
 },
 "nbformat": 4,
 "nbformat_minor": 5
}
