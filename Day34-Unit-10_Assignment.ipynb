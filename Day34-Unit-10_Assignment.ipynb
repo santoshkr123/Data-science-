{
 "cells": [
  {
   "cell_type": "code",
   "execution_count": null,
   "id": "a90c9e3e-ea93-43a8-9c5c-38d161fb6f9e",
   "metadata": {},
   "outputs": [],
   "source": [
    "1) Write a Python program to create an intersection of sets.\n",
    "Input\n",
    "{'green', 'blue'}\n",
    "{'blue', 'yellow'}\n",
    "Output\n",
    "{'blue'}"
   ]
  },
  {
   "cell_type": "code",
   "execution_count": 2,
   "id": "6ea6cd5b-da43-4554-b8d6-34614f673c5c",
   "metadata": {},
   "outputs": [
    {
     "name": "stdout",
     "output_type": "stream",
     "text": [
      "{'blue'}\n"
     ]
    }
   ],
   "source": [
    "a={'green', 'blue'}\n",
    "b={'blue', 'yellow'}\n",
    "c=a.intersection(b)\n",
    "print(c)"
   ]
  },
  {
   "cell_type": "code",
   "execution_count": null,
   "id": "dc908e16-7b5f-4700-a955-d2e1aff520c7",
   "metadata": {},
   "outputs": [],
   "source": [
    "2) Question 2 - Write a Python program to create a union of sets.\n",
    "Input\n",
    "{'blue', 'green'}\n",
    "{'blue', 'yellow'}\n",
    "Output\n",
    "{'blue', 'yellow', 'green'}"
   ]
  },
  {
   "cell_type": "code",
   "execution_count": 4,
   "id": "cd48b321-d0cc-4e4f-bbac-11b86b17b601",
   "metadata": {},
   "outputs": [
    {
     "name": "stdout",
     "output_type": "stream",
     "text": [
      "{'yellow', 'green', 'blue'}\n"
     ]
    }
   ],
   "source": [
    "a={'blue', 'green'}\n",
    "b={'blue', 'yellow'}\n",
    "c=a.union(b)\n",
    "print(c)"
   ]
  },
  {
   "cell_type": "code",
   "execution_count": null,
   "id": "2b293af1-5486-46ea-93ec-9481784f25f6",
   "metadata": {},
   "outputs": [],
   "source": [
    "3) Write a Python program to remove all elements from a given set.\n",
    "Input\n",
    "{'Green', 'Black', 'Red', 'White'}\n",
    "Output\n",
    "set()"
   ]
  },
  {
   "cell_type": "code",
   "execution_count": 6,
   "id": "9430f2e8-1f9b-42b7-b09d-c4ef8ee5a92a",
   "metadata": {},
   "outputs": [
    {
     "name": "stdout",
     "output_type": "stream",
     "text": [
      "set()\n"
     ]
    }
   ],
   "source": [
    "a={'Green', 'Black', 'Red', 'White'}\n",
    "a.clear()\n",
    "print(a)"
   ]
  },
  {
   "cell_type": "code",
   "execution_count": null,
   "id": "697a02bd-edb1-4cec-8287-a709704e6832",
   "metadata": {},
   "outputs": [],
   "source": [
    "4) Python program to count number of vowels using sets in given string\n",
    "Input\n",
    "str = \"helloeveryone\"\n",
    "Output\n",
    "No. of vowels : 6"
   ]
  },
  {
   "cell_type": "code",
   "execution_count": 18,
   "id": "99e18719-c2f5-4743-aa83-d5fb897b4a8a",
   "metadata": {},
   "outputs": [
    {
     "name": "stdout",
     "output_type": "stream",
     "text": [
      "No. of vowels :  6\n"
     ]
    }
   ],
   "source": [
    "def count_vowels(s):\n",
    "    vowels={'a','e','i','o','u'}\n",
    "    count=0\n",
    "    for char in s:\n",
    "        if char in vowels:\n",
    "            count+=1\n",
    "    return count\n",
    "\n",
    "str=\"helloeveryone\"\n",
    "print(\"No. of vowels : \",count_vowels(str))\n",
    "    \n",
    "\n",
    "\n",
    "        "
   ]
  },
  {
   "cell_type": "code",
   "execution_count": null,
   "id": "63e935c5-f4a7-49da-a2f8-53ea6c5ad4ac",
   "metadata": {},
   "outputs": [],
   "source": [
    "5) Find the elements in a given set that are not in another set\n",
    "Input\n",
    "{1, 2, 3, 4, 5}\n",
    "{4, 5, 6, 7, 8}\n",
    "Output\n",
    "Difference of sn1 and sn2 using difference():\n",
    "{1, 2, 3}\n",
    "Difference of sn2 and sn1 using difference():\n",
    "{8, 6, 7}\n",
    "Difference of sn1 and sn2 using - operator:\n",
    "{1, 2, 3}\n",
    "Difference of sn2 and sn1 using - operator:\n",
    "{8, 6, 7}"
   ]
  },
  {
   "cell_type": "code",
   "execution_count": 32,
   "id": "c3b8136b-1b83-4401-b480-e4fad450f20b",
   "metadata": {},
   "outputs": [
    {
     "name": "stdout",
     "output_type": "stream",
     "text": [
      "Difference of sn1 and sn2 using difference() {1, 2, 3}\n",
      "Difference of sn2 and sn1 using difference(): {8, 6, 7}\n",
      "Difference of sn1 and sn2 using - operator: {1, 2, 3}\n",
      "Difference of sn2 and sn1 - operator : {8, 6, 7}\n"
     ]
    }
   ],
   "source": [
    "a={1, 2, 3, 4, 5}\n",
    "b={4, 5, 6, 7, 8}\n",
    "c=a.difference(b)\n",
    "print(\"Difference of sn1 and sn2 using difference()\",c)\n",
    "d=b.difference(a)\n",
    "print(\"Difference of sn2 and sn1 using difference():\",d)\n",
    "e=a-b\n",
    "print(\"Difference of sn1 and sn2 using - operator:\",e)\n",
    "f=b-a\n",
    "print(\"Difference of sn2 and sn1 - operator :\",f)\n"
   ]
  },
  {
   "cell_type": "code",
   "execution_count": null,
   "id": "b9a87ff5-28d3-4815-a50c-6e6de3389326",
   "metadata": {},
   "outputs": [],
   "source": [
    "6) Write a Python program to add member(s) to a set.\n",
    "Input\n",
    "set()\n",
    "Output\n",
    "Add single element:\n",
    "{'Red'}\n",
    "Add multiple items:\n",
    "{'Red', 'Green', 'Blue'}"
   ]
  },
  {
   "cell_type": "code",
   "execution_count": 44,
   "id": "2bfced26-3529-4b59-bbee-46d89c1109a6",
   "metadata": {},
   "outputs": [
    {
     "name": "stdout",
     "output_type": "stream",
     "text": [
      "Add single element {'Red'}\n",
      "Add multiple items: {'Blue', 'Green', 'Red'}\n"
     ]
    }
   ],
   "source": [
    "s=set()\n",
    "s.add('Red')\n",
    "print(\"Add single element\",s)\n",
    "s.update(['Green','Blue'])\n",
    "print(\"Add multiple items:\",s)"
   ]
  },
  {
   "cell_type": "code",
   "execution_count": null,
   "id": "4401b593-c8fb-4a68-8a7f-3b8233737572",
   "metadata": {},
   "outputs": [],
   "source": [
    "7) Check if two given sets have no elements in common\n",
    "Input\n",
    "{1, 2, 3, 4}\n",
    "{4, 5, 6, 7}\n",
    "{8}\n",
    "Output\n",
    "Confirm two given sets have no element(s) in common:\n",
    "Compare x and y:\n",
    "False\n",
    "Compare x and z:\n",
    "True\n",
    "Compare y and z:\n",
    "True"
   ]
  },
  {
   "cell_type": "code",
   "execution_count": 58,
   "id": "35b70627-9746-4022-ad44-c005c1de3002",
   "metadata": {},
   "outputs": [
    {
     "name": "stdout",
     "output_type": "stream",
     "text": [
      "Confirm two given sets have no element(s) in common:\n",
      "Compare x and y:\n",
      "False\n",
      "Compare x and z:\n",
      "True\n",
      "Compare y and z:\n",
      "True\n"
     ]
    }
   ],
   "source": [
    "x={1, 2, 3, 4}\n",
    "y={4, 5, 6, 7}\n",
    "z={8}\n",
    "print(\"Confirm two given sets have no element(s) in common:\")\n",
    "print(\"Compare x and y:\")\n",
    "print(x.isdisjoint(y))\n",
    "print(\"Compare x and z:\")\n",
    "print(x.isdisjoint(z))\n",
    "print(\"Compare y and z:\")\n",
    "print(y.isdisjoint(z))\n"
   ]
  },
  {
   "cell_type": "code",
   "execution_count": null,
   "id": "ccfbe5b0-7b2d-40c0-a330-ce340c3ec2d3",
   "metadata": {},
   "outputs": [],
   "source": [
    "8) Write a Python program to find the maximum and minimum values in a set.\n",
    "Input\n",
    "{2, 3, 20, 5, 10, 15}\n",
    "Output\n",
    "Maximum value of the said set:\n",
    "20\n",
    "Minimum value of the said set:\n",
    "2"
   ]
  },
  {
   "cell_type": "code",
   "execution_count": 62,
   "id": "4ddce4d1-3c13-4c44-9c47-6f7c54b551b6",
   "metadata": {},
   "outputs": [
    {
     "name": "stdout",
     "output_type": "stream",
     "text": [
      "Maximum value of the said set:\n",
      "20\n",
      "Minimum value of the said set:\n",
      "2\n"
     ]
    }
   ],
   "source": [
    "a={2, 3, 20, 5, 10, 15}\n",
    "print(\"Maximum value of the said set:\")\n",
    "print(max(a))\n",
    "print(\"Minimum value of the said set:\")\n",
    "print(min(a))"
   ]
  },
  {
   "cell_type": "code",
   "execution_count": null,
   "id": "6381113b-3842-4246-a423-e547a1da5695",
   "metadata": {},
   "outputs": [],
   "source": []
  },
  {
   "cell_type": "code",
   "execution_count": null,
   "id": "38ba16bb-69d2-4cda-ac2d-c1fc91408a03",
   "metadata": {},
   "outputs": [],
   "source": []
  },
  {
   "cell_type": "code",
   "execution_count": null,
   "id": "9d260bc4-6b53-4132-837e-c36496a3b12b",
   "metadata": {},
   "outputs": [],
   "source": []
  }
 ],
 "metadata": {
  "kernelspec": {
   "display_name": "Python [conda env:base] *",
   "language": "python",
   "name": "conda-base-py"
  },
  "language_info": {
   "codemirror_mode": {
    "name": "ipython",
    "version": 3
   },
   "file_extension": ".py",
   "mimetype": "text/x-python",
   "name": "python",
   "nbconvert_exporter": "python",
   "pygments_lexer": "ipython3",
   "version": "3.12.7"
  }
 },
 "nbformat": 4,
 "nbformat_minor": 5
}
