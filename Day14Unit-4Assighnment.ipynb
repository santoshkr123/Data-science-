{
 "cells": [
  {
   "cell_type": "code",
   "execution_count": 2,
   "id": "742b4eb0-a0e3-48b4-890f-830d67c95c24",
   "metadata": {},
   "outputs": [
    {
     "name": "stdin",
     "output_type": "stream",
     "text": [
      "Enter a number: 10\n"
     ]
    },
    {
     "name": "stdout",
     "output_type": "stream",
     "text": [
      "10 9 8 7 6 5 4 3 2 1 "
     ]
    }
   ],
   "source": [
    "\"\"\"1) Write a program to print n natural number in descending order using a while loop\"\"\"\n",
    "\n",
    "n=int(input(\"Enter a number:\"))\n",
    "\n",
    "while(n!=0):\n",
    "    print(n,end=\" \")\n",
    "    n=n-1\n",
    "    "
   ]
  },
  {
   "cell_type": "code",
   "execution_count": 10,
   "id": "b4380c5c-9689-4525-b582-75ef736ce616",
   "metadata": {},
   "outputs": [
    {
     "name": "stdout",
     "output_type": "stream",
     "text": [
      "Square of each number: [4, 9, 16, 25, 36, 49, 64]\n"
     ]
    }
   ],
   "source": [
    "\"\"\"2) Write a program that appends the square of each number to a new list.\n",
    "Given x = [2,3,4,5,6,7,8]\n",
    "Expected output \n",
    "Result: [4, 9, 16, 25, 36, 49, 64]\"\"\"\n",
    "\n",
    "x = [2,3,4,5,6,7,8]\n",
    "L=[]\n",
    "for i in range(len(x)):\n",
    "    L.append(x[i]**2)\n",
    "print(\"Square of each number:\",L)    "
   ]
  },
  {
   "cell_type": "code",
   "execution_count": 16,
   "id": "d93ab03a-b673-4c2e-ab3a-685f1d65ab4c",
   "metadata": {},
   "outputs": [
    {
     "name": "stdout",
     "output_type": "stream",
     "text": [
      "Result : [<class 'int'>, <class 'str'>, <class 'float'>]\n"
     ]
    }
   ],
   "source": [
    "\"\"\"3) Write a program that appends the type of elements from a list.\n",
    "Given x = [23, ‘Python’, 23.98]\n",
    "Expected output \n",
    "Result:\n",
    "[<class ‘int’>,<class ‘str’>,<class ‘float’>]\"\"\"\n",
    "\n",
    "\n",
    "\n",
    "x = [23, 'Python', 23.98]\n",
    "L=[]\n",
    "for i in range(len(x)):\n",
    "    L.append(type(x[i]))\n",
    "print(\"Result :\",L)    \n",
    "\n",
    "\n"
   ]
  },
  {
   "cell_type": "code",
   "execution_count": 22,
   "id": "f588019e-fb51-4a01-992e-781e6d7580ea",
   "metadata": {},
   "outputs": [
    {
     "name": "stdout",
     "output_type": "stream",
     "text": [
      "Even Numbers : [10, 24, 78, 90]\n",
      "Odd numbers: [23, 35, 65]\n"
     ]
    }
   ],
   "source": [
    "\"\"\"4) Question 4 - Write a program to filter even and odd number from a list.\n",
    "Given x = [10, 23, 24, 35, 65, 78, 90]\n",
    "Expected output \n",
    "Even numbers: [10, 24, 78, 90] Odd numbers: [23, 35, 65]\"\"\"\n",
    "\n",
    "\n",
    "x = [10, 23, 24, 35, 65, 78, 90]\n",
    "L1=[]\n",
    "L2=[]\n",
    "for i in range(len(x)):\n",
    "    if x[i]%2==0:\n",
    "        L1.append(x[i])\n",
    "    else:\n",
    "        L2.append(x[i])\n",
    "print(\"Even Numbers :\",L1)\n",
    "print(\"Odd numbers:\",L2)\n",
    "\n",
    "\n",
    "        "
   ]
  },
  {
   "cell_type": "code",
   "execution_count": 26,
   "id": "8b1aa180-1e12-4fb0-8fde-9b782d4f7bd1",
   "metadata": {},
   "outputs": [
    {
     "name": "stdin",
     "output_type": "stream",
     "text": [
      "Enter a string pyhon\n"
     ]
    },
    {
     "name": "stdout",
     "output_type": "stream",
     "text": [
      "nohyp\n"
     ]
    }
   ],
   "source": [
    "\"\"\"6) Python program that accepts a word from the user and reverses it\"\"\"\n",
    "\n",
    "word=input(\"Enter a string\")\n",
    "rev_string=\"\"\n",
    "for i in word:\n",
    "    rev_string=i+rev_string\n",
    "print(rev_string)    \n",
    "    \n",
    "    \n"
   ]
  },
  {
   "cell_type": "code",
   "execution_count": 28,
   "id": "bdb9537f-295e-4770-bbda-906ba7d46a1f",
   "metadata": {},
   "outputs": [
    {
     "name": "stdout",
     "output_type": "stream",
     "text": [
      "5\n"
     ]
    }
   ],
   "source": [
    "\"\"\"7) Python program to count the total number of digits in a number\"\"\"\n",
    "\n",
    "num=12548\n",
    "num=str(num)\n",
    "count=0\n",
    "for i in num:\n",
    "    count=count+1\n",
    "print(count)    \n",
    "    \n",
    "    "
   ]
  },
  {
   "cell_type": "code",
   "execution_count": 30,
   "id": "13923d04-c795-489c-a0fa-f2892ee7db15",
   "metadata": {},
   "outputs": [
    {
     "name": "stdin",
     "output_type": "stream",
     "text": [
      "enter a number: 5\n"
     ]
    },
    {
     "name": "stdout",
     "output_type": "stream",
     "text": [
      "The factorial of 5 is 120\n"
     ]
    }
   ],
   "source": [
    "\"\"\"8) Find the factorial of a given number.\"\"\"\n",
    "\n",
    "num=int(input(\"enter a number:\"))\n",
    "factorial=1\n",
    "if num<0:\n",
    "    print(\"factorial does not exist negative number\")\n",
    "elif num==0:\n",
    "    print(\"The factorial of 0 is 1\")\n",
    "else:\n",
    "    for i in range(1,num+1):\n",
    "        factorial=factorial*i\n",
    "    print(\"The factorial of\",num,\"is\",factorial)    \n"
   ]
  },
  {
   "cell_type": "code",
   "execution_count": 32,
   "id": "181c9922-cc95-40fc-a01b-a539567c5a6c",
   "metadata": {},
   "outputs": [
    {
     "name": "stdout",
     "output_type": "stream",
     "text": [
      "2 22 222 2222 22222 series are 24690\n"
     ]
    }
   ],
   "source": [
    "\"\"\"9) Write a program to calculate the sum of series up to n term. For example, if n =5 the \n",
    "series will become 2 + 22 + 222 + 2222 + 22222 = 24690\"\"\"\n",
    "\n",
    "\n",
    "n=5\n",
    "a=2\n",
    "sum_seq=0\n",
    "for i in range(0,n):\n",
    "    print(a,end=\" \")\n",
    "    sum_seq+=a\n",
    "    a=a*10+2\n",
    "print(\"series are\",sum_seq)    \n",
    "    "
   ]
  },
  {
   "cell_type": "code",
   "execution_count": 38,
   "id": "2abc5530-7be0-4083-ae89-564476f7b796",
   "metadata": {},
   "outputs": [
    {
     "name": "stdout",
     "output_type": "stream",
     "text": [
      "primenumbers between  25 and  50 are\n",
      "29\n",
      "31\n",
      "37\n",
      "41\n",
      "43\n",
      "47\n"
     ]
    }
   ],
   "source": [
    " \"\"\"10) Write a program to display all prime numbers within a range between 25 and \n",
    "50\"\"\"\n",
    "\n",
    "start=25\n",
    "end=50\n",
    "print(\"primenumbers between \" ,start,\"and \",end,\"are\")\n",
    "for num in range(start,end+1):\n",
    "    if num>1:\n",
    "        for i in range(2,num):\n",
    "            if num%i==0:\n",
    "                break \n",
    "        else:\n",
    "            print(num)\n",
    "        \n",
    "        "
   ]
  },
  {
   "cell_type": "code",
   "execution_count": null,
   "id": "0b8092e2-b652-415d-b5b0-a845cc771b24",
   "metadata": {},
   "outputs": [],
   "source": []
  }
 ],
 "metadata": {
  "kernelspec": {
   "display_name": "Python [conda env:base] *",
   "language": "python",
   "name": "conda-base-py"
  },
  "language_info": {
   "codemirror_mode": {
    "name": "ipython",
    "version": 3
   },
   "file_extension": ".py",
   "mimetype": "text/x-python",
   "name": "python",
   "nbconvert_exporter": "python",
   "pygments_lexer": "ipython3",
   "version": "3.12.7"
  }
 },
 "nbformat": 4,
 "nbformat_minor": 5
}
