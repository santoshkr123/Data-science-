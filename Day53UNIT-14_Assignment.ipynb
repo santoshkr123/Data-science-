{
 "cells": [
  {
   "cell_type": "markdown",
   "id": "7c92201b-1302-400c-b5ff-72144ccde30d",
   "metadata": {},
   "source": [
    "# UNIT-14_ASSIGNMENT"
   ]
  },
  {
   "cell_type": "markdown",
   "id": "ccf0a040-8a91-4004-b03e-e0ab11bbb421",
   "metadata": {},
   "source": [
    "# Choose the correct option for the following questions"
   ]
  },
  {
   "cell_type": "code",
   "execution_count": null,
   "id": "cab838e8-432b-4934-a3ca-371f76959db6",
   "metadata": {},
   "outputs": [],
   "source": [
    "1) What is the purpose of the try and except keywords in Python? \n",
    "A) To handle errors and exceptions in a program. \n",
    "B) To perform conditional operations. \n",
    "C) To create user-defined functions. \n",
    "D) To import modules. \n"
   ]
  },
  {
   "cell_type": "code",
   "execution_count": null,
   "id": "4f6cf562-2d84-4cee-bc01-4d067c7dea20",
   "metadata": {},
   "outputs": [],
   "source": [
    "Answer : A"
   ]
  },
  {
   "cell_type": "code",
   "execution_count": null,
   "id": "c442ff59-3d4d-496e-81f4-9906bd597c93",
   "metadata": {},
   "outputs": [],
   "source": [
    "2) What happens if an exception is raised in the try block? \n",
    "A) The except block will be executed. \n",
    "B) The program will continue to run. \n",
    "C) The program will stop executing. \n",
    "D)  None of the above. \n",
    "\n",
    "Answer - A"
   ]
  },
  {
   "cell_type": "code",
   "execution_count": null,
   "id": "6617d1d1-ed40-49c4-a36e-d42b1e2298e9",
   "metadata": {},
   "outputs": [],
   "source": [
    "3) What happens if no exception is raised in the try block? \n",
    "A) The except block will be executed. \n",
    "B) The program will continue to run. \n",
    "C) The program will stop executing. \n",
    "D) None of the above.\n",
    "    \n",
    "Answer -B"
   ]
  },
  {
   "cell_type": "code",
   "execution_count": null,
   "id": "8fded348-e8c1-4efd-af3a-d02ef94ecd44",
   "metadata": {},
   "outputs": [],
   "source": [
    "4) What is the use of the finally keyword in exception handling? \n",
    "A) To handle exceptions and errors. \n",
    "B) To specify a block of code that will be executed regardless of whether an \n",
    "exception was raised or not. \n",
    "C) To create user-defined functions. \n",
    "D) None of the above \n",
    "Answer B"
   ]
  },
  {
   "cell_type": "code",
   "execution_count": null,
   "id": "13224909-adc4-4b8d-bbee-4629996a7779",
   "metadata": {},
   "outputs": [],
   "source": [
    "5) What is a custom exception in Python? \n",
    "A)  A built-in exception \n",
    "B) A user-defined exception \n",
    "C) Both A and B \n",
    "D) none of the above\n",
    "\n",
    "Answer - B"
   ]
  },
  {
   "cell_type": "code",
   "execution_count": null,
   "id": "a47125c3-230a-4ca3-99a1-5cb711135987",
   "metadata": {},
   "outputs": [],
   "source": [
    "6) can you create a custom exception in Python? \n",
    "A) By using the raise statement \n",
    "B) By using the assert statement \n",
    "C) Both A and B \n",
    "D) none of the above\n",
    "\n",
    "Answer - A"
   ]
  },
  {
   "cell_type": "code",
   "execution_count": null,
   "id": "c6b43672-52d4-4c1e-b0bc-b5bca73879d0",
   "metadata": {},
   "outputs": [],
   "source": []
  },
  {
   "cell_type": "code",
   "execution_count": null,
   "id": "de4142e3-06fd-4fd6-a4ea-755376a04a04",
   "metadata": {},
   "outputs": [],
   "source": []
  }
 ],
 "metadata": {
  "kernelspec": {
   "display_name": "Python [conda env:base] *",
   "language": "python",
   "name": "conda-base-py"
  },
  "language_info": {
   "codemirror_mode": {
    "name": "ipython",
    "version": 3
   },
   "file_extension": ".py",
   "mimetype": "text/x-python",
   "name": "python",
   "nbconvert_exporter": "python",
   "pygments_lexer": "ipython3",
   "version": "3.12.7"
  }
 },
 "nbformat": 4,
 "nbformat_minor": 5
}
