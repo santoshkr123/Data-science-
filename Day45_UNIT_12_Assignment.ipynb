{
 "cells": [
  {
   "cell_type": "markdown",
   "id": "a3daebaa-5a6e-41ac-9955-8ae0e8301fdf",
   "metadata": {},
   "source": [
    "# unit-12_Assignment"
   ]
  },
  {
   "cell_type": "code",
   "execution_count": null,
   "id": "f6b91d53-cfee-4247-92ee-22d438610e3d",
   "metadata": {},
   "outputs": [],
   "source": [
    "1) Write a Python program to create a class representing a Circle. Include methods to \n",
    "calculate its area and perimeter"
   ]
  },
  {
   "cell_type": "code",
   "execution_count": 11,
   "id": "0032219c-019a-45d7-a7a2-089279e2c9bd",
   "metadata": {},
   "outputs": [
    {
     "data": {
      "text/plain": [
       "15.707963267948966"
      ]
     },
     "execution_count": 11,
     "metadata": {},
     "output_type": "execute_result"
    }
   ],
   "source": [
    "import math\n",
    "class Circle:\n",
    "    def __init__(self,radius):\n",
    "        self.radius=radius\n",
    "    def area(self):\n",
    "        return math.pi*self.radius**2\n",
    "    def perimeter(self):\n",
    "        return math.pi*self.radius\n",
    "\n",
    "circle=Circle(5)\n",
    "circle.area()\n",
    "circle.perimeter()\n"
   ]
  },
  {
   "cell_type": "code",
   "execution_count": null,
   "id": "b081eae0-a4eb-4dbc-b6cc-3cddc3d142a2",
   "metadata": {},
   "outputs": [],
   "source": [
    "2) Write a Python program to create a calculator class.Include methods for basic \n",
    "arithmetic operations"
   ]
  },
  {
   "cell_type": "code",
   "execution_count": 33,
   "id": "77255753-78c5-4a89-8fe8-97620f0d5b63",
   "metadata": {},
   "outputs": [
    {
     "name": "stdout",
     "output_type": "stream",
     "text": [
      "Addition of 10,5:15\n",
      "Substraction of 10,5:5\n",
      "Multiply of 10,5:50\n",
      "Divide of 10,5:2.0\n"
     ]
    }
   ],
   "source": [
    "class Calculator:\n",
    "    def add(self,a,b):\n",
    "        return a+b\n",
    "    def substract(self,a,b):\n",
    "        return a-b\n",
    "    def multiply(self,a,b):\n",
    "        return a*b\n",
    "    def divide(self,a,b):\n",
    "        return a/b\n",
    "\n",
    "cal=Calculator()\n",
    "a,b=10,5\n",
    "\n",
    "print(f\"Addition of {a},{b}:{cal.add(a,b)}\")\n",
    "print(f\"Substraction of {a},{b}:{cal.substract(a,b)}\")\n",
    "print(f\"Multiply of {a},{b}:{cal.multiply(a,b)}\")\n",
    "print(f\"Divide of {a},{b}:{cal.divide(a,b)}\")\n",
    "\n"
   ]
  },
  {
   "cell_type": "code",
   "execution_count": null,
   "id": "813ec216-1e8d-4bc2-8477-756078b9d14f",
   "metadata": {},
   "outputs": [],
   "source": [
    "3) Write a Python program to create a person class.Include attributes like name, \n",
    "country and date of birth. Implement a method to determine the person's age.\n"
   ]
  },
  {
   "cell_type": "code",
   "execution_count": 59,
   "id": "a5e2c926-f0b0-40ed-ac00-4545b55067fe",
   "metadata": {},
   "outputs": [
    {
     "name": "stdout",
     "output_type": "stream",
     "text": [
      "Person 1\n",
      "Name: Rahul\n",
      "Country: India\n",
      "Date of Birth: 1998-05-09\n",
      "Age: 26\n"
     ]
    }
   ],
   "source": [
    "from datetime import date\n",
    "\n",
    "class Person:\n",
    "    def __init__(self, name, country, dateofbirth):\n",
    "        self.name = name\n",
    "        self.country = country\n",
    "        self.dateofbirth = dateofbirth\n",
    "\n",
    "    def personage(self):\n",
    "        today = date.today()\n",
    "        age = today.year - self.dateofbirth.year\n",
    "        \n",
    "        if today < date(today.year, self.dateofbirth.month, self.dateofbirth.day):\n",
    "            age -= 1\n",
    "        return age\n",
    "\n",
    "person = Person(\"Rahul\", \"India\", date(1998, 5, 9))\n",
    "\n",
    "\n",
    "print(\"Person 1\")\n",
    "print(\"Name:\", person.name)\n",
    "print(\"Country:\", person.country)\n",
    "print(\"Date of Birth:\", person.dateofbirth)\n",
    "print(\"Age:\", person.personage())\n"
   ]
  },
  {
   "cell_type": "code",
   "execution_count": null,
   "id": "d7da28f9-a497-4508-870a-d51ffa79891a",
   "metadata": {},
   "outputs": [],
   "source": []
  },
  {
   "cell_type": "code",
   "execution_count": null,
   "id": "439472f9-fc1c-4d97-95a8-c9b5981ac4ba",
   "metadata": {},
   "outputs": [],
   "source": []
  }
 ],
 "metadata": {
  "kernelspec": {
   "display_name": "Python [conda env:base] *",
   "language": "python",
   "name": "conda-base-py"
  },
  "language_info": {
   "codemirror_mode": {
    "name": "ipython",
    "version": 3
   },
   "file_extension": ".py",
   "mimetype": "text/x-python",
   "name": "python",
   "nbconvert_exporter": "python",
   "pygments_lexer": "ipython3",
   "version": "3.12.7"
  }
 },
 "nbformat": 4,
 "nbformat_minor": 5
}
