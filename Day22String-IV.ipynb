{
 "cells": [
  {
   "cell_type": "markdown",
   "id": "da8f015d-a05a-43a7-863d-a87020a0b3c9",
   "metadata": {},
   "source": [
    "# isalnum()method"
   ]
  },
  {
   "cell_type": "code",
   "execution_count": 3,
   "id": "ed22b0ec-6860-43c2-8400-7a8d0277637a",
   "metadata": {},
   "outputs": [
    {
     "name": "stdout",
     "output_type": "stream",
     "text": [
      "True\n"
     ]
    }
   ],
   "source": [
    "a=\"Student\"\n",
    "print(a.isalnum())"
   ]
  },
  {
   "cell_type": "code",
   "execution_count": 5,
   "id": "9b89d222-354d-4454-b0ec-60e481d38a1d",
   "metadata": {},
   "outputs": [
    {
     "name": "stdout",
     "output_type": "stream",
     "text": [
      "True\n"
     ]
    }
   ],
   "source": [
    "a=\"Student1\"\n",
    "print(a.isalnum())"
   ]
  },
  {
   "cell_type": "code",
   "execution_count": 7,
   "id": "aff5ce68-c5c7-4a86-b344-8f5489d7dd17",
   "metadata": {},
   "outputs": [
    {
     "name": "stdout",
     "output_type": "stream",
     "text": [
      "True\n"
     ]
    }
   ],
   "source": [
    "a=\"Student12347677\"\n",
    "print(a.isalnum())"
   ]
  },
  {
   "cell_type": "code",
   "execution_count": 9,
   "id": "c55c15c5-e8a1-4291-b7d5-7f8af959fb54",
   "metadata": {},
   "outputs": [
    {
     "name": "stdout",
     "output_type": "stream",
     "text": [
      "False\n"
     ]
    }
   ],
   "source": [
    "a=\"String@12344\"\n",
    "print(a.isalnum())"
   ]
  },
  {
   "cell_type": "code",
   "execution_count": 11,
   "id": "f054b6fb-6dc3-4b8c-b40d-104a3b42d993",
   "metadata": {},
   "outputs": [
    {
     "name": "stdout",
     "output_type": "stream",
     "text": [
      "True\n"
     ]
    }
   ],
   "source": [
    "a=\"StudentHELLLLLOOOOOOO\"\n",
    "print(a.isalnum())"
   ]
  },
  {
   "cell_type": "code",
   "execution_count": 13,
   "id": "327dc3cf-98bf-420a-a4b2-60a3b6c7e6e2",
   "metadata": {},
   "outputs": [
    {
     "name": "stdout",
     "output_type": "stream",
     "text": [
      "False\n"
     ]
    }
   ],
   "source": [
    "a=\"Student,Hello\"\n",
    "print(a.isalnum())"
   ]
  },
  {
   "cell_type": "markdown",
   "id": "6f8f8235-f183-4a52-a09f-6eaac61e583d",
   "metadata": {},
   "source": [
    "# isalpha()method"
   ]
  },
  {
   "cell_type": "code",
   "execution_count": 16,
   "id": "a1dbe429-f12c-4874-a714-7d94d0f2a6cc",
   "metadata": {},
   "outputs": [
    {
     "name": "stdout",
     "output_type": "stream",
     "text": [
      "True\n"
     ]
    }
   ],
   "source": [
    "a=\"teacher\"\n",
    "print(a.isalpha())"
   ]
  },
  {
   "cell_type": "code",
   "execution_count": 18,
   "id": "e94ac0c7-34e4-479d-98c1-22515f85f5a1",
   "metadata": {},
   "outputs": [
    {
     "name": "stdout",
     "output_type": "stream",
     "text": [
      "True\n"
     ]
    }
   ],
   "source": [
    "a=\"TEACHER\"\n",
    "print(a.isalpha())"
   ]
  },
  {
   "cell_type": "code",
   "execution_count": 20,
   "id": "f1d572f4-c44a-4245-a3ba-7c71bb3bc3c4",
   "metadata": {},
   "outputs": [
    {
     "name": "stdout",
     "output_type": "stream",
     "text": [
      "True\n"
     ]
    }
   ],
   "source": [
    "a=\"teacHER\"\n",
    "print(a.isalpha())"
   ]
  },
  {
   "cell_type": "code",
   "execution_count": 22,
   "id": "7cec4781-45cf-4769-9a58-2750857d226f",
   "metadata": {},
   "outputs": [
    {
     "name": "stdout",
     "output_type": "stream",
     "text": [
      "False\n"
     ]
    }
   ],
   "source": [
    "a=\"teacher123\"\n",
    "print(a.isalpha())"
   ]
  },
  {
   "cell_type": "code",
   "execution_count": 24,
   "id": "c24a5e84-3e00-4707-8bdd-fc5341c9e09e",
   "metadata": {},
   "outputs": [
    {
     "name": "stdout",
     "output_type": "stream",
     "text": [
      "False\n"
     ]
    }
   ],
   "source": [
    "a=\"Python is  a great,language\"\n",
    "print(a.isalpha())"
   ]
  },
  {
   "cell_type": "markdown",
   "id": "fb02270b-1fee-4e13-8b13-c7167a74e2fb",
   "metadata": {},
   "source": [
    "# isdigit()method"
   ]
  },
  {
   "cell_type": "code",
   "execution_count": 27,
   "id": "ec2b8fca-7d4b-44bc-b73f-5bdcbca08b8d",
   "metadata": {},
   "outputs": [
    {
     "name": "stdout",
     "output_type": "stream",
     "text": [
      "True\n"
     ]
    }
   ],
   "source": [
    "a=\"156464646545\"\n",
    "print(a.isdigit())"
   ]
  },
  {
   "cell_type": "code",
   "execution_count": 29,
   "id": "f75d90c8-2a8e-4ace-a76a-806778509f83",
   "metadata": {},
   "outputs": [
    {
     "name": "stdout",
     "output_type": "stream",
     "text": [
      "False\n"
     ]
    }
   ],
   "source": [
    "a=\"6546546545     5455646454\"\n",
    "print(a.isdigit())"
   ]
  },
  {
   "cell_type": "code",
   "execution_count": 31,
   "id": "dc56a32b-d661-4b31-82c6-95ebdc797bab",
   "metadata": {},
   "outputs": [
    {
     "name": "stdout",
     "output_type": "stream",
     "text": [
      "False\n"
     ]
    }
   ],
   "source": [
    "a=\"654654654heloll\"\n",
    "print(a.isdigit())"
   ]
  },
  {
   "cell_type": "code",
   "execution_count": 33,
   "id": "6c1bc1fb-1b55-4b80-8b11-9bd2ded3f1b4",
   "metadata": {},
   "outputs": [
    {
     "name": "stdout",
     "output_type": "stream",
     "text": [
      "False\n"
     ]
    }
   ],
   "source": [
    "a=\"65454545@@@,$$%%%\"\n",
    "print(a.isdigit())"
   ]
  },
  {
   "cell_type": "code",
   "execution_count": 39,
   "id": "e566b02d-8854-48d5-9c80-39f68f180be8",
   "metadata": {},
   "outputs": [
    {
     "name": "stdin",
     "output_type": "stream",
     "text": [
      "enter a mobile number :  65465456456\n"
     ]
    },
    {
     "name": "stdout",
     "output_type": "stream",
     "text": [
      "Mobile number is valid\n"
     ]
    }
   ],
   "source": [
    "\"\"\"write a mobile number and take this as a input from the user and check mobile number valid or not \"\"\"\n",
    "a=input(\"enter a mobile number : \")\n",
    "if a.isdigit()==True:\n",
    "    print(\"Mobile number is valid\")\n",
    "\n",
    "else:\n",
    "    print(\"Mobile number is not valid\")"
   ]
  },
  {
   "cell_type": "markdown",
   "id": "4df2560b-3fbe-4104-8bd7-edc035040469",
   "metadata": {},
   "source": [
    "# isupper()method"
   ]
  },
  {
   "cell_type": "code",
   "execution_count": 42,
   "id": "7840e00e-948e-47c4-bc6e-4665e27b9220",
   "metadata": {},
   "outputs": [
    {
     "name": "stdout",
     "output_type": "stream",
     "text": [
      "True\n"
     ]
    }
   ],
   "source": [
    "a=\"PYTHON IS A HIGH LEVEL LANG\"\n",
    "print(a.isupper())"
   ]
  },
  {
   "cell_type": "code",
   "execution_count": 44,
   "id": "5bde8eb8-0dac-4887-a25c-74a6e5c3bf18",
   "metadata": {},
   "outputs": [
    {
     "name": "stdout",
     "output_type": "stream",
     "text": [
      "False\n"
     ]
    }
   ],
   "source": [
    "a=\"PYTHON is a PROGRAmming \"\n",
    "print(a.isupper())"
   ]
  },
  {
   "cell_type": "code",
   "execution_count": 46,
   "id": "9eb9c5c6-8f72-475b-8939-bb0076b5588a",
   "metadata": {},
   "outputs": [
    {
     "name": "stdout",
     "output_type": "stream",
     "text": [
      "False\n"
     ]
    }
   ],
   "source": [
    "a=\"Python is a Programm 3 and 4 \"\n",
    "print(a.isupper())"
   ]
  },
  {
   "cell_type": "code",
   "execution_count": 48,
   "id": "90c40633-ceda-4685-af41-af6fecda9bc1",
   "metadata": {},
   "outputs": [
    {
     "name": "stdout",
     "output_type": "stream",
     "text": [
      "True\n"
     ]
    }
   ],
   "source": [
    "a=\"HE HAS GOOD SCORE OF 100\"\n",
    "print(a.isupper())"
   ]
  },
  {
   "cell_type": "markdown",
   "id": "930dfe77-2602-452b-8709-98ba4ad749e3",
   "metadata": {},
   "source": [
    "# islower()method"
   ]
  },
  {
   "cell_type": "code",
   "execution_count": 51,
   "id": "f53a02e9-7782-4139-96c8-6b6a88d6bb8e",
   "metadata": {},
   "outputs": [
    {
     "name": "stdout",
     "output_type": "stream",
     "text": [
      "True\n"
     ]
    }
   ],
   "source": [
    "a=\"python is a good lang\"\n",
    "print(a.islower())"
   ]
  },
  {
   "cell_type": "code",
   "execution_count": 53,
   "id": "d3488a81-22d9-46a6-8f10-601356fa0f8f",
   "metadata": {},
   "outputs": [
    {
     "name": "stdout",
     "output_type": "stream",
     "text": [
      "False\n"
     ]
    }
   ],
   "source": [
    "a=\"PYThON IS a Good LANG\"\n",
    "print(a.islower())"
   ]
  },
  {
   "cell_type": "code",
   "execution_count": 55,
   "id": "14e3c764-10be-46de-90dd-5b7730b0d354",
   "metadata": {},
   "outputs": [
    {
     "name": "stdout",
     "output_type": "stream",
     "text": [
      "True\n"
     ]
    }
   ],
   "source": [
    "a=\"python345644\"\n",
    "print(a.islower())"
   ]
  },
  {
   "cell_type": "code",
   "execution_count": 59,
   "id": "9eef61f6-a0c5-44fe-b7e8-269d520f1ae0",
   "metadata": {},
   "outputs": [
    {
     "name": "stdout",
     "output_type": "stream",
     "text": [
      "True\n"
     ]
    }
   ],
   "source": [
    "a=\"python$#$%^%#%$#%$#%\"\n",
    "print(a.islower())"
   ]
  },
  {
   "cell_type": "markdown",
   "id": "b248353b-f4cc-4982-9470-bdb34ec4fba7",
   "metadata": {},
   "source": [
    "# istitle()method"
   ]
  },
  {
   "cell_type": "code",
   "execution_count": 62,
   "id": "cd265456-ce5e-40d3-b884-432ab1fa792a",
   "metadata": {},
   "outputs": [
    {
     "name": "stdout",
     "output_type": "stream",
     "text": [
      "True\n"
     ]
    }
   ],
   "source": [
    "a=\"Python Is Easy\"\n",
    "print(a.istitle())"
   ]
  },
  {
   "cell_type": "code",
   "execution_count": 64,
   "id": "8a822709-3e00-4785-a481-5b3d3e69e107",
   "metadata": {},
   "outputs": [
    {
     "name": "stdout",
     "output_type": "stream",
     "text": [
      "False\n"
     ]
    }
   ],
   "source": [
    "a=\"Python is Not easy\"\n",
    "print(a.istitle())"
   ]
  },
  {
   "cell_type": "code",
   "execution_count": 66,
   "id": "d2e97baf-f309-46dc-8dc0-75d60c9d33b5",
   "metadata": {},
   "outputs": [
    {
     "name": "stdout",
     "output_type": "stream",
     "text": [
      "False\n"
     ]
    }
   ],
   "source": [
    "a=\"PYTHON IS EASY\"\n",
    "print(a.istitle())"
   ]
  },
  {
   "cell_type": "code",
   "execution_count": 68,
   "id": "dd4b1820-56e2-4e9d-a485-8ed94d5500c4",
   "metadata": {},
   "outputs": [
    {
     "name": "stdout",
     "output_type": "stream",
     "text": [
      "True\n"
     ]
    }
   ],
   "source": [
    "a=\"Python Is Easy 1254545\"\n",
    "print(a.istitle())"
   ]
  },
  {
   "cell_type": "code",
   "execution_count": 70,
   "id": "09c073ac-5b40-4a44-bf0b-5a4c3c935d0f",
   "metadata": {},
   "outputs": [
    {
     "name": "stdout",
     "output_type": "stream",
     "text": [
      "True\n"
     ]
    }
   ],
   "source": [
    "a=\"Pthon Is Easy $$#%$#$#$%#%\"\n",
    "print(a.istitle())"
   ]
  },
  {
   "cell_type": "markdown",
   "id": "01507cad-5517-44cd-830c-e2648d4dcd42",
   "metadata": {},
   "source": [
    "# startswith()method"
   ]
  },
  {
   "cell_type": "code",
   "execution_count": 73,
   "id": "ef28f4f2-37da-4cec-b1cb-d0d391262d3f",
   "metadata": {},
   "outputs": [
    {
     "name": "stdout",
     "output_type": "stream",
     "text": [
      "True\n"
     ]
    }
   ],
   "source": [
    "a=\"Python is so easy\"\n",
    "print(a.startswith(\"Python\"))"
   ]
  },
  {
   "cell_type": "code",
   "execution_count": 75,
   "id": "ad7c5643-51c5-487b-92a0-4d6273eff209",
   "metadata": {},
   "outputs": [
    {
     "name": "stdout",
     "output_type": "stream",
     "text": [
      "False\n"
     ]
    }
   ],
   "source": [
    "a=\"Python is so easy\"\n",
    "print(a.startswith(\"python\"))"
   ]
  },
  {
   "cell_type": "code",
   "execution_count": 77,
   "id": "550c4a82-e5a9-4e78-b617-6bcd1e7073b3",
   "metadata": {},
   "outputs": [
    {
     "name": "stdout",
     "output_type": "stream",
     "text": [
      "False\n"
     ]
    }
   ],
   "source": [
    "a=\"Python is so easy\"\n",
    "print(a.startswith(\"so\"))"
   ]
  },
  {
   "cell_type": "code",
   "execution_count": 79,
   "id": "1fe3c38f-2dad-4117-be76-59f5a2ff6b87",
   "metadata": {},
   "outputs": [
    {
     "name": "stdout",
     "output_type": "stream",
     "text": [
      "False\n"
     ]
    }
   ],
   "source": [
    "a=\"Python is so easy \"\n",
    "print(a.startswith(\"hey\"))"
   ]
  },
  {
   "cell_type": "markdown",
   "id": "0f346cc6-c0ff-4b06-96de-a54b795e2a43",
   "metadata": {},
   "source": [
    "# endswith()method"
   ]
  },
  {
   "cell_type": "code",
   "execution_count": 82,
   "id": "118833ca-243c-42d7-b592-e86a7c7df7ce",
   "metadata": {},
   "outputs": [
    {
     "name": "stdout",
     "output_type": "stream",
     "text": [
      "True\n"
     ]
    }
   ],
   "source": [
    "a=\"Python is a great\"\n",
    "print(a.endswith(\"great\"))"
   ]
  },
  {
   "cell_type": "code",
   "execution_count": 84,
   "id": "51c2c3a5-1794-4117-b3f1-9869f9dc61af",
   "metadata": {},
   "outputs": [
    {
     "name": "stdout",
     "output_type": "stream",
     "text": [
      "True\n"
     ]
    }
   ],
   "source": [
    "a=\"Python is a great 121645\"\n",
    "print(a.endswith(\"121645\"))"
   ]
  },
  {
   "cell_type": "markdown",
   "id": "0934dace-d4d6-4d44-9ccf-03a0cd86764c",
   "metadata": {},
   "source": [
    "# how to check particayular substring in a string or not"
   ]
  },
  {
   "cell_type": "code",
   "execution_count": 89,
   "id": "7ebbb6ad-4ab9-4e00-8f2d-b8ff2e43b514",
   "metadata": {},
   "outputs": [
    {
     "name": "stdout",
     "output_type": "stream",
     "text": [
      "True\n"
     ]
    }
   ],
   "source": [
    "a=\"Python is a great\"\n",
    "print(\"is\" in a )"
   ]
  },
  {
   "cell_type": "code",
   "execution_count": 91,
   "id": "5b699a61-c40b-42cf-b7ec-1fa442d9b53a",
   "metadata": {},
   "outputs": [
    {
     "name": "stdout",
     "output_type": "stream",
     "text": [
      "True\n"
     ]
    }
   ],
   "source": [
    "a=\"Python is a great\"\n",
    "print(\"hello\"not in a )"
   ]
  },
  {
   "cell_type": "code",
   "execution_count": 93,
   "id": "e672f95c-b268-4cf9-9344-1b1b014332a8",
   "metadata": {},
   "outputs": [
    {
     "name": "stdout",
     "output_type": "stream",
     "text": [
      "False\n"
     ]
    }
   ],
   "source": [
    "a=\"Learning is a great\"\n",
    "print(\"is\" not in a )"
   ]
  },
  {
   "cell_type": "code",
   "execution_count": null,
   "id": "f7360f5d-2199-4f57-97bb-2dc1c413f783",
   "metadata": {},
   "outputs": [],
   "source": []
  }
 ],
 "metadata": {
  "kernelspec": {
   "display_name": "Python [conda env:base] *",
   "language": "python",
   "name": "conda-base-py"
  },
  "language_info": {
   "codemirror_mode": {
    "name": "ipython",
    "version": 3
   },
   "file_extension": ".py",
   "mimetype": "text/x-python",
   "name": "python",
   "nbconvert_exporter": "python",
   "pygments_lexer": "ipython3",
   "version": "3.12.7"
  }
 },
 "nbformat": 4,
 "nbformat_minor": 5
}
