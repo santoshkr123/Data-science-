{
 "cells": [
  {
   "cell_type": "markdown",
   "id": "0922d9ca-ce00-47d7-b40c-26d24e1f1458",
   "metadata": {},
   "source": [
    "# Iterating Numpy array\n",
    "# 1D"
   ]
  },
  {
   "cell_type": "code",
   "execution_count": 11,
   "id": "c7812f1d-38e9-4332-aee1-ed6812dbeacd",
   "metadata": {},
   "outputs": [
    {
     "name": "stdout",
     "output_type": "stream",
     "text": [
      "[1 2 3 4 5]\n",
      "1\n",
      "\n",
      "1\n",
      "2\n",
      "3\n",
      "4\n",
      "5\n"
     ]
    }
   ],
   "source": [
    "import numpy as np\n",
    "arr1=np.array([1,2,3,4,5])\n",
    "print(arr1)\n",
    "print(arr1.ndim)\n",
    "print()\n",
    "for i in arr1:\n",
    "    print(i)"
   ]
  },
  {
   "cell_type": "markdown",
   "id": "93f572ae-ccff-433b-94ef-7a73110b2576",
   "metadata": {},
   "source": [
    "# 2D array"
   ]
  },
  {
   "cell_type": "code",
   "execution_count": 20,
   "id": "bc7a57a7-a9a3-4bd4-8aae-7a90969e1328",
   "metadata": {},
   "outputs": [
    {
     "name": "stdout",
     "output_type": "stream",
     "text": [
      "[[1 2 3]\n",
      " [4 5 6]]\n",
      "2\n",
      "\n",
      "1\n",
      "2\n",
      "3\n",
      "4\n",
      "5\n",
      "6\n"
     ]
    }
   ],
   "source": [
    "import numpy as np\n",
    "arr1=np.array([[1,2,3],[4,5,6]])\n",
    "print(arr1)\n",
    "print(arr1.ndim)\n",
    "print()\n",
    "for i in arr1:\n",
    "    for j in i:\n",
    "        print(j)"
   ]
  },
  {
   "cell_type": "markdown",
   "id": "3f5d7bda-d9f8-49d3-a158-4675cdfab40c",
   "metadata": {},
   "source": [
    "# 3D array"
   ]
  },
  {
   "cell_type": "code",
   "execution_count": 29,
   "id": "8e7a7dbf-77cc-4ce1-840b-d9e170b4ffcc",
   "metadata": {},
   "outputs": [
    {
     "name": "stdout",
     "output_type": "stream",
     "text": [
      "[[[1 2 3]\n",
      "  [4 5 6]\n",
      "  [7 8 9]]]\n",
      "3\n",
      "\n",
      "1\n",
      "2\n",
      "3\n",
      "4\n",
      "5\n",
      "6\n",
      "7\n",
      "8\n",
      "9\n"
     ]
    }
   ],
   "source": [
    "import numpy as np\n",
    "arr1=np.array([[[1,2,3],[4,5,6],[7,8,9]]])\n",
    "print(arr1)\n",
    "print(arr1.ndim)\n",
    "print()\n",
    "for i in arr1:\n",
    "    for j in i:\n",
    "        for k in j:\n",
    "            print(k)"
   ]
  },
  {
   "cell_type": "markdown",
   "id": "8fff601a-2280-4b57-9349-01ec474352f6",
   "metadata": {},
   "source": [
    "# nditer function"
   ]
  },
  {
   "cell_type": "code",
   "execution_count": 38,
   "id": "a0a8b60b-f460-4289-a333-bd410f1a6daf",
   "metadata": {},
   "outputs": [
    {
     "name": "stdout",
     "output_type": "stream",
     "text": [
      "[[[1 2 3]\n",
      "  [4 5 6]\n",
      "  [7 8 9]]]\n",
      "3\n",
      "\n",
      "1\n",
      "2\n",
      "3\n",
      "4\n",
      "5\n",
      "6\n",
      "7\n",
      "8\n",
      "9\n"
     ]
    }
   ],
   "source": [
    "import numpy as np\n",
    "arr1=np.array([[[1,2,3],[4,5,6],[7,8,9]]])\n",
    "print(arr1)\n",
    "print(arr1.ndim)\n",
    "print()\n",
    "for i in np.nditer(arr1):\n",
    "    print(i)"
   ]
  },
  {
   "cell_type": "code",
   "execution_count": 40,
   "id": "330de263-d9f5-46ed-8574-02aaa06e6c03",
   "metadata": {},
   "outputs": [
    {
     "name": "stdout",
     "output_type": "stream",
     "text": [
      "[[[1 2 3]\n",
      "  [4 5 6]\n",
      "  [7 8 9]]]\n",
      "3\n",
      "\n",
      "b'1'\n",
      "b'2'\n",
      "b'3'\n",
      "b'4'\n",
      "b'5'\n",
      "b'6'\n",
      "b'7'\n",
      "b'8'\n",
      "b'9'\n"
     ]
    }
   ],
   "source": [
    "import numpy as np\n",
    "arr1=np.array([[[1,2,3],[4,5,6],[7,8,9]]])\n",
    "print(arr1)\n",
    "print(arr1.ndim)\n",
    "print()\n",
    "for i in np.nditer(arr1,flags=['buffered'],op_dtypes=['S']):\n",
    "    print(i)"
   ]
  },
  {
   "cell_type": "markdown",
   "id": "0276c0d3-8e67-44d8-b90f-41853c204615",
   "metadata": {},
   "source": [
    "# ndenumerate"
   ]
  },
  {
   "cell_type": "code",
   "execution_count": 49,
   "id": "fb4f28ef-1e02-400a-92c7-1e308f36cbe1",
   "metadata": {},
   "outputs": [
    {
     "name": "stdout",
     "output_type": "stream",
     "text": [
      "[[[1 2 3]\n",
      "  [4 5 6]\n",
      "  [7 8 9]]]\n",
      "3\n",
      "((0, 0, 0), 1)\n",
      "((0, 0, 1), 2)\n",
      "((0, 0, 2), 3)\n",
      "((0, 1, 0), 4)\n",
      "((0, 1, 1), 5)\n",
      "((0, 1, 2), 6)\n",
      "((0, 2, 0), 7)\n",
      "((0, 2, 1), 8)\n",
      "((0, 2, 2), 9)\n"
     ]
    }
   ],
   "source": [
    "import numpy as np\n",
    "arr1=np.array([[[1,2,3],[4,5,6],[7,8,9]]])\n",
    "print(arr1)\n",
    "print(arr1.ndim)\n",
    "for i in np.ndenumerate(arr1):\n",
    "    print(i)"
   ]
  },
  {
   "cell_type": "code",
   "execution_count": 55,
   "id": "850e1a60-0606-40c0-9244-33f8d77f322e",
   "metadata": {},
   "outputs": [
    {
     "name": "stdout",
     "output_type": "stream",
     "text": [
      "[[[[ 1  2  3]\n",
      "   [ 4  5  6]\n",
      "   [ 7  8  9]\n",
      "   [10 11 12]]]]\n",
      "4\n",
      "\n",
      "((0, 0, 0, 0), 1)\n",
      "((0, 0, 0, 1), 2)\n",
      "((0, 0, 0, 2), 3)\n",
      "((0, 0, 1, 0), 4)\n",
      "((0, 0, 1, 1), 5)\n",
      "((0, 0, 1, 2), 6)\n",
      "((0, 0, 2, 0), 7)\n",
      "((0, 0, 2, 1), 8)\n",
      "((0, 0, 2, 2), 9)\n",
      "((0, 0, 3, 0), 10)\n",
      "((0, 0, 3, 1), 11)\n",
      "((0, 0, 3, 2), 12)\n"
     ]
    }
   ],
   "source": [
    "import numpy as np\n",
    "arr1=np.array([[[[1,2,3],[4,5,6],[7,8,9],[10,11,12]]]])\n",
    "print(arr1)\n",
    "print(arr1.ndim)\n",
    "print()\n",
    "for i in np.ndenumerate(arr1):\n",
    "    print(i)\n"
   ]
  },
  {
   "cell_type": "markdown",
   "id": "c04e0141-d94b-47d3-86d4-d9f469548094",
   "metadata": {},
   "source": [
    "# copy vs view function"
   ]
  },
  {
   "cell_type": "code",
   "execution_count": 66,
   "id": "b822ddbf-bab0-49d1-9da5-2937d1ed1b3e",
   "metadata": {},
   "outputs": [
    {
     "name": "stdout",
     "output_type": "stream",
     "text": [
      "[1 2 3 4 5 6]\n",
      "\n",
      "[1 2 3 4 5 6]\n"
     ]
    }
   ],
   "source": [
    "import numpy as np\n",
    "arr1=np.array([1,2,3,4,5,6])\n",
    "print(arr1)\n",
    "print()\n",
    "v=arr1.view()\n",
    "print(v)"
   ]
  },
  {
   "cell_type": "code",
   "execution_count": 70,
   "id": "d2745370-1fae-4f58-a956-e466a19d0f7b",
   "metadata": {},
   "outputs": [
    {
     "name": "stdout",
     "output_type": "stream",
     "text": [
      "[ 1  2  3 56  5  6]\n",
      "\n",
      "[ 1  2  3 56  5  6]\n"
     ]
    }
   ],
   "source": [
    "import numpy as np\n",
    "arr1=np.array([1,2,3,4,5,6])\n",
    "arr1[3]=56\n",
    "print(arr1)\n",
    "print()\n",
    "v=arr1.view()\n",
    "print(v)"
   ]
  },
  {
   "cell_type": "code",
   "execution_count": 72,
   "id": "0b1ac767-2ac1-4101-b2a8-ffae120e2d17",
   "metadata": {},
   "outputs": [
    {
     "name": "stdout",
     "output_type": "stream",
     "text": [
      "[1 2 3 4 5 6]\n",
      "[1 2 3 4 5 6]\n"
     ]
    }
   ],
   "source": [
    "import numpy as np\n",
    "arr1=np.array([1,2,3,4,5,6])\n",
    "c=arr1.copy()\n",
    "print(arr1)\n",
    "print(c)"
   ]
  },
  {
   "cell_type": "code",
   "execution_count": 88,
   "id": "6a2467f1-6652-4f96-8437-586e7648cc94",
   "metadata": {},
   "outputs": [
    {
     "name": "stdout",
     "output_type": "stream",
     "text": [
      "[ 1  2  3 96  5  6]\n",
      "\n",
      "[ 1  2  3 96  5  6]\n"
     ]
    }
   ],
   "source": [
    "import numpy as np\n",
    "arr2=np.array([1,2,3,4,5,6])\n",
    "arr2[3]=96\n",
    "print(arr2)\n",
    "print()\n",
    "c=arr2.copy()\n",
    "print(c)"
   ]
  },
  {
   "cell_type": "markdown",
   "id": "676b3e99-8238-43b8-874d-d02f2bbdad61",
   "metadata": {},
   "source": [
    "# join array\n",
    " # concatenate"
   ]
  },
  {
   "cell_type": "code",
   "execution_count": 95,
   "id": "36a8b6a2-4e87-430f-92c3-b7c86c3fe133",
   "metadata": {},
   "outputs": [
    {
     "name": "stdout",
     "output_type": "stream",
     "text": [
      "[1 2 3 4]\n",
      "[5 6 7 8]\n",
      "\n",
      "[1 2 3 4 5 6 7 8]\n"
     ]
    }
   ],
   "source": [
    "import numpy as np\n",
    "arr1=np.array([1,2,3,4])\n",
    "arr2=np.array([5,6,7,8])\n",
    "print(arr1)\n",
    "print(arr2)\n",
    "print()\n",
    "c=np.concatenate((arr1,arr2))\n",
    "print(c)"
   ]
  },
  {
   "cell_type": "code",
   "execution_count": 107,
   "id": "0666cd3d-ebe3-48f5-9d0f-a2bd88fa6ac7",
   "metadata": {},
   "outputs": [
    {
     "name": "stdout",
     "output_type": "stream",
     "text": [
      "[[1 2 3]\n",
      " [4 5 6]]\n",
      "\n",
      "[[ 7  8  9]\n",
      " [10 11 12]]\n",
      "\n",
      "[[ 1  2  3  7  8  9]\n",
      " [ 4  5  6 10 11 12]]\n"
     ]
    }
   ],
   "source": [
    "import numpy as np\n",
    "arr1=np.array([[1,2,3],[4,5,6]])\n",
    "arr2=np.array([[7,8,9],[10,11,12]])\n",
    "print(arr1)\n",
    "print()\n",
    "print(arr2)\n",
    "print()\n",
    "con=np.concatenate((arr1,arr2),axis=1)\n",
    "print(con)\n"
   ]
  },
  {
   "cell_type": "code",
   "execution_count": 109,
   "id": "505e5582-6adf-4a62-a90c-a0fc28aa81db",
   "metadata": {},
   "outputs": [
    {
     "name": "stdout",
     "output_type": "stream",
     "text": [
      "[[1 2 3]\n",
      " [4 5 6]]\n",
      "\n",
      "[[ 7  8  9]\n",
      " [10 11 12]]\n",
      "\n",
      "[[ 1  2  3]\n",
      " [ 4  5  6]\n",
      " [ 7  8  9]\n",
      " [10 11 12]]\n"
     ]
    }
   ],
   "source": [
    "import numpy as np\n",
    "arr1=np.array([[1,2,3],[4,5,6]])\n",
    "arr2=np.array([[7,8,9],[10,11,12]])\n",
    "print(arr1)\n",
    "print()\n",
    "print(arr2)\n",
    "print()\n",
    "con=np.concatenate((arr1,arr2),axis=0)\n",
    "print(con)\n"
   ]
  },
  {
   "cell_type": "markdown",
   "id": "d6b9fa54-f668-4608-9321-83691d0869b1",
   "metadata": {},
   "source": [
    "# vstack,hstack,dstack"
   ]
  },
  {
   "cell_type": "code",
   "execution_count": 124,
   "id": "4f4f2a70-1807-452d-87cd-bae877f0a051",
   "metadata": {},
   "outputs": [
    {
     "name": "stdout",
     "output_type": "stream",
     "text": [
      "[1 2 3]\n",
      "\n",
      "[7 8 9]\n",
      "\n",
      "[13 14 15]\n",
      "\n",
      "[[ 1  2  3]\n",
      " [ 7  8  9]\n",
      " [13 14 15]]\n",
      "\n",
      "[ 1  2  3  7  8  9 13 14 15]\n",
      "\n",
      "[[[ 1  7 13]\n",
      "  [ 2  8 14]\n",
      "  [ 3  9 15]]]\n"
     ]
    }
   ],
   "source": [
    "import numpy as np\n",
    "x=np.array([1,2,3])\n",
    "y=np.array([7,8,9])\n",
    "z=np.array([13,14,15])\n",
    "print(x)\n",
    "print()\n",
    "print(y)\n",
    "print() \n",
    "print(z)\n",
    "print()\n",
    "\n",
    "a=np.vstack((x,y,z))\n",
    "print(a)\n",
    "print()\n",
    "\n",
    "b=np.hstack((x,y,z))\n",
    "print(b)\n",
    "print()\n",
    "\n",
    "c=np.dstack((x,y,z))\n",
    "print(c)"
   ]
  },
  {
   "cell_type": "code",
   "execution_count": null,
   "id": "c70a9318-2063-4853-9919-6e51950fe8f3",
   "metadata": {},
   "outputs": [],
   "source": []
  }
 ],
 "metadata": {
  "kernelspec": {
   "display_name": "Python [conda env:base] *",
   "language": "python",
   "name": "conda-base-py"
  },
  "language_info": {
   "codemirror_mode": {
    "name": "ipython",
    "version": 3
   },
   "file_extension": ".py",
   "mimetype": "text/x-python",
   "name": "python",
   "nbconvert_exporter": "python",
   "pygments_lexer": "ipython3",
   "version": "3.12.7"
  }
 },
 "nbformat": 4,
 "nbformat_minor": 5
}
