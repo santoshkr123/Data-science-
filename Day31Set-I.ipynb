{
 "cells": [
  {
   "cell_type": "markdown",
   "id": "451c247d-9fec-49e9-ba47-9d0d62460365",
   "metadata": {},
   "source": [
    "# set in python"
   ]
  },
  {
   "cell_type": "code",
   "execution_count": 3,
   "id": "33465db9-bb5c-4ef0-9f26-d080ecd18d13",
   "metadata": {},
   "outputs": [
    {
     "name": "stdout",
     "output_type": "stream",
     "text": [
      "{12, 13, 14, 15}\n",
      "<class 'set'>\n"
     ]
    }
   ],
   "source": [
    "S={12,13,14,15}\n",
    "print(S)\n",
    "print(type(S))"
   ]
  },
  {
   "cell_type": "code",
   "execution_count": 5,
   "id": "3541bade-6e6f-4a1c-aaca-971587094cfb",
   "metadata": {},
   "outputs": [
    {
     "name": "stdout",
     "output_type": "stream",
     "text": [
      "{12, 13, 14, 15}\n"
     ]
    }
   ],
   "source": [
    "S={12,13,14,15}\n",
    "print(S)"
   ]
  },
  {
   "cell_type": "code",
   "execution_count": 7,
   "id": "52be9917-08e1-43c5-afcb-52113974c6c5",
   "metadata": {},
   "outputs": [
    {
     "name": "stdout",
     "output_type": "stream",
     "text": [
      "{-63, -56, 12, 15, -44, 'AI', 'code', 'python'}\n",
      "<class 'set'>\n"
     ]
    }
   ],
   "source": [
    "S={12,15,-63,-56,-44,\"code\",\"python\",\"AI\"}\n",
    "print(S)\n",
    "print(type(S))"
   ]
  },
  {
   "cell_type": "markdown",
   "id": "73a6d957-c522-40ad-a9ff-adafdde149aa",
   "metadata": {},
   "source": [
    "# unordered"
   ]
  },
  {
   "cell_type": "code",
   "execution_count": 14,
   "id": "61aaaf71-1bd7-4085-a57b-ceb02b452991",
   "metadata": {},
   "outputs": [
    {
     "ename": "TypeError",
     "evalue": "'set' object is not subscriptable",
     "output_type": "error",
     "traceback": [
      "\u001b[1;31m---------------------------------------------------------------------------\u001b[0m",
      "\u001b[1;31mTypeError\u001b[0m                                 Traceback (most recent call last)",
      "Cell \u001b[1;32mIn[14], line 2\u001b[0m\n\u001b[0;32m      1\u001b[0m s\u001b[38;5;241m=\u001b[39m{\u001b[38;5;241m12\u001b[39m,\u001b[38;5;241m13\u001b[39m,\u001b[38;5;241m14\u001b[39m,\u001b[38;5;241m15\u001b[39m,\u001b[38;5;124m\"\u001b[39m\u001b[38;5;124mcode\u001b[39m\u001b[38;5;124m\"\u001b[39m,\u001b[38;5;124m\"\u001b[39m\u001b[38;5;124mpython\u001b[39m\u001b[38;5;124m\"\u001b[39m}\n\u001b[1;32m----> 2\u001b[0m \u001b[38;5;28mprint\u001b[39m(s[\u001b[38;5;241m0\u001b[39m])\n",
      "\u001b[1;31mTypeError\u001b[0m: 'set' object is not subscriptable"
     ]
    }
   ],
   "source": [
    "s={12,13,14,15,\"code\",\"python\"}\n",
    "print(s[0])"
   ]
  },
  {
   "cell_type": "markdown",
   "id": "09d84b45-1df5-48bb-ad08-95949c69ed21",
   "metadata": {},
   "source": [
    "# dupliacted not allowed"
   ]
  },
  {
   "cell_type": "code",
   "execution_count": 17,
   "id": "cbf50234-49c5-4d12-9366-268f5499fe90",
   "metadata": {},
   "outputs": [
    {
     "name": "stdout",
     "output_type": "stream",
     "text": [
      "{16, 18, 20, 12, 14, 15}\n"
     ]
    }
   ],
   "source": [
    "s={12,12,14,14,15,16,18,20}\n",
    "print(s)"
   ]
  },
  {
   "cell_type": "code",
   "execution_count": 21,
   "id": "60f73aaf-3cd6-4d76-b69b-1181c94ab48f",
   "metadata": {},
   "outputs": [
    {
     "name": "stdout",
     "output_type": "stream",
     "text": [
      "{'hello', 12, 12.22, 15, 16, 'code', 'python', 63}\n"
     ]
    }
   ],
   "source": [
    "s={12,15,16,12.22,12.22,63,\"hello\",\"code\",\"hello\",\"python\",\"python\"}\n",
    "print(s)"
   ]
  },
  {
   "cell_type": "markdown",
   "id": "c1d6c87b-3976-45d5-bb77-02bef52e32d9",
   "metadata": {},
   "source": [
    "# get the len"
   ]
  },
  {
   "cell_type": "code",
   "execution_count": 24,
   "id": "425c8d78-a5ca-4114-b519-577e57196440",
   "metadata": {},
   "outputs": [
    {
     "name": "stdout",
     "output_type": "stream",
     "text": [
      "5\n"
     ]
    }
   ],
   "source": [
    "s={11,12,14,15,22}\n",
    "print(len(s))"
   ]
  },
  {
   "cell_type": "code",
   "execution_count": 26,
   "id": "a5639045-b1ec-461d-891b-6c797168fc9a",
   "metadata": {},
   "outputs": [
    {
     "name": "stdout",
     "output_type": "stream",
     "text": [
      "{16, 22.22, 12, 63.63, 15}\n"
     ]
    }
   ],
   "source": [
    "s={12,15,12,16,16,22.22,63.63}\n",
    "print(s)"
   ]
  },
  {
   "cell_type": "code",
   "execution_count": 28,
   "id": "56e0d767-2e3b-44a1-8bfc-8044d0273b61",
   "metadata": {},
   "outputs": [
    {
     "name": "stdout",
     "output_type": "stream",
     "text": [
      "{False, True}\n"
     ]
    }
   ],
   "source": [
    "s={True,False,True,False}\n",
    "print(s)"
   ]
  },
  {
   "cell_type": "markdown",
   "id": "910606d1-f070-41a3-8a20-b0208ab22ca7",
   "metadata": {},
   "source": [
    "# access items"
   ]
  },
  {
   "cell_type": "code",
   "execution_count": 31,
   "id": "fa0b8f13-c3e9-4ef9-8261-d2a286b2c7ee",
   "metadata": {},
   "outputs": [
    {
     "name": "stdout",
     "output_type": "stream",
     "text": [
      "12\n",
      "13\n",
      "14\n",
      "15\n",
      "16\n",
      "AI\n",
      "code\n",
      "python\n"
     ]
    }
   ],
   "source": [
    "s={12,13,14,15,15,16,\"code\",\"python\",\"AI\"}\n",
    "for i in s:\n",
    "    print(i)"
   ]
  },
  {
   "cell_type": "code",
   "execution_count": 33,
   "id": "3a1a43d8-c1f3-460e-ac12-d7565af69361",
   "metadata": {},
   "outputs": [
    {
     "name": "stdout",
     "output_type": "stream",
     "text": [
      "True\n"
     ]
    }
   ],
   "source": [
    "\"\"\"check if \"apple \" is present in set or not?\"\"\"\n",
    "s={\"apple\",\"code\",\"mango\",\"guava\",\"pineapple\"}\n",
    "print(\"apple\"in s)"
   ]
  },
  {
   "cell_type": "code",
   "execution_count": 35,
   "id": "267c9c35-2c0f-4dac-85da-5d77bd91c5f2",
   "metadata": {},
   "outputs": [
    {
     "name": "stdout",
     "output_type": "stream",
     "text": [
      "True\n"
     ]
    }
   ],
   "source": [
    "s={12,13,55,88}\n",
    "print(12 in s)"
   ]
  },
  {
   "cell_type": "code",
   "execution_count": 37,
   "id": "77450621-093b-4473-a6a4-2705694142ee",
   "metadata": {},
   "outputs": [
    {
     "name": "stdout",
     "output_type": "stream",
     "text": [
      "False\n"
     ]
    }
   ],
   "source": [
    "s={12,13,24,88}\n",
    "print(32 in s)"
   ]
  },
  {
   "cell_type": "markdown",
   "id": "f8ca5ee9-4374-45a6-99c3-00075206c428",
   "metadata": {},
   "source": [
    "# add items"
   ]
  },
  {
   "cell_type": "code",
   "execution_count": 42,
   "id": "78aa6541-724b-4d2e-a48e-9568d11764c0",
   "metadata": {},
   "outputs": [
    {
     "name": "stdout",
     "output_type": "stream",
     "text": [
      "{'hello', 23, 'code', 'ai', 12, 13, 15}\n"
     ]
    }
   ],
   "source": [
    "s={12,15,13,\"code\",\"hello\",\"ai\"}\n",
    "s.add(23)\n",
    "print(s)"
   ]
  },
  {
   "cell_type": "code",
   "execution_count": 44,
   "id": "98c67cd8-d5cc-4ef9-9136-25e2cde80c34",
   "metadata": {},
   "outputs": [
    {
     "name": "stdout",
     "output_type": "stream",
     "text": [
      "{'dataaa', 18, 19, 'data', 23.23, 'code', 13}\n"
     ]
    }
   ],
   "source": [
    "s={19,13,18,\"code\",\"data\",\"dataaa\"}\n",
    "s.add(23.23)\n",
    "print(s)"
   ]
  },
  {
   "cell_type": "code",
   "execution_count": 46,
   "id": "87eabc2c-9149-4b64-9f05-d104af959fd2",
   "metadata": {},
   "outputs": [
    {
     "ename": "TypeError",
     "evalue": "set.add() takes exactly one argument (2 given)",
     "output_type": "error",
     "traceback": [
      "\u001b[1;31m---------------------------------------------------------------------------\u001b[0m",
      "\u001b[1;31mTypeError\u001b[0m                                 Traceback (most recent call last)",
      "Cell \u001b[1;32mIn[46], line 2\u001b[0m\n\u001b[0;32m      1\u001b[0m s\u001b[38;5;241m=\u001b[39m{\u001b[38;5;241m12\u001b[39m,\u001b[38;5;241m15\u001b[39m,\u001b[38;5;241m16\u001b[39m,\u001b[38;5;241m33\u001b[39m,\u001b[38;5;241m98\u001b[39m}\n\u001b[1;32m----> 2\u001b[0m s\u001b[38;5;241m.\u001b[39madd(\u001b[38;5;241m111\u001b[39m,\u001b[38;5;241m360\u001b[39m)\n\u001b[0;32m      3\u001b[0m \u001b[38;5;28mprint\u001b[39m(s)\n",
      "\u001b[1;31mTypeError\u001b[0m: set.add() takes exactly one argument (2 given)"
     ]
    }
   ],
   "source": [
    "s={12,15,16,33,98}\n",
    "s.add(111,360)\n",
    "print(s)"
   ]
  },
  {
   "cell_type": "markdown",
   "id": "71a7bf3f-95de-4c2b-901f-bf3cfd67cfef",
   "metadata": {},
   "source": [
    "# update()method"
   ]
  },
  {
   "cell_type": "code",
   "execution_count": 49,
   "id": "722a1cf4-c7d8-4c11-8aa3-d2385cb1d510",
   "metadata": {},
   "outputs": [
    {
     "name": "stdout",
     "output_type": "stream",
     "text": [
      "{'red', 'ai', 12, 13, 14, 15, 16, 'code', 'python'}\n"
     ]
    }
   ],
   "source": [
    "a={12,13,14,15,16}\n",
    "b={\"code\",\"red\",\"python\",\"ai\"}\n",
    "a.update(b)\n",
    "print(a)"
   ]
  },
  {
   "cell_type": "code",
   "execution_count": 51,
   "id": "0ab261ab-06e0-4584-93da-8117e60188c0",
   "metadata": {},
   "outputs": [
    {
     "name": "stdout",
     "output_type": "stream",
     "text": [
      "{'red', 'ai', 12, 13, 14, 15, 16, 'code', 'python'}\n",
      "{16, 12, 13, 14, 15}\n"
     ]
    }
   ],
   "source": [
    "a={12,13,14,15,16}\n",
    "b={\"code\",\"red\",\"python\",\"ai\"}\n",
    "b.update(a)\n",
    "print(b)\n",
    "print(a)"
   ]
  },
  {
   "cell_type": "markdown",
   "id": "a77efac2-f8ef-46da-bab4-bcef354b6967",
   "metadata": {},
   "source": [
    "# remove() item"
   ]
  },
  {
   "cell_type": "code",
   "execution_count": 54,
   "id": "4837a226-ecfd-4be2-a84f-ac28204c0a90",
   "metadata": {},
   "outputs": [
    {
     "name": "stdout",
     "output_type": "stream",
     "text": [
      "{18, 88, 12, 13, 15}\n"
     ]
    }
   ],
   "source": [
    "s={12,13,15,18,88,66}\n",
    "s.remove(66)\n",
    "print(s)"
   ]
  },
  {
   "cell_type": "code",
   "execution_count": 56,
   "id": "3a24832a-afcf-460a-bb6e-f5f09259417d",
   "metadata": {},
   "outputs": [
    {
     "name": "stdout",
     "output_type": "stream",
     "text": [
      "{55, 'ai', 'python', 88, 13, 63}\n"
     ]
    }
   ],
   "source": [
    "s={55,63,88,13,\"code\",\"python\",\"ai\"}\n",
    "s.remove(\"code\")\n",
    "print(s)"
   ]
  },
  {
   "cell_type": "markdown",
   "id": "cb38105e-0712-4300-a556-02c42ce664aa",
   "metadata": {},
   "source": [
    "# discard()"
   ]
  },
  {
   "cell_type": "code",
   "execution_count": 59,
   "id": "8efd8594-1304-41eb-b8d0-cb1a945fd8fc",
   "metadata": {},
   "outputs": [
    {
     "name": "stdout",
     "output_type": "stream",
     "text": [
      "{'hello', 'ai', 12, 13, 18, 23.23, 'python'}\n"
     ]
    }
   ],
   "source": [
    "s={12,13,18,23.23,\"code\",\"python\",\"ai\",\"hello\"}\n",
    "s.discard(\"code\")\n",
    "print(s)"
   ]
  },
  {
   "cell_type": "code",
   "execution_count": 61,
   "id": "d2361d1d-1e03-437d-aa25-83f09acacd39",
   "metadata": {},
   "outputs": [
    {
     "name": "stdout",
     "output_type": "stream",
     "text": [
      "{'hello', 'ai', 12, 13, 18, 'code', 'python'}\n"
     ]
    }
   ],
   "source": [
    "s={12,13,18,23.23,\"code\",\"python\",\"ai\",\"hello\"}\n",
    "s.discard(23.23)\n",
    "print(s)"
   ]
  },
  {
   "cell_type": "code",
   "execution_count": 63,
   "id": "a36a1765-ea4d-434b-9f10-c0bd13e93dd3",
   "metadata": {},
   "outputs": [
    {
     "ename": "TypeError",
     "evalue": "set.discard() takes exactly one argument (2 given)",
     "output_type": "error",
     "traceback": [
      "\u001b[1;31m---------------------------------------------------------------------------\u001b[0m",
      "\u001b[1;31mTypeError\u001b[0m                                 Traceback (most recent call last)",
      "Cell \u001b[1;32mIn[63], line 2\u001b[0m\n\u001b[0;32m      1\u001b[0m s\u001b[38;5;241m=\u001b[39m{\u001b[38;5;241m12\u001b[39m,\u001b[38;5;241m13\u001b[39m,\u001b[38;5;241m18\u001b[39m,\u001b[38;5;241m23.23\u001b[39m,\u001b[38;5;124m\"\u001b[39m\u001b[38;5;124mcode\u001b[39m\u001b[38;5;124m\"\u001b[39m,\u001b[38;5;124m\"\u001b[39m\u001b[38;5;124mpython\u001b[39m\u001b[38;5;124m\"\u001b[39m,\u001b[38;5;124m\"\u001b[39m\u001b[38;5;124mai\u001b[39m\u001b[38;5;124m\"\u001b[39m,\u001b[38;5;124m\"\u001b[39m\u001b[38;5;124mhello\u001b[39m\u001b[38;5;124m\"\u001b[39m}\n\u001b[1;32m----> 2\u001b[0m s\u001b[38;5;241m.\u001b[39mdiscard(\u001b[38;5;241m12\u001b[39m,\u001b[38;5;241m18\u001b[39m)\n\u001b[0;32m      3\u001b[0m \u001b[38;5;28mprint\u001b[39m(s)\n",
      "\u001b[1;31mTypeError\u001b[0m: set.discard() takes exactly one argument (2 given)"
     ]
    }
   ],
   "source": [
    "s={12,13,18,23.23,\"code\",\"python\",\"ai\",\"hello\"}\n",
    "s.discard(12,18)\n",
    "print(s)"
   ]
  },
  {
   "cell_type": "code",
   "execution_count": 65,
   "id": "7517d2de-d394-4c69-a189-769a4b2b1b20",
   "metadata": {},
   "outputs": [
    {
     "ename": "TypeError",
     "evalue": "set.remove() takes exactly one argument (2 given)",
     "output_type": "error",
     "traceback": [
      "\u001b[1;31m---------------------------------------------------------------------------\u001b[0m",
      "\u001b[1;31mTypeError\u001b[0m                                 Traceback (most recent call last)",
      "Cell \u001b[1;32mIn[65], line 2\u001b[0m\n\u001b[0;32m      1\u001b[0m s\u001b[38;5;241m=\u001b[39m{\u001b[38;5;241m12\u001b[39m,\u001b[38;5;241m13\u001b[39m,\u001b[38;5;241m18\u001b[39m,\u001b[38;5;241m23.23\u001b[39m,\u001b[38;5;124m\"\u001b[39m\u001b[38;5;124mcode\u001b[39m\u001b[38;5;124m\"\u001b[39m,\u001b[38;5;124m\"\u001b[39m\u001b[38;5;124mpython\u001b[39m\u001b[38;5;124m\"\u001b[39m,\u001b[38;5;124m\"\u001b[39m\u001b[38;5;124mai\u001b[39m\u001b[38;5;124m\"\u001b[39m,\u001b[38;5;124m\"\u001b[39m\u001b[38;5;124mhello\u001b[39m\u001b[38;5;124m\"\u001b[39m}\n\u001b[1;32m----> 2\u001b[0m s\u001b[38;5;241m.\u001b[39mremove(\u001b[38;5;241m12\u001b[39m,\u001b[38;5;241m18\u001b[39m)\n\u001b[0;32m      3\u001b[0m \u001b[38;5;28mprint\u001b[39m(s)\n",
      "\u001b[1;31mTypeError\u001b[0m: set.remove() takes exactly one argument (2 given)"
     ]
    }
   ],
   "source": [
    "s={12,13,18,23.23,\"code\",\"python\",\"ai\",\"hello\"}\n",
    "s.remove(12,18)\n",
    "print(s)"
   ]
  },
  {
   "cell_type": "code",
   "execution_count": null,
   "id": "722a56a1-53e4-4c30-b130-a5e25c7abb3e",
   "metadata": {},
   "outputs": [],
   "source": []
  }
 ],
 "metadata": {
  "kernelspec": {
   "display_name": "Python [conda env:base] *",
   "language": "python",
   "name": "conda-base-py"
  },
  "language_info": {
   "codemirror_mode": {
    "name": "ipython",
    "version": 3
   },
   "file_extension": ".py",
   "mimetype": "text/x-python",
   "name": "python",
   "nbconvert_exporter": "python",
   "pygments_lexer": "ipython3",
   "version": "3.12.7"
  }
 },
 "nbformat": 4,
 "nbformat_minor": 5
}
