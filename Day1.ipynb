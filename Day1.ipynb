{
 "cells": [
  {
   "cell_type": "markdown",
   "id": "3365beaa-2688-42a8-8ff3-2464ef29e3ac",
   "metadata": {},
   "source": [
    "This is my first program"
   ]
  },
  {
   "cell_type": "code",
   "execution_count": 3,
   "id": "cdd9ab82-57d4-49e5-9b1c-9b78716726c7",
   "metadata": {},
   "outputs": [
    {
     "name": "stdout",
     "output_type": "stream",
     "text": [
      "hello\n"
     ]
    }
   ],
   "source": [
    "print(\"hello\")"
   ]
  },
  {
   "cell_type": "code",
   "execution_count": null,
   "id": "8898546f-2d4c-45db-ab96-1f0956bc87e4",
   "metadata": {},
   "outputs": [],
   "source": []
  }
 ],
 "metadata": {
  "kernelspec": {
   "display_name": "Python [conda env:base] *",
   "language": "python",
   "name": "conda-base-py"
  },
  "language_info": {
   "codemirror_mode": {
    "name": "ipython",
    "version": 3
   },
   "file_extension": ".py",
   "mimetype": "text/x-python",
   "name": "python",
   "nbconvert_exporter": "python",
   "pygments_lexer": "ipython3",
   "version": "3.12.7"
  }
 },
 "nbformat": 4,
 "nbformat_minor": 5
}
