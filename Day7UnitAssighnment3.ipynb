{
 "cells": [
  {
   "cell_type": "code",
   "execution_count": null,
   "id": "ff965700-834d-4043-8bac-7869d5fc04ca",
   "metadata": {},
   "outputs": [],
   "source": [
    "Question 1 - In an experiment the scientist was measuring the length of a line, \n",
    "the following are the lengths in mm 2.398,5.639,7.452,0.123,5.754\n",
    "find the average length and also round off upto 2 digits"
   ]
  },
  {
   "cell_type": "code",
   "execution_count": 8,
   "id": "35f12f01-3b25-44a1-93ee-27565475f8d9",
   "metadata": {},
   "outputs": [
    {
     "name": "stdout",
     "output_type": "stream",
     "text": [
      "average length are : 4.2732\n",
      "round off are  4.27\n"
     ]
    }
   ],
   "source": [
    "x=2.398+5.639+7.452+0.123+5.754\n",
    "averagelen=x/5\n",
    "print(\"average length are :\",averagelen)\n",
    "print(\"round off are \",round(averagelen,2))"
   ]
  },
  {
   "cell_type": "code",
   "execution_count": null,
   "id": "bceb7464-9796-43c2-ac74-0ec36ebb787c",
   "metadata": {},
   "outputs": [],
   "source": [
    "2) Rahul travelled a distance of 12567.7854 km. divide it the cost 45,78,63 rs. Find the \n",
    "average of quotient and remainder and figured out the round off value of the \n",
    "quotient and remainder"
   ]
  },
  {
   "cell_type": "code",
   "execution_count": 28,
   "id": "6196d000-26db-4594-8458-82c5c6f83116",
   "metadata": {},
   "outputs": [
    {
     "name": "stdout",
     "output_type": "stream",
     "text": [
      "The average of Quotient is : 506.3333333333333\n",
      "The round off is : 506\n"
     ]
    }
   ],
   "source": [
    "a1=divmod(12567.7854,45)\n",
    "a2=divmod(12567.7854,78)\n",
    "a3=divmod(12567.7854,63)\n",
    "avgQ=a1[0]+a2[0]+a3[0]/3\n",
    "print(\"The average of Quotient is :\",avgQ)\n",
    "print(\"The round off is :\",round(avgQ))\n"
   ]
  },
  {
   "cell_type": "code",
   "execution_count": 32,
   "id": "45d6ec1b-20a6-49f9-b02d-6eb78bf65ade",
   "metadata": {},
   "outputs": [
    {
     "name": "stdout",
     "output_type": "stream",
     "text": [
      "The average of Remainder is : 32.83260000000155\n",
      "the average of Quotient is : 33\n"
     ]
    }
   ],
   "source": [
    "avgR=a1[1]+a2[1]+a3[1]/3\n",
    "print(\"The average of Remainder is :\",avgR)\n",
    "print(\"the average of Quotient is :\",round(avgR))"
   ]
  },
  {
   "cell_type": "markdown",
   "id": "23255023-81e3-452e-8e8a-4b1facbb9ca9",
   "metadata": {},
   "source": [
    "3) 10524 raise to the power 2,3,4,5 and divide it by 71. find the remainder in each case"
   ]
  },
  {
   "cell_type": "code",
   "execution_count": 38,
   "id": "879d002a-0f84-4b01-80bd-8eaa53383163",
   "metadata": {},
   "outputs": [
    {
     "name": "stdout",
     "output_type": "stream",
     "text": [
      "43\n",
      "49\n",
      "3\n"
     ]
    }
   ],
   "source": [
    "a1=pow(10524,2,71)\n",
    "a2=pow(10524,3,71)\n",
    "a3=pow(10524,4,71)\n",
    "a4=pow(10524,5,71)\n",
    "\n",
    "print(a1)\n",
    "print(a2)\n",
    "print(a3)\n"
   ]
  },
  {
   "cell_type": "markdown",
   "id": "baad20f4-da32-42c6-843c-57f3473c8c1d",
   "metadata": {},
   "source": [
    "4) enter the values of 5 stocks in the form of float from the user and find the average of \n",
    "the 5 stocks and finally round off."
   ]
  },
  {
   "cell_type": "code",
   "execution_count": 40,
   "id": "d447286c-1bfe-4740-b84e-d059b1060279",
   "metadata": {},
   "outputs": [
    {
     "name": "stdin",
     "output_type": "stream",
     "text": [
      "Enter 1st stock : 12.23\n",
      "Enter 2nd stock : 45.23\n",
      "Enter 3rd stock : 78.36\n",
      "Enter 4th stock : 55.63\n",
      "Enter 5the stock : 78.99\n"
     ]
    }
   ],
   "source": [
    "a1=input(\"Enter 1st stock :\")\n",
    "a2=input(\"Enter 2nd stock :\")\n",
    "a3=input(\"Enter 3rd stock :\")\n",
    "a4=input(\"Enter 4th stock :\")\n",
    "a5=input(\"Enter 5the stock :\")"
   ]
  },
  {
   "cell_type": "code",
   "execution_count": 44,
   "id": "c75b2fe4-0594-4dbd-95ee-4b956538af49",
   "metadata": {},
   "outputs": [],
   "source": [
    "a1=float(a1)\n",
    "a2=float(a2)\n",
    "a3=float(a3)\n",
    "a4=float(a4)\n",
    "a5=float(a5)"
   ]
  },
  {
   "cell_type": "code",
   "execution_count": 46,
   "id": "0cfaf02e-1c20-476e-a0fe-823bdb0a38dd",
   "metadata": {},
   "outputs": [
    {
     "name": "stdout",
     "output_type": "stream",
     "text": [
      "54.088\n"
     ]
    }
   ],
   "source": [
    "avg=a1+a2+a3+a4+a5\n",
    "avgS=avg/5\n",
    "print(avgS)"
   ]
  },
  {
   "cell_type": "code",
   "execution_count": 48,
   "id": "9dceff2c-ef04-4e7b-b2eb-c49187963647",
   "metadata": {},
   "outputs": [
    {
     "name": "stdout",
     "output_type": "stream",
     "text": [
      "round off is : 54\n"
     ]
    }
   ],
   "source": [
    "print(\"round off is :\",round(avgS))"
   ]
  },
  {
   "cell_type": "code",
   "execution_count": null,
   "id": "e43d1c65-1aef-4104-95ba-ea2cba8a9489",
   "metadata": {},
   "outputs": [],
   "source": [
    "Find the minimum, maximum, and finally sort in the ascending and descending order \n",
    "[1578,52,-6,78,965,741,2365,7895,412,-236,86,120,-96,-41,752,12,0,3,7,-89]"
   ]
  },
  {
   "cell_type": "code",
   "execution_count": 54,
   "id": "5d030438-ab53-4807-a2fb-d9ea17957379",
   "metadata": {},
   "outputs": [
    {
     "name": "stdout",
     "output_type": "stream",
     "text": [
      "maximum :  7895\n",
      "minimum : -236\n",
      "sorted are : [-236, -96, -89, -41, -6, 0, 3, 7, 12, 52, 78, 86, 120, 412, 741, 752, 965, 1578, 2365, 7895]\n"
     ]
    }
   ],
   "source": [
    "x=[1578,52,-6,78,965,741,2365,7895,412,-236,86,120,-96,-41,752,12,0,3,7,-89]\n",
    "print(\"maximum : \", max(x))\n",
    "print(\"minimum :\",min(x))\n",
    "print(\"sorted are :\",sorted(x))\n",
    "print()"
   ]
  },
  {
   "cell_type": "code",
   "execution_count": null,
   "id": "301598b2-50dd-4f4b-a08a-fb89bc91d4e8",
   "metadata": {},
   "outputs": [],
   "source": []
  },
  {
   "cell_type": "code",
   "execution_count": null,
   "id": "993d235b-bf50-4884-a4f5-9f2ee00b5796",
   "metadata": {},
   "outputs": [],
   "source": []
  },
  {
   "cell_type": "code",
   "execution_count": null,
   "id": "30e4bde6-2e66-4b8b-a75e-7e9aa385a1ff",
   "metadata": {},
   "outputs": [],
   "source": []
  }
 ],
 "metadata": {
  "kernelspec": {
   "display_name": "Python [conda env:base] *",
   "language": "python",
   "name": "conda-base-py"
  },
  "language_info": {
   "codemirror_mode": {
    "name": "ipython",
    "version": 3
   },
   "file_extension": ".py",
   "mimetype": "text/x-python",
   "name": "python",
   "nbconvert_exporter": "python",
   "pygments_lexer": "ipython3",
   "version": "3.12.7"
  }
 },
 "nbformat": 4,
 "nbformat_minor": 5
}
