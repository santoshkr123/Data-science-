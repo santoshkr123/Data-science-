{
 "cells": [
  {
   "cell_type": "markdown",
   "id": "d4dab367-a7ce-4da9-8c5e-e081b87033ce",
   "metadata": {},
   "source": [
    " # polymorphism : \n",
    "The word polymorphism means having many forms "
   ]
  },
  {
   "cell_type": "code",
   "execution_count": 9,
   "id": "a50a45a1-f69f-410f-9f46-93d2ed7c7a93",
   "metadata": {},
   "outputs": [
    {
     "data": {
      "text/plain": [
       "3"
      ]
     },
     "execution_count": 9,
     "metadata": {},
     "output_type": "execute_result"
    }
   ],
   "source": [
    "def test(a,b):\n",
    "    return a+b\n",
    "\n",
    "test(1,2)\n"
   ]
  },
  {
   "cell_type": "code",
   "execution_count": 11,
   "id": "05fab232-4493-45e9-b5bb-9cfbff2e21da",
   "metadata": {},
   "outputs": [
    {
     "data": {
      "text/plain": [
       "'codepython'"
      ]
     },
     "execution_count": 11,
     "metadata": {},
     "output_type": "execute_result"
    }
   ],
   "source": [
    "test(\"code\",\"python\")"
   ]
  },
  {
   "cell_type": "code",
   "execution_count": 13,
   "id": "c4760e30-4a0a-4350-a7ca-5c35cbf9f2f4",
   "metadata": {},
   "outputs": [
    {
     "data": {
      "text/plain": [
       "[1, 2, 3, 4, 5, 6]"
      ]
     },
     "execution_count": 13,
     "metadata": {},
     "output_type": "execute_result"
    }
   ],
   "source": [
    "test([1,2,3],[4,5,6])"
   ]
  },
  {
   "cell_type": "code",
   "execution_count": 27,
   "id": "2c5e4a52-dd5d-49d4-be2f-4b4fd8453df4",
   "metadata": {},
   "outputs": [
    {
     "name": "stdout",
     "output_type": "stream",
     "text": [
      "this is the syllabus of datascience\n",
      "this is the syllabus of python\n"
     ]
    }
   ],
   "source": [
    "class data_science():\n",
    "    def syllabus(self):\n",
    "        print(\"this is the syllabus of datascience\")\n",
    "\n",
    "class python():\n",
    "    def syllabus(self):\n",
    "        print(\"this is the syllabus of python\")\n",
    "\n",
    "def demo(class_obj):\n",
    "    for i in class_obj:\n",
    "        i.syllabus()\n",
    "\n",
    "x=data_science()\n",
    "y=python()\n",
    "class_obj=[x,y]\n",
    "demo(class_obj)\n",
    "\n"
   ]
  },
  {
   "cell_type": "code",
   "execution_count": null,
   "id": "bb3e5542-b00a-4f02-9909-80339a55e2ff",
   "metadata": {},
   "outputs": [],
   "source": []
  },
  {
   "cell_type": "code",
   "execution_count": null,
   "id": "16a527a8-2dcc-400f-99f2-b78560ee801b",
   "metadata": {},
   "outputs": [],
   "source": []
  },
  {
   "cell_type": "code",
   "execution_count": null,
   "id": "bd72f45f-195d-46dc-b607-19addafc7141",
   "metadata": {},
   "outputs": [],
   "source": []
  },
  {
   "cell_type": "code",
   "execution_count": null,
   "id": "d52aea22-b5bc-4eb9-b67d-1adbce1b3245",
   "metadata": {},
   "outputs": [],
   "source": []
  }
 ],
 "metadata": {
  "kernelspec": {
   "display_name": "Python [conda env:base] *",
   "language": "python",
   "name": "conda-base-py"
  },
  "language_info": {
   "codemirror_mode": {
    "name": "ipython",
    "version": 3
   },
   "file_extension": ".py",
   "mimetype": "text/x-python",
   "name": "python",
   "nbconvert_exporter": "python",
   "pygments_lexer": "ipython3",
   "version": "3.12.7"
  }
 },
 "nbformat": 4,
 "nbformat_minor": 5
}
