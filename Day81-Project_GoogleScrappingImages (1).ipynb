{
 "cells": [
  {
   "cell_type": "markdown",
   "id": "5f6c6f87-8152-4d34-acf3-63d95df52ddc",
   "metadata": {},
   "source": [
    "# Project_Google Scrapping Imgaes"
   ]
  },
  {
   "cell_type": "code",
   "execution_count": 117,
   "id": "328afb92-e518-4e66-8b0e-b1e925e48952",
   "metadata": {},
   "outputs": [],
   "source": [
    "import requests\n",
    "from bs4 import BeautifulSoup\n",
    "from urllib.request import urlopen as uReq\n",
    "import logging\n",
    "import os\n",
    "\n"
   ]
  },
  {
   "cell_type": "code",
   "execution_count": 118,
   "id": "416a27c0-dbd9-44e9-9ddf-9d506e05a24a",
   "metadata": {},
   "outputs": [],
   "source": [
    "save_dir=\"images/\"\n",
    "if not os.path.exists(save_dir):\n",
    "    os.makedirs(save_dir)\n"
   ]
  },
  {
   "cell_type": "code",
   "execution_count": 119,
   "id": "dce03dd7-735d-41a4-afa4-eab2148202e1",
   "metadata": {},
   "outputs": [],
   "source": [
    " headers = {\"User-Agent\": \"Mozilla/5.0 (Windows NT 10.0; Win64; x64) AppleWebKit/537.36 (KHTML, like Gecko) Chrome/58.0.3029.110 Safari/537.36\"}\n"
   ]
  },
  {
   "cell_type": "code",
   "execution_count": 120,
   "id": "1770ef9c-8ce4-43b7-9425-b971f090db1d",
   "metadata": {},
   "outputs": [],
   "source": [
    "query=\"Virat Kohli\"\n",
    "response = requests.get(f\"https://www.google.com/search?q={query}&tbm=isch\")"
   ]
  },
  {
   "cell_type": "code",
   "execution_count": 121,
   "id": "7e65eacf-f9fb-438e-8496-fb1e1a491e94",
   "metadata": {},
   "outputs": [
    {
     "name": "stdout",
     "output_type": "stream",
     "text": [
      "<Response [200]>\n"
     ]
    }
   ],
   "source": [
    "print(response)"
   ]
  },
  {
   "cell_type": "code",
   "execution_count": 122,
   "id": "4cc694c2-6356-4a7a-b39e-b27ad55946f8",
   "metadata": {},
   "outputs": [],
   "source": [
    "Soup=BeautifulSoup(response.content,\"html.parser\")"
   ]
  },
  {
   "cell_type": "code",
   "execution_count": 123,
   "id": "2998a4fc-c6f6-4989-91a2-d16cb3e8df7a",
   "metadata": {},
   "outputs": [
    {
     "data": {
      "text/plain": [
       "<!DOCTYPE html PUBLIC \"-//WAPFORUM//DTD XHTML Mobile 1.0//EN\" \"http://www.wapforum.org/DTD/xhtml-mobile10.dtd\">\n",
       "<html lang=\"en-IN\" xmlns=\"http://www.w3.org/1999/xhtml\"><head><meta content=\"application/xhtml+xml; charset=utf-8\" http-equiv=\"Content-Type\"/><meta content=\"no-cache\" name=\"Cache-Control\"/><title>Virat Kohli - Google Search</title><style>a{text-decoration:none;color:inherit}a:hover{text-decoration:underline}a img{border:0}body{font-family:sans-serif;padding:8px;margin:0 auto;max-width:700px;min-width:240px;}.FbhRzb{border-left:thin solid #dadce0;border-right:thin solid #dadce0;border-top:thin solid #dadce0;height:40px;overflow:hidden}.n692Zd{margin-bottom:10px}.cvifge{height:40px;border-spacing:0}.QvGUP{height:40px;padding:0 8px 0 8px;vertical-align:top}.O4cRJf{height:40px;width:100%;padding:0;padding-right:14px}.O1ePr{height:40px;padding:0;vertical-align:top}.kgJEQe{height:36px;width:98px;vertical-align:top;margin-top:4px}.lXLRf{vertical-align:top}.MhzMZd{border:0;vertical-align:middle;font-size:14px;height:40px;padding:0;width:100%;padding-left:14px}.xB0fq{height:40px;border:none;font-size:14px;background-color:#1a73e8;color:#fff;padding:0 14px;margin:0;vertical-align:top;cursor:pointer}.xB0fq:focus{border:1px solid #1a73e8}.M7pB2{border:thin solid #dadce0;margin:0 0 3px 0;font-size:13px;font-weight:500;height:40px}.euZec{width:100%;height:40px;text-align:center;border-spacing:0}table.euZec td{padding:0;width:25%}.QIqI7{display:inline-block;padding-top:4px;font-weight:bold;color:#4285f4}.EY24We{border-bottom:2px solid #4285f4}.CsQyDc{display:inline-block;color:#70757a}.TuS8Ad{font-size:14px}.HddGcc{padding:8px;color:#70757a}.dzp8ae{font-weight:bold;color:#3c4043}.rEM8G{color:#70757a}.bookcf{table-layout:fixed;width:100%;border-spacing:0}.InWNIe{text-align:center}.uZgmoc{border:thin solid #dadce0;color:#70757a;font-size:14px;text-align:center;table-layout:fixed;width:100%}.frGj1b{display:block;padding:16px 0 12px 0;width:100%}.BnJWBc{text-align:center;padding:6px 0 13px 0;height:35px}.e3goi{vertical-align:top;padding:0;height:180px}.GpQGbf{margin:auto;border-collapse:collapse;border-spacing:0;width:100%}</style></head><body><style>.X6ZCif{color:#202124;font-size:11px;line-height:16px;display:inline-block;padding-top:2px;overflow:hidden;padding-bottom:4px;width:100%}.TwVfHd{border-radius:16px;border:thin solid #dadce0;display:inline-block;padding:8px 8px;margin-right:8px;margin-bottom:4px}.yekiAe{background-color:#dadce0}.jjVJ4e{width:100%}.ezO2md{border:thin solid #dadce0;padding:16px 14px 12px 14px;margin-bottom:10px;font-family:sans-serif}.lIMUZd{font-family:sans-serif}.RntSmf{border-spacing:0}.lgD2Tc{width:100%}.SpelHe{text-align:center}.SpelHe{position:relative}.kCmkOe{position:relative}.kCmkOe{width:162px;height:140px;line-height:140px;overflow:'hidden';text-align:center}.DS1iW{text-align:center;margin:auto;vertical-align:middle;max-width:162px;max-height:140px}.AlD19d{padding-top:2px;padding-bottom:8px;}.fYyStc{word-break:break-word}.ynsChf{display:block;white-space:nowrap;overflow:hidden;text-overflow:ellipsis}.Fj3V3b{color:#1967d2;font-size:14px;line-height:20px}.FrIlee{color:#202124;font-size:11px;line-height:16px}.F9iS2e{color:#70757a;font-size:11px;line-height:16px}.WMQ2Le{color:#70757a;font-size:12px;line-height:16px}.x3G5ab{color:#202124;font-size:12px;line-height:16px}.fuLhoc{color:#1967d2;font-size:16px;line-height:20px}.epoveb{font-size:24px;line-height:28px;font-weight:400;color:#202124}.dXDvrc{color:#0d652d;font-size:14px;line-height:20px;word-wrap:break-word}.dloBPe{font-weight:bold}.YVIcad{color:#70757a}.JkVVdd{color:#ea4335}.oXZRFd{color:#ea4335}.MQHtg{color:#fbbc04}.pyMRrb{color:#1e8e3e}.EtTZid{color:#1e8e3e}.M3vVJe{color:#1967d2}.qXLe6d{display:block}.NHQNef{font-style:italic}.Cb8Z7c{white-space:pre}a.ZWRArf{text-decoration:none}a .CVA68e:hover{text-decoration:underline}</style><div class=\"n692Zd\"><div class=\"BnJWBc\"><a class=\"lXLRf\" href=\"/?sca_esv=3f86ee1adea6a337&amp;output=images&amp;ie=UTF-8&amp;tbm=isch&amp;sa=X&amp;ved=0ahUKEwjM08bn35KNAxVQSGcHHWYsHTUQPAgC\"><img alt=\"Google\" class=\"kgJEQe\" src=\"/images/branding/searchlogo/1x/googlelogo_desk_heirloom_color_150x55dp.gif\"/></a></div><div class=\"FbhRzb\"><form action=\"/search\"><input name=\"sca_esv\" type=\"hidden\" value=\"3f86ee1adea6a337\"/><input name=\"ie\" type=\"hidden\" value=\"ISO-8859-1\"/><input name=\"tbm\" type=\"hidden\" value=\"isch\"/><input name=\"oq\" type=\"hidden\"/><input name=\"aqs\" type=\"hidden\"/><table class=\"cvifge\"><tr><td class=\"O4cRJf\"><input class=\"MhzMZd\" name=\"q\" type=\"text\" value=\"Virat Kohli\"/></td><td class=\"O1ePr\"><input class=\"xB0fq\" type=\"submit\" value=\"Search\"/></td></tr></table></form></div><div class=\"M7pB2\"><table class=\"euZec\"><tbody><tr><td><a class=\"CsQyDc\" href=\"/search?q=Virat+Kohli&amp;sca_esv=3f86ee1adea6a337&amp;ie=UTF-8&amp;source=lnms&amp;sa=X&amp;ved=0ahUKEwjM08bn35KNAxVQSGcHHWYsHTUQ_AUIBCgA\">ALL</a></td><td><a class=\"CsQyDc\" href=\"/search?q=Virat+Kohli&amp;sca_esv=3f86ee1adea6a337&amp;ie=UTF-8&amp;tbm=nws&amp;source=lnms&amp;sa=X&amp;ved=0ahUKEwjM08bn35KNAxVQSGcHHWYsHTUQ_AUIBSgB\">NEWS</a></td><td class=\"EY24We\"><span class=\"QIqI7\">IMAGES</span></td><td><a class=\"CsQyDc\" href=\"/search?q=Virat+Kohli&amp;sca_esv=3f86ee1adea6a337&amp;ie=UTF-8&amp;tbm=vid&amp;source=lnms&amp;sa=X&amp;ved=0ahUKEwjM08bn35KNAxVQSGcHHWYsHTUQ_AUIBygD\">VIDEOS</a></td></tr></tbody></table></div></div><div><table class=\"GpQGbf\"><tr><td align=\"center\" class=\"e3goi\"><div class=\"jjVJ4e\"> <div> <div class=\"lIMUZd\"><div><table class=\"RntSmf\"><tr><td><a href=\"/url?q=https://en.wikipedia.org/wiki/Virat_Kohli&amp;sa=U&amp;ved=2ahUKEwjM08bn35KNAxVQSGcHHWYsHTUQqoUBegQICRAB&amp;usg=AOvVaw0349nX5NfukHVrDIcAU855\"><div class=\"kCmkOe\"><img alt=\"\" class=\"DS1iW\" src=\"https://encrypted-tbn0.gstatic.com/images?q=tbn:ANd9GcSApOD8cC7Jh33c0VqbcFkcmx0og9wr1DYsD50a8Tp3p-0I33M_SuuLXA0Kizk&amp;s\"/></div></a></td></tr><tr><td><a href=\"/url?q=https://en.wikipedia.org/wiki/Virat_Kohli&amp;sa=U&amp;ved=2ahUKEwjM08bn35KNAxVQSGcHHWYsHTUQr4kDegQICRAC&amp;usg=AOvVaw0lkugt-6vVe7KF5JSJbpsq\"><div class=\"AlD19d\"> <span class=\"qXLe6d x3G5ab\"> <span class=\"fYyStc\">Virat Kohli - Wikipedia</span> </span> <span class=\"qXLe6d F9iS2e\"> <span class=\"fYyStc\">en.wikipedia.org</span> </span> </div></a></td></tr></table></div></div> </div> </div></td><td align=\"center\" class=\"e3goi\"><div class=\"jjVJ4e\"> <div> <div class=\"lIMUZd\"><div><table class=\"RntSmf\"><tr><td><a href=\"/url?q=https://sports.ndtv.com/cricket/virat-kohli-reveals-special-friendship-with-ex-india-pacer-nothing-has-changed-8344096&amp;sa=U&amp;ved=2ahUKEwjM08bn35KNAxVQSGcHHWYsHTUQqoUBegQIFBAB&amp;usg=AOvVaw39giv65-FYxEhw3IxEKlTt\"><div class=\"kCmkOe\"><img alt=\"\" class=\"DS1iW\" src=\"https://encrypted-tbn0.gstatic.com/images?q=tbn:ANd9GcTRTHEu7wyPemlaqePykLZWrerugLTrd7FspxeitdE9IFt33aBxscD2UFEO5g&amp;s\"/></div></a></td></tr><tr><td><a href=\"/url?q=https://sports.ndtv.com/cricket/virat-kohli-reveals-special-friendship-with-ex-india-pacer-nothing-has-changed-8344096&amp;sa=U&amp;ved=2ahUKEwjM08bn35KNAxVQSGcHHWYsHTUQr4kDegQIFBAC&amp;usg=AOvVaw1UJ56gWT-ekga7QKd4BWz3\"><div class=\"AlD19d\"> <span class=\"qXLe6d x3G5ab\"> <span class=\"fYyStc\">Virat Kohli Reveals...</span> </span> <span class=\"qXLe6d F9iS2e\"> <span class=\"fYyStc\">sports.ndtv.com</span> </span> </div></a></td></tr></table></div></div> </div> </div></td><td align=\"center\" class=\"e3goi\"><div class=\"jjVJ4e\"> <div> <div class=\"lIMUZd\"><div><table class=\"RntSmf\"><tr><td><a href=\"/url?q=https://www.iplt20.com/teams/royal-challengers-bengaluru/squad-details/164&amp;sa=U&amp;ved=2ahUKEwjM08bn35KNAxVQSGcHHWYsHTUQqoUBegQIExAB&amp;usg=AOvVaw2dx6ZX3uTp8ZUlYthQNYXm\"><div class=\"kCmkOe\"><img alt=\"\" class=\"DS1iW\" src=\"https://encrypted-tbn0.gstatic.com/images?q=tbn:ANd9GcTjQrFsZ0q98tlpB98Rzx-0aot4sm99YLMi-8-l0FSYu4dX7GXJLLpfQ3QOZgg&amp;s\"/></div></a></td></tr><tr><td><a href=\"/url?q=https://www.iplt20.com/teams/royal-challengers-bengaluru/squad-details/164&amp;sa=U&amp;ved=2ahUKEwjM08bn35KNAxVQSGcHHWYsHTUQr4kDegQIExAC&amp;usg=AOvVaw0SPLu0CymTCxtNUzbM91GG\"><div class=\"AlD19d\"> <span class=\"qXLe6d x3G5ab\"> <span class=\"fYyStc\">IPL 2025 | Royal...</span> </span> <span class=\"qXLe6d F9iS2e\"> <span class=\"fYyStc\">www.iplt20.com</span> </span> </div></a></td></tr></table></div></div> </div> </div></td><td align=\"center\" class=\"e3goi\"><div class=\"jjVJ4e\"> <div> <div class=\"lIMUZd\"><div><table class=\"RntSmf\"><tr><td><a href=\"/url?q=https://www.bcci.tv/international/men/players/virat-kohli/2&amp;sa=U&amp;ved=2ahUKEwjM08bn35KNAxVQSGcHHWYsHTUQqoUBegQIDhAB&amp;usg=AOvVaw1lxJw7TayC7HXx82H9cr7x\"><div class=\"kCmkOe\"><img alt=\"\" class=\"DS1iW\" src=\"https://encrypted-tbn0.gstatic.com/images?q=tbn:ANd9GcT6CdrYXeLtgDB_RDu04lay4NYo8e-Wpas8IUGgf_PJymqdfWPGi0NA20Lqum8&amp;s\"/></div></a></td></tr><tr><td><a href=\"/url?q=https://www.bcci.tv/international/men/players/virat-kohli/2&amp;sa=U&amp;ved=2ahUKEwjM08bn35KNAxVQSGcHHWYsHTUQr4kDegQIDhAC&amp;usg=AOvVaw3W41dKKTY1VyTnNKu9X6BF\"><div class=\"AlD19d\"> <span class=\"qXLe6d x3G5ab\"> <span class=\"fYyStc\">India Men's Cricket Team -...</span> </span> <span class=\"qXLe6d F9iS2e\"> <span class=\"fYyStc\">www.bcci.tv</span> </span> </div></a></td></tr></table></div></div> </div> </div></td></tr><tr><td align=\"center\" class=\"e3goi\"><div class=\"jjVJ4e\"> <div> <div class=\"lIMUZd\"><div><table class=\"RntSmf\"><tr><td><a href=\"/url?q=https://timesofindia.indiatimes.com/sports/cricket/ipl/player-stats/virat-kohli/3993&amp;sa=U&amp;ved=2ahUKEwjM08bn35KNAxVQSGcHHWYsHTUQqoUBegQIEhAB&amp;usg=AOvVaw1RMYTFSB7_8ROj2xB468h-\"><div class=\"kCmkOe\"><img alt=\"\" class=\"DS1iW\" src=\"https://encrypted-tbn0.gstatic.com/images?q=tbn:ANd9GcSf4Zc2-Cy3g-I9Tb9XAMjlrmM_cVztWU2w_Tu2RkT-5ZkRJ7Iy5NNsqJYWNtM&amp;s\"/></div></a></td></tr><tr><td><a href=\"/url?q=https://timesofindia.indiatimes.com/sports/cricket/ipl/player-stats/virat-kohli/3993&amp;sa=U&amp;ved=2ahUKEwjM08bn35KNAxVQSGcHHWYsHTUQr4kDegQIEhAC&amp;usg=AOvVaw0l5o7z40IKK77yf0w2JyE9\"><div class=\"AlD19d\"> <span class=\"qXLe6d x3G5ab\"> <span class=\"fYyStc\">Virat Kohli IPL Stats,...</span> </span> <span class=\"qXLe6d F9iS2e\"> <span class=\"fYyStc\">timesofindia.indiatimes.com...</span> </span> </div></a></td></tr></table></div></div> </div> </div></td><td align=\"center\" class=\"e3goi\"><div class=\"jjVJ4e\"> <div> <div class=\"lIMUZd\"><div><table class=\"RntSmf\"><tr><td><a href=\"/url?q=https://sports.ndtv.com/asia-cup-2022/virat-kohli-celebrates-in-special-fashion-after-ending-1021-day-century-drought-watch-3329158&amp;sa=U&amp;ved=2ahUKEwjM08bn35KNAxVQSGcHHWYsHTUQqoUBegQIERAB&amp;usg=AOvVaw1-W6TSPvOk4A_egbB_gQf9\"><div class=\"kCmkOe\"><img alt=\"\" class=\"DS1iW\" src=\"https://encrypted-tbn0.gstatic.com/images?q=tbn:ANd9GcTUTq7A-eJ-1_LWDzdQZaYy6H8ZCNAcrTbuEoHK444-a13ejtal4nRAiJR-xg&amp;s\"/></div></a></td></tr><tr><td><a href=\"/url?q=https://sports.ndtv.com/asia-cup-2022/virat-kohli-celebrates-in-special-fashion-after-ending-1021-day-century-drought-watch-3329158&amp;sa=U&amp;ved=2ahUKEwjM08bn35KNAxVQSGcHHWYsHTUQr4kDegQIERAC&amp;usg=AOvVaw2nrW8Gvvd6IdiDeXRPqPzF\"><div class=\"AlD19d\"> <span class=\"qXLe6d x3G5ab\"> <span class=\"fYyStc\">Virat Kohli Celebrates In...</span> </span> <span class=\"qXLe6d F9iS2e\"> <span class=\"fYyStc\">sports.ndtv.com</span> </span> </div></a></td></tr></table></div></div> </div> </div></td><td align=\"center\" class=\"e3goi\"><div class=\"jjVJ4e\"> <div> <div class=\"lIMUZd\"><div><table class=\"RntSmf\"><tr><td><a href=\"/url?q=https://www.icecric.news/virat-kohli/&amp;sa=U&amp;ved=2ahUKEwjM08bn35KNAxVQSGcHHWYsHTUQqoUBegQIDxAB&amp;usg=AOvVaw17BbduYqxYUN8Tle2GxLad\"><div class=\"kCmkOe\"><img alt=\"\" class=\"DS1iW\" src=\"https://encrypted-tbn0.gstatic.com/images?q=tbn:ANd9GcQlj1s-nVIdQBYq64HJ48NAyuQVBAwU-RzFhz74hHEPCK4cuHAQ0axE548voKk&amp;s\"/></div></a></td></tr><tr><td><a href=\"/url?q=https://www.icecric.news/virat-kohli/&amp;sa=U&amp;ved=2ahUKEwjM08bn35KNAxVQSGcHHWYsHTUQr4kDegQIDxAC&amp;usg=AOvVaw38zUfJF86CPKqtU-3-BrBZ\"><div class=\"AlD19d\"> <span class=\"qXLe6d x3G5ab\"> <span class=\"fYyStc\">Virat Kohli Profile - Age,...</span> </span> <span class=\"qXLe6d F9iS2e\"> <span class=\"fYyStc\">www.icecric.news</span> </span> </div></a></td></tr></table></div></div> </div> </div></td><td align=\"center\" class=\"e3goi\"><div class=\"jjVJ4e\"> <div> <div class=\"lIMUZd\"><div><table class=\"RntSmf\"><tr><td><a href=\"/url?q=https://www.britannica.com/biography/Virat-Kohli&amp;sa=U&amp;ved=2ahUKEwjM08bn35KNAxVQSGcHHWYsHTUQqoUBegQIDRAB&amp;usg=AOvVaw012Uj3thZAZobIGJBf0_A2\"><div class=\"kCmkOe\"><img alt=\"\" class=\"DS1iW\" src=\"https://encrypted-tbn0.gstatic.com/images?q=tbn:ANd9GcQq8X0nLNaCzy7-IB3JuFXdBf8TU8Osb9_3kM_zz_nV_7K3F5pk8RPNXJHQB-M&amp;s\"/></div></a></td></tr><tr><td><a href=\"/url?q=https://www.britannica.com/biography/Virat-Kohli&amp;sa=U&amp;ved=2ahUKEwjM08bn35KNAxVQSGcHHWYsHTUQr4kDegQIDRAC&amp;usg=AOvVaw3K2Z1H5ICvZ5l5L0aT91GU\"><div class=\"AlD19d\"> <span class=\"qXLe6d x3G5ab\"> <span class=\"fYyStc\">Virat Kohli | Life, Career,...</span> </span> <span class=\"qXLe6d F9iS2e\"> <span class=\"fYyStc\">www.britannica.com</span> </span> </div></a></td></tr></table></div></div> </div> </div></td></tr><tr><td align=\"center\" class=\"e3goi\"><div class=\"jjVJ4e\"> <div> <div class=\"lIMUZd\"><div><table class=\"RntSmf\"><tr><td><a href=\"/url?q=https://www.amazon.in/SIGNOOGLE-Cricket-Posters-Wallpaper-Bedroom/dp/B08DLWYQWS&amp;sa=U&amp;ved=2ahUKEwjM08bn35KNAxVQSGcHHWYsHTUQqoUBegQIEBAB&amp;usg=AOvVaw3jEzOPTw8mcyaWcSceTjmA\"><div class=\"kCmkOe\"><img alt=\"\" class=\"DS1iW\" src=\"https://encrypted-tbn0.gstatic.com/images?q=tbn:ANd9GcQ_cKXKHWG3oXJ2RRF_2XoHkPuX4youV-ge7-ujoDJR5C5yEXCJCE7QS1lIpg&amp;s\"/></div></a></td></tr><tr><td><a href=\"/url?q=https://www.amazon.in/SIGNOOGLE-Cricket-Posters-Wallpaper-Bedroom/dp/B08DLWYQWS&amp;sa=U&amp;ved=2ahUKEwjM08bn35KNAxVQSGcHHWYsHTUQr4kDegQIEBAC&amp;usg=AOvVaw2NlJhSwoTVzvi693Idm8EO\"><div class=\"AlD19d\"> <span class=\"qXLe6d x3G5ab\"> <span class=\"fYyStc\">SIGNOOGLE Virat Kohli...</span> </span> <span class=\"qXLe6d F9iS2e\"> <span class=\"fYyStc\">www.amazon.in</span> </span> </div></a></td></tr></table></div></div> </div> </div></td><td align=\"center\" class=\"e3goi\"><div class=\"jjVJ4e\"> <div> <div class=\"lIMUZd\"><div><table class=\"RntSmf\"><tr><td><a href=\"/url?q=https://www.espncricinfo.com/cricketers/virat-kohli-253802&amp;sa=U&amp;ved=2ahUKEwjM08bn35KNAxVQSGcHHWYsHTUQqoUBegQIChAB&amp;usg=AOvVaw3EXckE18UVGmCx2jaQCHyC\"><div class=\"kCmkOe\"><img alt=\"\" class=\"DS1iW\" src=\"https://encrypted-tbn0.gstatic.com/images?q=tbn:ANd9GcTkbGjYZCZsi0-TAjTK1v8Iu6fwMwq0fZJzdpk-lDrhUbbzc-TkkYODgfnD5Q&amp;s\"/></div></a></td></tr><tr><td><a href=\"/url?q=https://www.espncricinfo.com/cricketers/virat-kohli-253802&amp;sa=U&amp;ved=2ahUKEwjM08bn35KNAxVQSGcHHWYsHTUQr4kDegQIChAC&amp;usg=AOvVaw1nOQ6Jt4BvyKi3TnziQec4\"><div class=\"AlD19d\"> <span class=\"qXLe6d x3G5ab\"> <span class=\"fYyStc\">Virat Kohli Profile -...</span> </span> <span class=\"qXLe6d F9iS2e\"> <span class=\"fYyStc\">www.espncricinfo.com</span> </span> </div></a></td></tr></table></div></div> </div> </div></td><td align=\"center\" class=\"e3goi\"><div class=\"jjVJ4e\"> <div> <div class=\"lIMUZd\"><div><table class=\"RntSmf\"><tr><td><a href=\"/url?q=https://sportstar.thehindu.com/shorts/virat-kohli-retirement-announcement-t20-world-cup-2024-stats-pictures-wallpapers/article68350059.ece&amp;sa=U&amp;ved=2ahUKEwjM08bn35KNAxVQSGcHHWYsHTUQqoUBegQIDBAB&amp;usg=AOvVaw0jzTeOwGwkq6T61mTCTvYU\"><div class=\"kCmkOe\"><img alt=\"\" class=\"DS1iW\" src=\"https://encrypted-tbn0.gstatic.com/images?q=tbn:ANd9GcTjmclCmnJAQmKYClLCy7NmyzaFKU-3Nk4L8bmnWglvggXT73uBPpHYFkQdeg&amp;s\"/></div></a></td></tr><tr><td><a href=\"/url?q=https://sportstar.thehindu.com/shorts/virat-kohli-retirement-announcement-t20-world-cup-2024-stats-pictures-wallpapers/article68350059.ece&amp;sa=U&amp;ved=2ahUKEwjM08bn35KNAxVQSGcHHWYsHTUQr4kDegQIDBAC&amp;usg=AOvVaw11idAH7WbH0hwBpHH2WRRf\"><div class=\"AlD19d\"> <span class=\"qXLe6d x3G5ab\"> <span class=\"fYyStc\">Virat Kohli proves it's not...</span> </span> <span class=\"qXLe6d F9iS2e\"> <span class=\"fYyStc\">sportstar.thehindu.com</span> </span> </div></a></td></tr></table></div></div> </div> </div></td><td align=\"center\" class=\"e3goi\"><div class=\"jjVJ4e\"> <div> <div class=\"lIMUZd\"><div><table class=\"RntSmf\"><tr><td><a href=\"/url?q=https://www.prabhatkhabar.com/sports/cricket/ipl/virat-kohli-cricket-philosophy-shares-ipl-journey-not-ego-steps-back-if-someone-better-positioned&amp;sa=U&amp;ved=2ahUKEwjM08bn35KNAxVQSGcHHWYsHTUQqoUBegQICxAB&amp;usg=AOvVaw05Su1chvVcCdT2PcysKu5p\"><div class=\"kCmkOe\"><img alt=\"\" class=\"DS1iW\" src=\"https://encrypted-tbn0.gstatic.com/images?q=tbn:ANd9GcQNsCan85MKd0DWOiZmK2iEImUYKYc8TjP5TJ-H9U6Mx5sb3wENAT9LYCpiTA&amp;s\"/></div></a></td></tr><tr><td><a href=\"/url?q=https://www.prabhatkhabar.com/sports/cricket/ipl/virat-kohli-cricket-philosophy-shares-ipl-journey-not-ego-steps-back-if-someone-better-positioned&amp;sa=U&amp;ved=2ahUKEwjM08bn35KNAxVQSGcHHWYsHTUQr4kDegQICxAC&amp;usg=AOvVaw3hWw2gkVv2uStfPdNbP0Lj\"><div class=\"AlD19d\"> <span class=\"qXLe6d x3G5ab\"> <span class=\"fYyStc\">Virat Kohli: मुझमें ईगो...</span> </span> <span class=\"qXLe6d F9iS2e\"> <span class=\"fYyStc\">www.prabhatkhabar.com</span> </span> </div></a></td></tr></table></div></div> </div> </div></td></tr><tr><td align=\"center\" class=\"e3goi\"><div class=\"jjVJ4e\"> <div> <div class=\"lIMUZd\"><div><table class=\"RntSmf\"><tr><td><a href=\"/url?q=https://m.economictimes.com/news/new-updates/virat-kohlis-new-hairstyle-goes-viral-before-ipl-2025-check-the-name-and-stylist-behind-his-new-look/articleshow/119005974.cms&amp;sa=U&amp;ved=2ahUKEwjM08bn35KNAxVQSGcHHWYsHTUQqoUBegQIBxAB&amp;usg=AOvVaw2BALvSForG2wrieclTOiJN\"><div class=\"kCmkOe\"><img alt=\"\" class=\"DS1iW\" src=\"https://encrypted-tbn0.gstatic.com/images?q=tbn:ANd9GcRzMDrm4PfrQNloeNAI2EcFUfVULrf-ArAWmc_6OayXontFgdcu1DFeOCaxGmY&amp;s\"/></div></a></td></tr><tr><td><a href=\"/url?q=https://m.economictimes.com/news/new-updates/virat-kohlis-new-hairstyle-goes-viral-before-ipl-2025-check-the-name-and-stylist-behind-his-new-look/articleshow/119005974.cms&amp;sa=U&amp;ved=2ahUKEwjM08bn35KNAxVQSGcHHWYsHTUQr4kDegQIBxAC&amp;usg=AOvVaw04AERaM84QLtTphoZmJb-o\"><div class=\"AlD19d\"> <span class=\"qXLe6d x3G5ab\"> <span class=\"fYyStc\">Virat Kohli's new hairstyle...</span> </span> <span class=\"qXLe6d F9iS2e\"> <span class=\"fYyStc\">m.economictimes.com</span> </span> </div></a></td></tr></table></div></div> </div> </div></td><td align=\"center\" class=\"e3goi\"><div class=\"jjVJ4e\"> <div> <div class=\"lIMUZd\"><div><table class=\"RntSmf\"><tr><td><a href=\"/url?q=https://www.cricket.com.au/players/CA:10917&amp;sa=U&amp;ved=2ahUKEwjM08bn35KNAxVQSGcHHWYsHTUQqoUBegQIAhAB&amp;usg=AOvVaw01Tlj44VH_TveDdx740MHz\"><div class=\"kCmkOe\"><img alt=\"\" class=\"DS1iW\" src=\"https://encrypted-tbn0.gstatic.com/images?q=tbn:ANd9GcTwc9ZiTK5LuMMuxjC4ZI1iGX7HO2T7dGfY0TR3BsGMtu98ZQ0t9H8WKdbiNQ&amp;s\"/></div></a></td></tr><tr><td><a href=\"/url?q=https://www.cricket.com.au/players/CA:10917&amp;sa=U&amp;ved=2ahUKEwjM08bn35KNAxVQSGcHHWYsHTUQr4kDegQIAhAC&amp;usg=AOvVaw0908SSPejGxl1-u-8a8TL0\"><div class=\"AlD19d\"> <span class=\"qXLe6d x3G5ab\"> <span class=\"fYyStc\">Virat Kohli |...</span> </span> <span class=\"qXLe6d F9iS2e\"> <span class=\"fYyStc\">www.cricket.com.au</span> </span> </div></a></td></tr></table></div></div> </div> </div></td><td align=\"center\" class=\"e3goi\"><div class=\"jjVJ4e\"> <div> <div class=\"lIMUZd\"><div><table class=\"RntSmf\"><tr><td><a href=\"/url?q=https://www.news18.com/cricket/very-special-individual-in-my-life-virat-kohli-on-his-bond-with-india-pacer-9325776.html&amp;sa=U&amp;ved=2ahUKEwjM08bn35KNAxVQSGcHHWYsHTUQqoUBegQIBhAB&amp;usg=AOvVaw1idh5ECYIlJNduVSVZr7t5\"><div class=\"kCmkOe\"><img alt=\"\" class=\"DS1iW\" src=\"https://encrypted-tbn0.gstatic.com/images?q=tbn:ANd9GcQ5Vtp-jukXT8uB5IgYzRrWx-FM93Z3deBelPCZ8GhBGM5my5eHJC7jLDD0eA&amp;s\"/></div></a></td></tr><tr><td><a href=\"/url?q=https://www.news18.com/cricket/very-special-individual-in-my-life-virat-kohli-on-his-bond-with-india-pacer-9325776.html&amp;sa=U&amp;ved=2ahUKEwjM08bn35KNAxVQSGcHHWYsHTUQr4kDegQIBhAC&amp;usg=AOvVaw2liCNBskVd8JUaugdGQvUv\"><div class=\"AlD19d\"> <span class=\"qXLe6d x3G5ab\"> <span class=\"fYyStc\">Very Special Individual In...</span> </span> <span class=\"qXLe6d F9iS2e\"> <span class=\"fYyStc\">www.news18.com</span> </span> </div></a></td></tr></table></div></div> </div> </div></td><td align=\"center\" class=\"e3goi\"><div class=\"jjVJ4e\"> <div> <div class=\"lIMUZd\"><div><table class=\"RntSmf\"><tr><td><a href=\"/url?q=https://www.asianage.com/sports/virat-kohli-doesnt-have-anything-to-prove-his-contribution-is-unparalleled-kapil-dev-1840905&amp;sa=U&amp;ved=2ahUKEwjM08bn35KNAxVQSGcHHWYsHTUQqoUBegQIBRAB&amp;usg=AOvVaw0jV1iTLTwbieeRn1iTMgfX\"><div class=\"kCmkOe\"><img alt=\"\" class=\"DS1iW\" src=\"https://encrypted-tbn0.gstatic.com/images?q=tbn:ANd9GcTFtfhmyS6i7G2dcQDksEMYr2hMT19n3SLzXwBoNgUs7MUeVaqm8hwEA5HXD_8&amp;s\"/></div></a></td></tr><tr><td><a href=\"/url?q=https://www.asianage.com/sports/virat-kohli-doesnt-have-anything-to-prove-his-contribution-is-unparalleled-kapil-dev-1840905&amp;sa=U&amp;ved=2ahUKEwjM08bn35KNAxVQSGcHHWYsHTUQr4kDegQIBRAC&amp;usg=AOvVaw3r1tLKr_Dkg5zzms3bRUwl\"><div class=\"AlD19d\"> <span class=\"qXLe6d x3G5ab\"> <span class=\"fYyStc\">Virat Kohli doesn't have...</span> </span> <span class=\"qXLe6d F9iS2e\"> <span class=\"fYyStc\">www.asianage.com</span> </span> </div></a></td></tr></table></div></div> </div> </div></td></tr><tr><td align=\"center\" class=\"e3goi\"><div class=\"jjVJ4e\"> <div> <div class=\"lIMUZd\"><div><table class=\"RntSmf\"><tr><td><a href=\"/url?q=https://zeenews.india.com/web-stories/cricket/7-life-lessons-to-learn-from-virat-kohli-career-2802833.html&amp;sa=U&amp;ved=2ahUKEwjM08bn35KNAxVQSGcHHWYsHTUQqoUBegQICBAB&amp;usg=AOvVaw0KnNRzB9mPaVpH7Spz2D_J\"><div class=\"kCmkOe\"><img alt=\"\" class=\"DS1iW\" src=\"https://encrypted-tbn0.gstatic.com/images?q=tbn:ANd9GcQSO8JuP6uct8Z-2hk7sFcVya7mxEJFNcB4B3HgHJlMIvWlhZWqHRse7oVEzQ&amp;s\"/></div></a></td></tr><tr><td><a href=\"/url?q=https://zeenews.india.com/web-stories/cricket/7-life-lessons-to-learn-from-virat-kohli-career-2802833.html&amp;sa=U&amp;ved=2ahUKEwjM08bn35KNAxVQSGcHHWYsHTUQr4kDegQICBAC&amp;usg=AOvVaw2HyJFnzMyoBStSmGBW4r3R\"><div class=\"AlD19d\"> <span class=\"qXLe6d x3G5ab\"> <span class=\"fYyStc\">7 Life Lessons To Learn...</span> </span> <span class=\"qXLe6d F9iS2e\"> <span class=\"fYyStc\">zeenews.india.com</span> </span> </div></a></td></tr></table></div></div> </div> </div></td><td align=\"center\" class=\"e3goi\"><div class=\"jjVJ4e\"> <div> <div class=\"lIMUZd\"><div><table class=\"RntSmf\"><tr><td><a href=\"/url?q=https://www.instagram.com/p/DBwMEKCNLuC/&amp;sa=U&amp;ved=2ahUKEwjM08bn35KNAxVQSGcHHWYsHTUQqoUBegQIAxAB&amp;usg=AOvVaw2mEM4v8VuJPAQnMEYkNUva\"><div class=\"kCmkOe\"><img alt=\"\" class=\"DS1iW\" src=\"https://encrypted-tbn0.gstatic.com/images?q=tbn:ANd9GcTgDky2gLuO5Vz6_7hMV7nLesbs0ybOtCxgEATKDF_CICc54-GxoZeEVcU9&amp;s\"/></div></a></td></tr><tr><td><a href=\"/url?q=https://www.instagram.com/p/DBwMEKCNLuC/&amp;sa=U&amp;ved=2ahUKEwjM08bn35KNAxVQSGcHHWYsHTUQr4kDegQIAxAC&amp;usg=AOvVaw3_TCojtDYbByCzuc5PFdUx\"><div class=\"AlD19d\"> <span class=\"qXLe6d x3G5ab\"> <span class=\"fYyStc\">🚨 CAPTAIN KOHLI RETURNS!...</span> </span> <span class=\"qXLe6d F9iS2e\"> <span class=\"fYyStc\">www.instagram.com</span> </span> </div></a></td></tr></table></div></div> </div> </div></td><td align=\"center\" class=\"e3goi\"><div class=\"jjVJ4e\"> <div> <div class=\"lIMUZd\"><div><table class=\"RntSmf\"><tr><td><a href=\"/url?q=https://www.financialexpress.com/life/lifestyle-meet-virat-kohli-know-about-his-net-worth-endorsements-investments-and-lifestyle-3700854/&amp;sa=U&amp;ved=2ahUKEwjM08bn35KNAxVQSGcHHWYsHTUQqoUBegQIARAB&amp;usg=AOvVaw3h8Kz7gpMlCDlyGgStPgV8\"><div class=\"kCmkOe\"><img alt=\"\" class=\"DS1iW\" src=\"https://encrypted-tbn0.gstatic.com/images?q=tbn:ANd9GcRvekHtzKB03FpmbCHuEgXuru9dJ-n4Oy2Bm8KX4HDVoXVR_URfzwoJsufMhS8&amp;s\"/></div></a></td></tr><tr><td><a href=\"/url?q=https://www.financialexpress.com/life/lifestyle-meet-virat-kohli-know-about-his-net-worth-endorsements-investments-and-lifestyle-3700854/&amp;sa=U&amp;ved=2ahUKEwjM08bn35KNAxVQSGcHHWYsHTUQr4kDegQIARAC&amp;usg=AOvVaw17uOrRyptJZjHxsrSkpmJR\"><div class=\"AlD19d\"> <span class=\"qXLe6d x3G5ab\"> <span class=\"fYyStc\">Meet Virat Kohli: Know...</span> </span> <span class=\"qXLe6d F9iS2e\"> <span class=\"fYyStc\">www.financialexpress.com</span> </span> </div></a></td></tr></table></div></div> </div> </div></td><td align=\"center\" class=\"e3goi\"><div class=\"jjVJ4e\"> <div> <div class=\"lIMUZd\"><div><table class=\"RntSmf\"><tr><td><a href=\"/url?q=https://www.indiatoday.in/sports/cricket/story/virat-kohli-proves-doubters-wrong-adjusts-his-game-to-teams-needs-sanjay-bangar-2699425-2025-03-26&amp;sa=U&amp;ved=2ahUKEwjM08bn35KNAxVQSGcHHWYsHTUQqoUBegQIBBAB&amp;usg=AOvVaw2p08XJIiDN9ri4RLY-82sO\"><div class=\"kCmkOe\"><img alt=\"\" class=\"DS1iW\" src=\"https://encrypted-tbn0.gstatic.com/images?q=tbn:ANd9GcTk2Lvc4Pc6PkJmRIex3avOhleuOEUAPwt-AY-s-Ji2ggC58RCHUzfhWFWw8g&amp;s\"/></div></a></td></tr><tr><td><a href=\"/url?q=https://www.indiatoday.in/sports/cricket/story/virat-kohli-proves-doubters-wrong-adjusts-his-game-to-teams-needs-sanjay-bangar-2699425-2025-03-26&amp;sa=U&amp;ved=2ahUKEwjM08bn35KNAxVQSGcHHWYsHTUQr4kDegQIBBAC&amp;usg=AOvVaw08vSyNWI7T9p8ShhfXDxXb\"><div class=\"AlD19d\"> <span class=\"qXLe6d x3G5ab\"> <span class=\"fYyStc\">Virat Kohli proves doubters...</span> </span> <span class=\"qXLe6d F9iS2e\"> <span class=\"fYyStc\">www.indiatoday.in</span> </span> </div></a></td></tr></table></div></div> </div> </div></td></tr></table></div><table class=\"uZgmoc\"><tbody><td><a class=\"frGj1b\" href=\"/search?q=Virat+Kohli&amp;sca_esv=3f86ee1adea6a337&amp;ie=UTF-8&amp;tbm=isch&amp;ei=cgwcaMzSLNCQnesP5tj0qAM&amp;start=20&amp;sa=N\">Next &gt;</a></td></tbody></table><br/><div class=\"TuS8Ad\" data-ved=\"0ahUKEwjM08bn35KNAxVQSGcHHWYsHTUQpyoIRQ\"><style>.VYM29{font-weight:bold}</style><div align=\"center\" class=\"HddGcc\"><span class=\"VYM29\">Mahammadpur Kazi, Muzaffarpur, Bihar</span><span> - </span><span>From your IP address</span><span> - </span><a href=\"/url?q=https://support.google.com/websearch%3Fp%3Dws_settings_location%26hl%3Den-IN&amp;opi=89978449&amp;sa=U&amp;ved=0ahUKEwjM08bn35KNAxVQSGcHHWYsHTUQty4IRg&amp;usg=AOvVaw0JnPnFek6TTkpSNZDOGugb\">Learn more</a></div><div align=\"center\"><a class=\"rEM8G\" href=\"/url?q=https://accounts.google.com/ServiceLogin%3Fcontinue%3Dhttps://www.google.com/search%253Fq%253DVirat%252BKohli%2526tbm%253Disch%26hl%3Den&amp;opi=89978449&amp;sa=U&amp;ved=0ahUKEwjM08bn35KNAxVQSGcHHWYsHTUQxs8CCEc&amp;usg=AOvVaw3Hxxpp5bib9J0tVgq-ZYhc\">Sign in</a></div><div><table class=\"bookcf\"><tbody class=\"InWNIe\"><tr><td><a class=\"rEM8G\" href=\"https://www.google.com/preferences?hl=en&amp;sa=X&amp;ved=0ahUKEwjM08bn35KNAxVQSGcHHWYsHTUQv5YECEg\">Settings</a></td><td><a class=\"rEM8G\" href=\"https://www.google.com/intl/en_in/policies/privacy/\">Privacy</a></td><td><a class=\"rEM8G\" href=\"https://www.google.com/intl/en_in/policies/terms/\">Terms</a></td></tr></tbody></table></div></div><div> </div></body></html>"
      ]
     },
     "execution_count": 123,
     "metadata": {},
     "output_type": "execute_result"
    }
   ],
   "source": [
    "Soup"
   ]
  },
  {
   "cell_type": "code",
   "execution_count": 124,
   "id": "fc21a99f-b11d-48bc-84bc-253743abe877",
   "metadata": {},
   "outputs": [],
   "source": [
    "images_tags=Soup.find_all(\"img\")"
   ]
  },
  {
   "cell_type": "code",
   "execution_count": 125,
   "id": "6435e009-df16-4e49-a6c4-2981fbee3d85",
   "metadata": {},
   "outputs": [
    {
     "data": {
      "text/plain": [
       "[<img alt=\"Google\" class=\"kgJEQe\" src=\"/images/branding/searchlogo/1x/googlelogo_desk_heirloom_color_150x55dp.gif\"/>,\n",
       " <img alt=\"\" class=\"DS1iW\" src=\"https://encrypted-tbn0.gstatic.com/images?q=tbn:ANd9GcSApOD8cC7Jh33c0VqbcFkcmx0og9wr1DYsD50a8Tp3p-0I33M_SuuLXA0Kizk&amp;s\"/>,\n",
       " <img alt=\"\" class=\"DS1iW\" src=\"https://encrypted-tbn0.gstatic.com/images?q=tbn:ANd9GcTRTHEu7wyPemlaqePykLZWrerugLTrd7FspxeitdE9IFt33aBxscD2UFEO5g&amp;s\"/>,\n",
       " <img alt=\"\" class=\"DS1iW\" src=\"https://encrypted-tbn0.gstatic.com/images?q=tbn:ANd9GcTjQrFsZ0q98tlpB98Rzx-0aot4sm99YLMi-8-l0FSYu4dX7GXJLLpfQ3QOZgg&amp;s\"/>,\n",
       " <img alt=\"\" class=\"DS1iW\" src=\"https://encrypted-tbn0.gstatic.com/images?q=tbn:ANd9GcT6CdrYXeLtgDB_RDu04lay4NYo8e-Wpas8IUGgf_PJymqdfWPGi0NA20Lqum8&amp;s\"/>,\n",
       " <img alt=\"\" class=\"DS1iW\" src=\"https://encrypted-tbn0.gstatic.com/images?q=tbn:ANd9GcSf4Zc2-Cy3g-I9Tb9XAMjlrmM_cVztWU2w_Tu2RkT-5ZkRJ7Iy5NNsqJYWNtM&amp;s\"/>,\n",
       " <img alt=\"\" class=\"DS1iW\" src=\"https://encrypted-tbn0.gstatic.com/images?q=tbn:ANd9GcTUTq7A-eJ-1_LWDzdQZaYy6H8ZCNAcrTbuEoHK444-a13ejtal4nRAiJR-xg&amp;s\"/>,\n",
       " <img alt=\"\" class=\"DS1iW\" src=\"https://encrypted-tbn0.gstatic.com/images?q=tbn:ANd9GcQlj1s-nVIdQBYq64HJ48NAyuQVBAwU-RzFhz74hHEPCK4cuHAQ0axE548voKk&amp;s\"/>,\n",
       " <img alt=\"\" class=\"DS1iW\" src=\"https://encrypted-tbn0.gstatic.com/images?q=tbn:ANd9GcQq8X0nLNaCzy7-IB3JuFXdBf8TU8Osb9_3kM_zz_nV_7K3F5pk8RPNXJHQB-M&amp;s\"/>,\n",
       " <img alt=\"\" class=\"DS1iW\" src=\"https://encrypted-tbn0.gstatic.com/images?q=tbn:ANd9GcQ_cKXKHWG3oXJ2RRF_2XoHkPuX4youV-ge7-ujoDJR5C5yEXCJCE7QS1lIpg&amp;s\"/>,\n",
       " <img alt=\"\" class=\"DS1iW\" src=\"https://encrypted-tbn0.gstatic.com/images?q=tbn:ANd9GcTkbGjYZCZsi0-TAjTK1v8Iu6fwMwq0fZJzdpk-lDrhUbbzc-TkkYODgfnD5Q&amp;s\"/>,\n",
       " <img alt=\"\" class=\"DS1iW\" src=\"https://encrypted-tbn0.gstatic.com/images?q=tbn:ANd9GcTjmclCmnJAQmKYClLCy7NmyzaFKU-3Nk4L8bmnWglvggXT73uBPpHYFkQdeg&amp;s\"/>,\n",
       " <img alt=\"\" class=\"DS1iW\" src=\"https://encrypted-tbn0.gstatic.com/images?q=tbn:ANd9GcQNsCan85MKd0DWOiZmK2iEImUYKYc8TjP5TJ-H9U6Mx5sb3wENAT9LYCpiTA&amp;s\"/>,\n",
       " <img alt=\"\" class=\"DS1iW\" src=\"https://encrypted-tbn0.gstatic.com/images?q=tbn:ANd9GcRzMDrm4PfrQNloeNAI2EcFUfVULrf-ArAWmc_6OayXontFgdcu1DFeOCaxGmY&amp;s\"/>,\n",
       " <img alt=\"\" class=\"DS1iW\" src=\"https://encrypted-tbn0.gstatic.com/images?q=tbn:ANd9GcTwc9ZiTK5LuMMuxjC4ZI1iGX7HO2T7dGfY0TR3BsGMtu98ZQ0t9H8WKdbiNQ&amp;s\"/>,\n",
       " <img alt=\"\" class=\"DS1iW\" src=\"https://encrypted-tbn0.gstatic.com/images?q=tbn:ANd9GcQ5Vtp-jukXT8uB5IgYzRrWx-FM93Z3deBelPCZ8GhBGM5my5eHJC7jLDD0eA&amp;s\"/>,\n",
       " <img alt=\"\" class=\"DS1iW\" src=\"https://encrypted-tbn0.gstatic.com/images?q=tbn:ANd9GcTFtfhmyS6i7G2dcQDksEMYr2hMT19n3SLzXwBoNgUs7MUeVaqm8hwEA5HXD_8&amp;s\"/>,\n",
       " <img alt=\"\" class=\"DS1iW\" src=\"https://encrypted-tbn0.gstatic.com/images?q=tbn:ANd9GcQSO8JuP6uct8Z-2hk7sFcVya7mxEJFNcB4B3HgHJlMIvWlhZWqHRse7oVEzQ&amp;s\"/>,\n",
       " <img alt=\"\" class=\"DS1iW\" src=\"https://encrypted-tbn0.gstatic.com/images?q=tbn:ANd9GcTgDky2gLuO5Vz6_7hMV7nLesbs0ybOtCxgEATKDF_CICc54-GxoZeEVcU9&amp;s\"/>,\n",
       " <img alt=\"\" class=\"DS1iW\" src=\"https://encrypted-tbn0.gstatic.com/images?q=tbn:ANd9GcRvekHtzKB03FpmbCHuEgXuru9dJ-n4Oy2Bm8KX4HDVoXVR_URfzwoJsufMhS8&amp;s\"/>,\n",
       " <img alt=\"\" class=\"DS1iW\" src=\"https://encrypted-tbn0.gstatic.com/images?q=tbn:ANd9GcTk2Lvc4Pc6PkJmRIex3avOhleuOEUAPwt-AY-s-Ji2ggC58RCHUzfhWFWw8g&amp;s\"/>]"
      ]
     },
     "execution_count": 125,
     "metadata": {},
     "output_type": "execute_result"
    }
   ],
   "source": [
    "images_tags"
   ]
  },
  {
   "cell_type": "code",
   "execution_count": 126,
   "id": "a6b59f31-9a4f-4035-ba0a-cd2bb1fb7cba",
   "metadata": {},
   "outputs": [
    {
     "data": {
      "text/plain": [
       "21"
      ]
     },
     "execution_count": 126,
     "metadata": {},
     "output_type": "execute_result"
    }
   ],
   "source": [
    "len(images_tags)"
   ]
  },
  {
   "cell_type": "code",
   "execution_count": 127,
   "id": "a53c5a42-ba46-4f2d-b33e-f340be5c3c9d",
   "metadata": {},
   "outputs": [],
   "source": [
    "del images_tags[0]"
   ]
  },
  {
   "cell_type": "code",
   "execution_count": 128,
   "id": "8614a941-acf9-4d16-9abf-0104a799b95a",
   "metadata": {},
   "outputs": [],
   "source": [
    "img_data_mongo=[]\n",
    "for i in images_tags:\n",
    "    image_url=i['src']\n",
    "    image_data=requests.get(image_url).content\n",
    "    mydict={\"index\":image_url,\"image\":image_data}\n",
    "    img_data_mongo.append(mydict)\n",
    "    \n",
    "    with open(os.path.join(save_dir,f\"{query}_{images_tags.index(i)}.jpg\"),\"wb\") as f:\n",
    "        f.write(image_data)\n",
    "\n",
    "\n",
    "\n",
    "\n",
    "    "
   ]
  },
  {
   "cell_type": "code",
   "execution_count": null,
   "id": "2ca7abf7-3462-46e3-b62a-4374fafd8640",
   "metadata": {},
   "outputs": [],
   "source": []
  }
 ],
 "metadata": {
  "kernelspec": {
   "display_name": "Python [conda env:base] *",
   "language": "python",
   "name": "conda-base-py"
  },
  "language_info": {
   "codemirror_mode": {
    "name": "ipython",
    "version": 3
   },
   "file_extension": ".py",
   "mimetype": "text/x-python",
   "name": "python",
   "nbconvert_exporter": "python",
   "pygments_lexer": "ipython3",
   "version": "3.12.7"
  }
 },
 "nbformat": 4,
 "nbformat_minor": 5
}
