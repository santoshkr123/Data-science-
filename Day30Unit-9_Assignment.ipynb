{
 "cells": [
  {
   "cell_type": "markdown",
   "id": "1b34cd22-b756-4471-bcbc-9c9fcf0ebede",
   "metadata": {},
   "source": [
    "# Unit-9_Assignment"
   ]
  },
  {
   "cell_type": "code",
   "execution_count": null,
   "id": "05248532-8476-4a23-810c-bb870023be34",
   "metadata": {},
   "outputs": [],
   "source": [
    "1) Find out Sum of tuple elements\n",
    "Input \n",
    "(7, 8, 9, 1, 10, 7)\n",
    "Output 42"
   ]
  },
  {
   "cell_type": "code",
   "execution_count": 8,
   "id": "c33b58d9-db59-4b7e-afcb-62f698f6aaa8",
   "metadata": {},
   "outputs": [
    {
     "name": "stdout",
     "output_type": "stream",
     "text": [
      "42\n"
     ]
    }
   ],
   "source": [
    "n=(7, 8, 9, 1, 10, 7)\n",
    "l=list(n)\n",
    "sum=0\n",
    "for i in l:\n",
    "    sum=sum+i\n",
    "\n",
    "print(sum)"
   ]
  },
  {
   "cell_type": "code",
   "execution_count": null,
   "id": "e9a0dadc-4390-4eb3-8a64-5eae721ec986",
   "metadata": {},
   "outputs": [],
   "source": [
    "2) Write a Python program to find repeated items in a tuple.\n",
    "Input (2, 4, 5, 6, 2, 3, 4, 4, 7 ,4)\n",
    "Output [2,4]"
   ]
  },
  {
   "cell_type": "code",
   "execution_count": 18,
   "id": "7b426b9a-c0e0-49a2-92f7-914d05b7fea2",
   "metadata": {},
   "outputs": [
    {
     "name": "stdout",
     "output_type": "stream",
     "text": [
      "[2, 4]\n"
     ]
    }
   ],
   "source": [
    "n=(2, 4, 5, 6, 2, 3, 4, 4, 7 ,4)\n",
    "l=list(n)\n",
    "item=[]\n",
    "for i in l:\n",
    "    if l.count(i) > 1 and i not in item:\n",
    "        item.append(i)\n",
    "print(item)\n",
    "        \n",
    "    "
   ]
  },
  {
   "cell_type": "code",
   "execution_count": null,
   "id": "4a6c9451-3847-4d2c-8c47-2eeffd1af2be",
   "metadata": {},
   "outputs": [],
   "source": [
    "3) Write a Python program to check whether an element \"r\" and \"e\" exists within a \n",
    "tuple.\n",
    "Input (\"w\", 5, \"a\", \"d\", \"o\", \"p\", \"u\", \"m\", \"c\", \"e\")\n",
    "Output\n",
    "False\n",
    "True"
   ]
  },
  {
   "cell_type": "code",
   "execution_count": 20,
   "id": "8fb1322b-91fe-4939-98f1-0a8e7cbc7626",
   "metadata": {},
   "outputs": [
    {
     "name": "stdout",
     "output_type": "stream",
     "text": [
      "False\n",
      "True\n"
     ]
    }
   ],
   "source": [
    "n=(\"w\", 5, \"a\", \"d\", \"o\", \"p\", \"u\", \"m\", \"c\", \"e\")\n",
    "print(\"r\" in n)\n",
    "print(\"e\" in n)"
   ]
  },
  {
   "cell_type": "code",
   "execution_count": null,
   "id": "d1b71be2-abe9-4d01-b72d-f2a3b2f49940",
   "metadata": {},
   "outputs": [],
   "source": [
    "4) Write a Python program to remove an item \"p\" from a tuple.\n",
    "Input\n",
    "(\"a\", 5, \"r\", \"l\", \"p\", \"u\", \"r\", \"m\", \"e\")\n",
    "Output\n",
    "('a', 5, 'l', 'u', 'r', 'm', 'e')"
   ]
  },
  {
   "cell_type": "code",
   "execution_count": 34,
   "id": "45566d2b-1f62-4571-a5ac-554857199c47",
   "metadata": {},
   "outputs": [
    {
     "name": "stdout",
     "output_type": "stream",
     "text": [
      "['a', 5, 'r', 'l', 'p', 'u', 'r', 'm', 'e']\n",
      "['a', 5, 'r', 'l', 'u', 'r', 'm', 'e']\n",
      "('a', 5, 'r', 'l', 'u', 'r', 'm', 'e')\n"
     ]
    }
   ],
   "source": [
    "n=(\"a\", 5, \"r\", \"l\", \"p\", \"u\", \"r\", \"m\", \"e\")\n",
    "l=list(n)\n",
    "print(l)\n",
    "l.remove(\"p\")\n",
    "print(l)\n",
    "t=tuple(l)\n",
    "print(t)"
   ]
  },
  {
   "cell_type": "code",
   "execution_count": null,
   "id": "fc36a959-f712-452f-be58-3f12feb4c108",
   "metadata": {},
   "outputs": [],
   "source": [
    "5) Write a program to accept the numbers from the user and inserts it at the end of the \n",
    "tupe T1.\n",
    "Input T1 = (23,32,4,5,2,12,23,7,9,10,23)\n",
    "Output = (23,32,4,5,2,12,23,7,9,10,23,100,200,300)"
   ]
  },
  {
   "cell_type": "code",
   "execution_count": 48,
   "id": "dddc0525-7902-41d1-b948-509c00b198a3",
   "metadata": {},
   "outputs": [
    {
     "name": "stdin",
     "output_type": "stream",
     "text": [
      "enter a number 100\n",
      "enter a number 200\n",
      "enter a number 300\n"
     ]
    },
    {
     "name": "stdout",
     "output_type": "stream",
     "text": [
      "[23, 32, 4, 5, 2, 12, 23, 7, 9, 10, 23, 100, 200, 300]\n",
      "(23, 32, 4, 5, 2, 12, 23, 7, 9, 10, 23, 100, 200, 300)\n"
     ]
    }
   ],
   "source": [
    "T1= (23,32,4,5,2,12,23,7,9,10,23)\n",
    "l=list(T1)\n",
    "for i in range(3):\n",
    "    l.append(int(input(\"enter a number\")))\n",
    "print(l)\n",
    "r=tuple(l)\n",
    "print(r)"
   ]
  },
  {
   "cell_type": "code",
   "execution_count": null,
   "id": "62f5cbe7-f3c2-4923-b603-d4cd60159c72",
   "metadata": {},
   "outputs": [],
   "source": [
    "6) Write a Python program to get the 4th element from the last element of a tuple.\n",
    "tuplex = (\"w\",503, \"r\", \"e\", \"s\", \"o\", \"u\", \"r\", \"c\", \"e\")\n",
    "Output\n",
    "('w', 503, 'r', 'e', 's', 'o', 'u', 'r', 'c', 'e') \n",
    "e \n",
    "u"
   ]
  },
  {
   "cell_type": "code",
   "execution_count": 62,
   "id": "2c26c990-6a03-4246-afcd-0fbf4601587e",
   "metadata": {},
   "outputs": [
    {
     "name": "stdout",
     "output_type": "stream",
     "text": [
      "('w', 503, 'r', 'e', 's', 'o', 'u', 'r', 'c', 'e')\n",
      "r\n",
      "u\n"
     ]
    }
   ],
   "source": [
    "tuplex =(\"w\",503, \"r\", \"e\", \"s\", \"o\", \"u\", \"r\", \"c\", \"e\")\n",
    "print(tuplex)\n",
    "print(tuplex[-3])\n",
    "print(tuplex[-4])\n"
   ]
  },
  {
   "cell_type": "markdown",
   "id": "5f1adf72-442e-45ba-92a9-78a06c4d1c90",
   "metadata": {},
   "source": [
    "#### "
   ]
  },
  {
   "cell_type": "code",
   "execution_count": null,
   "id": "9a55f1a6-6b1c-4402-b239-a3ea1d3b906a",
   "metadata": {},
   "outputs": [],
   "source": []
  },
  {
   "cell_type": "code",
   "execution_count": null,
   "id": "4c88f836-d89f-4c89-97e9-f59de1bcc4e1",
   "metadata": {},
   "outputs": [],
   "source": []
  }
 ],
 "metadata": {
  "kernelspec": {
   "display_name": "Python [conda env:base] *",
   "language": "python",
   "name": "conda-base-py"
  },
  "language_info": {
   "codemirror_mode": {
    "name": "ipython",
    "version": 3
   },
   "file_extension": ".py",
   "mimetype": "text/x-python",
   "name": "python",
   "nbconvert_exporter": "python",
   "pygments_lexer": "ipython3",
   "version": "3.12.7"
  }
 },
 "nbformat": 4,
 "nbformat_minor": 5
}
