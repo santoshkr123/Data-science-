{
 "cells": [
  {
   "cell_type": "markdown",
   "id": "89783514-c950-48cb-82b6-cd1424be36a9",
   "metadata": {},
   "source": [
    "# encapsulation"
   ]
  },
  {
   "cell_type": "code",
   "execution_count": 7,
   "id": "792db3d3-7b52-4b3d-81fc-3cbd05ddd985",
   "metadata": {},
   "outputs": [
    {
     "data": {
      "text/plain": [
       "963"
      ]
     },
     "execution_count": 7,
     "metadata": {},
     "output_type": "execute_result"
    }
   ],
   "source": [
    "class test:\n",
    "    def __init__(self,a,b):\n",
    "        self.a=a\n",
    "        self.b=b\n",
    "\n",
    "t=test(2,5)\n",
    "t.a=555\n",
    "t.a\n",
    "\n",
    "t.b=963\n",
    "t.b\n",
    "\n"
   ]
  },
  {
   "cell_type": "code",
   "execution_count": 15,
   "id": "40a464f2-fbd2-4436-acdc-4a8d2ed443b1",
   "metadata": {},
   "outputs": [
    {
     "data": {
      "text/plain": [
       "36"
      ]
     },
     "execution_count": 15,
     "metadata": {},
     "output_type": "execute_result"
    }
   ],
   "source": [
    "class test:\n",
    "    def __init__(self,a,b):\n",
    "        self.__a=a\n",
    "        self.__b=b\n",
    "\n",
    "t_obj=test(25,36)\n",
    "t_obj._test__a\n",
    "t_obj._test__b"
   ]
  },
  {
   "cell_type": "code",
   "execution_count": 27,
   "id": "7b7c8ddb-d323-4be9-87fe-d900e4ed62e4",
   "metadata": {},
   "outputs": [
    {
     "data": {
      "text/plain": [
       "False"
      ]
     },
     "execution_count": 27,
     "metadata": {},
     "output_type": "execute_result"
    }
   ],
   "source": [
    "class bank_account:\n",
    "    def __init__(self,balance):\n",
    "        self.__balance=balance\n",
    "    def deposit(self,amount):\n",
    "        self.__balance=self.__balance + amount\n",
    "    def withdrawl(self,amount):\n",
    "        if self.__balance>=amount:\n",
    "            self.__balance=self.balance - amount\n",
    "        else:\n",
    "            return False\n",
    "    def get_balance(self):\n",
    "        return self.__balance\n",
    "ram=bank_account(1000) \n",
    "ram.get_balance()\n",
    "\n",
    "ram.deposit(5000)\n",
    "ram.get_balance()\n",
    "\n",
    "ram.withdrawl(7000)\n",
    "\n",
    "\n",
    "\n",
    "        \n",
    "\n",
    "\n",
    "            "
   ]
  },
  {
   "cell_type": "markdown",
   "id": "7beb4298-95d3-48e7-bd21-af54093e38b4",
   "metadata": {},
   "source": [
    "# inheritance"
   ]
  },
  {
   "cell_type": "code",
   "execution_count": 32,
   "id": "327c5193-697e-41e8-9195-d0c13a21f465",
   "metadata": {},
   "outputs": [
    {
     "name": "stdout",
     "output_type": "stream",
     "text": [
      "Parent inheritance\n"
     ]
    }
   ],
   "source": [
    "class demo:\n",
    "    def inherit(self):\n",
    "        print(\"Parent inheritance\")\n",
    "\n",
    "class child(demo):\n",
    "    pass\n",
    "child_obj=child()\n",
    "child_obj.inherit()"
   ]
  },
  {
   "cell_type": "markdown",
   "id": "44161ba0-0304-4e04-bfe4-046c58031936",
   "metadata": {},
   "source": [
    "# multilevel inheritance"
   ]
  },
  {
   "cell_type": "code",
   "execution_count": 43,
   "id": "fe73085d-a13d-4021-9a29-0b99a25d376e",
   "metadata": {},
   "outputs": [
    {
     "name": "stdout",
     "output_type": "stream",
     "text": [
      "class1\n"
     ]
    }
   ],
   "source": [
    "class class1():\n",
    "    def learn(self):\n",
    "        print(\"class1\")\n",
    "class class2(class1):\n",
    "    def print(self):\n",
    "        print(\"class 2\")\n",
    "\n",
    "class class3(class2):\n",
    "    pass\n",
    "\n",
    "class3_obj=class3()\n",
    "class3_obj.learn()"
   ]
  },
  {
   "cell_type": "markdown",
   "id": "9a7b0a60-e62e-49ce-aa42-78ca48759742",
   "metadata": {},
   "source": [
    "# multiple inheritance"
   ]
  },
  {
   "cell_type": "code",
   "execution_count": 54,
   "id": "0f4468eb-01ca-409c-b208-b5280ce1a292",
   "metadata": {},
   "outputs": [
    {
     "name": "stdout",
     "output_type": "stream",
     "text": [
      "fun2-class2\n"
     ]
    }
   ],
   "source": [
    "class A():\n",
    "    def fun1(self):\n",
    "        print(\"fun1-class1\")\n",
    "\n",
    "class B():\n",
    "    def fun2(self):\n",
    "        print(\"fun2-class2\")\n",
    "\n",
    "class C(B,C):\n",
    "    pass\n",
    "\n",
    "class_obj=C()\n",
    "class_obj.fun2()"
   ]
  },
  {
   "cell_type": "code",
   "execution_count": null,
   "id": "38b7e3b5-3fb0-4f4f-ae7b-63c92459a718",
   "metadata": {},
   "outputs": [],
   "source": []
  }
 ],
 "metadata": {
  "kernelspec": {
   "display_name": "Python [conda env:base] *",
   "language": "python",
   "name": "conda-base-py"
  },
  "language_info": {
   "codemirror_mode": {
    "name": "ipython",
    "version": 3
   },
   "file_extension": ".py",
   "mimetype": "text/x-python",
   "name": "python",
   "nbconvert_exporter": "python",
   "pygments_lexer": "ipython3",
   "version": "3.12.7"
  }
 },
 "nbformat": 4,
 "nbformat_minor": 5
}
