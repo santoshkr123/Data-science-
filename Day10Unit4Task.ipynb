{
 "cells": [
  {
   "cell_type": "markdown",
   "id": "3e85c2c7-c0e7-4801-88ad-102e3aa613a7",
   "metadata": {},
   "source": [
    "# Unit-4 Assighnment-Conditional Statements"
   ]
  },
  {
   "cell_type": "code",
   "execution_count": 15,
   "id": "c2d0d946-9cf7-468e-8ea7-63446f81e7d4",
   "metadata": {},
   "outputs": [
    {
     "name": "stdin",
     "output_type": "stream",
     "text": [
      "Enter a number : 25\n"
     ]
    },
    {
     "name": "stdout",
     "output_type": "stream",
     "text": [
      "Number is divisible by 5\n"
     ]
    }
   ],
   "source": [
    "\"\"\"write a program to check The given number is divisible by 5 or not\"\"\"\n",
    "num=int(input(\"Enter a number :\"))\n",
    "if num%5==0:\n",
    "    print(\"Number is divisible by 5\")\n",
    "else:\n",
    "    print(\"Number is not divisible by 5\")"
   ]
  },
  {
   "cell_type": "code",
   "execution_count": 17,
   "id": "d53d3db1-ed5d-40e5-8984-61505097a259",
   "metadata": {},
   "outputs": [
    {
     "name": "stdin",
     "output_type": "stream",
     "text": [
      "Enter first number: 25\n",
      "Enter second number: 78\n",
      "Enter third number: 36\n"
     ]
    },
    {
     "name": "stdout",
     "output_type": "stream",
     "text": [
      "Second number is greater:\n"
     ]
    }
   ],
   "source": [
    "\"\"\"Find maximum number out of given three numbers\"\"\"\n",
    "a=int(input(\"Enter first number:\"))\n",
    "b=int(input(\"Enter second number:\"))\n",
    "c=int(input(\"Enter third number:\"))\n",
    "if a>b:\n",
    "    print(\"First number is greater\")\n",
    "elif b>c:\n",
    "    print(\"Second number is greater:\")\n",
    "else :\n",
    "    print(\"Third number is greater:\")\n",
    "    "
   ]
  },
  {
   "cell_type": "code",
   "execution_count": 23,
   "id": "81d50bc3-75e4-4eeb-a055-e9a246b4acad",
   "metadata": {},
   "outputs": [
    {
     "name": "stdin",
     "output_type": "stream",
     "text": [
      "Enter the product code  1\n",
      "Enter the order amount 1500\n"
     ]
    },
    {
     "name": "stdout",
     "output_type": "stream",
     "text": [
      "discount_per:10%\n",
      "discount_amount:Rs150.0\n",
      "net_amount:Rs1350.0\n"
     ]
    }
   ],
   "source": [
    "\"\"\"A toy vendor supplies three types of toys: Battery Based Toys, Key-based Toys, and \n",
    "Electrical Charging Based Toys. The vendor gives a discount of 10% on orders for \n",
    "battery-based toys if the order is for more than Rs. 1000. On orders of more than Rs. \n",
    "100 for key-based toys, a discount of 5% is given, and a discount of 10% is given on \n",
    "orders for electrical charging based toys of value more than Rs. 500. Assume that the \n",
    "numeric codes 1,2 and 3 are used for battery based toys, key-based toys, and \n",
    "electrical charging based toys respectively. Write a program that reads the product \n",
    "code and the order amount and prints out the net amount that the customer is \n",
    "required to pay after the discount\"\"\"\n",
    "\n",
    "\n",
    "battery_based_toys=1\n",
    "key_based_toys=2\n",
    "electrical_charging_based=3\n",
    "\n",
    "battery_based_discount=1000\n",
    "key_based_discount=100\n",
    "electrical_based_discount=500\n",
    "\n",
    "x=int(input(\"Enter the product code \"))\n",
    "y=int(input(\"Enter the order amount\"))\n",
    "if x==1 and battery_based_discount < y:\n",
    "    discount_per=10\n",
    "elif x==2 and key_based_discount < y:\n",
    "    discount_per=5\n",
    "elif x==3 and electrical_based_discount <y:\n",
    "    discount_per=10\n",
    "else:\n",
    "    print(\"product is not in the list \")\n",
    "\n",
    "discount_amount=y*discount_per/100\n",
    "net_amount=y-discount_amount\n",
    "\n",
    "print(f'discount_per:{discount_per}%')\n",
    "print(f'discount_amount:Rs{discount_amount}')\n",
    "print(f'net_amount:Rs{net_amount}')"
   ]
  },
  {
   "cell_type": "code",
   "execution_count": 39,
   "id": "dbd6fa66-a424-483a-b56b-83f036aa64dc",
   "metadata": {},
   "outputs": [
    {
     "name": "stdin",
     "output_type": "stream",
     "text": [
      "Enter past meter reading  800\n",
      "Enter current reading 1200\n"
     ]
    },
    {
     "name": "stdout",
     "output_type": "stream",
     "text": [
      "total electricity 1100\n"
     ]
    }
   ],
   "source": [
    "\"\"\" The Paschim Gujarat Vij Company Ltd. computes the electricity bill based on the \n",
    "following matrix:\n",
    "Units Consumed Charges\n",
    "0-100 0.50 per unit\n",
    "101-200 Rs. 50 plus Rs. 1 per unit over 100 units\n",
    "201-300 Rs. 150 plus 1.50 per unit over 200 units\n",
    "> 300 Rs. 300 plus Rs.2 per unit over 300 units\n",
    "1. Ask user to enter the Past meter reading and current meter reading.\n",
    "2. Find the units consumed.\n",
    "3. Compute the bill according to given matrix.\n",
    "\"\"\"\n",
    "\n",
    "\n",
    "\n",
    "past_meter_reading =int(input(\"Enter past meter reading \"))\n",
    "current_meter_reading=int(input(\"Enter current reading\"))\n",
    "\n",
    "unit_consumed=current_meter_reading - past_meter_reading\n",
    "\n",
    "if unit_consumed < 0 and unit_consumed>=100:\n",
    "    bill=unit_consumed *0.50\n",
    "    print(\"total electricity bill\",bill)\n",
    "elif unit_consumed <101 and unit_consumed>=200:\n",
    "    bill=50+(unit_consumed)*1\n",
    "    print(\"total electricity\",bill)\n",
    "elif unit_consumed <201 and unit_consumed >= 300:\n",
    "    bill=150+(unit_consumed)*1.50\n",
    "    print(\"total electricity\")\n",
    "elif unit_consumed>=300:\n",
    "    bill=300+(unit_consumed)*2\n",
    "    print(\"total electricity\",bill)\n",
    "else:\n",
    "    print(\"Bill is not record\")\n",
    "    "
   ]
  },
  {
   "cell_type": "code",
   "execution_count": 43,
   "id": "fc078bea-fdce-45b0-8897-b9dd700aed2d",
   "metadata": {},
   "outputs": [
    {
     "name": "stdin",
     "output_type": "stream",
     "text": [
      "Enter a number -8\n"
     ]
    },
    {
     "name": "stdout",
     "output_type": "stream",
     "text": [
      "Number is -\n"
     ]
    }
   ],
   "source": [
    "\"\"\"Write a program to check - The given number is positive or negative or zero.\"\"\"\n",
    "num=int(input(\"Enter a number\"))\n",
    "if num>0:\n",
    "    print(\"Number is +\")\n",
    "elif num<0:\n",
    "    print(\"Number is -\")\n",
    "elif num==0:\n",
    "    print(\"numer is zero\")\n",
    "else:\n",
    "    print(\"No number\")"
   ]
  },
  {
   "cell_type": "code",
   "execution_count": 45,
   "id": "d4fadb97-0bfb-44e0-a84f-06b580a213ab",
   "metadata": {},
   "outputs": [
    {
     "name": "stdin",
     "output_type": "stream",
     "text": [
      "Enter a number 14\n"
     ]
    },
    {
     "name": "stdout",
     "output_type": "stream",
     "text": [
      "Hello\n"
     ]
    }
   ],
   "source": [
    "\"\"\"Write a program to display “Hello” if the number entered by the user is divisible by 7 \n",
    "otherwise print “Bye\"\"\"\n",
    "\n",
    "num=int(input(\"Enter a number\"))\n",
    "if num%7==0:\n",
    "    print(\"Hello\")\n",
    "else:\n",
    "    print(\"Bye\")"
   ]
  },
  {
   "cell_type": "code",
   "execution_count": null,
   "id": "33bc61a8-c96c-43c4-a33f-75dcc94cc24b",
   "metadata": {},
   "outputs": [],
   "source": []
  },
  {
   "cell_type": "code",
   "execution_count": null,
   "id": "51714d2c-777a-4d8c-a70c-7d366f067342",
   "metadata": {},
   "outputs": [],
   "source": []
  },
  {
   "cell_type": "code",
   "execution_count": null,
   "id": "b8a4d362-6440-4c74-bafc-c725b8e3a1cf",
   "metadata": {},
   "outputs": [],
   "source": []
  },
  {
   "cell_type": "code",
   "execution_count": null,
   "id": "2408b532-07e4-4e0c-b57a-3efc32cbeb55",
   "metadata": {},
   "outputs": [],
   "source": []
  },
  {
   "cell_type": "code",
   "execution_count": null,
   "id": "385c5daa-a490-41dc-85c0-d92fdb84af2c",
   "metadata": {},
   "outputs": [],
   "source": []
  }
 ],
 "metadata": {
  "kernelspec": {
   "display_name": "Python [conda env:base] *",
   "language": "python",
   "name": "conda-base-py"
  },
  "language_info": {
   "codemirror_mode": {
    "name": "ipython",
    "version": 3
   },
   "file_extension": ".py",
   "mimetype": "text/x-python",
   "name": "python",
   "nbconvert_exporter": "python",
   "pygments_lexer": "ipython3",
   "version": "3.12.7"
  }
 },
 "nbformat": 4,
 "nbformat_minor": 5
}
