{
 "cells": [
  {
   "cell_type": "markdown",
   "id": "badf9ba1-e0d9-47ad-9aec-05d63f8be124",
   "metadata": {},
   "source": [
    "# Matrix"
   ]
  },
  {
   "cell_type": "code",
   "execution_count": 5,
   "id": "5b6838f9-9631-4bf3-ba83-2978f316f16d",
   "metadata": {},
   "outputs": [
    {
     "name": "stdout",
     "output_type": "stream",
     "text": [
      "[[1 2 3]\n",
      " [4 5 6]\n",
      " [7 8 9]]\n",
      "<class 'numpy.matrix'>\n"
     ]
    }
   ],
   "source": [
    "import numpy as np\n",
    "arr1=np.matrix([[1,2,3],[4,5,6],[7,8,9]])\n",
    "print(arr1)\n",
    "print(type(arr1))"
   ]
  },
  {
   "cell_type": "code",
   "execution_count": 9,
   "id": "48ba0df1-5cf7-4023-9d9a-93235d84abe9",
   "metadata": {},
   "outputs": [
    {
     "name": "stdout",
     "output_type": "stream",
     "text": [
      "[[1 2 3]\n",
      " [4 5 6]\n",
      " [7 8 9]]\n",
      "<class 'numpy.ndarray'>\n"
     ]
    }
   ],
   "source": [
    "import numpy as np\n",
    "arr1=np.array([[1,2,3],[4,5,6],[7,8,9]])\n",
    "print(arr1)\n",
    "print(type(arr1))"
   ]
  },
  {
   "cell_type": "markdown",
   "id": "e3cd57e6-d7f6-41cf-99c9-6d9cd8898199",
   "metadata": {},
   "source": [
    "# arithmetic operations in matrix "
   ]
  },
  {
   "cell_type": "code",
   "execution_count": 23,
   "id": "9166f013-1799-4a6c-9d04-1090a78e03e1",
   "metadata": {},
   "outputs": [
    {
     "name": "stdout",
     "output_type": "stream",
     "text": [
      "[[1 2 3]\n",
      " [4 5 6]]\n",
      "\n",
      "[[ 7  8  9]\n",
      " [10 12 13]]\n",
      "\n",
      "[[ 8 10 12]\n",
      " [14 17 19]]\n",
      "\n",
      "talking about array\n",
      "\n",
      "[[1 2 3]\n",
      " [4 5 6]]\n",
      "\n",
      "[[ 7  8  9]\n",
      " [10 12 13]]\n",
      "\n",
      "[[ 8 10 12]\n",
      " [14 17 19]]\n"
     ]
    }
   ],
   "source": [
    "import numpy as np\n",
    "arr1=np.matrix([[1,2,3],[4,5,6]])\n",
    "arr2=np.matrix([[7,8,9],[10,12,13]])\n",
    "print(arr1)\n",
    "print()\n",
    "print(arr2)\n",
    "print()\n",
    "print(arr1+arr2)\n",
    "print()\n",
    "print(\"talking about array\")\n",
    "print()\n",
    "arr1=np.array([[1,2,3],[4,5,6]])\n",
    "arr2=np.array([[7,8,9],[10,12,13]])\n",
    "print(arr1)\n",
    "print()\n",
    "print(arr2)\n",
    "print()\n",
    "print(arr1+arr2)"
   ]
  },
  {
   "cell_type": "code",
   "execution_count": 25,
   "id": "0b0b5fb6-dc42-4a98-960c-23e59c64fc5d",
   "metadata": {},
   "outputs": [
    {
     "name": "stdout",
     "output_type": "stream",
     "text": [
      "[[1 2 3]\n",
      " [4 5 6]]\n",
      "\n",
      "[[ 7  8  9]\n",
      " [10 12 13]]\n",
      "\n",
      "[[-6 -6 -6]\n",
      " [-6 -7 -7]]\n",
      "\n",
      "talking about array\n",
      "\n",
      "[[1 2 3]\n",
      " [4 5 6]]\n",
      "\n",
      "[[ 7  8  9]\n",
      " [10 12 13]]\n",
      "\n",
      "[[-6 -6 -6]\n",
      " [-6 -7 -7]]\n"
     ]
    }
   ],
   "source": [
    "import numpy as np\n",
    "arr1=np.matrix([[1,2,3],[4,5,6]])\n",
    "arr2=np.matrix([[7,8,9],[10,12,13]])\n",
    "print(arr1)\n",
    "print()\n",
    "print(arr2)\n",
    "print()\n",
    "print(arr1-arr2)\n",
    "print()\n",
    "print(\"talking about array\")\n",
    "print()\n",
    "arr1=np.array([[1,2,3],[4,5,6]])\n",
    "arr2=np.array([[7,8,9],[10,12,13]])\n",
    "print(arr1)\n",
    "print()\n",
    "print(arr2)\n",
    "print()\n",
    "print(arr1-arr2)"
   ]
  },
  {
   "cell_type": "code",
   "execution_count": 31,
   "id": "686192d1-3ba8-4124-a59d-953131f776a3",
   "metadata": {},
   "outputs": [
    {
     "name": "stdout",
     "output_type": "stream",
     "text": [
      "talking about matrix\n",
      "[[1 2]\n",
      " [3 4]]\n",
      "\n",
      "[[5 6]\n",
      " [7 8]]\n",
      "\n",
      "[[19 22]\n",
      " [43 50]]\n",
      "\n",
      "we are talking about array\n",
      "[[1 2]\n",
      " [3 4]]\n",
      "\n",
      "[[5 6]\n",
      " [7 8]]\n",
      "\n",
      "[[ 5 12]\n",
      " [21 32]]\n"
     ]
    }
   ],
   "source": [
    "import numpy as np\n",
    "print(\"talking about matrix\")\n",
    "arr1=np.matrix([[1,2],[3,4]])\n",
    "arr2=np.matrix([[5,6],[7,8]])\n",
    "print(arr1)\n",
    "print()\n",
    "print(arr2)\n",
    "print()\n",
    "m=arr1.dot(arr2)\n",
    "print(m)\n",
    "print()\n",
    "print(\"we are talking about array\")\n",
    "arr1=np.array([[1,2],[3,4]])\n",
    "arr2=np.array([[5,6],[7,8]])\n",
    "print(arr1)\n",
    "print()\n",
    "print(arr2)\n",
    "print()\n",
    "print(arr1*arr2)"
   ]
  },
  {
   "cell_type": "code",
   "execution_count": 35,
   "id": "a9a70d7a-4a19-4782-92ab-67a599415e09",
   "metadata": {},
   "outputs": [
    {
     "name": "stdout",
     "output_type": "stream",
     "text": [
      "talking about matrix\n",
      "[[1 2]\n",
      " [3 4]]\n",
      "\n",
      "[[5 6]\n",
      " [7 8]]\n",
      "\n",
      "[[5.         3.        ]\n",
      " [2.33333333 2.        ]]\n",
      "\n",
      "we are talking about array\n",
      "[[1 2]\n",
      " [3 4]]\n",
      "\n",
      "[[5 6]\n",
      " [7 8]]\n",
      "\n",
      "[[5.         3.        ]\n",
      " [2.33333333 2.        ]]\n"
     ]
    }
   ],
   "source": [
    "import numpy as np\n",
    "print(\"talking about matrix\")\n",
    "arr1=np.matrix([[1,2],[3,4]])\n",
    "arr2=np.matrix([[5,6],[7,8]])\n",
    "print(arr1)\n",
    "print()\n",
    "print(arr2)\n",
    "print()\n",
    "print(arr2/arr1)\n",
    "print()\n",
    "print(\"we are talking about array\")\n",
    "arr1=np.array([[1,2],[3,4]])\n",
    "arr2=np.array([[5,6],[7,8]])\n",
    "print(arr1)\n",
    "print()\n",
    "print(arr2)\n",
    "print()\n",
    "print(arr2/arr1)"
   ]
  },
  {
   "cell_type": "markdown",
   "id": "1b5003d1-5039-4978-b2cf-b83f8b9c8a98",
   "metadata": {},
   "source": [
    "# matrix function\n",
    "# transpose matrix"
   ]
  },
  {
   "cell_type": "code",
   "execution_count": 40,
   "id": "2ac87790-6bd0-4749-aebb-e220a0d398a1",
   "metadata": {},
   "outputs": [
    {
     "name": "stdout",
     "output_type": "stream",
     "text": [
      "[[1 2 3]\n",
      " [4 5 6]\n",
      " [7 8 9]]\n",
      "\n",
      "[[1 4 7]\n",
      " [2 5 8]\n",
      " [3 6 9]]\n"
     ]
    }
   ],
   "source": [
    "import numpy as np\n",
    "arr1=np.matrix([[1,2,3],[4,5,6],[7,8,9]])\n",
    "print(arr1)\n",
    "print()\n",
    "print(np.transpose(arr1))\n"
   ]
  },
  {
   "cell_type": "code",
   "execution_count": 42,
   "id": "f9e7e2af-c6bc-4b90-a9a1-a5c1ccecb948",
   "metadata": {},
   "outputs": [
    {
     "name": "stdout",
     "output_type": "stream",
     "text": [
      "[[1 2 3]\n",
      " [4 5 6]\n",
      " [7 8 9]]\n",
      "\n",
      "[[1 4 7]\n",
      " [2 5 8]\n",
      " [3 6 9]]\n"
     ]
    }
   ],
   "source": [
    "import numpy as np\n",
    "arr1=np.matrix([[1,2,3],[4,5,6],[7,8,9]])\n",
    "print(arr1)\n",
    "print()\n",
    "print(arr1.T)\n"
   ]
  },
  {
   "cell_type": "markdown",
   "id": "32a7a230-03d6-470c-9f43-e1a1ae478c73",
   "metadata": {},
   "source": [
    "# swapaxes function"
   ]
  },
  {
   "cell_type": "code",
   "execution_count": 47,
   "id": "edcd4e8a-6650-4494-a287-e2b7933792a2",
   "metadata": {},
   "outputs": [
    {
     "name": "stdout",
     "output_type": "stream",
     "text": [
      "[[1 2 3]\n",
      " [4 5 6]\n",
      " [7 8 9]]\n",
      "\n",
      "[[1 4 7]\n",
      " [2 5 8]\n",
      " [3 6 9]]\n"
     ]
    }
   ],
   "source": [
    "import numpy as np\n",
    "arr1=np.matrix([[1,2,3],[4,5,6],[7,8,9]])\n",
    "print(arr1)\n",
    "print()\n",
    "print(np.swapaxes(arr1,0,1))"
   ]
  },
  {
   "cell_type": "code",
   "execution_count": 49,
   "id": "8d8d2601-76ec-40a7-9756-0f775a74774a",
   "metadata": {},
   "outputs": [
    {
     "name": "stdout",
     "output_type": "stream",
     "text": [
      "[[1 2 3]\n",
      " [4 5 6]\n",
      " [7 8 9]]\n",
      "\n",
      "[[1 4 7]\n",
      " [2 5 8]\n",
      " [3 6 9]]\n"
     ]
    }
   ],
   "source": [
    "import numpy as np\n",
    "arr1=np.matrix([[1,2,3],[4,5,6],[7,8,9]])\n",
    "print(arr1)\n",
    "print()\n",
    "print(np.swapaxes(arr1,1,0))"
   ]
  },
  {
   "cell_type": "markdown",
   "id": "066f70d1-4e8b-495d-95e0-68ed8b6ee521",
   "metadata": {},
   "source": [
    "# inverse"
   ]
  },
  {
   "cell_type": "code",
   "execution_count": 56,
   "id": "0cae7efb-afe2-4b00-9d70-8317af304675",
   "metadata": {},
   "outputs": [
    {
     "name": "stdout",
     "output_type": "stream",
     "text": [
      "[[1 2]\n",
      " [3 4]]\n",
      "\n",
      "[[-2.   1. ]\n",
      " [ 1.5 -0.5]]\n"
     ]
    }
   ],
   "source": [
    "import numpy as np\n",
    "arr1=np.matrix([[1,2],[3,4]])\n",
    "print(arr1)\n",
    "print()\n",
    "print(np.linalg.inv(arr1))"
   ]
  },
  {
   "cell_type": "markdown",
   "id": "a2e71d86-11d6-4e5c-9fb5-80792e60b972",
   "metadata": {},
   "source": [
    "# power function"
   ]
  },
  {
   "cell_type": "code",
   "execution_count": 63,
   "id": "1b9e11f1-23d5-4821-bb4b-6b4e6ce94f86",
   "metadata": {},
   "outputs": [
    {
     "name": "stdout",
     "output_type": "stream",
     "text": [
      "[[1 2]\n",
      " [3 4]]\n",
      "\n",
      "[[ 7 10]\n",
      " [15 22]]\n",
      "\n",
      "[[1 0]\n",
      " [0 1]]\n",
      "\n",
      "[[ 5.5  -2.5 ]\n",
      " [-3.75  1.75]]\n"
     ]
    }
   ],
   "source": [
    "import numpy as np\n",
    "arr1=np.matrix([[1,2],[3,4]])\n",
    "print(arr1)\n",
    "print()\n",
    "print(np.linalg.matrix_power(arr1,2))\n",
    "print()\n",
    "print(np.linalg.matrix_power(arr1,0))\n",
    "print()\n",
    "print(np.linalg.matrix_power(arr1,-2))"
   ]
  },
  {
   "cell_type": "markdown",
   "id": "41d5fb70-8b33-4249-8ac9-f3f4b138b824",
   "metadata": {},
   "source": [
    "# determinate"
   ]
  },
  {
   "cell_type": "code",
   "execution_count": 69,
   "id": "a2329725-a695-4903-b412-d1fdf40e183e",
   "metadata": {},
   "outputs": [
    {
     "name": "stdout",
     "output_type": "stream",
     "text": [
      "[[1 2 3]\n",
      " [4 5 6]\n",
      " [7 8 9]]\n",
      "\n",
      "-9.51619735392994e-16\n"
     ]
    }
   ],
   "source": [
    "import numpy as np\n",
    "arr1=np.matrix([[1,2,3],[4,5,6],[7,8,9]])\n",
    "print(arr1)\n",
    "print()\n",
    "print(np.linalg.det(arr1))"
   ]
  },
  {
   "cell_type": "code",
   "execution_count": null,
   "id": "39c14a8e-f1b6-44ff-a188-7485a0657812",
   "metadata": {},
   "outputs": [],
   "source": []
  }
 ],
 "metadata": {
  "kernelspec": {
   "display_name": "Python [conda env:base] *",
   "language": "python",
   "name": "conda-base-py"
  },
  "language_info": {
   "codemirror_mode": {
    "name": "ipython",
    "version": 3
   },
   "file_extension": ".py",
   "mimetype": "text/x-python",
   "name": "python",
   "nbconvert_exporter": "python",
   "pygments_lexer": "ipython3",
   "version": "3.12.7"
  }
 },
 "nbformat": 4,
 "nbformat_minor": 5
}
