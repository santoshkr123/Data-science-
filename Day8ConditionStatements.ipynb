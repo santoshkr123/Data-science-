{
 "cells": [
  {
   "cell_type": "markdown",
   "id": "66b51080-3b4d-431b-acd1-06c0babda4dc",
   "metadata": {},
   "source": [
    "# If-condiion"
   ]
  },
  {
   "cell_type": "code",
   "execution_count": 7,
   "id": "220ccae4-a245-452d-a471-58c13a89ce3b",
   "metadata": {},
   "outputs": [
    {
     "name": "stdin",
     "output_type": "stream",
     "text": [
      "Enter first number :  25\n",
      "Enter second number  :  88\n"
     ]
    },
    {
     "name": "stdout",
     "output_type": "stream",
     "text": [
      "Second number is greater :  88\n"
     ]
    }
   ],
   "source": [
    "\"\"\"take two numbers from user and print greater one\"\"\"\n",
    "a=int(input(\"Enter first number : \"))\n",
    "b=int(input(\"Enter second number  : \"))\n",
    "if a>b:\n",
    "    print(\"First number is greater :\",a)\n",
    "if b>a:\n",
    "    print(\"Second number is greater : \",b)\n",
    "    "
   ]
  },
  {
   "cell_type": "code",
   "execution_count": 15,
   "id": "d862eb13-695f-45ac-9cad-1fd4a02596ca",
   "metadata": {},
   "outputs": [
    {
     "name": "stdin",
     "output_type": "stream",
     "text": [
      "Enter the number :  45\n"
     ]
    },
    {
     "name": "stdout",
     "output_type": "stream",
     "text": [
      "Number entered by user is odd number :\n"
     ]
    }
   ],
   "source": [
    "\"\"\"Enter the value from user ,and check the number is true or false \"\"\"\n",
    "num=int(input(\"Enter the number : \"))\n",
    "if num%2==0:\n",
    "    print(\"Number enered by user is even number : \")\n",
    "if num%2!=0:\n",
    "    print(\"Number entered by user is odd number :\")"
   ]
  },
  {
   "cell_type": "code",
   "execution_count": 19,
   "id": "48c85b9c-7282-43a4-bb5f-b16ccc192873",
   "metadata": {},
   "outputs": [
    {
     "name": "stdin",
     "output_type": "stream",
     "text": [
      "Toss a coin tail\n"
     ]
    },
    {
     "name": "stdout",
     "output_type": "stream",
     "text": [
      "Tail will be first\n"
     ]
    }
   ],
   "source": [
    "\"\"\"Umpire tossed a coin ,if it will head team A will bat first if it will be Tail then team B will be first\"\"\"\n",
    "a=input(\"Toss a coin\")\n",
    "if a==\"head\":\n",
    "    print(\"Head will be first \")\n",
    "if a==\"tail\":\n",
    "    print(\"Tail will be first\")"
   ]
  },
  {
   "cell_type": "code",
   "execution_count": 25,
   "id": "d8f07b88-e602-4611-8477-cd3c3c54b461",
   "metadata": {},
   "outputs": [
    {
     "name": "stdin",
     "output_type": "stream",
     "text": [
      "Enter a number :  47\n"
     ]
    },
    {
     "name": "stdout",
     "output_type": "stream",
     "text": [
      "Number is not divisible by 13 \n"
     ]
    }
   ],
   "source": [
    "\"\"\"enter the number from user the number is divisible by 13 or not\"\"\"\n",
    "num=int(input(\"Enter a number : \"))\n",
    "if num%13==0:\n",
    "    print(\"Number is divisible by 13 :\")\n",
    "if num%13!=0:\n",
    "    print(\"Number is not divisible by 13 \")\n",
    "    \n",
    "    "
   ]
  },
  {
   "cell_type": "code",
   "execution_count": 27,
   "id": "49497d8c-f8d4-49ec-9ae6-4664fa826e30",
   "metadata": {},
   "outputs": [
    {
     "name": "stdin",
     "output_type": "stream",
     "text": [
      "enter a color of the ball : blue\n"
     ]
    },
    {
     "name": "stdout",
     "output_type": "stream",
     "text": [
      "Raju will play from blue team\n"
     ]
    }
   ],
   "source": [
    "\"\"\"Raju went for shopping if he purchase blue ball than ,he will play from side of blue team ,\n",
    "if raju will purchase green ball then he will play from the side of green team\"\"\"\n",
    "c=input(\"enter a color of the ball :\")\n",
    "if c==\"blue\":\n",
    "    print(\"Raju will play from blue team\")\n",
    "if c==\"green\":\n",
    "    print(\"Raju will play from green team\")\n",
    "    \n",
    "\n"
   ]
  },
  {
   "cell_type": "markdown",
   "id": "4aa5a518-d702-4667-ab9f-4e53961ef325",
   "metadata": {},
   "source": [
    "# if else condition"
   ]
  },
  {
   "cell_type": "code",
   "execution_count": 34,
   "id": "23d91a53-f17f-4c2a-9c22-958001ec6d9c",
   "metadata": {},
   "outputs": [
    {
     "name": "stdin",
     "output_type": "stream",
     "text": [
      "enter a value 78\n"
     ]
    },
    {
     "name": "stdout",
     "output_type": "stream",
     "text": [
      "Magic\n"
     ]
    }
   ],
   "source": [
    "\"\"\"take a value from the user ,and if the value is greater than 20 print magic and if the value is not greater than 20 print no maigic \"\"\"\n",
    "n=int(input(\"enter a value\"))\n",
    "if n>20:\n",
    "    print(\"Magic\")\n",
    "else:\n",
    "    print(\"No magic\")"
   ]
  },
  {
   "cell_type": "code",
   "execution_count": 36,
   "id": "b64dbf6b-a8ed-460a-a2f9-169c6279a91c",
   "metadata": {},
   "outputs": [
    {
     "name": "stdin",
     "output_type": "stream",
     "text": [
      "enter the age  60\n"
     ]
    },
    {
     "name": "stdout",
     "output_type": "stream",
     "text": [
      "Senior Citizen\n"
     ]
    }
   ],
   "source": [
    "\"\"\"enter the age from user ,if the age is greater than 60 print Senior Citizen ,if less than 60 print not senior cicitzen\"\"\"\n",
    "age=int(input(\"enter the age \"))\n",
    "if age>=60:\n",
    "    print(\"Senior Citizen\")\n",
    "else:\n",
    "    print(\"Not secior citizen\")"
   ]
  },
  {
   "cell_type": "code",
   "execution_count": 44,
   "id": "08a00749-ac46-4d7b-917c-989c4bdec33b",
   "metadata": {},
   "outputs": [
    {
     "name": "stdin",
     "output_type": "stream",
     "text": [
      "enter a age number : 25\n"
     ]
    },
    {
     "name": "stdout",
     "output_type": "stream",
     "text": [
      "Voting\n",
      "Election are coming soon\n"
     ]
    }
   ],
   "source": [
    "\"\"\"enter the age from user ,if the age is grater than 18 his or she elegible for voting otherwise not \"\"\"\n",
    "age=int(input(\"enter a age number :\"))\n",
    "if age>18:\n",
    "    print(\"Voting\")\n",
    "else:\n",
    "    print(\"Not Voting\")\n",
    "print(\"Election are coming soon\")"
   ]
  },
  {
   "cell_type": "code",
   "execution_count": null,
   "id": "001f3446-b871-4a24-9d01-82053aa1003c",
   "metadata": {},
   "outputs": [],
   "source": []
  }
 ],
 "metadata": {
  "kernelspec": {
   "display_name": "Python [conda env:base] *",
   "language": "python",
   "name": "conda-base-py"
  },
  "language_info": {
   "codemirror_mode": {
    "name": "ipython",
    "version": 3
   },
   "file_extension": ".py",
   "mimetype": "text/x-python",
   "name": "python",
   "nbconvert_exporter": "python",
   "pygments_lexer": "ipython3",
   "version": "3.12.7"
  }
 },
 "nbformat": 4,
 "nbformat_minor": 5
}
