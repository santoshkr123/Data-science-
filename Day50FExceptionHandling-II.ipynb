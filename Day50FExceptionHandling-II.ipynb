{
 "cells": [
  {
   "cell_type": "markdown",
   "id": "f0263b1b-98fc-40d2-b37c-aa69b13ffdd7",
   "metadata": {},
   "source": [
    "# Exception handling -II"
   ]
  },
  {
   "cell_type": "code",
   "execution_count": 7,
   "id": "7492cbea-699d-4c99-ba3d-2db835c928c4",
   "metadata": {},
   "outputs": [],
   "source": [
    "try:\n",
    "    f=open(\"test.txt\",\"w\")\n",
    "    f.write(\"This is the test file\")\n",
    "    f.close()\n",
    "    \n",
    "except Exception as e:\n",
    "    print(\"This is the exception file section\",e)\n",
    "    \n",
    "    "
   ]
  },
  {
   "cell_type": "code",
   "execution_count": 11,
   "id": "fb9b3adc-21e4-4366-a69b-e616b5a64f7c",
   "metadata": {},
   "outputs": [
    {
     "name": "stdout",
     "output_type": "stream",
     "text": [
      "This is the else part\n",
      "This is the handling\n",
      "30\n"
     ]
    }
   ],
   "source": [
    "try:\n",
    "    f=open(\"test.txt\",\"w\")\n",
    "    f.write(\"This is the test file\")\n",
    "    f.close()\n",
    "\n",
    "except Exception as e:\n",
    "    print(\"This is the exception section \")\n",
    "\n",
    "else:\n",
    "    print(\"This is the else part\")\n",
    "    print(\"This is the handling\")\n",
    "    a=10+20\n",
    "    print(a)"
   ]
  },
  {
   "cell_type": "code",
   "execution_count": 13,
   "id": "e89dfe5b-f3ba-44e3-a98f-11464f349e1e",
   "metadata": {},
   "outputs": [
    {
     "name": "stdout",
     "output_type": "stream",
     "text": [
      "This is finally block\n"
     ]
    },
    {
     "ename": "UnsupportedOperation",
     "evalue": "not writable",
     "output_type": "error",
     "traceback": [
      "\u001b[1;31m---------------------------------------------------------------------------\u001b[0m",
      "\u001b[1;31mUnsupportedOperation\u001b[0m                      Traceback (most recent call last)",
      "Cell \u001b[1;32mIn[13], line 3\u001b[0m\n\u001b[0;32m      1\u001b[0m \u001b[38;5;28;01mtry\u001b[39;00m:\n\u001b[0;32m      2\u001b[0m     f\u001b[38;5;241m=\u001b[39m\u001b[38;5;28mopen\u001b[39m(\u001b[38;5;124m\"\u001b[39m\u001b[38;5;124mtest.txt\u001b[39m\u001b[38;5;124m\"\u001b[39m,\u001b[38;5;124m\"\u001b[39m\u001b[38;5;124mr\u001b[39m\u001b[38;5;124m\"\u001b[39m)\n\u001b[1;32m----> 3\u001b[0m     f\u001b[38;5;241m.\u001b[39mwrite(\u001b[38;5;124m\"\u001b[39m\u001b[38;5;124mThis is test section\u001b[39m\u001b[38;5;124m\"\u001b[39m)\n\u001b[0;32m      4\u001b[0m     f\u001b[38;5;241m.\u001b[39mclose()\n\u001b[0;32m      6\u001b[0m \u001b[38;5;28;01mfinally\u001b[39;00m:\n",
      "\u001b[1;31mUnsupportedOperation\u001b[0m: not writable"
     ]
    }
   ],
   "source": [
    "try:\n",
    "    f=open(\"test.txt\",\"r\")\n",
    "    f.write(\"This is test section\")\n",
    "    f.close()\n",
    "\n",
    "finally:\n",
    "    print(\"This is finally block\")"
   ]
  },
  {
   "cell_type": "code",
   "execution_count": 15,
   "id": "197aa492-33a1-4491-a4f3-a626ac0e6df7",
   "metadata": {},
   "outputs": [
    {
     "name": "stdout",
     "output_type": "stream",
     "text": [
      "print error  not writable\n",
      "Amazing\n",
      "finally block code\n"
     ]
    }
   ],
   "source": [
    "try:\n",
    "    f=open(\"test.txt\",\"r\")\n",
    "    f.write(\"this is write section\")\n",
    "    f.close()\n",
    "\n",
    "except Exception as e:\n",
    "    print(\"print error \",e)\n",
    "    print(\"Amazing\")\n",
    "\n",
    "finally:\n",
    "    print(\"finally block code\")\n",
    "    "
   ]
  },
  {
   "cell_type": "markdown",
   "id": "0254df42-4fa3-445f-b246-f0655454d62d",
   "metadata": {},
   "source": [
    "# Custom Exception Handling"
   ]
  },
  {
   "cell_type": "code",
   "execution_count": 25,
   "id": "479e42a6-d055-4ba8-b789-a24d7fc46319",
   "metadata": {},
   "outputs": [
    {
     "name": "stdin",
     "output_type": "stream",
     "text": [
      "Enter the number of apples:  -25\n"
     ]
    },
    {
     "name": "stdout",
     "output_type": "stream",
     "text": [
      "Numbers of apples can never be negative.\n"
     ]
    }
   ],
   "source": [
    "class applenumbers(Exception):\n",
    "    def __init__(self, msg):\n",
    "        self.msg = msg\n",
    "\n",
    "def applevalidation(apple):\n",
    "    if apple < 0:\n",
    "        raise applenumbers(\"Numbers of apples can never be negative.\")\n",
    "    elif apple > 2000:\n",
    "        raise applenumbers(\"Apples are too much in number.\")\n",
    "    else:\n",
    "        print(\"Numbers of apples are valid:\", apple)\n",
    "\n",
    "try:\n",
    "    apple = int(input(\"Enter the number of apples: \"))\n",
    "    applevalidation(apple)\n",
    "except applenumbers as e:\n",
    "    print(e)\n",
    "except ValueError:\n",
    "\n",
    "    print(\"Please enter a valid integer.\")\n"
   ]
  },
  {
   "cell_type": "code",
   "execution_count": null,
   "id": "c8ea178f-f1f1-4cb5-9a2a-0082a540d84b",
   "metadata": {},
   "outputs": [],
   "source": []
  }
 ],
 "metadata": {
  "kernelspec": {
   "display_name": "Python [conda env:base] *",
   "language": "python",
   "name": "conda-base-py"
  },
  "language_info": {
   "codemirror_mode": {
    "name": "ipython",
    "version": 3
   },
   "file_extension": ".py",
   "mimetype": "text/x-python",
   "name": "python",
   "nbconvert_exporter": "python",
   "pygments_lexer": "ipython3",
   "version": "3.12.7"
  }
 },
 "nbformat": 4,
 "nbformat_minor": 5
}
