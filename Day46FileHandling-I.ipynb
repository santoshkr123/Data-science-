{
 "cells": [
  {
   "cell_type": "markdown",
   "id": "6df683e8-80b7-4373-857d-7b22ce22f62a",
   "metadata": {},
   "source": [
    "# File handling"
   ]
  },
  {
   "cell_type": "code",
   "execution_count": 7,
   "id": "3f870d66-7b12-4ef6-8149-5f265917f147",
   "metadata": {},
   "outputs": [],
   "source": [
    "f=open(\"test.txt\",\"w\")\n"
   ]
  },
  {
   "cell_type": "code",
   "execution_count": 5,
   "id": "b71cbd17-645d-46d0-a9bb-a0bcc138e077",
   "metadata": {},
   "outputs": [
    {
     "data": {
      "text/plain": [
       "'C:\\\\Users\\\\santo'"
      ]
     },
     "execution_count": 5,
     "metadata": {},
     "output_type": "execute_result"
    }
   ],
   "source": [
    "pwd"
   ]
  },
  {
   "cell_type": "code",
   "execution_count": null,
   "id": "865f04de-095c-437a-af7e-b3662db20bb9",
   "metadata": {},
   "outputs": [],
   "source": []
  },
  {
   "cell_type": "code",
   "execution_count": 11,
   "id": "6f3b39f6-2384-43fa-826d-49c34e2554b8",
   "metadata": {},
   "outputs": [
    {
     "data": {
      "text/plain": [
       "25"
      ]
     },
     "execution_count": 11,
     "metadata": {},
     "output_type": "execute_result"
    }
   ],
   "source": [
    "f.write(\"this is the writing phase\")"
   ]
  },
  {
   "cell_type": "code",
   "execution_count": 13,
   "id": "16f006b6-25b0-4c68-9578-c9795c278562",
   "metadata": {},
   "outputs": [],
   "source": [
    "f.close()"
   ]
  },
  {
   "cell_type": "code",
   "execution_count": 15,
   "id": "cc77e633-f26c-4a6f-8e2e-52982c53b394",
   "metadata": {},
   "outputs": [],
   "source": [
    "f=open(\"test.txt\",\"w\")\n"
   ]
  },
  {
   "cell_type": "code",
   "execution_count": 17,
   "id": "4e1bc77c-e2ff-4d05-bc58-b2ce4663f799",
   "metadata": {},
   "outputs": [
    {
     "data": {
      "text/plain": [
       "13"
      ]
     },
     "execution_count": 17,
     "metadata": {},
     "output_type": "execute_result"
    }
   ],
   "source": [
    "f.write(\"file changing\")"
   ]
  },
  {
   "cell_type": "code",
   "execution_count": 19,
   "id": "8e602166-41ee-4f47-ad50-02780e5cf537",
   "metadata": {},
   "outputs": [],
   "source": [
    "f.close()"
   ]
  },
  {
   "cell_type": "code",
   "execution_count": 21,
   "id": "a0aa7bf1-3800-4ea5-8e13-7a64c2c300b5",
   "metadata": {},
   "outputs": [],
   "source": [
    "f=open(\"test.txt\",\"a\")\n"
   ]
  },
  {
   "cell_type": "code",
   "execution_count": 23,
   "id": "e3fd4434-4895-4ffd-a12b-7fe0a3c2d50b",
   "metadata": {},
   "outputs": [
    {
     "data": {
      "text/plain": [
       "15"
      ]
     },
     "execution_count": 23,
     "metadata": {},
     "output_type": "execute_result"
    }
   ],
   "source": [
    "f.write(\"Python learning\")"
   ]
  },
  {
   "cell_type": "code",
   "execution_count": 25,
   "id": "d44f8bdc-b9c5-4d5f-a2e2-48f852f4143c",
   "metadata": {},
   "outputs": [],
   "source": [
    "f.close()"
   ]
  },
  {
   "cell_type": "code",
   "execution_count": 29,
   "id": "326195b6-b3e2-436a-bcf2-219b37534ff1",
   "metadata": {},
   "outputs": [],
   "source": [
    "f=open(\"test.txt\",\"r\")"
   ]
  },
  {
   "cell_type": "code",
   "execution_count": 31,
   "id": "26d52779-8a28-4f45-b5e5-e13c98570696",
   "metadata": {},
   "outputs": [
    {
     "data": {
      "text/plain": [
       "'file changingPython learning'"
      ]
     },
     "execution_count": 31,
     "metadata": {},
     "output_type": "execute_result"
    }
   ],
   "source": [
    "f.read()"
   ]
  },
  {
   "cell_type": "code",
   "execution_count": 33,
   "id": "4488b464-40ea-4880-81f0-b7587f82b987",
   "metadata": {},
   "outputs": [
    {
     "data": {
      "text/plain": [
       "''"
      ]
     },
     "execution_count": 33,
     "metadata": {},
     "output_type": "execute_result"
    }
   ],
   "source": [
    "f.readline()"
   ]
  },
  {
   "cell_type": "code",
   "execution_count": 35,
   "id": "de73e7c5-b7d4-436e-b12b-39d12319bc50",
   "metadata": {},
   "outputs": [
    {
     "data": {
      "text/plain": [
       "0"
      ]
     },
     "execution_count": 35,
     "metadata": {},
     "output_type": "execute_result"
    }
   ],
   "source": [
    "f.seek(0)"
   ]
  },
  {
   "cell_type": "code",
   "execution_count": 37,
   "id": "36e131c3-fee2-4146-a7b8-2cbf81d1e889",
   "metadata": {},
   "outputs": [
    {
     "data": {
      "text/plain": [
       "'file changingPython learning'"
      ]
     },
     "execution_count": 37,
     "metadata": {},
     "output_type": "execute_result"
    }
   ],
   "source": [
    "f.readline()"
   ]
  },
  {
   "cell_type": "code",
   "execution_count": 39,
   "id": "4153ace4-0a2b-4576-9725-1cad2e1d1a70",
   "metadata": {},
   "outputs": [
    {
     "data": {
      "text/plain": [
       "5"
      ]
     },
     "execution_count": 39,
     "metadata": {},
     "output_type": "execute_result"
    }
   ],
   "source": [
    "f.seek(5)"
   ]
  },
  {
   "cell_type": "code",
   "execution_count": 41,
   "id": "53165a5c-da0e-48f0-b62a-dd259d36c940",
   "metadata": {},
   "outputs": [
    {
     "data": {
      "text/plain": [
       "'changingPython learning'"
      ]
     },
     "execution_count": 41,
     "metadata": {},
     "output_type": "execute_result"
    }
   ],
   "source": [
    "f.readline()"
   ]
  },
  {
   "cell_type": "code",
   "execution_count": 47,
   "id": "c40cd0c9-990a-4361-9999-d1e52591101c",
   "metadata": {},
   "outputs": [
    {
     "data": {
      "text/plain": [
       "28"
      ]
     },
     "execution_count": 47,
     "metadata": {},
     "output_type": "execute_result"
    }
   ],
   "source": [
    "import os\n",
    "os.path.getsize(\"test.txt\")"
   ]
  },
  {
   "cell_type": "code",
   "execution_count": 62,
   "id": "5e369ad7-5d67-4764-b844-4815715ec266",
   "metadata": {},
   "outputs": [],
   "source": [
    "os.remove(\"test.txt\")"
   ]
  },
  {
   "cell_type": "code",
   "execution_count": 52,
   "id": "8386d894-4417-4832-9b1f-38b4957b57ef",
   "metadata": {},
   "outputs": [],
   "source": [
    "f=open(\"test1.txt\",\"w\")"
   ]
  },
  {
   "cell_type": "code",
   "execution_count": 54,
   "id": "74c3a1d8-7b58-4b89-a6cb-e337084bd228",
   "metadata": {},
   "outputs": [
    {
     "data": {
      "text/plain": [
       "21"
      ]
     },
     "execution_count": 54,
     "metadata": {},
     "output_type": "execute_result"
    }
   ],
   "source": [
    "f.write(\"Learning data science\")"
   ]
  },
  {
   "cell_type": "code",
   "execution_count": 56,
   "id": "283896b0-8c5b-4ed1-885c-de6093bd8d8f",
   "metadata": {},
   "outputs": [],
   "source": [
    "f.close()"
   ]
  },
  {
   "cell_type": "code",
   "execution_count": null,
   "id": "e342830e-b8dc-490f-b059-70a3fbf92b1a",
   "metadata": {},
   "outputs": [],
   "source": [
    "os.rename(\"test1.txt\",\"new.txt\")"
   ]
  },
  {
   "cell_type": "code",
   "execution_count": null,
   "id": "c9eb4c69-d2bd-4fdf-9e9a-21f86f6cd2bf",
   "metadata": {},
   "outputs": [],
   "source": [
    "import shutil\n",
    "shutil.copy(\"test1.txt\",\"new.txt\")"
   ]
  },
  {
   "cell_type": "markdown",
   "id": "26c95682-2605-461d-8b53-81ff2fc7ad45",
   "metadata": {},
   "source": [
    "# reading and writing files"
   ]
  },
  {
   "cell_type": "code",
   "execution_count": null,
   "id": "6f791595-b5f9-4ad5-a22a-fee3fd8e33ec",
   "metadata": {},
   "outputs": [],
   "source": [
    "data={\"name\":\"Ram\",\n",
    "     \"age\":12,\n",
    "     \"email_id\":\"ram@gmail.com\",\n",
    "     \"address\":\"Gaya\"}"
   ]
  },
  {
   "cell_type": "code",
   "execution_count": null,
   "id": "9c9359cf-868f-48e6-9127-b4d174a323de",
   "metadata": {},
   "outputs": [],
   "source": [
    "import json"
   ]
  },
  {
   "cell_type": "code",
   "execution_count": null,
   "id": "f80f9267-56ca-4c10-a6ff-54b848e1218f",
   "metadata": {},
   "outputs": [],
   "source": [
    "with open(\"data.json\",\"w\")as f:\n",
    "    json.dump(data,f)"
   ]
  },
  {
   "cell_type": "code",
   "execution_count": null,
   "id": "69e7d09f-f49c-42fe-9d54-097eb94e52de",
   "metadata": {},
   "outputs": [],
   "source": [
    "with open(\"data.json\",\"r\")as f:\n",
    "    data1=json.load(f)\n",
    "\n",
    "\n"
   ]
  },
  {
   "cell_type": "markdown",
   "id": "32ad3cd1-1f31-486e-9a08-f02c07bdc072",
   "metadata": {},
   "source": [
    "# csv file format"
   ]
  },
  {
   "cell_type": "code",
   "execution_count": null,
   "id": "eb3a6b27-0f0f-4bb3-9f78-ea9b75a0fd53",
   "metadata": {},
   "outputs": [],
   "source": [
    "import csv"
   ]
  },
  {
   "cell_type": "code",
   "execution_count": null,
   "id": "58a27cad-c370-4d97-acc3-cc08dc239c79",
   "metadata": {},
   "outputs": [],
   "source": [
    "data=[[\"name\",\"email_id\",\"phone_number\"],\n",
    "     [\"ram\",\"ram@gmail.com\",8978848445],\n",
    "      [\"sawan\",\"sawan@gmail.com\",654564564]\n",
    "     ]"
   ]
  },
  {
   "cell_type": "code",
   "execution_count": null,
   "id": "4dd18be0-f848-4025-a687-cd8684741b63",
   "metadata": {},
   "outputs": [],
   "source": [
    "with open(\"data.csv\",\"w\")as f:\n",
    "    writer=csv.writer(f)\n",
    "    for i in data:\n",
    "        writer.writerrow(i)"
   ]
  },
  {
   "cell_type": "code",
   "execution_count": null,
   "id": "3ab13caa-34c8-4827-b5f9-9f870feffcd4",
   "metadata": {},
   "outputs": [],
   "source": [
    "with open(\"data,csv\",\"r\")as f:\n",
    "    read_data=csv.reader(f)\n",
    "    for i in read_data:\n",
    "        print(i)\n",
    "        "
   ]
  },
  {
   "cell_type": "code",
   "execution_count": null,
   "id": "0fa57669-c46f-40c0-9c70-f8e2b3e9c3bd",
   "metadata": {},
   "outputs": [],
   "source": []
  }
 ],
 "metadata": {
  "kernelspec": {
   "display_name": "Python [conda env:base] *",
   "language": "python",
   "name": "conda-base-py"
  },
  "language_info": {
   "codemirror_mode": {
    "name": "ipython",
    "version": 3
   },
   "file_extension": ".py",
   "mimetype": "text/x-python",
   "name": "python",
   "nbconvert_exporter": "python",
   "pygments_lexer": "ipython3",
   "version": "3.12.7"
  }
 },
 "nbformat": 4,
 "nbformat_minor": 5
}
