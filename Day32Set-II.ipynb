{
 "cells": [
  {
   "cell_type": "markdown",
   "id": "71660b22-cd66-4698-b14d-07c5db718211",
   "metadata": {},
   "source": [
    "# pop()method in set"
   ]
  },
  {
   "cell_type": "code",
   "execution_count": 3,
   "id": "8772cbf6-f203-4d4b-b93c-ad76fa2ad3dc",
   "metadata": {},
   "outputs": [
    {
     "name": "stdout",
     "output_type": "stream",
     "text": [
      "{-56.63, 12, 13, 14, 15, 'python', 'code', 23.23}\n"
     ]
    }
   ],
   "source": [
    "s={12,13,14,15,\"code\",\"python\",\"ai\",23.23,-56.63}\n",
    "s.pop()\n",
    "print(s)"
   ]
  },
  {
   "cell_type": "markdown",
   "id": "299b336e-85a7-4b0a-8375-3b2c7c388571",
   "metadata": {},
   "source": [
    "# clear()"
   ]
  },
  {
   "cell_type": "code",
   "execution_count": 8,
   "id": "65b0165f-bcdf-4122-a9a9-23b774b989b0",
   "metadata": {},
   "outputs": [
    {
     "name": "stdout",
     "output_type": "stream",
     "text": [
      "set()\n",
      "<class 'set'>\n"
     ]
    }
   ],
   "source": [
    "s={12,15,18,16,\"code\",\"python\"}\n",
    "s.clear()\n",
    "print(s)\n",
    "print(type(s))\n"
   ]
  },
  {
   "cell_type": "markdown",
   "id": "484060a8-6194-4054-a373-80f8b5dbc7f0",
   "metadata": {},
   "source": [
    "# del"
   ]
  },
  {
   "cell_type": "code",
   "execution_count": 11,
   "id": "89ea2426-217c-4e7c-a23f-85ff48af13b0",
   "metadata": {},
   "outputs": [
    {
     "ename": "NameError",
     "evalue": "name 's' is not defined",
     "output_type": "error",
     "traceback": [
      "\u001b[1;31m---------------------------------------------------------------------------\u001b[0m",
      "\u001b[1;31mNameError\u001b[0m                                 Traceback (most recent call last)",
      "Cell \u001b[1;32mIn[11], line 3\u001b[0m\n\u001b[0;32m      1\u001b[0m s\u001b[38;5;241m=\u001b[39m{\u001b[38;5;241m12\u001b[39m,\u001b[38;5;241m13\u001b[39m,\u001b[38;5;241m14\u001b[39m,\u001b[38;5;241m15\u001b[39m,\u001b[38;5;241m16\u001b[39m}\n\u001b[0;32m      2\u001b[0m \u001b[38;5;28;01mdel\u001b[39;00m(s)\n\u001b[1;32m----> 3\u001b[0m \u001b[38;5;28mprint\u001b[39m(s)\n",
      "\u001b[1;31mNameError\u001b[0m: name 's' is not defined"
     ]
    }
   ],
   "source": [
    "s={12,13,14,15,16}\n",
    "del(s)\n",
    "print(s)"
   ]
  },
  {
   "cell_type": "markdown",
   "id": "f79a28c3-84c8-40e5-8b2b-49f7bb1d0e87",
   "metadata": {},
   "source": [
    "# python-join sets"
   ]
  },
  {
   "cell_type": "code",
   "execution_count": 14,
   "id": "fcbe2c62-d39b-41c9-ab16-c8c446f1cbc1",
   "metadata": {},
   "outputs": [
    {
     "ename": "TypeError",
     "evalue": "unsupported operand type(s) for +: 'set' and 'set'",
     "output_type": "error",
     "traceback": [
      "\u001b[1;31m---------------------------------------------------------------------------\u001b[0m",
      "\u001b[1;31mTypeError\u001b[0m                                 Traceback (most recent call last)",
      "Cell \u001b[1;32mIn[14], line 3\u001b[0m\n\u001b[0;32m      1\u001b[0m a\u001b[38;5;241m=\u001b[39m{\u001b[38;5;241m12\u001b[39m,\u001b[38;5;241m13\u001b[39m,\u001b[38;5;241m14\u001b[39m,\u001b[38;5;241m15\u001b[39m,\u001b[38;5;241m16\u001b[39m}\n\u001b[0;32m      2\u001b[0m b\u001b[38;5;241m=\u001b[39m{\u001b[38;5;241m23.23\u001b[39m,\u001b[38;5;241m4569\u001b[39m,\u001b[38;5;241m36\u001b[39m,\u001b[38;5;241m88\u001b[39m}\n\u001b[1;32m----> 3\u001b[0m \u001b[38;5;28mprint\u001b[39m(a\u001b[38;5;241m+\u001b[39mb)\n",
      "\u001b[1;31mTypeError\u001b[0m: unsupported operand type(s) for +: 'set' and 'set'"
     ]
    }
   ],
   "source": [
    "a={12,13,14,15,16}\n",
    "b={23.23,4569,36,88}\n",
    "print(a+b)"
   ]
  },
  {
   "cell_type": "markdown",
   "id": "12a6d5f7-3891-4934-b458-93e32d77a84c",
   "metadata": {},
   "source": [
    "# union method()"
   ]
  },
  {
   "cell_type": "code",
   "execution_count": 19,
   "id": "9a2297f9-c503-4cad-9bd4-db51712cee6e",
   "metadata": {},
   "outputs": [
    {
     "name": "stdout",
     "output_type": "stream",
     "text": [
      "{12, 13, 14, 15, 16, 77, 45, 56, 89, 63}\n"
     ]
    }
   ],
   "source": [
    "a={12,13,14,15,16}\n",
    "b={45,56,63,89,77}\n",
    "c=a.union(b)\n",
    "print(c)"
   ]
  },
  {
   "cell_type": "code",
   "execution_count": 23,
   "id": "7066c218-a71d-4216-a0d9-6ec98f0caefe",
   "metadata": {},
   "outputs": [
    {
     "name": "stdout",
     "output_type": "stream",
     "text": [
      "{33, 33.23, 'ai', 'python', 15, 16, 'code', 18, 56, 63}\n"
     ]
    }
   ],
   "source": [
    "a={15,16,18,\"code\",\"ai\"}\n",
    "b={63,56,33,33.23,\"python\"}\n",
    "c=a.union(b)\n",
    "print(c)"
   ]
  },
  {
   "cell_type": "markdown",
   "id": "47f0b47b-16e8-4c97-82ed-730ab741188b",
   "metadata": {},
   "source": [
    "# difference between union and update"
   ]
  },
  {
   "cell_type": "code",
   "execution_count": 26,
   "id": "8826ceb5-8d3d-4183-b7f8-e66bede5f96c",
   "metadata": {},
   "outputs": [
    {
     "name": "stdout",
     "output_type": "stream",
     "text": [
      "{1, 2, 3, 12, 13, 14}\n"
     ]
    }
   ],
   "source": [
    "a={12,13,14}\n",
    "b={1,2,3}\n",
    "a.update(b)\n",
    "print(a)"
   ]
  },
  {
   "cell_type": "code",
   "execution_count": 28,
   "id": "a20321ba-b2d9-4b7a-b4c7-119d451b3d78",
   "metadata": {},
   "outputs": [
    {
     "name": "stdout",
     "output_type": "stream",
     "text": [
      "None\n"
     ]
    }
   ],
   "source": [
    "a={12,13,14}\n",
    "b={1,2,3}\n",
    "c=a.update(b)\n",
    "print(c)"
   ]
  },
  {
   "cell_type": "code",
   "execution_count": 30,
   "id": "751b4ff1-93ae-4a8c-8e59-6c0775138ede",
   "metadata": {},
   "outputs": [
    {
     "name": "stdout",
     "output_type": "stream",
     "text": [
      "{1, 2, 3, 12, 13, 14}\n"
     ]
    }
   ],
   "source": [
    "a={12,13,14}\n",
    "b={1,2,3}\n",
    "c=a.union(b)\n",
    "print(c)"
   ]
  },
  {
   "cell_type": "code",
   "execution_count": 32,
   "id": "3a672aa5-c37f-49bd-91ce-90428cbb7202",
   "metadata": {},
   "outputs": [
    {
     "name": "stdout",
     "output_type": "stream",
     "text": [
      "{12, 13, 14}\n"
     ]
    }
   ],
   "source": [
    "a={12,13,14}\n",
    "b={1,2,3}\n",
    "a.union(b)\n",
    "print(a)"
   ]
  },
  {
   "cell_type": "markdown",
   "id": "c2e511ad-0cce-457a-aab5-2bd2a3c3be4f",
   "metadata": {},
   "source": [
    "# intersection_update()method"
   ]
  },
  {
   "cell_type": "code",
   "execution_count": 35,
   "id": "fe60f098-fa18-4452-aedb-d843cefd2b36",
   "metadata": {},
   "outputs": [
    {
     "name": "stdout",
     "output_type": "stream",
     "text": [
      "{'code', 12, 13}\n"
     ]
    }
   ],
   "source": [
    "a={12,13,14,15,\"code\",\"python\"}\n",
    "b={12,13,\"code\",56}\n",
    "a.intersection_update(b)\n",
    "print(a)"
   ]
  },
  {
   "cell_type": "code",
   "execution_count": 41,
   "id": "0ab4dc78-7916-4eab-8fb6-0e2fdd58aae0",
   "metadata": {},
   "outputs": [
    {
     "name": "stdout",
     "output_type": "stream",
     "text": [
      "None\n"
     ]
    }
   ],
   "source": [
    "a={12,13,14,15,\"code\",\"python\"}\n",
    "b={12,13,\"code\",56}\n",
    "c=a.intersection_update(b)\n",
    "print(c)"
   ]
  },
  {
   "cell_type": "code",
   "execution_count": 43,
   "id": "206dae61-ce35-4f47-940e-c9cd4f0cba7d",
   "metadata": {},
   "outputs": [
    {
     "name": "stdout",
     "output_type": "stream",
     "text": [
      "{'code', 13, 12, 'cherry'}\n"
     ]
    }
   ],
   "source": [
    "a={12,13,14,15,\"code\",\"python\",\"cherry\"}\n",
    "b={12,13,\"code\",56,\"cherry\"}\n",
    "b.intersection_update(a)\n",
    "print(b)"
   ]
  },
  {
   "cell_type": "markdown",
   "id": "e9136245-4cf3-42e5-a699-5f950156a30a",
   "metadata": {},
   "source": [
    "# intersection()"
   ]
  },
  {
   "cell_type": "code",
   "execution_count": 46,
   "id": "7307798c-635e-4362-84ff-7c26939e575e",
   "metadata": {},
   "outputs": [
    {
     "name": "stdout",
     "output_type": "stream",
     "text": [
      "{'code', 12, 13}\n"
     ]
    }
   ],
   "source": [
    "a={12,13,14,15,\"code\",\"python\"}\n",
    "b={12,13,\"code\",56,\"cherry\"}\n",
    "c=a.intersection(b)\n",
    "print(c)"
   ]
  },
  {
   "cell_type": "code",
   "execution_count": 48,
   "id": "9053f08d-9ff5-4ece-a395-a8b8ca2e67a7",
   "metadata": {},
   "outputs": [
    {
     "name": "stdout",
     "output_type": "stream",
     "text": [
      "{1.2, 1.3}\n"
     ]
    }
   ],
   "source": [
    "a={1.2,1.3,1.4}\n",
    "b={1.2,1.3}\n",
    "c=a.intersection(b)\n",
    "print(c)"
   ]
  },
  {
   "cell_type": "markdown",
   "id": "62360c88-f782-43c1-a01a-e04e25002022",
   "metadata": {},
   "source": [
    "# difference()"
   ]
  },
  {
   "cell_type": "code",
   "execution_count": 51,
   "id": "724e0604-a177-4356-828d-09e5c7eb2345",
   "metadata": {},
   "outputs": [
    {
     "name": "stdout",
     "output_type": "stream",
     "text": [
      "{'ai', 13, 'python', 15, 14}\n"
     ]
    }
   ],
   "source": [
    "\"\"\"return a set that contains the items that only exists in set x not in set y\"\"\"\n",
    "a={12,13,14,15,\"code\",\"python\",\"ai\"}\n",
    "b={12,10,\"code\",\"delhi\"}\n",
    "c=a.difference(b)\n",
    "print(c)"
   ]
  },
  {
   "cell_type": "code",
   "execution_count": 53,
   "id": "aaf655b2-5ed1-4ce5-81f0-ceb5f28f9d2a",
   "metadata": {},
   "outputs": [
    {
     "name": "stdout",
     "output_type": "stream",
     "text": [
      "{10, 'delhi'}\n"
     ]
    }
   ],
   "source": [
    "a={12,13,14,15,\"code\",\"python\",\"ai\"}\n",
    "b={12,10,\"code\",\"delhi\"}\n",
    "c=b.difference(a)\n",
    "print(c)"
   ]
  },
  {
   "cell_type": "markdown",
   "id": "1b49a599-312c-4b57-b7b5-ae7ba1a1aa7f",
   "metadata": {},
   "source": [
    "# difference_update()"
   ]
  },
  {
   "cell_type": "code",
   "execution_count": 56,
   "id": "4715bc00-6ac5-4500-a707-b47f9514c872",
   "metadata": {},
   "outputs": [
    {
     "name": "stdout",
     "output_type": "stream",
     "text": [
      "{2, 3, 'ai', 4}\n"
     ]
    }
   ],
   "source": [
    "\"\"\"remove the items that exists in both sets\"\"\"\n",
    "a={1,2,3,4,\"code\",\"ai\"}\n",
    "b={1,\"code\"}\n",
    "a.difference_update(b)\n",
    "print(a)"
   ]
  },
  {
   "cell_type": "code",
   "execution_count": 62,
   "id": "b560d542-5238-44cf-88b0-ebee1c8ce630",
   "metadata": {},
   "outputs": [
    {
     "name": "stdout",
     "output_type": "stream",
     "text": [
      "{'data', 'python'}\n"
     ]
    }
   ],
   "source": [
    "a={1,2,3,4,\"code\",\"ai\"}\n",
    "b={1,\"code\",\"python\",\"data\"}\n",
    "b.difference_update(a)\n",
    "print(b)"
   ]
  },
  {
   "cell_type": "markdown",
   "id": "7302c232-ca05-4b2e-b9ce-e8690537d9de",
   "metadata": {},
   "source": [
    "# symmetric_difference_update()\n",
    "the symmetric_difference_update() will keep only the elements that are NOT present in both sets"
   ]
  },
  {
   "cell_type": "code",
   "execution_count": 65,
   "id": "0a78f5dd-b479-490b-add2-50ae9af99f28",
   "metadata": {},
   "outputs": [
    {
     "name": "stdout",
     "output_type": "stream",
     "text": [
      "{4, 5, 'data'}\n"
     ]
    }
   ],
   "source": [
    "a={1,2,3,4,5,\"code\",\"ai\",\"data\"}\n",
    "b={1,2,3,\"code\",\"ai\"}\n",
    "a.symmetric_difference_update(b)\n",
    "print(a)"
   ]
  },
  {
   "cell_type": "markdown",
   "id": "040cec5b-2ecb-474d-b5b7-917f05f8103c",
   "metadata": {},
   "source": [
    "# symmetric_difference()\n",
    "the symmetric difference() will return a new set that contains only the elements that are NOT present in both sets|"
   ]
  },
  {
   "cell_type": "code",
   "execution_count": 71,
   "id": "d21349ad-3bba-4d7c-acdd-fad36ca32248",
   "metadata": {},
   "outputs": [
    {
     "name": "stdout",
     "output_type": "stream",
     "text": [
      "{'delhi', 3, 5, 6, 4, 'apple'}\n"
     ]
    }
   ],
   "source": [
    "a={1,2,3,4,\"code\",\"delhi\",\"ai\"}\n",
    "b={1,2,5,6,\"code\",\"apple\",\"ai\"}\n",
    "c=a.symmetric_difference(b)\n",
    "print(c)"
   ]
  },
  {
   "cell_type": "code",
   "execution_count": null,
   "id": "2f9e3556-5486-49d7-9bb2-6d23b6cb1f25",
   "metadata": {},
   "outputs": [],
   "source": []
  }
 ],
 "metadata": {
  "kernelspec": {
   "display_name": "Python [conda env:base] *",
   "language": "python",
   "name": "conda-base-py"
  },
  "language_info": {
   "codemirror_mode": {
    "name": "ipython",
    "version": 3
   },
   "file_extension": ".py",
   "mimetype": "text/x-python",
   "name": "python",
   "nbconvert_exporter": "python",
   "pygments_lexer": "ipython3",
   "version": "3.12.7"
  }
 },
 "nbformat": 4,
 "nbformat_minor": 5
}
