{
 "cells": [
  {
   "cell_type": "markdown",
   "id": "56d9e28f-5c97-4e4f-a3c4-81267c11916b",
   "metadata": {},
   "source": [
    "# split array"
   ]
  },
  {
   "cell_type": "code",
   "execution_count": 15,
   "id": "f5e79c86-0a6a-4851-95b2-5a0bc519eb15",
   "metadata": {},
   "outputs": [
    {
     "name": "stdout",
     "output_type": "stream",
     "text": [
      "[1 2 3 4 5 6 7 8 9]\n",
      "1\n",
      "[array([1, 2, 3]), array([4, 5, 6]), array([7, 8, 9])]\n",
      "<class 'list'>\n",
      "[1 2 3]\n"
     ]
    }
   ],
   "source": [
    "import numpy as np\n",
    "arr1=np.array([1,2,3,4,5,6,7,8,9])\n",
    "print(arr1)\n",
    "print(arr1.ndim)\n",
    "s=np.array_split(arr1,3)\n",
    "print(s)\n",
    "print(type(s))\n",
    "print(s[0])"
   ]
  },
  {
   "cell_type": "code",
   "execution_count": 19,
   "id": "60aaa9fd-e31a-435f-9a1c-8a7ad6c8927a",
   "metadata": {},
   "outputs": [
    {
     "name": "stdout",
     "output_type": "stream",
     "text": [
      "[[1 2]\n",
      " [3 4]\n",
      " [5 6]\n",
      " [7 8]]\n",
      "\n",
      "[array([[1],\n",
      "       [3],\n",
      "       [5],\n",
      "       [7]]), array([[2],\n",
      "       [4],\n",
      "       [6],\n",
      "       [8]]), array([], shape=(4, 0), dtype=int32), array([], shape=(4, 0), dtype=int32)]\n"
     ]
    }
   ],
   "source": [
    "import numpy as np\n",
    "arr1=np.array([[1,2],[3,4],[5,6],[7,8]])\n",
    "print(arr1)\n",
    "print()\n",
    "s=np.array_split(arr1,4,axis=1)\n",
    "print(s)"
   ]
  },
  {
   "cell_type": "code",
   "execution_count": 25,
   "id": "a88fb13b-66f1-420a-9d5d-2376b0c11b56",
   "metadata": {},
   "outputs": [
    {
     "name": "stdout",
     "output_type": "stream",
     "text": [
      "[[1 2]\n",
      " [3 4]\n",
      " [5 6]\n",
      " [7 8]]\n",
      "\n",
      "[array([[1, 2],\n",
      "       [3, 4]]), array([[5, 6],\n",
      "       [7, 8]])]\n"
     ]
    }
   ],
   "source": [
    "import numpy as np\n",
    "arr1=np.array([[1,2],[3,4],[5,6],[7,8]])\n",
    "print(arr1)\n",
    "print()\n",
    "s=np.array_split(arr1,2,axis=0)\n",
    "print(s)"
   ]
  },
  {
   "cell_type": "markdown",
   "id": "23ed78c0-babb-46ca-ad73-5738305c0100",
   "metadata": {},
   "source": [
    "# Search Array"
   ]
  },
  {
   "cell_type": "code",
   "execution_count": 32,
   "id": "94fccea6-1f42-4710-91d9-68a482dba3ef",
   "metadata": {},
   "outputs": [
    {
     "name": "stdout",
     "output_type": "stream",
     "text": [
      "[1 2 3 4 5 6 7 8]\n",
      "\n",
      "(array([2], dtype=int64),)\n"
     ]
    }
   ],
   "source": [
    "import numpy as np\n",
    "arr1=np.array([1,2,3,4,5,6,7,8])\n",
    "print(arr1)\n",
    "print()\n",
    "x=np.where(arr1==3)\n",
    "print(x)"
   ]
  },
  {
   "cell_type": "code",
   "execution_count": 38,
   "id": "79d7d0a8-2d16-44d5-9255-f76d4f434514",
   "metadata": {},
   "outputs": [
    {
     "name": "stdout",
     "output_type": "stream",
     "text": [
      "[ 1  2  3  4  5  6  7  8  9 10]\n",
      "\n",
      "(array([1, 3, 5, 7, 9], dtype=int64),)\n"
     ]
    }
   ],
   "source": [
    "import numpy as np\n",
    "arr1=np.array([1,2,3,4,5,6,7,8,9,10])\n",
    "print(arr1)\n",
    "print()\n",
    "x=np.where(arr1%2==0)\n",
    "print(x)"
   ]
  },
  {
   "cell_type": "markdown",
   "id": "141abf40-c148-4199-8156-d0232d687402",
   "metadata": {},
   "source": [
    "# searchsorted array"
   ]
  },
  {
   "cell_type": "code",
   "execution_count": 43,
   "id": "a9bcd68a-7328-430c-ae7a-c721f7d466df",
   "metadata": {},
   "outputs": [
    {
     "name": "stdout",
     "output_type": "stream",
     "text": [
      "10\n"
     ]
    }
   ],
   "source": [
    "import numpy as np\n",
    "arr1=np.array([1,2,3,4,5,6,7,8,9,10])\n",
    "x=np.searchsorted(arr1,11)\n",
    "print(x)"
   ]
  },
  {
   "cell_type": "code",
   "execution_count": 45,
   "id": "04d2bb51-1c74-4796-bcf5-b43abe04916c",
   "metadata": {},
   "outputs": [
    {
     "name": "stdout",
     "output_type": "stream",
     "text": [
      "1\n"
     ]
    }
   ],
   "source": [
    "import numpy as np\n",
    "arr1=np.array([10,12,13,14,15,16])\n",
    "x=np.searchsorted(arr1,11)\n",
    "print(x)"
   ]
  },
  {
   "cell_type": "code",
   "execution_count": 47,
   "id": "dde1c694-985b-402a-b91c-98ee3da9dba2",
   "metadata": {},
   "outputs": [
    {
     "name": "stdout",
     "output_type": "stream",
     "text": [
      "1\n"
     ]
    }
   ],
   "source": [
    "import numpy as np\n",
    "arr1=np.array([10,12,13,14,15,16])\n",
    "x=np.searchsorted(arr1,11,side=\"right\")\n",
    "print(x)"
   ]
  },
  {
   "cell_type": "code",
   "execution_count": 49,
   "id": "aa8af057-657c-4b38-abbc-da25de85ff04",
   "metadata": {},
   "outputs": [
    {
     "name": "stdout",
     "output_type": "stream",
     "text": [
      "[3 3 3]\n"
     ]
    }
   ],
   "source": [
    "import numpy as np\n",
    "arr1=np.array([10,11,12,16,17,20,23])\n",
    "x=np.searchsorted(arr1,[13,14,15])\n",
    "print(x)"
   ]
  },
  {
   "cell_type": "markdown",
   "id": "cb25aabb-5fe5-44b4-a34f-70dede1773e1",
   "metadata": {},
   "source": [
    "# sort array"
   ]
  },
  {
   "cell_type": "code",
   "execution_count": 54,
   "id": "c76d1fb4-8011-4476-98db-c842118be4b2",
   "metadata": {},
   "outputs": [
    {
     "name": "stdout",
     "output_type": "stream",
     "text": [
      "[ 1  5 12 20 23 55 63 70]\n"
     ]
    }
   ],
   "source": [
    "import numpy as np\n",
    "arr1=np.array([1,55,12,63,20,70,23,5])\n",
    "x=np.sort(arr1)\n",
    "print(x)"
   ]
  },
  {
   "cell_type": "code",
   "execution_count": 56,
   "id": "173725c2-75f8-4de8-9b54-8c9efc93efa6",
   "metadata": {},
   "outputs": [
    {
     "name": "stdout",
     "output_type": "stream",
     "text": [
      "['a' 'c' 'd' 'o' 'p' 'z']\n"
     ]
    }
   ],
   "source": [
    "import numpy as np\n",
    "arr1=np.array(['a','o','p','z','c','d'])\n",
    "x=np.sort(arr1)\n",
    "print(x)"
   ]
  },
  {
   "cell_type": "code",
   "execution_count": 64,
   "id": "559d2322-6240-4bf4-bc12-dc2b94ac2cd4",
   "metadata": {},
   "outputs": [
    {
     "name": "stdout",
     "output_type": "stream",
     "text": [
      "[[ 1  2  5]\n",
      " [88 10 96]]\n",
      "\n",
      "[[ 1  2  5]\n",
      " [10 88 96]]\n"
     ]
    }
   ],
   "source": [
    "import numpy as np\n",
    "arr1=np.array([[1,2,5],[88,10,96]])\n",
    "print(arr1)\n",
    "print()\n",
    "x=np.sort(arr1)\n",
    "print(x)"
   ]
  },
  {
   "cell_type": "code",
   "execution_count": 70,
   "id": "526186fc-73c7-425f-b1f1-3ca6b1e998be",
   "metadata": {},
   "outputs": [
    {
     "name": "stdout",
     "output_type": "stream",
     "text": [
      "[[[10 55 63]\n",
      "  [41 63 78]]]\n",
      "\n",
      "[[[10 55 63]\n",
      "  [41 63 78]]]\n"
     ]
    }
   ],
   "source": [
    "import numpy as np\n",
    "arr1=np.array([[[10,55,63],[41,63,78]]])\n",
    "print(arr1)\n",
    "print()\n",
    "x=np.sort(arr1)\n",
    "print(x)"
   ]
  },
  {
   "cell_type": "markdown",
   "id": "5374efde-2ebe-4211-984d-a4b3f6f2ae54",
   "metadata": {},
   "source": [
    "# filter array"
   ]
  },
  {
   "cell_type": "code",
   "execution_count": 77,
   "id": "8c0fe61d-36d7-46d8-83ef-fa61ca2d89e7",
   "metadata": {},
   "outputs": [
    {
     "name": "stdout",
     "output_type": "stream",
     "text": [
      "[12 16 96 44]\n"
     ]
    }
   ],
   "source": [
    "import numpy as np\n",
    "arr1=np.array([12,14,16,57,96,23,44])\n",
    "f=[True,False,True,False,True,False,True]\n",
    "b=arr1[f]\n",
    "print(b)"
   ]
  },
  {
   "cell_type": "markdown",
   "id": "aa763b56-e2fa-42b3-8e32-8bc902698752",
   "metadata": {},
   "source": [
    "# shuffle function"
   ]
  },
  {
   "cell_type": "code",
   "execution_count": 85,
   "id": "50877633-fa82-4d2e-a9ca-db3c148bb570",
   "metadata": {},
   "outputs": [
    {
     "name": "stdout",
     "output_type": "stream",
     "text": [
      "Before suffle array is [ 12  13   4  15 100  89  78  63]\n",
      "after shuffle array is [ 15  63  12 100  89  13   4  78]\n"
     ]
    }
   ],
   "source": [
    "import numpy as np\n",
    "arr1=np.array([12,13,4,15,100,89,78,63])\n",
    "print(\"Before suffle array is\",arr1)\n",
    "np.random.shuffle(arr1)\n",
    "print(\"after shuffle array is\",arr1)"
   ]
  },
  {
   "cell_type": "markdown",
   "id": "8330e0c6-a501-4e44-b739-15e7373ef566",
   "metadata": {},
   "source": [
    "# unique function"
   ]
  },
  {
   "cell_type": "code",
   "execution_count": 96,
   "id": "486430fe-f49d-4e72-a651-d43a531465c5",
   "metadata": {},
   "outputs": [
    {
     "name": "stdout",
     "output_type": "stream",
     "text": [
      "[ 1  5  6  7  8  9  6 66  1  1  2  2  5  5  9  9 10 10]\n",
      "Unique : [ 1  2  5  6  7  8  9 10 66]\n"
     ]
    }
   ],
   "source": [
    "import numpy as np\n",
    "arr1=np.array([1,5,6,7,8,9,6,66,1,1,2,2,5,5,9,9,10,10])\n",
    "print(arr1)\n",
    "x=np.unique(arr1)\n",
    "print(\"Unique :\",x)"
   ]
  },
  {
   "cell_type": "code",
   "execution_count": 94,
   "id": "c9b9a7bc-5a8c-4a6b-b822-b0ef7e1fa3f8",
   "metadata": {},
   "outputs": [
    {
     "name": "stdout",
     "output_type": "stream",
     "text": [
      "[ 1  5  6  7  8  9  6 66  1  1  2  2  5  5  9  9 10 10]\n",
      "(array([ 1,  2,  5,  6,  7,  8,  9, 10, 66]), array([ 0, 10,  1,  2,  3,  4,  5, 16,  7], dtype=int64))\n"
     ]
    }
   ],
   "source": [
    "import numpy as np\n",
    "arr1=np.array([1,5,6,7,8,9,6,66,1,1,2,2,5,5,9,9,10,10])\n",
    "print(arr1)\n",
    "x=np.unique(arr1,return_index=True)\n",
    "print(x)"
   ]
  },
  {
   "cell_type": "code",
   "execution_count": 102,
   "id": "15a2a6e3-e3b1-46af-8813-cf5b4bfebcf4",
   "metadata": {},
   "outputs": [
    {
     "name": "stdout",
     "output_type": "stream",
     "text": [
      "[ 1  5  6  7  8  9  6 66  1  1  2  2  5  5  9  9 10 10]\n",
      "(array([ 1,  2,  5,  6,  7,  8,  9, 10, 66]), array([3, 2, 3, 2, 1, 1, 3, 2, 1], dtype=int64))\n"
     ]
    }
   ],
   "source": [
    "import numpy as np\n",
    "arr1=np.array([1,5,6,7,8,9,6,66,1,1,2,2,5,5,9,9,10,10])\n",
    "print(arr1)\n",
    "x=np.unique(arr1,return_counts=True)\n",
    "print(x)"
   ]
  },
  {
   "cell_type": "code",
   "execution_count": 118,
   "id": "b6690298-21cd-449c-ad6f-516c95fab686",
   "metadata": {},
   "outputs": [
    {
     "name": "stdout",
     "output_type": "stream",
     "text": [
      "[ 1  2  3  4  5  6  7  8  9 10]\n",
      "1\n",
      "(10,)\n",
      "[[1 2 3]\n",
      " [4 5 6]\n",
      " [7 8 9]]\n",
      "2\n",
      "(3, 3)\n"
     ]
    }
   ],
   "source": [
    "import numpy as np\n",
    "arr1=np.array([1,2,3,4,5,6,7,8,9,10])\n",
    "print(arr1)\n",
    "print(arr1.ndim)\n",
    "print(arr1.shape)\n",
    "x=np.resize(arr1,(3,3))\n",
    "print(x)\n",
    "print(x.ndim)\n",
    "print(x.shape)"
   ]
  },
  {
   "cell_type": "markdown",
   "id": "39484e14-4471-4983-9454-c115f2f145f6",
   "metadata": {},
   "source": [
    "# insert function"
   ]
  },
  {
   "cell_type": "code",
   "execution_count": 123,
   "id": "efbb757d-a1bc-4378-b3a1-d28ae153071c",
   "metadata": {},
   "outputs": [
    {
     "name": "stdout",
     "output_type": "stream",
     "text": [
      "[  1   2   3 200   4   5   6   7   8   9  10]\n"
     ]
    }
   ],
   "source": [
    "import numpy as np\n",
    "arr1=np.array([1,2,3,4,5,6,7,8,9,10])\n",
    "x=np.insert(arr1,3,200)\n",
    "print(x)"
   ]
  },
  {
   "cell_type": "code",
   "execution_count": 127,
   "id": "7ed56769-fba6-4ecd-91e9-eec301912f60",
   "metadata": {},
   "outputs": [
    {
     "name": "stdout",
     "output_type": "stream",
     "text": [
      "[  1   2   3 200   4 300   5   6   7   8   9  10]\n"
     ]
    }
   ],
   "source": [
    "import numpy as np\n",
    "arr1=np.array([1,2,3,4,5,6,7,8,9,10])\n",
    "x=np.insert(arr1,(3,4),(200,300))\n",
    "print(x)"
   ]
  },
  {
   "cell_type": "markdown",
   "id": "28ab097f-0171-4745-8025-3cab4b783b1b",
   "metadata": {},
   "source": [
    "# 2D-insert function"
   ]
  },
  {
   "cell_type": "code",
   "execution_count": 132,
   "id": "29d2b29b-e2c9-447b-8c29-8da6e14b8588",
   "metadata": {},
   "outputs": [
    {
     "name": "stdout",
     "output_type": "stream",
     "text": [
      "[[1 2 3]\n",
      " [4 5 6]\n",
      " [7 8 9]]\n",
      "\n",
      "[[ 1  2 30  3]\n",
      " [ 4  5 30  6]\n",
      " [ 7  8 30  9]]\n"
     ]
    }
   ],
   "source": [
    "import numpy as np\n",
    "arr1=np.array([[1,2,3],[4,5,6],[7,8,9]])\n",
    "print(arr1)\n",
    "print()\n",
    "x=np.insert(arr1,2,30,axis=1)\n",
    "print(x)"
   ]
  },
  {
   "cell_type": "code",
   "execution_count": 134,
   "id": "4cec04cc-e3f9-41f3-b6e8-e87e6e2280f0",
   "metadata": {},
   "outputs": [
    {
     "name": "stdout",
     "output_type": "stream",
     "text": [
      "[[1 2 3]\n",
      " [4 5 6]\n",
      " [7 8 9]]\n",
      "\n",
      "[[ 1  2  3]\n",
      " [ 4  5  6]\n",
      " [30 30 30]\n",
      " [ 7  8  9]]\n"
     ]
    }
   ],
   "source": [
    "import numpy as np\n",
    "arr1=np.array([[1,2,3],[4,5,6],[7,8,9]])\n",
    "print(arr1)\n",
    "print()\n",
    "x=np.insert(arr1,2,30,axis=0)\n",
    "print(x)"
   ]
  },
  {
   "cell_type": "code",
   "execution_count": 138,
   "id": "24696d9b-7297-4c7c-9dd7-e10c7cb69152",
   "metadata": {},
   "outputs": [
    {
     "name": "stdout",
     "output_type": "stream",
     "text": [
      "[[1 2 3]\n",
      " [4 5 6]\n",
      " [7 8 9]]\n",
      "\n",
      "[[ 1  2 12  3]\n",
      " [ 4  5 12  6]\n",
      " [ 7  8 12  9]]\n"
     ]
    }
   ],
   "source": [
    "import numpy as np\n",
    "arr1=np.array([[1,2,3],[4,5,6],[7,8,9]])\n",
    "print(arr1)\n",
    "print()\n",
    "x=np.insert(arr1,2,[12,12,12],axis=1)\n",
    "print(x)"
   ]
  },
  {
   "cell_type": "markdown",
   "id": "2f119b4c-835a-4b7b-9b9b-26f2faf8ade1",
   "metadata": {},
   "source": [
    "# append"
   ]
  },
  {
   "cell_type": "code",
   "execution_count": 143,
   "id": "a37164c3-fdb3-453b-bc64-c06ad5e96566",
   "metadata": {},
   "outputs": [
    {
     "name": "stdout",
     "output_type": "stream",
     "text": [
      "[ 1  5  6  8  9 10 15 18 56]\n",
      "[  1   5   6   8   9  10  15  18  56 200]\n"
     ]
    }
   ],
   "source": [
    "import numpy as np\n",
    "arr1=np.array([1,5,6,8,9,10,15,18,56])\n",
    "print(arr1)\n",
    "x=np.append(arr1,200)\n",
    "print(x)"
   ]
  },
  {
   "cell_type": "code",
   "execution_count": 149,
   "id": "be6f0725-932e-43e5-8f62-534692402a85",
   "metadata": {},
   "outputs": [
    {
     "name": "stdout",
     "output_type": "stream",
     "text": [
      "[[12 13 14]\n",
      " [15 16 18]]\n",
      "\n",
      "[ 12  13  14  15  16  18 100 200 300]\n"
     ]
    }
   ],
   "source": [
    "import numpy as np\n",
    "arr1=np.array([[12,13,14],[15,16,18]])\n",
    "print(arr1)\n",
    "print()\n",
    "x=np.append(arr1,[[100,200,300]])\n",
    "print(x)"
   ]
  },
  {
   "cell_type": "markdown",
   "id": "40121f36-a7f3-4aac-ab37-d85a35c8c5e7",
   "metadata": {},
   "source": [
    "# delete function\n"
   ]
  },
  {
   "cell_type": "code",
   "execution_count": 154,
   "id": "91f3326c-8905-4277-9f73-d85aa5caf514",
   "metadata": {},
   "outputs": [
    {
     "name": "stdout",
     "output_type": "stream",
     "text": [
      "[1 2 3 4 5]\n",
      "[1 2 3 5]\n"
     ]
    }
   ],
   "source": [
    "import numpy as np\n",
    "arr1=np.array([1,2,3,4,5])\n",
    "print(arr1)\n",
    "x=np.delete(arr1,3)\n",
    "print(x)"
   ]
  },
  {
   "cell_type": "code",
   "execution_count": 160,
   "id": "679c2202-676a-47f2-90de-e608eb22370e",
   "metadata": {},
   "outputs": [
    {
     "name": "stdout",
     "output_type": "stream",
     "text": [
      "[[1 2 3]\n",
      " [4 5 6]\n",
      " [7 8 9]]\n",
      "\n",
      "[[4 5 6]\n",
      " [7 8 9]]\n"
     ]
    }
   ],
   "source": [
    "import numpy as np\n",
    "arr1=np.array([[1,2,3],[4,5,6],[7,8,9]])\n",
    "print(arr1)\n",
    "print()\n",
    "x=np.delete(arr1,0,axis=0)\n",
    "print(x)"
   ]
  },
  {
   "cell_type": "code",
   "execution_count": null,
   "id": "e6f453eb-5f09-43df-8719-392807663923",
   "metadata": {},
   "outputs": [],
   "source": []
  }
 ],
 "metadata": {
  "kernelspec": {
   "display_name": "Python [conda env:base] *",
   "language": "python",
   "name": "conda-base-py"
  },
  "language_info": {
   "codemirror_mode": {
    "name": "ipython",
    "version": 3
   },
   "file_extension": ".py",
   "mimetype": "text/x-python",
   "name": "python",
   "nbconvert_exporter": "python",
   "pygments_lexer": "ipython3",
   "version": "3.12.7"
  }
 },
 "nbformat": 4,
 "nbformat_minor": 5
}
