{
 "cells": [
  {
   "cell_type": "markdown",
   "id": "67585410-656f-4b90-a5bc-633b907d3ae2",
   "metadata": {},
   "source": [
    "# unit-13_Assignment"
   ]
  },
  {
   "cell_type": "markdown",
   "id": "68a7354a-ee18-46d7-b896-b027dc362c64",
   "metadata": {},
   "source": [
    "# Choose the correct option for the following questions "
   ]
  },
  {
   "cell_type": "markdown",
   "id": "eda0eb38-ce48-496a-83e0-4f006786f4e4",
   "metadata": {},
   "source": [
    "1) To open a file c:\\scores.txt for reading, we use _____ \n",
    "A) infile = open(“c:\\scores.txt”, “r”) \n",
    "B) infile = open(“c:\\\\scores.txt”, “r”) \n",
    "C) infile = open(file = “c:\\scores.txt”, “r”) \n",
    "D) infile = open(file = “c:\\\\scores.txt”, “r”)\n",
    "\n",
    "Answer : A"
   ]
  },
  {
   "cell_type": "markdown",
   "id": "d482d823-d7ce-4138-8f11-8e1c21c0a00e",
   "metadata": {},
   "source": [
    "2) To open a file c:\\scores.txt for reading, we use _____ \n",
    "A) infile = open(“c:\\scores.txt”, “r”) \n",
    "B) infile = open(“c:\\\\scores.txt”, “r”) \n",
    "C) infile = open(file = “c:\\scores.txt”, “r”) \n",
    "D) infile = open(file = “c:\\\\scores.txt”, “r”)\n",
    "\n",
    "Answer : A"
   ]
  },
  {
   "cell_type": "markdown",
   "id": "54acab16-9aa4-447d-bd63-f799715fcd53",
   "metadata": {},
   "source": [
    "3) Which one of the following is not attributes of file? \n",
    "A) closed \n",
    "B) softspace \n",
    "C) rename \n",
    "D) mode\n",
    "\n",
    "Answer : C"
   ]
  },
  {
   "cell_type": "markdown",
   "id": "305ce79a-8f8e-4369-9fe3-4ed4be9128f9",
   "metadata": {},
   "source": [
    "4) Which of these class contains the methods used to write in a file? \n",
    "A) FileStream \n",
    "B) FileInputStream \n",
    "C) BUfferedOutputStream\n",
    "D) FileBufferStream \n",
    "\n",
    "Answer B"
   ]
  },
  {
   "cell_type": "markdown",
   "id": "92f6d766-ff7b-4e3f-ae9d-4fcc38eac3d0",
   "metadata": {},
   "source": [
    "5) Which of these methods are used to read in from file? \n",
    "A) get() \n",
    "B) read() \n",
    "C) scan() \n",
    "D) readFileInput()\n",
    "\n",
    "Answer B"
   ]
  },
  {
   "cell_type": "markdown",
   "id": "de0a45ee-ff7d-4240-b9e2-049be359f236",
   "metadata": {},
   "source": [
    "6) .the logging …….. In python. \n",
    "A) function \n",
    "B) module \n",
    "C) variable \n",
    "D) datatype\n",
    "\n",
    "Answer  B "
   ]
  },
  {
   "cell_type": "markdown",
   "id": "ce42be03-eb22-4e00-8798-76e1633fc20a",
   "metadata": {},
   "source": [
    "7) which one of the following is the lowest level of logging? \n",
    "A) debug \n",
    "B) warming \n",
    "C) error \n",
    "D) none of the above\n",
    "\n",
    "Answer A"
   ]
  },
  {
   "cell_type": "markdown",
   "id": "cb33a1b1-a878-4327-9ed0-1544ad4f4f54",
   "metadata": {},
   "source": [
    "8) Which of the following is not a logging function in Python? \n",
    "A) logger \n",
    "B) filter \n",
    "C) critical \n",
    "D) All the above\n",
    "\n",
    "Answer B"
   ]
  },
  {
   "cell_type": "markdown",
   "id": "1c0e9ae9-b45c-4412-9334-58fdf53162d3",
   "metadata": {},
   "source": [
    "9) which of these is not involved in the process of debugging? \n",
    "A) Fixing \n",
    "B) Isolating \n",
    "C) Identifying \n",
    "D) Testing\n",
    "\n",
    "Answer D"
   ]
  },
  {
   "cell_type": "markdown",
   "id": "3b6d5bc5-b3d1-4407-a6e4-8a14b6f3c654",
   "metadata": {},
   "source": [
    "10) \n",
    "What is the purpose of of the import statement in python? \n",
    "A) import the statement into a python program \n",
    "B) import the function into a python program \n",
    "C) import the module into a python program \n",
    "D)  none of the above\n",
    "\n",
    "Answer C"
   ]
  }
 ],
 "metadata": {
  "kernelspec": {
   "display_name": "Python [conda env:base] *",
   "language": "python",
   "name": "conda-base-py"
  },
  "language_info": {
   "codemirror_mode": {
    "name": "ipython",
    "version": 3
   },
   "file_extension": ".py",
   "mimetype": "text/x-python",
   "name": "python",
   "nbconvert_exporter": "python",
   "pygments_lexer": "ipython3",
   "version": "3.12.7"
  }
 },
 "nbformat": 4,
 "nbformat_minor": 5
}
