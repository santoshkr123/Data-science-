{
 "cells": [
  {
   "cell_type": "markdown",
   "id": "c1a578f8-20d2-4786-8d3e-9dbe542bdb63",
   "metadata": {},
   "source": [
    "# Exception Handling-III\n",
    "# List of general use exception "
   ]
  },
  {
   "cell_type": "code",
   "execution_count": 3,
   "id": "a2b5fa83-ae5b-4960-8ca6-a1c33d56296b",
   "metadata": {},
   "outputs": [
    {
     "name": "stdout",
     "output_type": "stream",
     "text": [
      "division by zero\n"
     ]
    }
   ],
   "source": [
    "try:\n",
    "    a=10/0\n",
    "\n",
    "except Exception as e:\n",
    "    print(e)"
   ]
  },
  {
   "cell_type": "code",
   "execution_count": 5,
   "id": "4da85171-4679-45fa-a495-a8b877e6a52d",
   "metadata": {},
   "outputs": [
    {
     "name": "stdout",
     "output_type": "stream",
     "text": [
      "division by zero\n"
     ]
    }
   ],
   "source": [
    "try :\n",
    "    a=10/0\n",
    "\n",
    "except ZeroDivisionError as e:\n",
    "    print(e)"
   ]
  },
  {
   "cell_type": "code",
   "execution_count": 8,
   "id": "aa141606-bb05-42c9-b71f-380431b76398",
   "metadata": {},
   "outputs": [
    {
     "name": "stdout",
     "output_type": "stream",
     "text": [
      "invalid literal for int() with base 10: 'apple'\n"
     ]
    }
   ],
   "source": [
    "try:\n",
    "    int(\"apple\")\n",
    "\n",
    "except (TypeError,ValueError) as e:\n",
    "    print(e)"
   ]
  },
  {
   "cell_type": "code",
   "execution_count": 10,
   "id": "57951685-c9a2-4a82-95e2-bc4af556fb6e",
   "metadata": {},
   "outputs": [
    {
     "name": "stdout",
     "output_type": "stream",
     "text": [
      "this will be error\n"
     ]
    }
   ],
   "source": [
    "try:\n",
    "    int(\"apple\")\n",
    "\n",
    "except : \n",
    "    print(\"this will be error\")"
   ]
  },
  {
   "cell_type": "code",
   "execution_count": 12,
   "id": "68a15017-e985-4e76-88fc-343084fd4402",
   "metadata": {},
   "outputs": [
    {
     "name": "stdout",
     "output_type": "stream",
     "text": [
      "No module named 'cherry'\n"
     ]
    }
   ],
   "source": [
    "try:\n",
    "    import cherry\n",
    "\n",
    "except ImportError as e:\n",
    "    print(e)"
   ]
  },
  {
   "cell_type": "code",
   "execution_count": 18,
   "id": "53e5219b-bc77-4bd6-bae6-542151e853dd",
   "metadata": {},
   "outputs": [
    {
     "name": "stdout",
     "output_type": "stream",
     "text": [
      "'key2'\n"
     ]
    }
   ],
   "source": [
    "try:\n",
    "    d={\"name\":\"rahul\",\"age\":26,\"married\":\"single\"}\n",
    "    print(d[\"key2\"])\n",
    "\n",
    "except KeyError as e:\n",
    "    print(e)\n",
    "\n"
   ]
  },
  {
   "cell_type": "code",
   "execution_count": 20,
   "id": "a2784abf-92f2-4bc9-bc9d-08ff21010c6f",
   "metadata": {},
   "outputs": [
    {
     "name": "stdout",
     "output_type": "stream",
     "text": [
      "'str' object has no attribute 'test'\n"
     ]
    }
   ],
   "source": [
    "try:\n",
    "    \"apple\".test()\n",
    "\n",
    "except AttributeError as e:\n",
    "    print(e)"
   ]
  },
  {
   "cell_type": "code",
   "execution_count": 22,
   "id": "e27fe79b-dfab-4b69-9b79-9b6dc11cfc92",
   "metadata": {},
   "outputs": [
    {
     "name": "stdout",
     "output_type": "stream",
     "text": [
      "list index out of range\n"
     ]
    }
   ],
   "source": [
    "try:\n",
    "    a=[10,20,30,40]\n",
    "    print(a[6])\n",
    "\n",
    "except IndexError as e:\n",
    "    print(e)"
   ]
  },
  {
   "cell_type": "code",
   "execution_count": 24,
   "id": "a2da4bb3-a2c4-41a7-98da-deefb2841b43",
   "metadata": {},
   "outputs": [
    {
     "name": "stdout",
     "output_type": "stream",
     "text": [
      "can only concatenate str (not \"int\") to str\n"
     ]
    }
   ],
   "source": [
    "try:\n",
    "    \"apple\"+25\n",
    "\n",
    "except TypeError as e:\n",
    "    print(e)"
   ]
  },
  {
   "cell_type": "code",
   "execution_count": 39,
   "id": "66ac4e72-0090-4002-b177-c6bb7fb05223",
   "metadata": {},
   "outputs": [],
   "source": [
    "try:\n",
    "    with open(\"test.txt\",\"r\") as f:\n",
    "        file=f.read()\n",
    "\n",
    "except FileNotFoundError as e:\n",
    "    print(e)"
   ]
  },
  {
   "cell_type": "code",
   "execution_count": 41,
   "id": "c2f50036-c18a-44f5-ae2a-4ed88a7cf566",
   "metadata": {},
   "outputs": [],
   "source": [
    "try:\n",
    "    with open(\"test.txt\",\"r\") as f:\n",
    "        file=f.read()\n",
    "\n",
    "except Exception as e:\n",
    "    print(e)\n",
    "\n",
    "except FileNotFoundError as e:\n",
    "    print(e)"
   ]
  },
  {
   "cell_type": "code",
   "execution_count": 43,
   "id": "8084daee-83e8-4ff0-9748-f7956c7aa709",
   "metadata": {},
   "outputs": [],
   "source": [
    "try:\n",
    "    with open(\"test.txt\",\"r\") as f:\n",
    "        file=f.read()\n",
    "\n",
    "\n",
    "except FileNotFoundError as e:\n",
    "    print(\"hello\",e)\n",
    "\n",
    "except Exception as e:\n",
    "    print(e)"
   ]
  },
  {
   "cell_type": "code",
   "execution_count": null,
   "id": "79c19143-8dd8-436c-9346-46bc8c5194a6",
   "metadata": {},
   "outputs": [],
   "source": [
    "try:\n",
    "    with open(\"test.txt\",\"r\") as f:\n",
    "        file=f.read()\n",
    "\n",
    "\n",
    "except FileNotFoundError as e:\n",
    "    print(\"hello\",e)\n",
    "\n",
    "except Exception as e:\n",
    "    print(e)"
   ]
  },
  {
   "cell_type": "code",
   "execution_count": 47,
   "id": "ee99cf98-8100-4fd8-a64e-4db4cca9d81a",
   "metadata": {},
   "outputs": [],
   "source": [
    "try:\n",
    "    with open(\"test.txt\",\"r\") as f:\n",
    "        file=f.read()\n",
    "\n",
    "\n",
    "except FileNotFoundError as e:\n",
    "    print(\"hello\",e)\n",
    "\n",
    "except TypeError as e:\n",
    "    print(\"student\",e)\n",
    "\n",
    "except Exception as e:\n",
    "    print(e)"
   ]
  },
  {
   "cell_type": "code",
   "execution_count": 49,
   "id": "1c64b5af-55ae-442d-aaba-7587c35d37fc",
   "metadata": {},
   "outputs": [],
   "source": [
    "try:\n",
    "    with open(\"test.txt\",\"r\") as f:\n",
    "        file=f.read()\n",
    "\n",
    "except TypeError as e:\n",
    "    print(\"student\",e)\n",
    "\n",
    "\n",
    "except FileNotFoundError as e:\n",
    "    print(\"hello\",e)\n",
    "\n",
    "\n",
    "\n",
    "except Exception as e:\n",
    "    print(e)"
   ]
  },
  {
   "cell_type": "code",
   "execution_count": null,
   "id": "f58e9634-c65e-491b-a753-973d26e90ed3",
   "metadata": {},
   "outputs": [],
   "source": []
  }
 ],
 "metadata": {
  "kernelspec": {
   "display_name": "Python [conda env:base] *",
   "language": "python",
   "name": "conda-base-py"
  },
  "language_info": {
   "codemirror_mode": {
    "name": "ipython",
    "version": 3
   },
   "file_extension": ".py",
   "mimetype": "text/x-python",
   "name": "python",
   "nbconvert_exporter": "python",
   "pygments_lexer": "ipython3",
   "version": "3.12.7"
  }
 },
 "nbformat": 4,
 "nbformat_minor": 5
}
