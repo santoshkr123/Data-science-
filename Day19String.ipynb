{
 "cells": [
  {
   "cell_type": "markdown",
   "id": "408b1a9b-7677-4a74-8733-a422a37854cc",
   "metadata": {},
   "source": [
    "# String"
   ]
  },
  {
   "cell_type": "code",
   "execution_count": 5,
   "id": "85bedb41-8b86-453a-b937-62ff934a6827",
   "metadata": {},
   "outputs": [
    {
     "name": "stdout",
     "output_type": "stream",
     "text": [
      "Python is a good programming languagecoding is a thinking power\n"
     ]
    }
   ],
   "source": [
    "a=\"Python is a good programming language\"\n",
    "b=\"coding is a thinking power\"\n",
    "print(a + b)"
   ]
  },
  {
   "cell_type": "code",
   "execution_count": 9,
   "id": "cb999d0c-2fc2-4627-97c0-6ad1f8d4f398",
   "metadata": {},
   "outputs": [
    {
     "name": "stdout",
     "output_type": "stream",
     "text": [
      "dogdogdog\n"
     ]
    }
   ],
   "source": [
    "x=\"dog\"\n",
    "print(x*3)"
   ]
  },
  {
   "cell_type": "code",
   "execution_count": 15,
   "id": "18f85ac6-eb09-4f51-9e7a-e9603a8039f4",
   "metadata": {},
   "outputs": [
    {
     "name": "stdout",
     "output_type": "stream",
     "text": [
      "3.2\n",
      "<class 'str'>\n"
     ]
    }
   ],
   "source": [
    "y=str(3.2)\n",
    "print(y)\n",
    "print(type(y))"
   ]
  },
  {
   "cell_type": "code",
   "execution_count": 17,
   "id": "a8dada22-ecc6-427e-a815-6be96ff0d4d8",
   "metadata": {},
   "outputs": [
    {
     "name": "stdout",
     "output_type": "stream",
     "text": [
      "the price of the book  is 12\n"
     ]
    }
   ],
   "source": [
    "price=12\n",
    "m=\"the price of the book \"\n",
    "print(m,\"is\",str(price))"
   ]
  },
  {
   "cell_type": "markdown",
   "id": "7027d3ed-7738-4f0c-af43-217df9ceea24",
   "metadata": {},
   "source": [
    "# multiline string"
   ]
  },
  {
   "cell_type": "code",
   "execution_count": 20,
   "id": "509738b9-50b6-40c8-a00b-ad4fc0db86d4",
   "metadata": {},
   "outputs": [
    {
     "name": "stdout",
     "output_type": "stream",
     "text": [
      "Python is a good language\n",
      "      High level language\n",
      "      Interpeted language\n"
     ]
    }
   ],
   "source": [
    "a=\"\"\"Python is a good language\n",
    "      High level language\n",
    "      Interpeted language\"\"\"\n",
    "print(a)"
   ]
  },
  {
   "cell_type": "code",
   "execution_count": 22,
   "id": "ff17beb0-92a9-427a-bf36-7526f0d647f5",
   "metadata": {},
   "outputs": [
    {
     "name": "stdout",
     "output_type": "stream",
     "text": [
      "Python used in datascience\n",
      "         a:Python is easy to learn\n",
      "         b:Python used in data analyst\n",
      "         c:Python is a case sensitive language\n"
     ]
    }
   ],
   "source": [
    "print(\"\"\"Python used in datascience\n",
    "         a:Python is easy to learn\n",
    "         b:Python used in data analyst\n",
    "         c:Python is a case sensitive language\"\"\")"
   ]
  },
  {
   "cell_type": "code",
   "execution_count": 26,
   "id": "245aa5c4-da17-42db-b08e-2d6425c77337",
   "metadata": {},
   "outputs": [
    {
     "ename": "TypeError",
     "evalue": "'str' object does not support item assignment",
     "output_type": "error",
     "traceback": [
      "\u001b[1;31m---------------------------------------------------------------------------\u001b[0m",
      "\u001b[1;31mTypeError\u001b[0m                                 Traceback (most recent call last)",
      "Cell \u001b[1;32mIn[26], line 2\u001b[0m\n\u001b[0;32m      1\u001b[0m a\u001b[38;5;241m=\u001b[39m\u001b[38;5;124m\"\u001b[39m\u001b[38;5;124mDelhi is a good place\u001b[39m\u001b[38;5;124m\"\u001b[39m\n\u001b[1;32m----> 2\u001b[0m a[\u001b[38;5;241m0\u001b[39m]\u001b[38;5;241m=\u001b[39m\u001b[38;5;241m1\u001b[39m\n\u001b[0;32m      3\u001b[0m \u001b[38;5;28mprint\u001b[39m(a)\n",
      "\u001b[1;31mTypeError\u001b[0m: 'str' object does not support item assignment"
     ]
    }
   ],
   "source": [
    "a=\"Delhi is a good place\"\n",
    "a[0]=1\n",
    "print(a)"
   ]
  },
  {
   "cell_type": "markdown",
   "id": "59fc7899-7bd8-46de-923c-e28a974f9bbb",
   "metadata": {},
   "source": [
    "# Indexing and Slicing"
   ]
  },
  {
   "cell_type": "code",
   "execution_count": 29,
   "id": "cd2b7f00-930d-4033-9970-855962a14e18",
   "metadata": {},
   "outputs": [
    {
     "name": "stdout",
     "output_type": "stream",
     "text": [
      "w\n"
     ]
    }
   ],
   "source": [
    "a=\"why are you so worried about your exams ?\"\n",
    "print(a[0])"
   ]
  },
  {
   "cell_type": "code",
   "execution_count": 31,
   "id": "035dda4b-715f-4255-bbd4-c075e7cc890a",
   "metadata": {},
   "outputs": [
    {
     "name": "stdout",
     "output_type": "stream",
     "text": [
      "o\n"
     ]
    }
   ],
   "source": [
    "a=\"why are you so worried about your exams ?\"\n",
    "print(a[9])"
   ]
  },
  {
   "cell_type": "code",
   "execution_count": 33,
   "id": "dc8c57f4-21f6-486d-bb2e-3ddc4c3915ea",
   "metadata": {},
   "outputs": [
    {
     "name": "stdout",
     "output_type": "stream",
     "text": [
      "why ar\n"
     ]
    }
   ],
   "source": [
    "a=\"why are you so worried about your exams ?\"\n",
    "print(a[0:6])"
   ]
  },
  {
   "cell_type": "code",
   "execution_count": 35,
   "id": "861624a6-9f9a-488d-8dc0-f44c294e3f68",
   "metadata": {},
   "outputs": [
    {
     "name": "stdout",
     "output_type": "stream",
     "text": [
      "why\n"
     ]
    }
   ],
   "source": [
    "a=\"why are you so worried about your exams ?\"\n",
    "print(a[0:3])"
   ]
  },
  {
   "cell_type": "code",
   "execution_count": 37,
   "id": "961d8f3a-b1ee-417c-9f88-76d8a1a3e4d7",
   "metadata": {},
   "outputs": [
    {
     "name": "stdout",
     "output_type": "stream",
     "text": [
      "41\n"
     ]
    }
   ],
   "source": [
    "a=\"why are you so worried about your exams ?\"\n",
    "print(len(a))"
   ]
  },
  {
   "cell_type": "code",
   "execution_count": 39,
   "id": "e61d3135-bff8-445f-8360-8ecb346a31ac",
   "metadata": {},
   "outputs": [
    {
     "name": "stdout",
     "output_type": "stream",
     "text": [
      "why are\n"
     ]
    }
   ],
   "source": [
    "a=\"why are you so worried about your exams ?\"\n",
    "print(a[0:7])"
   ]
  },
  {
   "cell_type": "code",
   "execution_count": 41,
   "id": "1073e926-60fd-439a-b3c6-6e80dde34d34",
   "metadata": {},
   "outputs": [
    {
     "name": "stdout",
     "output_type": "stream",
     "text": [
      "y are you so wo\n"
     ]
    }
   ],
   "source": [
    "a=\"why are you so worried about your exams ?\"\n",
    "print(a[2:17])"
   ]
  },
  {
   "cell_type": "code",
   "execution_count": 43,
   "id": "b66939cb-200d-4c24-8963-3adef059650a",
   "metadata": {},
   "outputs": [
    {
     "name": "stdout",
     "output_type": "stream",
     "text": [
      "?\n"
     ]
    }
   ],
   "source": [
    "a=\"why are you so worried about your exams ?\"\n",
    "print(a[-1])"
   ]
  },
  {
   "cell_type": "code",
   "execution_count": 45,
   "id": "c078aaef-43b0-4a9c-a38f-1f96009bfadd",
   "metadata": {},
   "outputs": [
    {
     "name": "stdout",
     "output_type": "stream",
     "text": [
      "m\n"
     ]
    }
   ],
   "source": [
    "a=\"why are you so worried about your exams ?\"\n",
    "print(a[-4])"
   ]
  },
  {
   "cell_type": "code",
   "execution_count": 47,
   "id": "91691984-6367-474f-a962-82ee94f576a4",
   "metadata": {},
   "outputs": [
    {
     "name": "stdout",
     "output_type": "stream",
     "text": [
      "e you so worried about your exam\n"
     ]
    }
   ],
   "source": [
    "a=\"why are you so worried about your exams ?\"\n",
    "print(a[-35:-3])"
   ]
  },
  {
   "cell_type": "code",
   "execution_count": 49,
   "id": "9b159cb0-5a84-4eeb-86b4-668fd0524267",
   "metadata": {},
   "outputs": [
    {
     "name": "stdout",
     "output_type": "stream",
     "text": [
      " so worried about your exams \n"
     ]
    }
   ],
   "source": [
    "a=\"why are you so worried about your exams ?\"\n",
    "print(a[-30:-1])"
   ]
  },
  {
   "cell_type": "code",
   "execution_count": 51,
   "id": "def9b05e-f1f0-495d-9131-85e5b5b68a55",
   "metadata": {},
   "outputs": [
    {
     "name": "stdout",
     "output_type": "stream",
     "text": [
      "wyaeyus \n"
     ]
    }
   ],
   "source": [
    "a=\"why are you so worried about your exams ?\"\n",
    "print(a[0:15:2])"
   ]
  },
  {
   "cell_type": "code",
   "execution_count": 53,
   "id": "10d6d8f6-2868-46f9-abc5-66858a46c0b2",
   "metadata": {},
   "outputs": [
    {
     "name": "stdout",
     "output_type": "stream",
     "text": [
      "yry  r\n"
     ]
    }
   ],
   "source": [
    "a=\"why are you so worried about your exams ?\"\n",
    "print(a[2:20:3])"
   ]
  },
  {
   "cell_type": "code",
   "execution_count": 55,
   "id": "38ebdd47-cc13-4501-bfb5-586a44d9186d",
   "metadata": {},
   "outputs": [
    {
     "name": "stdout",
     "output_type": "stream",
     "text": [
      "why are you \n"
     ]
    }
   ],
   "source": [
    "a=\"why are you so worried about your exams ?\"\n",
    "print(a[:12])"
   ]
  },
  {
   "cell_type": "code",
   "execution_count": 57,
   "id": "21d85871-3fb7-45db-89b0-c58b1c9edc90",
   "metadata": {},
   "outputs": [
    {
     "name": "stdout",
     "output_type": "stream",
     "text": [
      " are you so worried about your exams ?\n"
     ]
    }
   ],
   "source": [
    "a=\"why are you so worried about your exams ?\"\n",
    "print(a[3:])"
   ]
  },
  {
   "cell_type": "code",
   "execution_count": 59,
   "id": "b05d49ce-1fb4-4b80-8a08-67b407373167",
   "metadata": {},
   "outputs": [
    {
     "name": "stdout",
     "output_type": "stream",
     "text": [
      "? smaxe ruoy tuoba deirrow os uoy era yhw\n"
     ]
    }
   ],
   "source": [
    "a=\"why are you so worried about your exams ?\"\n",
    "print(a[::-1])"
   ]
  },
  {
   "cell_type": "code",
   "execution_count": 61,
   "id": "24569df2-1ed2-4813-9a65-7132aaab5b59",
   "metadata": {},
   "outputs": [
    {
     "name": "stdout",
     "output_type": "stream",
     "text": [
      "23\n",
      "24\n",
      "35\n",
      "16\n"
     ]
    }
   ],
   "source": [
    "\"\"\"by using a ,b,c,d form a string apples,oranges,mangoes are fruits\"\"\"\n",
    "a=\"Apples are red in color\"\n",
    "b=\"Oranges are red in color\"\n",
    "c=\"Mangoes are rich source of vitamins\"\n",
    "d=\"These are fruits\"\n",
    "\n",
    "print(len(a))\n",
    "print(len(b))\n",
    "print(len(c))\n",
    "print(len(d))"
   ]
  },
  {
   "cell_type": "code",
   "execution_count": 75,
   "id": "d93d3293-065c-4480-9ed9-910e9826511f",
   "metadata": {},
   "outputs": [
    {
     "name": "stdout",
     "output_type": "stream",
     "text": [
      "23\n",
      "24\n",
      "35\n",
      "16\n",
      "Apples\n",
      "Oranges\n",
      "Mangoes\n",
      "are fruits\n",
      "Apples Oranges Mangoes are fruits\n"
     ]
    }
   ],
   "source": [
    "\"\"\"by using a ,b,c,d form a string apples,oranges,mangoes are fruits\"\"\"\n",
    "a=\"Apples are red in color\"\n",
    "b=\"Oranges are red in color\"\n",
    "c=\"Mangoes are rich source of vitamins\"\n",
    "d=\"These are fruits\"\n",
    "\n",
    "print(len(a))\n",
    "print(len(b))\n",
    "print(len(c))\n",
    "print(len(d))\n",
    "print(a[:6])\n",
    "print(b[:7])\n",
    "print(c[:7])\n",
    "print(d[-10:])\n",
    "print(a[:6]+\" \"+b[:7]+\" \"+c[:7]+\" \"+d[-10:])"
   ]
  },
  {
   "cell_type": "code",
   "execution_count": null,
   "id": "cbafbd2d-6eae-4d84-9240-c5515617ab9c",
   "metadata": {},
   "outputs": [],
   "source": [
    "reels,reelitfeelit, reelkarofeelkaro,reelsinstagram"
   ]
  }
 ],
 "metadata": {
  "kernelspec": {
   "display_name": "Python [conda env:base] *",
   "language": "python",
   "name": "conda-base-py"
  },
  "language_info": {
   "codemirror_mode": {
    "name": "ipython",
    "version": 3
   },
   "file_extension": ".py",
   "mimetype": "text/x-python",
   "name": "python",
   "nbconvert_exporter": "python",
   "pygments_lexer": "ipython3",
   "version": "3.12.7"
  }
 },
 "nbformat": 4,
 "nbformat_minor": 5
}
