{
 "cells": [
  {
   "cell_type": "markdown",
   "id": "9df87274-d35c-4cc8-8835-25a5610ce49a",
   "metadata": {},
   "source": [
    "Round Function"
   ]
  },
  {
   "cell_type": "code",
   "execution_count": 1,
   "id": "9781ecef-0d3f-422b-a7fe-34cfae11a599",
   "metadata": {},
   "outputs": [
    {
     "data": {
      "text/plain": [
       "4"
      ]
     },
     "execution_count": 1,
     "metadata": {},
     "output_type": "execute_result"
    }
   ],
   "source": [
    "a=4.1258\n",
    "round(a)"
   ]
  },
  {
   "cell_type": "code",
   "execution_count": 3,
   "id": "f27552bd-3926-4726-bae5-9d8da8b9f664",
   "metadata": {},
   "outputs": [
    {
     "name": "stdout",
     "output_type": "stream",
     "text": [
      "13\n"
     ]
    }
   ],
   "source": [
    "a=12.8745\n",
    "print(round(a))"
   ]
  },
  {
   "cell_type": "code",
   "execution_count": 5,
   "id": "7cbd75de-34ad-4257-b7d2-c27a1f715247",
   "metadata": {},
   "outputs": [
    {
     "name": "stdout",
     "output_type": "stream",
     "text": [
      "13.479\n"
     ]
    }
   ],
   "source": [
    "a=13.4789\n",
    "print(round(a,3))"
   ]
  },
  {
   "cell_type": "code",
   "execution_count": 11,
   "id": "648c6902-db29-4f98-b335-e865243d1655",
   "metadata": {},
   "outputs": [
    {
     "name": "stdout",
     "output_type": "stream",
     "text": [
      "14.4571\n"
     ]
    }
   ],
   "source": [
    "a=14.4571455\n",
    "print(round(a,4))"
   ]
  },
  {
   "cell_type": "code",
   "execution_count": 13,
   "id": "3385e358-bacd-4886-9ceb-0f319685947c",
   "metadata": {},
   "outputs": [
    {
     "name": "stdout",
     "output_type": "stream",
     "text": [
      "14.2599\n"
     ]
    }
   ],
   "source": [
    "print(round(14.259899999,5))"
   ]
  },
  {
   "cell_type": "code",
   "execution_count": 17,
   "id": "e8fa68ff-1694-423c-85da-c84d865ad326",
   "metadata": {},
   "outputs": [
    {
     "name": "stdout",
     "output_type": "stream",
     "text": [
      "689\n"
     ]
    }
   ],
   "source": [
    "\"\"\"Mohan Buys 3 tablets cost of 1 tablet is rs45.67 ,cost of tablet 2 is 68.967 ,cost of tablet 3 is 574.784 what is the total\"\"\"\n",
    "\n",
    "tablet_one =45.67\n",
    "tablet_two=68.697\n",
    "tablet_three=574.784\n",
    "\n",
    "print(round(tablet_one+tablet_two+tablet_three))"
   ]
  },
  {
   "cell_type": "code",
   "execution_count": 19,
   "id": "78ac8169-fb22-4fd1-88fd-a04a17dd67db",
   "metadata": {},
   "outputs": [
    {
     "name": "stdout",
     "output_type": "stream",
     "text": [
      "789.15\n"
     ]
    }
   ],
   "source": [
    "a=789.1456\n",
    "print(round(a,2))"
   ]
  },
  {
   "cell_type": "code",
   "execution_count": null,
   "id": "421bd4a6-29bf-4a12-befa-12c31ed3ca7f",
   "metadata": {},
   "outputs": [],
   "source": [
    "div-mod functions"
   ]
  },
  {
   "cell_type": "code",
   "execution_count": 21,
   "id": "dd14e466-7999-4a61-8f25-a44c8c8882d6",
   "metadata": {},
   "outputs": [
    {
     "name": "stdout",
     "output_type": "stream",
     "text": [
      "(3, 4)\n"
     ]
    }
   ],
   "source": [
    "a=divmod(25,7)\n",
    "print(a)"
   ]
  },
  {
   "cell_type": "code",
   "execution_count": 23,
   "id": "a8a52e61-e20e-409f-bebf-dc253479e08c",
   "metadata": {},
   "outputs": [
    {
     "data": {
      "text/plain": [
       "tuple"
      ]
     },
     "execution_count": 23,
     "metadata": {},
     "output_type": "execute_result"
    }
   ],
   "source": [
    "type(a)"
   ]
  },
  {
   "cell_type": "code",
   "execution_count": 25,
   "id": "ae8e661f-e49f-4a3c-8b8b-32ca2ba4ac9e",
   "metadata": {},
   "outputs": [
    {
     "name": "stdout",
     "output_type": "stream",
     "text": [
      "3\n"
     ]
    }
   ],
   "source": [
    "a[0]\n",
    "print(a[0])"
   ]
  },
  {
   "cell_type": "code",
   "execution_count": 27,
   "id": "70181d5d-b22d-4bc0-aecc-5b7008d9d40f",
   "metadata": {},
   "outputs": [
    {
     "name": "stdout",
     "output_type": "stream",
     "text": [
      "4\n"
     ]
    }
   ],
   "source": [
    "a[1]\n",
    "print(a[1])"
   ]
  },
  {
   "cell_type": "code",
   "execution_count": 29,
   "id": "a4848b40-673d-4db0-9f20-8de68b58fc63",
   "metadata": {},
   "outputs": [
    {
     "name": "stdout",
     "output_type": "stream",
     "text": [
      "(486, 5)\n"
     ]
    }
   ],
   "source": [
    "a=divmod(12155,25)\n",
    "print(a)"
   ]
  },
  {
   "cell_type": "code",
   "execution_count": 33,
   "id": "b82f919c-564b-47d3-bf11-1cce2cc3d13e",
   "metadata": {},
   "outputs": [
    {
     "name": "stdout",
     "output_type": "stream",
     "text": [
      "(10099927786, 36156)\n"
     ]
    }
   ],
   "source": [
    "a=divmod(565545456413226,55995)\n",
    "print(a)"
   ]
  },
  {
   "cell_type": "code",
   "execution_count": 37,
   "id": "0ddad422-bcbe-4fb9-b96b-b76caa05a262",
   "metadata": {},
   "outputs": [
    {
     "data": {
      "text/plain": [
       "'divide the number 148.789 by 12,13,14,15 separatly and their qoutient,remainder and their add'"
      ]
     },
     "execution_count": 37,
     "metadata": {},
     "output_type": "execute_result"
    }
   ],
   "source": [
    "\"\"\"divide the number 148.789 by 12,13,14,15 separatly and their qoutient,remainder and their add\"\"\""
   ]
  },
  {
   "cell_type": "code",
   "execution_count": 41,
   "id": "e3c4ee4c-7fa7-4e2d-9b37-d1f20254a2c9",
   "metadata": {},
   "outputs": [
    {
     "name": "stdout",
     "output_type": "stream",
     "text": [
      "(12.0, 4.788999999999987) (11.0, 5.788999999999987) (10.0, 8.788999999999987) (9.0, 13.788999999999987)\n"
     ]
    }
   ],
   "source": [
    "a=divmod(148.789,12)\n",
    "b=divmod(148.789,13)\n",
    "c=divmod(148.789,14)\n",
    "d=divmod(148.789,15)\n",
    "\n",
    "print(a,b,c,d)"
   ]
  },
  {
   "cell_type": "code",
   "execution_count": 51,
   "id": "86fbc98b-d50d-4e31-8dd8-51829efab62b",
   "metadata": {},
   "outputs": [
    {
     "name": "stdout",
     "output_type": "stream",
     "text": [
      "sum of questions are  42.0\n"
     ]
    }
   ],
   "source": [
    "q=a[0]+b[0]+c[0]+d[0]\n",
    "print(\"sum of questions are \",q)"
   ]
  },
  {
   "cell_type": "code",
   "execution_count": 49,
   "id": "fded20b9-7f7d-4676-8fa1-8369d05a54ff",
   "metadata": {},
   "outputs": [
    {
     "name": "stdout",
     "output_type": "stream",
     "text": [
      "sum of remainder are 33.15599999999995\n"
     ]
    }
   ],
   "source": [
    "r=a[1]+b[1]+c[1]+d[1]\n",
    "print(\"sum of remainder are\",r)"
   ]
  },
  {
   "cell_type": "code",
   "execution_count": null,
   "id": "b860a494-51d1-402d-a2e9-f718eb0d031d",
   "metadata": {},
   "outputs": [],
   "source": [
    "isinstance function"
   ]
  },
  {
   "cell_type": "code",
   "execution_count": 53,
   "id": "30629819-d52d-4bd1-8f29-e13b8eb38fb7",
   "metadata": {},
   "outputs": [
    {
     "data": {
      "text/plain": [
       "True"
      ]
     },
     "execution_count": 53,
     "metadata": {},
     "output_type": "execute_result"
    }
   ],
   "source": [
    "isinstance(3,int)"
   ]
  },
  {
   "cell_type": "code",
   "execution_count": 55,
   "id": "0a9f9098-f9f3-42ae-aa7e-161ceefc9852",
   "metadata": {},
   "outputs": [
    {
     "data": {
      "text/plain": [
       "False"
      ]
     },
     "execution_count": 55,
     "metadata": {},
     "output_type": "execute_result"
    }
   ],
   "source": [
    "isinstance(3.0,int)"
   ]
  },
  {
   "cell_type": "code",
   "execution_count": 57,
   "id": "a8ee38fb-385b-404a-b053-2bdf859458db",
   "metadata": {},
   "outputs": [
    {
     "data": {
      "text/plain": [
       "True"
      ]
     },
     "execution_count": 57,
     "metadata": {},
     "output_type": "execute_result"
    }
   ],
   "source": [
    "isinstance(3.0,float)"
   ]
  },
  {
   "cell_type": "code",
   "execution_count": 59,
   "id": "d2698bf3-5ac4-451b-96c7-0820c49f75f4",
   "metadata": {},
   "outputs": [
    {
     "data": {
      "text/plain": [
       "True"
      ]
     },
     "execution_count": 59,
     "metadata": {},
     "output_type": "execute_result"
    }
   ],
   "source": [
    "isinstance(3.0,(int,float))"
   ]
  },
  {
   "cell_type": "code",
   "execution_count": 61,
   "id": "16adf623-52ab-429e-b524-e3b9a16f8bb1",
   "metadata": {},
   "outputs": [
    {
     "data": {
      "text/plain": [
       "True"
      ]
     },
     "execution_count": 61,
     "metadata": {},
     "output_type": "execute_result"
    }
   ],
   "source": [
    "isinstance(14+3j,(int,float,complex))"
   ]
  },
  {
   "cell_type": "code",
   "execution_count": 63,
   "id": "fa522e2b-f1c6-48fd-a22c-c42bdc684246",
   "metadata": {},
   "outputs": [
    {
     "data": {
      "text/plain": [
       "False"
      ]
     },
     "execution_count": 63,
     "metadata": {},
     "output_type": "execute_result"
    }
   ],
   "source": [
    "isinstance(14.55,(int,complex))"
   ]
  },
  {
   "cell_type": "code",
   "execution_count": 67,
   "id": "8655f5a4-51a5-4469-a514-c16d1320cbd2",
   "metadata": {},
   "outputs": [
    {
     "name": "stdout",
     "output_type": "stream",
     "text": [
      "True\n"
     ]
    }
   ],
   "source": [
    "print(isinstance(\"python is gramming\",(str)))"
   ]
  },
  {
   "cell_type": "code",
   "execution_count": 69,
   "id": "ec7a63d7-3e79-4428-afdd-dd2cb7eedc25",
   "metadata": {},
   "outputs": [
    {
     "data": {
      "text/plain": [
       "True"
      ]
     },
     "execution_count": 69,
     "metadata": {},
     "output_type": "execute_result"
    }
   ],
   "source": [
    "isinstance(3.78,(int,complex,float))"
   ]
  },
  {
   "cell_type": "code",
   "execution_count": null,
   "id": "d105c9eb-903d-483f-b193-b41c4fc209c8",
   "metadata": {},
   "outputs": [],
   "source": [
    "Pow function"
   ]
  },
  {
   "cell_type": "code",
   "execution_count": 75,
   "id": "78bb0e94-b43e-48f3-937b-7db0546983aa",
   "metadata": {},
   "outputs": [
    {
     "name": "stdout",
     "output_type": "stream",
     "text": [
      "2\n"
     ]
    }
   ],
   "source": [
    "a=pow(2,4,7)\n",
    "print(a)"
   ]
  },
  {
   "cell_type": "code",
   "execution_count": 77,
   "id": "d888eb5f-284d-4620-aa71-b4c6d6d81ba0",
   "metadata": {},
   "outputs": [
    {
     "name": "stdout",
     "output_type": "stream",
     "text": [
      "1\n"
     ]
    }
   ],
   "source": [
    "a=pow(3,4,8)\n",
    "print(a)"
   ]
  },
  {
   "cell_type": "code",
   "execution_count": 79,
   "id": "4c8d1b2f-660b-4c3c-bd48-bb5eb32b3291",
   "metadata": {},
   "outputs": [
    {
     "name": "stdout",
     "output_type": "stream",
     "text": [
      "390625\n"
     ]
    }
   ],
   "source": [
    "a=pow(5,8)\n",
    "print(a)"
   ]
  },
  {
   "cell_type": "code",
   "execution_count": 81,
   "id": "ca71f19d-5594-4ec1-8785-f655583cbbf0",
   "metadata": {},
   "outputs": [
    {
     "data": {
      "text/plain": [
       "'24 raise  to the power of 2,3,4,5 and divide it by 7 and find the remainder in each '"
      ]
     },
     "execution_count": 81,
     "metadata": {},
     "output_type": "execute_result"
    }
   ],
   "source": [
    "\"\"\"24 raise  to the power of 2,3,4,5 and divide it by 7 and find the remainder in each \"\"\""
   ]
  },
  {
   "cell_type": "code",
   "execution_count": 85,
   "id": "cfcbd39d-5127-48b7-956e-aeca8fc750a9",
   "metadata": {},
   "outputs": [
    {
     "name": "stdout",
     "output_type": "stream",
     "text": [
      "2 6 4 5\n"
     ]
    }
   ],
   "source": [
    "a=pow(24,2,7)\n",
    "b=pow(24,3,7)\n",
    "c=pow(24,4,7)\n",
    "d=pow(24,5,7)\n",
    "print(a,b,c,d)"
   ]
  },
  {
   "cell_type": "code",
   "execution_count": 89,
   "id": "687a7985-2599-47d1-9dcb-c9da1cb8420b",
   "metadata": {},
   "outputs": [
    {
     "data": {
      "text/plain": [
       "'63 raise to the power and divide it by 52 and fins its remainder '"
      ]
     },
     "execution_count": 89,
     "metadata": {},
     "output_type": "execute_result"
    }
   ],
   "source": [
    "\"\"\"63 raise to the power 45 and divide it by 52 and fins its remainder \"\"\""
   ]
  },
  {
   "cell_type": "code",
   "execution_count": 91,
   "id": "3f7934f5-db09-4a03-897e-111bc257abc3",
   "metadata": {},
   "outputs": [
    {
     "name": "stdout",
     "output_type": "stream",
     "text": [
      "47\n"
     ]
    }
   ],
   "source": [
    "a=pow(63,45,52)\n",
    "print(a)"
   ]
  },
  {
   "cell_type": "code",
   "execution_count": null,
   "id": "617842af-4788-4f09-9c56-480fe6ccb431",
   "metadata": {},
   "outputs": [],
   "source": []
  }
 ],
 "metadata": {
  "kernelspec": {
   "display_name": "Python [conda env:base] *",
   "language": "python",
   "name": "conda-base-py"
  },
  "language_info": {
   "codemirror_mode": {
    "name": "ipython",
    "version": 3
   },
   "file_extension": ".py",
   "mimetype": "text/x-python",
   "name": "python",
   "nbconvert_exporter": "python",
   "pygments_lexer": "ipython3",
   "version": "3.12.7"
  }
 },
 "nbformat": 4,
 "nbformat_minor": 5
}
