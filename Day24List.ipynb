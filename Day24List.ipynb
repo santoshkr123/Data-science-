{
 "cells": [
  {
   "cell_type": "markdown",
   "id": "6ff1a0fb-c14d-4205-9915-10b920ccf61f",
   "metadata": {},
   "source": [
    "# List"
   ]
  },
  {
   "cell_type": "code",
   "execution_count": 2,
   "id": "cc751344-2b34-4abf-8c90-a3fcf2597b83",
   "metadata": {},
   "outputs": [
    {
     "name": "stdout",
     "output_type": "stream",
     "text": [
      "[12, 15, 17, 190]\n"
     ]
    }
   ],
   "source": [
    "L=[12,15,17,190]\n",
    "print(L)"
   ]
  },
  {
   "cell_type": "code",
   "execution_count": 4,
   "id": "21297174-7c0e-4ecf-a521-d9c34440ff98",
   "metadata": {},
   "outputs": [
    {
     "name": "stdout",
     "output_type": "stream",
     "text": [
      "<class 'list'>\n"
     ]
    }
   ],
   "source": [
    "print(type(L))"
   ]
  },
  {
   "cell_type": "code",
   "execution_count": 6,
   "id": "a1ea2672-9918-424d-8a09-358f1ec68c68",
   "metadata": {},
   "outputs": [
    {
     "name": "stdout",
     "output_type": "stream",
     "text": [
      "[12, 15, 63.88, 26.33, 'hello', 'statics', 23.55]\n"
     ]
    }
   ],
   "source": [
    "L=[12,15,63.88,26.33,\"hello\",\"statics\",23.55]\n",
    "print(L)"
   ]
  },
  {
   "cell_type": "code",
   "execution_count": 8,
   "id": "286667d5-a811-4da6-b13d-8fbb3d94f87b",
   "metadata": {},
   "outputs": [
    {
     "name": "stdout",
     "output_type": "stream",
     "text": [
      "<class 'list'>\n"
     ]
    }
   ],
   "source": [
    "print(type(L))"
   ]
  },
  {
   "cell_type": "markdown",
   "id": "0df256ea-efc5-402e-a77f-859088ac038f",
   "metadata": {},
   "source": [
    "# Indexing of  List"
   ]
  },
  {
   "cell_type": "code",
   "execution_count": 13,
   "id": "40a6765e-0d61-47f6-8624-9634df32ad52",
   "metadata": {},
   "outputs": [
    {
     "name": "stdout",
     "output_type": "stream",
     "text": [
      "12\n"
     ]
    }
   ],
   "source": [
    "a=[12,13,14,15,\"hello\",\"tiger\",\"sikandar\",\"Python\"]\n",
    "print(a[0])"
   ]
  },
  {
   "cell_type": "code",
   "execution_count": 15,
   "id": "b4639fba-fc27-44b3-939c-117cd98080de",
   "metadata": {},
   "outputs": [
    {
     "name": "stdout",
     "output_type": "stream",
     "text": [
      "tiger\n"
     ]
    }
   ],
   "source": [
    "a=[12,13,14,15,\"hello\",\"tiger\",\"sikandar\",\"Python\"]\n",
    "print(a[5])"
   ]
  },
  {
   "cell_type": "code",
   "execution_count": 17,
   "id": "c46092f6-5344-41c8-90dc-ba65652dece8",
   "metadata": {},
   "outputs": [
    {
     "name": "stdout",
     "output_type": "stream",
     "text": [
      "Python\n"
     ]
    }
   ],
   "source": [
    "a=[12,13,14,15,\"hello\",\"tiger\",\"sikandar\",\"Python\"]\n",
    "print(a[-1])"
   ]
  },
  {
   "cell_type": "code",
   "execution_count": 19,
   "id": "ec2672e3-8b1a-4acd-be87-8618ba8b17bc",
   "metadata": {},
   "outputs": [
    {
     "name": "stdout",
     "output_type": "stream",
     "text": [
      "tiger\n"
     ]
    }
   ],
   "source": [
    "a=[12,13,14,15,\"hello\",\"tiger\",\"sikandar\",\"Python\"]\n",
    "print(a[-3])"
   ]
  },
  {
   "cell_type": "markdown",
   "id": "2b289e0d-8ba1-4100-9da4-9df1099123fa",
   "metadata": {},
   "source": [
    "# Slicing on List"
   ]
  },
  {
   "cell_type": "code",
   "execution_count": 22,
   "id": "6a2980bf-0dc8-4179-ae4d-1eadf4fdff27",
   "metadata": {},
   "outputs": [
    {
     "name": "stdout",
     "output_type": "stream",
     "text": [
      "[1, 2, 3, 4, 5, 'Hello', 'Pyhton']\n"
     ]
    }
   ],
   "source": [
    "a=[1,2,3,4,5,\"Hello\",\"Pyhton\",\"List\",\"Code\"]\n",
    "print(a[0:7])"
   ]
  },
  {
   "cell_type": "code",
   "execution_count": 24,
   "id": "83b21cba-8b18-4a1a-a0d7-6ada9e9dc88c",
   "metadata": {},
   "outputs": [
    {
     "name": "stdout",
     "output_type": "stream",
     "text": [
      "[1, 2, 3, 4]\n"
     ]
    }
   ],
   "source": [
    "a=[1,2,3,4,5,\"Hello\",\"Pyhton\",\"List\",\"Code\"]\n",
    "print(a[0:4])"
   ]
  },
  {
   "cell_type": "code",
   "execution_count": 26,
   "id": "d308a25d-a8ea-4b70-958a-4014dbe313f0",
   "metadata": {},
   "outputs": [
    {
     "name": "stdout",
     "output_type": "stream",
     "text": [
      "[4, 5, 'Hello', 'Pyhton']\n"
     ]
    }
   ],
   "source": [
    "a=[1,2,3,4,5,\"Hello\",\"Pyhton\",\"List\",\"Code\"]\n",
    "print(a[3:7])"
   ]
  },
  {
   "cell_type": "code",
   "execution_count": 28,
   "id": "9b6f9e06-807f-4dac-b868-6cad6f4f91c4",
   "metadata": {},
   "outputs": [
    {
     "name": "stdout",
     "output_type": "stream",
     "text": [
      "['Hello', 'Pyhton', 'List', 'Code']\n"
     ]
    }
   ],
   "source": [
    "a=[1,2,3,4,5,\"Hello\",\"Pyhton\",\"List\",\"Code\"]\n",
    "print(a[5:9])"
   ]
  },
  {
   "cell_type": "code",
   "execution_count": 32,
   "id": "6797d850-d26c-4681-9c6c-d8d6446f3f74",
   "metadata": {},
   "outputs": [
    {
     "name": "stdout",
     "output_type": "stream",
     "text": [
      "['Hello']\n"
     ]
    }
   ],
   "source": [
    "a=[1,2,3,4,5,\"Hello\",\"Pyhton\",\"List\",\"Code\"]\n",
    "print(a[5:6])"
   ]
  },
  {
   "cell_type": "code",
   "execution_count": 36,
   "id": "5cda1ff4-cdcb-4c2a-b254-846f2f6fd54b",
   "metadata": {},
   "outputs": [
    {
     "name": "stdout",
     "output_type": "stream",
     "text": [
      "[1, 2, 3, 4, 5, 'Hello', 'Pyhton', 'List']\n"
     ]
    }
   ],
   "source": [
    "a=[1,2,3,4,5,\"Hello\",\"Pyhton\",\"List\",\"Code\"]\n",
    "print(a[:-1])"
   ]
  },
  {
   "cell_type": "code",
   "execution_count": 40,
   "id": "f7c905a9-4cd1-4fe5-9a1e-16e1f64b2554",
   "metadata": {},
   "outputs": [
    {
     "name": "stdout",
     "output_type": "stream",
     "text": [
      "[1, 'Code']\n"
     ]
    }
   ],
   "source": [
    "a=[1,2,3,4,5,\"Hello\",\"Pyhton\",\"List\",\"Code\"]\n",
    "print(a[::8])"
   ]
  },
  {
   "cell_type": "code",
   "execution_count": 42,
   "id": "90d89ac2-14e8-4321-8e0f-106d81764e0c",
   "metadata": {},
   "outputs": [
    {
     "name": "stdout",
     "output_type": "stream",
     "text": [
      "[1, 3, 5, 'Pyhton', 'Code']\n"
     ]
    }
   ],
   "source": [
    "a=[1,2,3,4,5,\"Hello\",\"Pyhton\",\"List\",\"Code\"]\n",
    "print(a[::2])"
   ]
  },
  {
   "cell_type": "code",
   "execution_count": 44,
   "id": "eed544ff-680a-42e4-90ef-00363df5e0f1",
   "metadata": {},
   "outputs": [
    {
     "name": "stdout",
     "output_type": "stream",
     "text": [
      "[1, 4, 'Pyhton']\n"
     ]
    }
   ],
   "source": [
    "a=[1,2,3,4,5,\"Hello\",\"Pyhton\",\"List\",\"Code\"]\n",
    "print(a[::3])"
   ]
  },
  {
   "cell_type": "code",
   "execution_count": 46,
   "id": "3610c6d8-2fd9-4026-ac4f-b6e7312fc2d5",
   "metadata": {},
   "outputs": [
    {
     "name": "stdout",
     "output_type": "stream",
     "text": [
      "[1, 5, 'Code']\n"
     ]
    }
   ],
   "source": [
    "a=[1,2,3,4,5,\"Hello\",\"Pyhton\",\"List\",\"Code\"]\n",
    "print(a[::4])"
   ]
  },
  {
   "cell_type": "code",
   "execution_count": 48,
   "id": "7bd74382-791f-4370-b5c0-7889f067c48f",
   "metadata": {},
   "outputs": [
    {
     "name": "stdout",
     "output_type": "stream",
     "text": [
      "['Code', 'List', 'Pyhton', 'Hello', 5, 4, 3, 2, 1]\n"
     ]
    }
   ],
   "source": [
    "a=[1,2,3,4,5,\"Hello\",\"Pyhton\",\"List\",\"Code\"]\n",
    "print(a[::-1])"
   ]
  },
  {
   "cell_type": "code",
   "execution_count": 54,
   "id": "7bba4a07-4f06-4969-971d-b027878ed491",
   "metadata": {},
   "outputs": [
    {
     "name": "stdout",
     "output_type": "stream",
     "text": [
      "[1, 2, 3, 4, 5, 6, 7, 8, 'Hello']\n",
      "['python', 'Code', 'football', 'Bat']\n",
      "['Hello', 8, 7, 6, 5, 4, 3, 2, 1]\n",
      "['Bat', 'football', 'Code', 'python']\n"
     ]
    }
   ],
   "source": [
    "\"\"\"divide the list and reverse them\"\"\"\n",
    "L=[1,2,3,4,5,6,7,8,\"Hello\",\"python\",\"Code\",\"football\",\"Bat\"]\n",
    "a=L[0:9]\n",
    "print(a)\n",
    "b=L[9:13]\n",
    "print(b)\n",
    "print(a[::-1])\n",
    "print(b[::-1])"
   ]
  },
  {
   "cell_type": "markdown",
   "id": "182dc9f3-69ac-44e7-a1a9-ed7a7a321eda",
   "metadata": {},
   "source": [
    "# append() in List"
   ]
  },
  {
   "cell_type": "code",
   "execution_count": 57,
   "id": "3ed7b742-49d3-4c0f-b940-673ca1496ade",
   "metadata": {},
   "outputs": [
    {
     "name": "stdout",
     "output_type": "stream",
     "text": [
      "[1, 2, 3, 4, 5, 6, 7, 8, 9, 0, 11, 2, 3]\n"
     ]
    }
   ],
   "source": [
    "a=[1,2,3,4,5,6]\n",
    "b=[7,8,9,0,11,2,3]\n",
    "print(a+b)"
   ]
  },
  {
   "cell_type": "code",
   "execution_count": 59,
   "id": "061ccfaf-9bee-44f1-aa59-8e00e9417c22",
   "metadata": {},
   "outputs": [
    {
     "name": "stdout",
     "output_type": "stream",
     "text": [
      "[1, 2, 3, 4, 5, 8]\n"
     ]
    }
   ],
   "source": [
    "L=[1,2,3,4,5]\n",
    "L.append(8)\n",
    "print(L)"
   ]
  },
  {
   "cell_type": "code",
   "execution_count": 65,
   "id": "88ef18d7-b261-4f0c-8530-08badba59639",
   "metadata": {},
   "outputs": [
    {
     "name": "stdout",
     "output_type": "stream",
     "text": [
      "[1, 2, 3, 5, 6, 7, 8]\n",
      "[1, 2, 3, 5, 6, 7, 8, ['jello', 'Pyhton']]\n",
      "[1, 2, 3, 5, 6, 7, 8, ['jello', 'Pyhton'], ['Code', 'AI']]\n"
     ]
    }
   ],
   "source": [
    "L=[1,2,3,5,6,7,8]\n",
    "print(L)\n",
    "a=[\"jello\",\"Pyhton\"]\n",
    "L.append(a)\n",
    "print(L)\n",
    "b=[\"Code\",\"AI\"]\n",
    "L.append(b)\n",
    "print(L)"
   ]
  },
  {
   "cell_type": "markdown",
   "id": "23dcfe60-5761-461a-9655-aed3cc8cf17d",
   "metadata": {},
   "source": [
    "# extend() in list"
   ]
  },
  {
   "cell_type": "code",
   "execution_count": 71,
   "id": "32b85c17-da91-450f-a29f-3d7abf11f6c2",
   "metadata": {},
   "outputs": [
    {
     "name": "stdout",
     "output_type": "stream",
     "text": [
      "[12, 13, 14, 15]\n",
      "[12, 13, 14, 15, 88, 99, 36, 22]\n"
     ]
    }
   ],
   "source": [
    "a=[12,13,14,15]\n",
    "print(a)\n",
    "a.extend([88,99,36,22])\n",
    "print(a)"
   ]
  },
  {
   "cell_type": "code",
   "execution_count": 73,
   "id": "7873673e-2eba-4ba1-8ce6-c8fd75fbf0ca",
   "metadata": {},
   "outputs": [
    {
     "name": "stdout",
     "output_type": "stream",
     "text": [
      "[1, 2, 3, 4, 45, 8]\n",
      "[1, 2, 3, 4, 45, 8, 'hello', 'Pyhton', 'Code']\n"
     ]
    }
   ],
   "source": [
    "b=[1,2,3,4,45,8]\n",
    "print(b)\n",
    "b.extend([\"hello\",\"Pyhton\",\"Code\"])\n",
    "print(b)"
   ]
  },
  {
   "cell_type": "code",
   "execution_count": null,
   "id": "7bd8c268-d7a8-4ba4-9839-9187afc81d49",
   "metadata": {},
   "outputs": [],
   "source": []
  }
 ],
 "metadata": {
  "kernelspec": {
   "display_name": "Python [conda env:base] *",
   "language": "python",
   "name": "conda-base-py"
  },
  "language_info": {
   "codemirror_mode": {
    "name": "ipython",
    "version": 3
   },
   "file_extension": ".py",
   "mimetype": "text/x-python",
   "name": "python",
   "nbconvert_exporter": "python",
   "pygments_lexer": "ipython3",
   "version": "3.12.7"
  }
 },
 "nbformat": 4,
 "nbformat_minor": 5
}
