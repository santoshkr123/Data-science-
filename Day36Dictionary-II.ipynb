{
 "cells": [
  {
   "cell_type": "markdown",
   "id": "5a8d18c9-dba8-4e88-b87c-32092b5fcbca",
   "metadata": {},
   "source": [
    "# changes value"
   ]
  },
  {
   "cell_type": "code",
   "execution_count": 7,
   "id": "e7fc8087-f120-45c2-bfee-1de3168d5826",
   "metadata": {},
   "outputs": [
    {
     "name": "stdout",
     "output_type": "stream",
     "text": [
      "{'apple': 'fruits', 'animal': 'Lion', 9: ['a', 'b', 'c', 'd']}\n"
     ]
    }
   ],
   "source": [
    "d={\"apple\":\"fruits\",\"animal\":\"Lion\",9:[1,2,3,4]}\n",
    "d[9]=['a','b','c','d']\n",
    "print(d)"
   ]
  },
  {
   "cell_type": "markdown",
   "id": "c1e8464a-837b-4a39-afd4-e4428a8334e2",
   "metadata": {},
   "source": [
    "# update()"
   ]
  },
  {
   "cell_type": "code",
   "execution_count": 14,
   "id": "95c473ef-c916-4274-b8a4-984757f50c0e",
   "metadata": {},
   "outputs": [
    {
     "name": "stdout",
     "output_type": "stream",
     "text": [
      "{'apple': 'fruits', 'animal': 'Lion', 9: ['x', 'y', 'z', 'm']}\n"
     ]
    }
   ],
   "source": [
    "d={\"apple\":\"fruits\",\"animal\":\"Lion\",9:[1,2,3,4]}\n",
    "d.update({9:['x','y','z','m']})\n",
    "print(d)"
   ]
  },
  {
   "cell_type": "code",
   "execution_count": 16,
   "id": "9dba3401-0586-40b7-9baa-1119102a0c32",
   "metadata": {},
   "outputs": [
    {
     "name": "stdout",
     "output_type": "stream",
     "text": [
      "{1: 'boy', 2: (12, 13, 14, 15), 3: 'apple', 4: 'girl'}\n"
     ]
    }
   ],
   "source": [
    "x={1:\"boy\",2:\"cat\",3:'apple',4:'girl'}\n",
    "x.update({2:(12,13,14,15)})\n",
    "print(x)"
   ]
  },
  {
   "cell_type": "markdown",
   "id": "03933130-eaaf-4e96-8523-ebccff038420",
   "metadata": {},
   "source": [
    "# adding items in dict"
   ]
  },
  {
   "cell_type": "code",
   "execution_count": 19,
   "id": "4859f2d8-6f3b-491e-8119-e11cd728a881",
   "metadata": {},
   "outputs": [
    {
     "name": "stdout",
     "output_type": "stream",
     "text": [
      "{1: 'code', 2: 'python', 3: 'ai', 4: 'ml'}\n"
     ]
    }
   ],
   "source": [
    "d={1:\"code\",2:\"python\",3:\"ai\"}\n",
    "d[4]=\"ml\"\n",
    "print(d)"
   ]
  },
  {
   "cell_type": "code",
   "execution_count": 21,
   "id": "d2058bf2-42aa-4d70-809f-e17d759e8b5d",
   "metadata": {},
   "outputs": [
    {
     "name": "stdout",
     "output_type": "stream",
     "text": [
      "{'apple': 'fruits', 'mango': 'yellow', 'color': 'red', 'animal': 'Lion'}\n"
     ]
    }
   ],
   "source": [
    "d={\"apple\":\"fruits\",\"mango\":\"yellow\",\"color\":\"red\"}\n",
    "d[\"animal\"]=\"Lion\"\n",
    "print(d)"
   ]
  },
  {
   "cell_type": "markdown",
   "id": "cdf94c4f-66a1-4384-9b42-784b618e962a",
   "metadata": {},
   "source": [
    "# update dictionary-it also added items"
   ]
  },
  {
   "cell_type": "code",
   "execution_count": 24,
   "id": "07a3551a-6d42-4af3-b2bd-9101f1e25024",
   "metadata": {},
   "outputs": [
    {
     "name": "stdout",
     "output_type": "stream",
     "text": [
      "{'code': 'python', 'data': 'science', 'coding': 'dsa', 'ml': 'ai'}\n"
     ]
    }
   ],
   "source": [
    "d={\"code\":\"python\",\"data\":\"science\",\"coding\":\"dsa\"}\n",
    "d.update({\"ml\":\"ai\"})\n",
    "print(d)"
   ]
  },
  {
   "cell_type": "markdown",
   "id": "d60387ae-f0ce-4392-bf4f-b76691ff8db2",
   "metadata": {},
   "source": [
    "# pop() method"
   ]
  },
  {
   "cell_type": "code",
   "execution_count": 30,
   "id": "179ccfe2-c08c-4ee0-ad12-e644c4f7b0ab",
   "metadata": {},
   "outputs": [
    {
     "name": "stdout",
     "output_type": "stream",
     "text": [
      "{1: 'code', 3: 'ai'}\n"
     ]
    }
   ],
   "source": [
    "d={1:\"code\",2:\"python\",3:\"ai\"}\n",
    "d.pop(2)\n",
    "print(d)"
   ]
  },
  {
   "cell_type": "markdown",
   "id": "f2805ed4-2c4a-4af7-b855-49176bb52426",
   "metadata": {},
   "source": [
    "# popitem()method"
   ]
  },
  {
   "cell_type": "code",
   "execution_count": 33,
   "id": "c049b890-05ec-42d2-869f-9b789165eb04",
   "metadata": {},
   "outputs": [
    {
     "name": "stdout",
     "output_type": "stream",
     "text": [
      "{1: 'Ai', 2: 'Ml', 3: 'data'}\n"
     ]
    }
   ],
   "source": [
    "d={1:\"Ai\",2:\"Ml\",3:\"data\",4:\"science\"}\n",
    "d.popitem()\n",
    "print(d)"
   ]
  },
  {
   "cell_type": "code",
   "execution_count": 35,
   "id": "a3787504-e6cc-4022-8a59-8b0ecf8919ff",
   "metadata": {},
   "outputs": [
    {
     "name": "stdout",
     "output_type": "stream",
     "text": [
      "{1: 'code', 3: 'ai'}\n"
     ]
    }
   ],
   "source": [
    "d={1:\"code\",2:\"python\",3:\"ai\"}\n",
    "del d[2]\n",
    "print(d)"
   ]
  },
  {
   "cell_type": "code",
   "execution_count": 41,
   "id": "9ee46e0e-bf17-4d48-97a9-7d0eff8db039",
   "metadata": {},
   "outputs": [
    {
     "ename": "NameError",
     "evalue": "name 'x' is not defined",
     "output_type": "error",
     "traceback": [
      "\u001b[1;31m---------------------------------------------------------------------------\u001b[0m",
      "\u001b[1;31mNameError\u001b[0m                                 Traceback (most recent call last)",
      "Cell \u001b[1;32mIn[41], line 3\u001b[0m\n\u001b[0;32m      1\u001b[0m x\u001b[38;5;241m=\u001b[39m{\u001b[38;5;241m5\u001b[39m:\u001b[38;5;124m\"\u001b[39m\u001b[38;5;124mapple\u001b[39m\u001b[38;5;124m\"\u001b[39m,\u001b[38;5;241m6\u001b[39m:\u001b[38;5;124m\"\u001b[39m\u001b[38;5;124mmango\u001b[39m\u001b[38;5;124m\"\u001b[39m,\u001b[38;5;241m7\u001b[39m:\u001b[38;5;124m\"\u001b[39m\u001b[38;5;124mbanana\u001b[39m\u001b[38;5;124m\"\u001b[39m}\n\u001b[0;32m      2\u001b[0m \u001b[38;5;28;01mdel\u001b[39;00m x\n\u001b[1;32m----> 3\u001b[0m \u001b[38;5;28mprint\u001b[39m(x)\n",
      "\u001b[1;31mNameError\u001b[0m: name 'x' is not defined"
     ]
    }
   ],
   "source": [
    "x={5:\"apple\",6:\"mango\",7:\"banana\"}\n",
    "del x\n",
    "print(x)"
   ]
  },
  {
   "cell_type": "markdown",
   "id": "cbeec93e-9432-48a6-b49b-300466b75c0c",
   "metadata": {},
   "source": [
    "# clear()"
   ]
  },
  {
   "cell_type": "code",
   "execution_count": 46,
   "id": "cdc56856-edc3-418f-8150-a8b0650812e0",
   "metadata": {},
   "outputs": [
    {
     "name": "stdout",
     "output_type": "stream",
     "text": [
      "{}\n"
     ]
    }
   ],
   "source": [
    "a={1:\"Link\",2:\"arrange\",3:\"coding\"}\n",
    "a.clear()\n",
    "print(a)"
   ]
  },
  {
   "cell_type": "markdown",
   "id": "86c5244b-984c-4606-af81-fdca98c0081f",
   "metadata": {},
   "source": [
    "# copy ()"
   ]
  },
  {
   "cell_type": "code",
   "execution_count": 54,
   "id": "1f8f7de9-b4fd-4020-8736-45f706950f30",
   "metadata": {},
   "outputs": [
    {
     "name": "stdout",
     "output_type": "stream",
     "text": [
      "{1: 'code', 2: 'ai', 3: 'ml'}\n",
      "{1: 'code', 2: 'ai', 3: 'data'}\n",
      "{1: 'code', 2: 'ai', 3: 'data'}\n"
     ]
    }
   ],
   "source": [
    "a={1:\"code\",2:\"ai\",3:\"ml\"}\n",
    "b=a\n",
    "print(b)\n",
    "b.update({3:\"data\"})\n",
    "print(b)\n",
    "print(a)"
   ]
  },
  {
   "cell_type": "code",
   "execution_count": 58,
   "id": "e0274624-df9e-4e03-a2d7-07cbc0874c92",
   "metadata": {},
   "outputs": [
    {
     "name": "stdout",
     "output_type": "stream",
     "text": [
      "{1: 'code', 2: 'ai', 3: 'ml'}\n",
      "{1: 'code', 2: 'ai', 3: 'data'}\n",
      "{1: 'code', 2: 'ai', 3: 'ml'}\n"
     ]
    }
   ],
   "source": [
    "a={1:\"code\",2:\"ai\",3:\"ml\"}\n",
    "b=a.copy()\n",
    "print(b)\n",
    "b.update({3:\"data\"})\n",
    "print(b)\n",
    "print(a)"
   ]
  },
  {
   "cell_type": "markdown",
   "id": "7578e05f-8399-430d-a5c9-eb0c6fbdffbb",
   "metadata": {},
   "source": [
    "# make a copy of a dictionary with dict() function"
   ]
  },
  {
   "cell_type": "code",
   "execution_count": 69,
   "id": "67067845-6e66-45a8-b210-9b8eb90925c3",
   "metadata": {},
   "outputs": [
    {
     "name": "stdout",
     "output_type": "stream",
     "text": [
      "{1: 'code', 2: 'apple', 3: [1, 2, 3]}\n",
      "{1: 'code', 2: 'mango', 3: [1, 2, 3]}\n",
      "{1: 'code', 2: 'apple', 3: [1, 2, 3]}\n"
     ]
    }
   ],
   "source": [
    "x={1:\"code\",2:\"apple\",3:[1,2,3]}\n",
    "b=dict(x)\n",
    "print(b)\n",
    "b.update({2:\"mango\"})\n",
    "print(b)\n",
    "print(x)"
   ]
  },
  {
   "cell_type": "markdown",
   "id": "c1b18584-3448-45bb-a7aa-cc22fcbde338",
   "metadata": {},
   "source": [
    "# nested dictionary"
   ]
  },
  {
   "cell_type": "code",
   "execution_count": 74,
   "id": "7da9520d-5600-4893-b1dc-4b6f373b7213",
   "metadata": {},
   "outputs": [
    {
     "name": "stdout",
     "output_type": "stream",
     "text": [
      "{'classA': {'name': 'Ram', 'section': 'A'}, 'classB': {'name': 'Ravan', 'section': 'B'}, 'classC': {'name': 'Ramu', 'section': 'C'}}\n",
      "Ramu\n"
     ]
    }
   ],
   "source": [
    "d={\n",
    "    \"classA\":{\"name\":\"Ram\",\"section\":\"A\"},\n",
    "    \"classB\":{\"name\":\"Ravan\",\"section\":\"B\"},\n",
    "    \"classC\":{\"name\":\"Ramu\",\"section\":\"C\"}\n",
    "    \n",
    "}\n",
    "\n",
    "print(d)\n",
    "print(d[\"classC\"][\"name\"])"
   ]
  },
  {
   "cell_type": "markdown",
   "id": "f78b5e69-e9e7-4656-a865-f6b35ad4caf6",
   "metadata": {},
   "source": [
    "# fromkeys()"
   ]
  },
  {
   "cell_type": "code",
   "execution_count": 79,
   "id": "b625d195-83a5-471b-8300-46ea3da62ba3",
   "metadata": {},
   "outputs": [
    {
     "name": "stdout",
     "output_type": "stream",
     "text": [
      "{'apple': 'fruits', 'mango': 'fruits', 'banana': 'fruits'}\n"
     ]
    }
   ],
   "source": [
    "x=(\"apple\",\"mango\",\"banana\")\n",
    "y=\"fruits\"\n",
    "thisdict=dict.fromkeys(x,y)\n",
    "print(thisdict)"
   ]
  },
  {
   "cell_type": "code",
   "execution_count": 81,
   "id": "5539be2d-3a6b-43c3-a396-c96e90cc70db",
   "metadata": {},
   "outputs": [
    {
     "name": "stdout",
     "output_type": "stream",
     "text": [
      "{'key1': None, 'key2': None, 'key3': None}\n"
     ]
    }
   ],
   "source": [
    "x=(\"key1\",\"key2\",\"key3\")\n",
    "z=dict.fromkeys(x)\n",
    "print(z)"
   ]
  },
  {
   "cell_type": "markdown",
   "id": "cc0522ba-7adb-43cc-83ba-60321d570261",
   "metadata": {},
   "source": [
    "# setdefault()\n",
    "The setdefault()method returns the value of the item with the specified key .If the key does not exist ,insert the key \n",
    "with the specified value"
   ]
  },
  {
   "cell_type": "code",
   "execution_count": 96,
   "id": "b716cea6-1d26-4377-88a1-d76819f79dc0",
   "metadata": {},
   "outputs": [
    {
     "name": "stdout",
     "output_type": "stream",
     "text": [
      "x\n",
      "{'name': 'x', 'muisc': 'y', 'year': 'z'}\n"
     ]
    }
   ],
   "source": [
    "movie={\n",
    "    \"name\":\"x\",\"muisc\":\"y\",\"year\":\"z\"\n",
    "}\n",
    "xyz=movie.setdefault(\"name\",\"a\")\n",
    "print(xyz)\n",
    "print(movie)"
   ]
  },
  {
   "cell_type": "code",
   "execution_count": 98,
   "id": "705f2228-d418-422d-a447-d9afc1b3137f",
   "metadata": {},
   "outputs": [
    {
     "name": "stdout",
     "output_type": "stream",
     "text": [
      "abc\n",
      "{'name': 'x', 'muisc': 'y', 'year': 'z', 'title': 'abc'}\n"
     ]
    }
   ],
   "source": [
    "movie={\n",
    "    \"name\":\"x\",\"muisc\":\"y\",\"year\":\"z\"\n",
    "}\n",
    "x=movie.setdefault(\"title\",\"abc\")\n",
    "print(x)\n",
    "print(movie)"
   ]
  },
  {
   "cell_type": "code",
   "execution_count": 106,
   "id": "60b18776-9ffd-45d7-92ab-436932e68b23",
   "metadata": {},
   "outputs": [
    {
     "name": "stdout",
     "output_type": "stream",
     "text": [
      "['apple', 'zango', 'orange']\n",
      "['apple', 'orange', 'zango']\n",
      "{'apple': 1, 'orange': 3, 'zango': 2}\n"
     ]
    }
   ],
   "source": [
    "\"\"\"Python|Sort Python Dictionary by Keys\"\"\"\n",
    "p={\"apple\":1,\"zango\":2,\"orange\":3}\n",
    "a=list(p.keys())\n",
    "print(a)\n",
    "a.sort()\n",
    "print(a)\n",
    "sorted_dict={i:p[i] for i in a}\n",
    "print(sorted_dict)"
   ]
  },
  {
   "cell_type": "code",
   "execution_count": 108,
   "id": "878b99ec-fc7e-4269-9dea-6c6d33df4855",
   "metadata": {},
   "outputs": [
    {
     "name": "stdin",
     "output_type": "stream",
     "text": [
      "enter the size of dictionary : 3\n",
      "Enter keys apple\n",
      "Enter values fruits\n"
     ]
    },
    {
     "name": "stdout",
     "output_type": "stream",
     "text": [
      "{'apple': 'fruits'}\n"
     ]
    },
    {
     "name": "stdin",
     "output_type": "stream",
     "text": [
      "Enter keys 1\n",
      "Enter values code\n"
     ]
    },
    {
     "name": "stdout",
     "output_type": "stream",
     "text": [
      "{'apple': 'fruits', '1': 'code'}\n"
     ]
    },
    {
     "name": "stdin",
     "output_type": "stream",
     "text": [
      "Enter keys 2\n",
      "Enter values python\n"
     ]
    },
    {
     "name": "stdout",
     "output_type": "stream",
     "text": [
      "{'apple': 'fruits', '1': 'code', '2': 'python'}\n"
     ]
    }
   ],
   "source": [
    "\"\"\"user input Dictionary\"\"\"\n",
    "\n",
    "a={}\n",
    "n=int(input(\"enter the size of dictionary :\"))\n",
    "for i in range(n):\n",
    "    b=input(\"Enter keys\")\n",
    "    c=input(\"Enter values\")\n",
    "    a.update({b:c})\n",
    "    print(a)"
   ]
  },
  {
   "cell_type": "code",
   "execution_count": 116,
   "id": "32d97435-7ec1-4581-a766-58ab98979cf2",
   "metadata": {},
   "outputs": [
    {
     "name": "stdin",
     "output_type": "stream",
     "text": [
      "Enter the dictionary size : 2\n",
      "enter a keys 1\n",
      "enter a value code\n"
     ]
    },
    {
     "name": "stdout",
     "output_type": "stream",
     "text": [
      "{'1': 'code'}\n"
     ]
    },
    {
     "name": "stdin",
     "output_type": "stream",
     "text": [
      "enter a keys 2\n",
      "enter a value python\n"
     ]
    },
    {
     "name": "stdout",
     "output_type": "stream",
     "text": [
      "{'1': 'code', '2': 'python'}\n",
      "[('1', 'code'), ('2', 'python')]\n",
      "[('2', 'python'), ('1', 'code')]\n",
      "{'2': 'python', '1': 'code'}\n"
     ]
    }
   ],
   "source": [
    "\"\"\"take user input  dictionary and reverse it\"\"\"\n",
    "a={}\n",
    "n=int(input(\"Enter the dictionary size :\"))\n",
    "for i in range(n):\n",
    "    b=input(\"enter a keys\")\n",
    "    c=input(\"enter a value\")\n",
    "    a.update({b:c})\n",
    "    print(a)\n",
    "\n",
    "l=list(a.items())\n",
    "print(l)\n",
    "l.reverse()\n",
    "print(l)\n",
    "d=dict(l)\n",
    "print(d)"
   ]
  },
  {
   "cell_type": "code",
   "execution_count": 118,
   "id": "a5636d37-30b9-435d-ba54-5ead0ddc416b",
   "metadata": {},
   "outputs": [
    {
     "name": "stdout",
     "output_type": "stream",
     "text": [
      "14\n",
      "12\n",
      "tiger\n",
      "cat\n"
     ]
    }
   ],
   "source": [
    "\"\"\"find out max and min in dictionary\"\"\"\n",
    "d={12:\"horses\",13:\"cat\",14:\"tiger\"}\n",
    "c=list(d.keys())\n",
    "d=list(d.values())\n",
    "print(max(c))\n",
    "print(min(c))\n",
    "print(max(d))\n",
    "print(min(d))\n"
   ]
  },
  {
   "cell_type": "code",
   "execution_count": null,
   "id": "8ee608ba-7d3e-48d3-a8c5-5fb58d4103f4",
   "metadata": {},
   "outputs": [],
   "source": []
  }
 ],
 "metadata": {
  "kernelspec": {
   "display_name": "Python [conda env:base] *",
   "language": "python",
   "name": "conda-base-py"
  },
  "language_info": {
   "codemirror_mode": {
    "name": "ipython",
    "version": 3
   },
   "file_extension": ".py",
   "mimetype": "text/x-python",
   "name": "python",
   "nbconvert_exporter": "python",
   "pygments_lexer": "ipython3",
   "version": "3.12.7"
  }
 },
 "nbformat": 4,
 "nbformat_minor": 5
}
