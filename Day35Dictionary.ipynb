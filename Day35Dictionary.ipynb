{
 "cells": [
  {
   "cell_type": "markdown",
   "id": "ce540ee8-bda1-4466-9988-9aa10d2f3fe8",
   "metadata": {},
   "source": [
    "# Dictionary in python"
   ]
  },
  {
   "cell_type": "code",
   "execution_count": 3,
   "id": "6456be99-a70b-4872-823e-8250a01399b1",
   "metadata": {},
   "outputs": [
    {
     "name": "stdout",
     "output_type": "stream",
     "text": [
      "{'apple': 'red', 'mango': 'yellow', 'orange': 'friuts'}\n",
      "<class 'dict'>\n"
     ]
    }
   ],
   "source": [
    "d={\"apple\":\"red\",\n",
    "  \"mango\":\"yellow\",\n",
    "  \"orange\":\"friuts\"}\n",
    "print(d)\n",
    "print(type(d))"
   ]
  },
  {
   "cell_type": "code",
   "execution_count": 5,
   "id": "54932d74-8852-48d1-ae9e-e7f5bed94683",
   "metadata": {},
   "outputs": [
    {
     "name": "stdout",
     "output_type": "stream",
     "text": [
      "red\n",
      "<class 'dict'>\n"
     ]
    }
   ],
   "source": [
    "d={\"apple\":\"red\",\n",
    "  \"mango\":\"yellow\",\n",
    "  \"orange\":\"friuts\"}\n",
    "print(d[\"apple\"])\n",
    "print(type(d))"
   ]
  },
  {
   "cell_type": "markdown",
   "id": "2ce22759-c719-470b-a31f-d3767e6f796f",
   "metadata": {},
   "source": [
    "# dictionary not allowed duplicates"
   ]
  },
  {
   "cell_type": "code",
   "execution_count": 8,
   "id": "d7d0ae96-3c65-4f3d-a871-0bbee8d13a26",
   "metadata": {},
   "outputs": [
    {
     "name": "stdout",
     "output_type": "stream",
     "text": [
      "{'apple': 'red', 'mango': 'yellow', 'orange': 'friuts'}\n",
      "<class 'dict'>\n"
     ]
    }
   ],
   "source": [
    "d={\"apple\":\"red\",\n",
    "  \"mango\":\"yellow\",\n",
    "  \"orange\":\"friuts\",\n",
    "  \"orange\":\"friuts\"}\n",
    "print(d)\n",
    "print(type(d))"
   ]
  },
  {
   "cell_type": "code",
   "execution_count": 10,
   "id": "3c22d344-ec07-42f3-96a0-6be22199777e",
   "metadata": {},
   "outputs": [
    {
     "name": "stdout",
     "output_type": "stream",
     "text": [
      "{'apple': 'red', 'mango': 'yellow', 'orange': 'green'}\n",
      "<class 'dict'>\n"
     ]
    }
   ],
   "source": [
    "d={\"apple\":\"red\",\n",
    "  \"mango\":\"yellow\",\n",
    "  \"orange\":\"friuts\",\n",
    "  \"orange\":\"fruits\",\n",
    "  \"orange\":\"green\"}\n",
    "print(d)\n",
    "print(type(d))"
   ]
  },
  {
   "cell_type": "markdown",
   "id": "5c0c2295-5e26-4578-b5d9-383db49e5db0",
   "metadata": {},
   "source": [
    "# dictionary length"
   ]
  },
  {
   "cell_type": "code",
   "execution_count": 19,
   "id": "733f461c-40a0-47e3-83b2-61ec36784df9",
   "metadata": {},
   "outputs": [
    {
     "name": "stdout",
     "output_type": "stream",
     "text": [
      "{'apple': 'fruits', 'red': 'color', 2: 'code'}\n",
      "3\n"
     ]
    }
   ],
   "source": [
    "d={\"apple\":\"fruits\",\n",
    "  \"red\":\"color\",\n",
    "  2:\"code\"}\n",
    "print(d)\n",
    "print(len(d))"
   ]
  },
  {
   "cell_type": "markdown",
   "id": "c1820ed1-9097-4d2e-8993-7b690585ff00",
   "metadata": {},
   "source": [
    "# dictionary item-data types"
   ]
  },
  {
   "cell_type": "code",
   "execution_count": 24,
   "id": "34c63c91-6734-4e16-817e-caf5160357eb",
   "metadata": {},
   "outputs": [
    {
     "name": "stdout",
     "output_type": "stream",
     "text": [
      "{'apple': 'fruits', 2: 23.23, 'book': ['A', 'B', 'C'], 'boy': {'pure', 'handsome'}, 'code': ('python', 'java', 'c++')}\n",
      "<class 'dict'>\n"
     ]
    }
   ],
   "source": [
    "d={\"apple\":\"fruits\",\n",
    "  2:22,\n",
    "  2:23.23,\n",
    "  \"book\":[\"A\",\"B\",\"C\"],\n",
    "  \"boy\":{\"handsome\",\"pure\"},\n",
    "  \"code\":(\"python\",\"java\",\"c++\")\n",
    "  }\n",
    "print(d)\n",
    "print(type(d))"
   ]
  },
  {
   "cell_type": "markdown",
   "id": "c87c597a-a030-4aee-bee9-97a744ff7c8d",
   "metadata": {},
   "source": [
    "# dict() constructor in python"
   ]
  },
  {
   "cell_type": "code",
   "execution_count": 33,
   "id": "e8aaec73-ddcd-4777-88de-effd8a07eea4",
   "metadata": {},
   "outputs": [
    {
     "name": "stdout",
     "output_type": "stream",
     "text": [
      "{'name': 'ravan', 'age': 25, 'apple': 'fruits'}\n",
      "<class 'dict'>\n"
     ]
    }
   ],
   "source": [
    "d=dict(name=\"ravan\",age=25,apple=\"fruits\")\n",
    "print(d)\n",
    "print(type(d))"
   ]
  },
  {
   "cell_type": "markdown",
   "id": "0de2a682-d666-417f-ad42-c9d76ef48168",
   "metadata": {},
   "source": [
    "# access items"
   ]
  },
  {
   "cell_type": "code",
   "execution_count": 38,
   "id": "4c663063-841b-4e18-b7b0-09e359c391d0",
   "metadata": {},
   "outputs": [
    {
     "name": "stdout",
     "output_type": "stream",
     "text": [
      "{1: 'code', 2: 'apple', 3: 'papaya'}\n",
      "apple\n",
      "papaya\n"
     ]
    }
   ],
   "source": [
    "d={1:\"code\",\n",
    "  2:\"apple\",\n",
    "  3:\"papaya\"}\n",
    "print(d)\n",
    "print(d[2])\n",
    "print(d[3])"
   ]
  },
  {
   "cell_type": "markdown",
   "id": "b12f278e-0936-4a50-9fbb-42e31e7c5e39",
   "metadata": {},
   "source": [
    "# get()"
   ]
  },
  {
   "cell_type": "code",
   "execution_count": 49,
   "id": "ed0758b4-ba26-495d-a333-c6dde705505b",
   "metadata": {},
   "outputs": [
    {
     "name": "stdout",
     "output_type": "stream",
     "text": [
      "{1: 'code', 2: 'apple', 3: 'papaya'}\n",
      "apple\n"
     ]
    }
   ],
   "source": [
    "d={1:\"code\",\n",
    "  2:\"apple\",\n",
    "  3:\"papaya\"}\n",
    "print(d)\n",
    "x=d.get(2)\n",
    "print(x)"
   ]
  },
  {
   "cell_type": "markdown",
   "id": "e7e0547b-60b0-4dab-9ae5-b17a5efe91c4",
   "metadata": {},
   "source": [
    "# keys()"
   ]
  },
  {
   "cell_type": "code",
   "execution_count": 52,
   "id": "0761ee2e-8cf1-4e54-bfe7-54084767daca",
   "metadata": {},
   "outputs": [
    {
     "name": "stdout",
     "output_type": "stream",
     "text": [
      "dict_keys(['apple', 'animal', 'python'])\n"
     ]
    }
   ],
   "source": [
    "d={\"apple\":\"fruits\",\n",
    "  \"animal\":\"lion\",\n",
    "  \"python\":\"code\"}\n",
    "print(d.keys())"
   ]
  },
  {
   "cell_type": "markdown",
   "id": "25655309-400a-456a-bb50-697dbe4047c0",
   "metadata": {},
   "source": [
    "# values()"
   ]
  },
  {
   "cell_type": "code",
   "execution_count": 55,
   "id": "6d5681bb-3f16-4019-bcea-3e2f95e8e193",
   "metadata": {},
   "outputs": [
    {
     "name": "stdout",
     "output_type": "stream",
     "text": [
      "dict_values(['fruits', 'python', 'one'])\n",
      "<class 'dict'>\n"
     ]
    }
   ],
   "source": [
    "d={\"apple\":\"fruits\",\n",
    "  \"code\":\"python\",\n",
    "  1:\"one\"}\n",
    "print(d.values())\n",
    "print(type(d))"
   ]
  },
  {
   "cell_type": "code",
   "execution_count": 57,
   "id": "42fa0fd8-ddd0-4f28-8225-f7badfc7943a",
   "metadata": {},
   "outputs": [
    {
     "name": "stdout",
     "output_type": "stream",
     "text": [
      "dict_values(['fruits', 'python', 'one'])\n",
      "<class 'dict_values'>\n"
     ]
    }
   ],
   "source": [
    "d={\"apple\":\"fruits\",\n",
    "  \"code\":\"python\",\n",
    "  1:\"one\"}\n",
    "x=d.values()\n",
    "print(x)\n",
    "print(type(x))"
   ]
  },
  {
   "cell_type": "markdown",
   "id": "ed7813c1-a844-4c89-8c2c-57a2f688a8d3",
   "metadata": {},
   "source": [
    "# items()"
   ]
  },
  {
   "cell_type": "code",
   "execution_count": 60,
   "id": "b78dcc50-a02d-4a87-afad-a29ce78b7e0b",
   "metadata": {},
   "outputs": [
    {
     "name": "stdout",
     "output_type": "stream",
     "text": [
      "dict_items([('apple', 'fruits'), ('code', 'python'), (1, 'one')])\n"
     ]
    }
   ],
   "source": [
    "d={\"apple\":\"fruits\",\n",
    "  \"code\":\"python\",\n",
    "  1:\"one\"}\n",
    "x=d.items()\n",
    "print(x)"
   ]
  },
  {
   "cell_type": "markdown",
   "id": "8fbfd0bd-aa63-40f7-9aaa-154823ca83a7",
   "metadata": {},
   "source": [
    "# check if key exits or not"
   ]
  },
  {
   "cell_type": "code",
   "execution_count": 63,
   "id": "1c30afae-f2aa-44e6-aabf-14e5a14ce415",
   "metadata": {},
   "outputs": [
    {
     "name": "stdout",
     "output_type": "stream",
     "text": [
      "yes\n"
     ]
    }
   ],
   "source": [
    "d={\"apple\":\"fruits\",\n",
    "  \"code\":\"python\",\n",
    "  1:\"one\"}\n",
    "if \"code\" in d:\n",
    "    print(\"yes\")"
   ]
  },
  {
   "cell_type": "code",
   "execution_count": 67,
   "id": "8a928434-a71e-434f-a463-fd7cdc515825",
   "metadata": {},
   "outputs": [
    {
     "name": "stdout",
     "output_type": "stream",
     "text": [
      "no\n"
     ]
    }
   ],
   "source": [
    "d={\"apple\":\"fruits\",\n",
    "  \"code\":\"python\",\n",
    "  1:\"one\"}\n",
    "if \"boy\" in d:\n",
    "    print(\"yes\")\n",
    "\n",
    "else:\n",
    "    print(\"no\")\n",
    "    "
   ]
  },
  {
   "cell_type": "code",
   "execution_count": null,
   "id": "8f830bc8-2887-458a-983f-75ca39af81fb",
   "metadata": {},
   "outputs": [],
   "source": []
  }
 ],
 "metadata": {
  "kernelspec": {
   "display_name": "Python [conda env:base] *",
   "language": "python",
   "name": "conda-base-py"
  },
  "language_info": {
   "codemirror_mode": {
    "name": "ipython",
    "version": 3
   },
   "file_extension": ".py",
   "mimetype": "text/x-python",
   "name": "python",
   "nbconvert_exporter": "python",
   "pygments_lexer": "ipython3",
   "version": "3.12.7"
  }
 },
 "nbformat": 4,
 "nbformat_minor": 5
}
