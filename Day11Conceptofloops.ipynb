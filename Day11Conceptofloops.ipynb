{
 "cells": [
  {
   "cell_type": "code",
   "execution_count": 2,
   "id": "6689f366-02f7-4ed4-b011-bb3fc50434e7",
   "metadata": {},
   "outputs": [
    {
     "name": "stdin",
     "output_type": "stream",
     "text": [
      "Enter a number :  10\n"
     ]
    },
    {
     "name": "stdout",
     "output_type": "stream",
     "text": [
      "1\n",
      "2\n",
      "3\n",
      "4\n",
      "5\n",
      "6\n",
      "7\n",
      "8\n",
      "9\n",
      "10\n",
      "Yes its done\n"
     ]
    }
   ],
   "source": [
    "\"\"\"take the number from the user and print all the numbers in between 1 to that numbers \"\"\"\n",
    "n=int(input(\"Enter a number : \"))\n",
    "i=1\n",
    "while i<=n:\n",
    "    print(i)\n",
    "    i=i+1\n",
    "print(\"Yes its done\")"
   ]
  },
  {
   "cell_type": "code",
   "execution_count": 4,
   "id": "05c3a8a4-6bd1-483f-a866-c7b28df4cd41",
   "metadata": {},
   "outputs": [
    {
     "name": "stdin",
     "output_type": "stream",
     "text": [
      "Enter a number : 2\n"
     ]
    },
    {
     "name": "stdout",
     "output_type": "stream",
     "text": [
      "2\n",
      "4\n",
      "6\n",
      "8\n",
      "10\n",
      "12\n",
      "14\n",
      "16\n",
      "18\n",
      "20\n",
      "this is multiplcation table\n"
     ]
    }
   ],
   "source": [
    "\"\"\"enter the value and and writes multiplication table till 10\"\"\"\n",
    "n=int(input(\"Enter a number :\"))\n",
    "i=1\n",
    "while(i<=10):\n",
    "    print(i*n)\n",
    "    i=i+1\n",
    "print(\"this is multiplcation table\")    \n"
   ]
  },
  {
   "cell_type": "code",
   "execution_count": 6,
   "id": "f343f1a6-778f-45cd-8d93-ade6c13260a9",
   "metadata": {},
   "outputs": [
    {
     "name": "stdin",
     "output_type": "stream",
     "text": [
      "Enter a number :  2\n"
     ]
    },
    {
     "name": "stdout",
     "output_type": "stream",
     "text": [
      "2\n",
      "4\n",
      "8\n",
      "16\n",
      "32\n",
      "Exponetial values\n"
     ]
    }
   ],
   "source": [
    "\"\"\"take the number from the user and print its exponetial value till power 5\"\"\"\n",
    "n=int(input(\"Enter a number : \"))\n",
    "i=1\n",
    "while i<=5:\n",
    "    print(n**i)\n",
    "    i=i+1\n",
    "print(\"Exponetial values\")    \n",
    "    "
   ]
  },
  {
   "cell_type": "code",
   "execution_count": 8,
   "id": "24d3d3d8-874d-43d5-bb31-0c16aba23066",
   "metadata": {},
   "outputs": [
    {
     "name": "stdin",
     "output_type": "stream",
     "text": [
      "Enter a number : 10\n"
     ]
    },
    {
     "name": "stdout",
     "output_type": "stream",
     "text": [
      "2\n",
      "4\n",
      "6\n",
      "8\n",
      "10\n"
     ]
    }
   ],
   "source": [
    "\"\"\"enter a value and find out the even numebr in between that\"\"\"\n",
    "n=int(input(\"Enter a number :\"))\n",
    "i=1\n",
    "while i<=n:\n",
    "    if i%2==0:\n",
    "        print(i)\n",
    "    else:\n",
    "        pass\n",
    "    i=i+1\n",
    "        "
   ]
  },
  {
   "cell_type": "code",
   "execution_count": null,
   "id": "f1c4deeb-2aa1-4350-af28-d9e30c929f71",
   "metadata": {},
   "outputs": [],
   "source": [
    "\n",
    "n = int(input(\"Enter a number: \"))\n",
    "i = 1\n",
    "while i <= n:\n",
    "    j = 1\n",
    "    while j <= i:\n",
    "        print(\"*\", end=\" \")\n",
    "        j += 1  \n",
    "    print()\n",
    "    i += 1 "
   ]
  },
  {
   "cell_type": "code",
   "execution_count": null,
   "id": "7abd0f23-7ce6-47f0-9c2c-5da49bd1f3f5",
   "metadata": {},
   "outputs": [],
   "source": []
  },
  {
   "cell_type": "code",
   "execution_count": null,
   "id": "7f7bbe1d-e809-4343-a4ea-ebad7a348a2c",
   "metadata": {},
   "outputs": [],
   "source": []
  },
  {
   "cell_type": "code",
   "execution_count": null,
   "id": "c044b1dc-32f4-402f-be87-db5272c2fc5a",
   "metadata": {},
   "outputs": [],
   "source": []
  },
  {
   "cell_type": "code",
   "execution_count": null,
   "id": "ac554b51-c556-4acb-8eac-79fe139d1c4b",
   "metadata": {},
   "outputs": [],
   "source": []
  },
  {
   "cell_type": "code",
   "execution_count": null,
   "id": "48ec77c6-af46-42f8-a731-da33cecd04d7",
   "metadata": {},
   "outputs": [],
   "source": []
  },
  {
   "cell_type": "code",
   "execution_count": null,
   "id": "8fa4ff1d-8c50-48e0-acf5-bf2664085efb",
   "metadata": {},
   "outputs": [],
   "source": []
  }
 ],
 "metadata": {
  "kernelspec": {
   "display_name": "Python [conda env:base] *",
   "language": "python",
   "name": "conda-base-py"
  },
  "language_info": {
   "codemirror_mode": {
    "name": "ipython",
    "version": 3
   },
   "file_extension": ".py",
   "mimetype": "text/x-python",
   "name": "python",
   "nbconvert_exporter": "python",
   "pygments_lexer": "ipython3",
   "version": "3.12.7"
  }
 },
 "nbformat": 4,
 "nbformat_minor": 5
}
