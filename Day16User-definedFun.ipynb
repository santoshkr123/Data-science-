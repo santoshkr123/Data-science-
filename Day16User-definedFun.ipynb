{
 "cells": [
  {
   "cell_type": "markdown",
   "id": "2991330f-55ce-496f-a239-4c6f6a1a9405",
   "metadata": {},
   "source": [
    "# Function Inpu Arguments"
   ]
  },
  {
   "cell_type": "code",
   "execution_count": 6,
   "id": "1d97efd1-5c2e-482d-af58-c58f5612caa0",
   "metadata": {},
   "outputs": [
    {
     "name": "stdout",
     "output_type": "stream",
     "text": [
      "5\n",
      "<class 'int'>\n",
      "today learning argumens\n"
     ]
    }
   ],
   "source": [
    "def happy(a):\n",
    "    print(a)\n",
    "    print(type(a))\n",
    "    print(\"today learning argumens\")\n",
    "happy(5)    "
   ]
  },
  {
   "cell_type": "code",
   "execution_count": 8,
   "id": "61d08f36-61a9-469f-84e6-35b61dd58b0a",
   "metadata": {},
   "outputs": [
    {
     "name": "stdout",
     "output_type": "stream",
     "text": [
      "5.6\n",
      "<class 'float'>\n",
      "Arguments-Float\n"
     ]
    }
   ],
   "source": [
    "def happy(a):\n",
    "    print(a)\n",
    "    print(type(a))\n",
    "    print(\"Arguments-Float\")\n",
    "happy(5.6)    \n",
    "    "
   ]
  },
  {
   "cell_type": "code",
   "execution_count": 12,
   "id": "87e05d47-27bc-43c6-a9fd-70e38205abab",
   "metadata": {},
   "outputs": [
    {
     "name": "stdout",
     "output_type": "stream",
     "text": [
      "(2+6j)\n",
      "<class 'complex'>\n",
      "Arguments-Complex\n"
     ]
    }
   ],
   "source": [
    "def happy(a):\n",
    "    print(a)\n",
    "    print(type(a))\n",
    "    print(\"Arguments-Complex\")\n",
    "happy(2+6j)    \n",
    "    "
   ]
  },
  {
   "cell_type": "code",
   "execution_count": 14,
   "id": "60b5f18e-4f0a-41b8-abbd-641efb9963ee",
   "metadata": {},
   "outputs": [
    {
     "name": "stdout",
     "output_type": "stream",
     "text": [
      "learning data science\n",
      "<class 'str'>\n",
      "Arguments-String\n"
     ]
    }
   ],
   "source": [
    "def happy(a):\n",
    "    print(a)\n",
    "    print(type(a))\n",
    "    print(\"Arguments-String\")\n",
    "happy(\"learning data science\")    "
   ]
  },
  {
   "cell_type": "code",
   "execution_count": 16,
   "id": "03bd9396-356b-43ad-b8d4-b17bd8d8cc76",
   "metadata": {},
   "outputs": [
    {
     "name": "stdout",
     "output_type": "stream",
     "text": [
      "Enjoying Python\n"
     ]
    }
   ],
   "source": [
    "\"\"\"take a string as an input argument and print it\"\"\"\n",
    "def printmessage(msg):\n",
    "    if isinstance(msg,str):\n",
    "        print(msg)\n",
    "    else:\n",
    "        print(\"the input you have given is not string type\")\n",
    "        print(\"the input you have applied is of the type \",type(msg))\n",
    "printmessage(\"Enjoying Python\")        "
   ]
  },
  {
   "cell_type": "code",
   "execution_count": 18,
   "id": "15b892ab-9450-4520-b8bf-4f99b8365ad4",
   "metadata": {},
   "outputs": [
    {
     "name": "stdout",
     "output_type": "stream",
     "text": [
      "the input you have given is not string type\n",
      "the input you have applied is of the type <class 'int'>\n"
     ]
    }
   ],
   "source": [
    "\"\"\"take a string as an input argument and print it\"\"\"\n",
    "def printmessage(msg):\n",
    "    if isinstance(msg,str):\n",
    "        print(msg)\n",
    "    else:\n",
    "        print(\"the input you have given is not string type\")\n",
    "        print(\"the input you have applied is of the type\",type(msg))\n",
    "printmessage(2565)        \n",
    "        "
   ]
  },
  {
   "cell_type": "code",
   "execution_count": 20,
   "id": "6b29b1ae-3712-4a0f-be5d-229214aa027a",
   "metadata": {},
   "outputs": [
    {
     "name": "stdout",
     "output_type": "stream",
     "text": [
      "16\n",
      "2 arguments passed in the function\n"
     ]
    }
   ],
   "source": [
    "def mypower(a,b):\n",
    "    c=a**b\n",
    "    print(c)\n",
    "    print(\"2 arguments passed in the function\")\n",
    "mypower(2,4)    "
   ]
  },
  {
   "cell_type": "code",
   "execution_count": 26,
   "id": "ea711854-0b91-4018-b8d3-74b35877006c",
   "metadata": {},
   "outputs": [
    {
     "name": "stdout",
     "output_type": "stream",
     "text": [
      "36\n"
     ]
    }
   ],
   "source": [
    "def testing(a,b,c):\n",
    "    if isinstance(a,(int,float)) and isinstance(b,(int,float)) and isinstance(c,(int,float)):\n",
    "        print((a+b+c)**2)\n",
    "    else:\n",
    "        print(\"not valid\")\n",
    "testing(1,2,3)        "
   ]
  },
  {
   "cell_type": "code",
   "execution_count": 28,
   "id": "ad759a8e-315e-4b38-99b9-5448b22fbcee",
   "metadata": {},
   "outputs": [
    {
     "name": "stdout",
     "output_type": "stream",
     "text": [
      "79.20999999999998\n"
     ]
    }
   ],
   "source": [
    "def testing(a,b,c):\n",
    "    if isinstance(a,(int,float)) and isinstance(b,(int,float)) and isinstance(c,(int,float)):\n",
    "        print((a+b+c)**2)\n",
    "    else:\n",
    "        print(\"not valid\")\n",
    "testing(1,2.3,5.6)        "
   ]
  },
  {
   "cell_type": "code",
   "execution_count": 32,
   "id": "ae1da642-82eb-413e-a2f0-d81e681df2da",
   "metadata": {},
   "outputs": [
    {
     "name": "stdout",
     "output_type": "stream",
     "text": [
      "not valid\n"
     ]
    }
   ],
   "source": [
    "def testing(a,b,c):\n",
    "    if isinstance(a,(int,float)) and isinstance(b,(int,float)) and isinstance(c,(int,float)):\n",
    "        print((a+b+c)**2)\n",
    "    else:\n",
    "        print(\"not valid\")\n",
    "testing(\"Python\",\"abs\",\"cde\")        "
   ]
  },
  {
   "cell_type": "code",
   "execution_count": 34,
   "id": "04266d69-95c5-44fe-8fde-37b3f6d0d152",
   "metadata": {},
   "outputs": [
    {
     "name": "stdout",
     "output_type": "stream",
     "text": [
      "4\n",
      "3\n",
      "hello\n"
     ]
    }
   ],
   "source": [
    "def practical(a,b,c,d):\n",
    "    print(a+c)\n",
    "    print(a+b)\n",
    "    print(d)\n",
    "practical(1,2,3,\"hello\")    \n",
    "    "
   ]
  },
  {
   "cell_type": "markdown",
   "id": "4d9b3785-bf26-4ebe-8f6a-2f0db3e4ac92",
   "metadata": {},
   "source": [
    "# order of input arguments"
   ]
  },
  {
   "cell_type": "code",
   "execution_count": 39,
   "id": "79382456-daa7-4f7d-bbf6-809769ec21e2",
   "metadata": {},
   "outputs": [
    {
     "name": "stdout",
     "output_type": "stream",
     "text": [
      "A is : 4\n",
      "B is : 5\n",
      "C is  6\n"
     ]
    }
   ],
   "source": [
    "def fun(a,b,c):\n",
    "    print(\"A is :\",a)\n",
    "    print(\"B is :\",b)\n",
    "    print(\"C is \",c)\n",
    "fun(4,5,6)    "
   ]
  },
  {
   "cell_type": "markdown",
   "id": "c53bd8d8-57ec-42dd-8b47-cf14cb3b6306",
   "metadata": {},
   "source": [
    "# Global variable and Local variables"
   ]
  },
  {
   "cell_type": "code",
   "execution_count": 46,
   "id": "e6d38d30-c1a8-481c-863c-402b94ce259b",
   "metadata": {},
   "outputs": [
    {
     "name": "stdout",
     "output_type": "stream",
     "text": [
      "12\n",
      "16\n",
      "variables\n"
     ]
    }
   ],
   "source": [
    "t=12\n",
    "def myfunc():\n",
    "    g=16\n",
    "    print(g)\n",
    "    print(\"variables\")\n",
    "print(t)\n",
    "myfunc()\n"
   ]
  },
  {
   "cell_type": "markdown",
   "id": "4a7ddbdc-b794-4954-87bc-892f24e99ba5",
   "metadata": {},
   "source": [
    "# Return statement"
   ]
  },
  {
   "cell_type": "code",
   "execution_count": 49,
   "id": "82a7baa7-bf69-4390-a4f0-0b6f7ba1383c",
   "metadata": {},
   "outputs": [
    {
     "data": {
      "text/plain": [
       "125"
      ]
     },
     "execution_count": 49,
     "metadata": {},
     "output_type": "execute_result"
    }
   ],
   "source": [
    "def demo():\n",
    "    x=(2+3)**3\n",
    "    return x\n",
    "\n",
    "demo()"
   ]
  },
  {
   "cell_type": "code",
   "execution_count": null,
   "id": "7842223d-a21c-4ce1-9bf8-1c8bca46a1cb",
   "metadata": {},
   "outputs": [],
   "source": []
  }
 ],
 "metadata": {
  "kernelspec": {
   "display_name": "Python [conda env:base] *",
   "language": "python",
   "name": "conda-base-py"
  },
  "language_info": {
   "codemirror_mode": {
    "name": "ipython",
    "version": 3
   },
   "file_extension": ".py",
   "mimetype": "text/x-python",
   "name": "python",
   "nbconvert_exporter": "python",
   "pygments_lexer": "ipython3",
   "version": "3.12.7"
  }
 },
 "nbformat": 4,
 "nbformat_minor": 5
}
