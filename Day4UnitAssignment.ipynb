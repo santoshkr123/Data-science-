{
 "cells": [
  {
   "cell_type": "markdown",
   "id": "ae060a03-2fe0-4a6a-9db7-495d80cbc64f",
   "metadata": {},
   "source": [
    "1) Write a Python program to print the following string in a specific format (see the\n",
    "output).\n",
    "Input : \"Twinkle, twinkle, little star, How I wonder what you are! Up above the world so\n",
    "high, Like a diamond in the sky. Twinkle, twinkle, little star, How I wonder what you are\"\n",
    "Output :\n",
    "Twinkle, twinkle, little star,\n",
    "How I wonder what you are!\n",
    "Up above the world so high,\n",
    "Like a diamond in the sky.\n",
    "Twinkle, twinkle, little star,\n",
    "How I wonder what you are"
   ]
  },
  {
   "cell_type": "code",
   "execution_count": 11,
   "id": "1e2046c8-f9c9-450a-8237-a4d30bf57c03",
   "metadata": {},
   "outputs": [
    {
     "name": "stdout",
     "output_type": "stream",
     "text": [
      "Twinkle, twinkle, little star,\n",
      "How I wonder what you are!\n",
      "Up above the world so high,\n",
      "Like a diamond in the sky.\n",
      "Twinkle, twinkle, little star,\n",
      "How I wonder what you are\n"
     ]
    }
   ],
   "source": [
    "print(\"Twinkle, twinkle, little star,\\nHow I wonder what you are!\\nUp above the world so high,\\nLike a diamond in the sky.\\nTwinkle, twinkle, little star,\\nHow I wonder what you are\")\n",
    "\n"
   ]
  },
  {
   "cell_type": "code",
   "execution_count": null,
   "id": "d13f6aaf-f045-417a-884f-3f2608f32569",
   "metadata": {},
   "outputs": [],
   "source": [
    "2) Write a Python program that calculates the area of a circle based on the radius 10\n",
    "cm, 12 cm and 25.67 c"
   ]
  },
  {
   "cell_type": "code",
   "execution_count": 15,
   "id": "ff7a51a9-d516-4682-a395-d1b3461972ed",
   "metadata": {},
   "outputs": [
    {
     "name": "stdout",
     "output_type": "stream",
     "text": [
      "314.0\n"
     ]
    }
   ],
   "source": [
    "a=10\n",
    "areaofcircle=3.14*(a**2)\n",
    "print(areaofcircle)"
   ]
  },
  {
   "cell_type": "code",
   "execution_count": 19,
   "id": "030407c5-72d3-4ea1-9bf6-e7d4911c6d5a",
   "metadata": {},
   "outputs": [
    {
     "name": "stdout",
     "output_type": "stream",
     "text": [
      "452.16\n"
     ]
    }
   ],
   "source": [
    "b=12\n",
    "areaofcircle=3.14*(12**2)\n",
    "print(areaofcircle)\n"
   ]
  },
  {
   "cell_type": "code",
   "execution_count": 21,
   "id": "52573e5e-7652-4743-8a12-358f6a800443",
   "metadata": {},
   "outputs": [
    {
     "name": "stdout",
     "output_type": "stream",
     "text": [
      "2069.0995460000004\n"
     ]
    }
   ],
   "source": [
    "c=25.67\n",
    "areaofcircle = 3.14 * (25.67 ** 2)\n",
    "print(areaofcircle)"
   ]
  },
  {
   "cell_type": "code",
   "execution_count": null,
   "id": "00b2ef80-87f9-4b4f-83ff-b8f9bb0284e4",
   "metadata": {},
   "outputs": [],
   "source": [
    "3)Write a Python program to get the volume of a sphere with radius six"
   ]
  },
  {
   "cell_type": "code",
   "execution_count": 23,
   "id": "be96fbee-250b-4ce8-a768-c26bc24098f5",
   "metadata": {
    "scrolled": true
   },
   "outputs": [
    {
     "name": "stdout",
     "output_type": "stream",
     "text": [
      "904.3199999999999\n"
     ]
    }
   ],
   "source": [
    "volume=4/3 * 3.14 * 6 **3\n",
    "print(volume)"
   ]
  },
  {
   "cell_type": "code",
   "execution_count": null,
   "id": "ab2b638a-ae68-4a29-b874-b0979954bef3",
   "metadata": {},
   "outputs": [],
   "source": [
    "4) Write a Python program that will accept the base and height of a triangle and compute\n",
    "its area. Height 12 cm and base 6 cm"
   ]
  },
  {
   "cell_type": "code",
   "execution_count": 31,
   "id": "abc8205c-74f8-4565-be68-2ce7c6109302",
   "metadata": {},
   "outputs": [
    {
     "name": "stdout",
     "output_type": "stream",
     "text": [
      "36.0\n"
     ]
    }
   ],
   "source": [
    "height =12\n",
    "base =6\n",
    "areaoftri = 1/2 * (12 * 6)\n",
    "print(areaoftri)"
   ]
  },
  {
   "cell_type": "code",
   "execution_count": null,
   "id": "671a7a37-608d-4591-8bd4-c8d3cd4ab9f0",
   "metadata": {},
   "outputs": [],
   "source": [
    "5) Write a Python program to compute the simple interest, P = 100000, r = 8%, T = 1\n",
    "year."
   ]
  },
  {
   "cell_type": "code",
   "execution_count": 39,
   "id": "a78ae3dc-4830-44f1-8fcf-4d84e377dd4e",
   "metadata": {},
   "outputs": [
    {
     "name": "stdout",
     "output_type": "stream",
     "text": [
      "80.0\n"
     ]
    }
   ],
   "source": [
    "s=100000\n",
    "r=8/100\n",
    "t=1\n",
    "si=s*r*t/100\n",
    "print(si)"
   ]
  },
  {
   "cell_type": "code",
   "execution_count": null,
   "id": "fc9a379a-d589-4d0c-a240-78cddb662a30",
   "metadata": {},
   "outputs": [],
   "source": [
    "6) Write a Python program to calculate the hypotenuse of a right angled triangle"
   ]
  },
  {
   "cell_type": "code",
   "execution_count": 43,
   "id": "8faf58ae-4eed-4c83-a76b-985cc4e580ec",
   "metadata": {},
   "outputs": [
    {
     "name": "stdout",
     "output_type": "stream",
     "text": [
      "5.0\n"
     ]
    }
   ],
   "source": [
    "from math import sqrt\n",
    "base = 3\n",
    "height=4\n",
    "hypotenus = sqrt(base **2 + height ** 2)\n",
    "print(hypotenus)"
   ]
  },
  {
   "cell_type": "code",
   "execution_count": null,
   "id": "ac266084-cbcd-4c00-856b-03cd54a02e61",
   "metadata": {},
   "outputs": [],
   "source": [
    "8) Write a Python program to swap two variables."
   ]
  },
  {
   "cell_type": "code",
   "execution_count": 45,
   "id": "3af43f89-b7a4-414e-a9bf-d4e6a4b3bb76",
   "metadata": {},
   "outputs": [
    {
     "name": "stdout",
     "output_type": "stream",
     "text": [
      "20 10\n"
     ]
    }
   ],
   "source": [
    "x=10\n",
    "y=20\n",
    "\n",
    "temp =x\n",
    "x=y\n",
    "y=temp\n",
    "print(x , y)"
   ]
  },
  {
   "cell_type": "code",
   "execution_count": null,
   "id": "588b53dc-217c-4096-92df-64807df02984",
   "metadata": {},
   "outputs": [],
   "source": [
    "Write a program to calculate the area of square of side 10 cm"
   ]
  },
  {
   "cell_type": "code",
   "execution_count": 47,
   "id": "5ac890e3-87c5-4dce-ad59-73f88f1b259d",
   "metadata": {},
   "outputs": [
    {
     "name": "stdout",
     "output_type": "stream",
     "text": [
      "100\n"
     ]
    }
   ],
   "source": [
    "side =10\n",
    "areaofsquare = 10*10\n",
    "print(areaofsquare)"
   ]
  },
  {
   "cell_type": "code",
   "execution_count": null,
   "id": "7cfd08e1-582e-487d-b785-2f4d7a939fd2",
   "metadata": {},
   "outputs": [],
   "source": [
    "Write a program to comvert 250 kg into gram"
   ]
  },
  {
   "cell_type": "code",
   "execution_count": 51,
   "id": "d47a1695-d940-4483-895d-a8f183a69ee1",
   "metadata": {},
   "outputs": [
    {
     "name": "stdout",
     "output_type": "stream",
     "text": [
      "250000\n"
     ]
    }
   ],
   "source": [
    "kilo =250\n",
    "convert = 1000 * 250\n",
    "print(convert)"
   ]
  },
  {
   "cell_type": "code",
   "execution_count": null,
   "id": "07010cb5-f795-4baa-a68d-2d24232fd36a",
   "metadata": {},
   "outputs": [],
   "source": []
  },
  {
   "cell_type": "code",
   "execution_count": null,
   "id": "827f35dd-946b-4d9a-a0fd-c9e11c603d0e",
   "metadata": {},
   "outputs": [],
   "source": []
  }
 ],
 "metadata": {
  "kernelspec": {
   "display_name": "Python [conda env:base] *",
   "language": "python",
   "name": "conda-base-py"
  },
  "language_info": {
   "codemirror_mode": {
    "name": "ipython",
    "version": 3
   },
   "file_extension": ".py",
   "mimetype": "text/x-python",
   "name": "python",
   "nbconvert_exporter": "python",
   "pygments_lexer": "ipython3",
   "version": "3.12.7"
  }
 },
 "nbformat": 4,
 "nbformat_minor": 5
}
