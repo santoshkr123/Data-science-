{
 "cells": [
  {
   "cell_type": "markdown",
   "id": "9e1a54ff-d272-45fc-8610-97d80c1568f9",
   "metadata": {},
   "source": [
    "# Best Practice Exception Handling"
   ]
  },
  {
   "cell_type": "code",
   "execution_count": 2,
   "id": "d440d300-61d2-4630-bb3f-a345cdce2e80",
   "metadata": {},
   "outputs": [
    {
     "name": "stdout",
     "output_type": "stream",
     "text": [
      "division by zero\n"
     ]
    }
   ],
   "source": [
    "#alwyas use specific exception\n",
    "\n",
    "try:\n",
    "    15/0\n",
    "\n",
    "except Exception as e:\n",
    "    print(e)"
   ]
  },
  {
   "cell_type": "code",
   "execution_count": 6,
   "id": "3f645943-840c-46cc-be99-255431ca17fc",
   "metadata": {},
   "outputs": [
    {
     "name": "stdout",
     "output_type": "stream",
     "text": [
      "division by zero\n"
     ]
    }
   ],
   "source": [
    "try:\n",
    "    15/0\n",
    "\n",
    "except ZeroDivisionError as e:\n",
    "    print(e)"
   ]
  },
  {
   "cell_type": "code",
   "execution_count": 8,
   "id": "19b4b644-d62b-4c23-8dca-39117b7bca62",
   "metadata": {},
   "outputs": [
    {
     "name": "stdout",
     "output_type": "stream",
     "text": [
      "I am trying to handle the zero division error division by zero\n"
     ]
    }
   ],
   "source": [
    "#print always a proper message\n",
    "\n",
    "try:\n",
    "    15/0\n",
    "\n",
    "except ZeroDivisionError as e:\n",
    "    print(\"I am trying to handle the zero division error\",e)"
   ]
  },
  {
   "cell_type": "code",
   "execution_count": 12,
   "id": "e4a82211-c829-4b0f-9fad-5608a356ce93",
   "metadata": {},
   "outputs": [],
   "source": [
    "#alwyas try to log error\n",
    "\n",
    "import logging\n",
    "logging.basicConfig(filename=\"error.log\",level=logging.ERROR)\n",
    "try:\n",
    "    12/0\n",
    "\n",
    "except ZeroDivisionError as e:\n",
    "    logging.error(\"I am trying to handle the zero division  error{}\".format(e))"
   ]
  },
  {
   "cell_type": "code",
   "execution_count": 14,
   "id": "51df382a-3ee7-4a7b-a18e-635353c15b40",
   "metadata": {},
   "outputs": [],
   "source": [
    "#always avoid to write multiple exception handling \n",
    "import logging \n",
    "logging.basicConfig(filename=\"error.log\",level=logging.ERROR)\n",
    "try:\n",
    "    12/0\n",
    "\n",
    "except AttributeError as e:\n",
    "    logging.error(\"I am trying to handle attribute error{}\",format(e))\n",
    "\n",
    "except FileNotFoundError as e:\n",
    "    logging.error(\"I am trying to handle filenoterror {}\".format(e))\n",
    "\n",
    "except ZeroDivisionError as e:\n",
    "    logging.error(\"I am trying to handle the zero divison error{}\".format(e))"
   ]
  },
  {
   "cell_type": "code",
   "execution_count": null,
   "id": "7c1126d1-93dc-493f-9afc-b3d6fcc4d919",
   "metadata": {},
   "outputs": [],
   "source": [
    "#document all the error,clean up all the resources\n",
    "try:\n",
    "    with open(\"orange.txt\",\"r\")as f:\n",
    "         f.write(\"this is data to file \")\n",
    "        \n",
    "except FileNotFoundError as e:\n",
    "    logging.error(\"I am trying to handle something {}\".format(e))\n",
    "\n",
    "finally:\n",
    "    f.close()\n",
    "    "
   ]
  }
 ],
 "metadata": {
  "kernelspec": {
   "display_name": "Python [conda env:base] *",
   "language": "python",
   "name": "conda-base-py"
  },
  "language_info": {
   "codemirror_mode": {
    "name": "ipython",
    "version": 3
   },
   "file_extension": ".py",
   "mimetype": "text/x-python",
   "name": "python",
   "nbconvert_exporter": "python",
   "pygments_lexer": "ipython3",
   "version": "3.12.7"
  }
 },
 "nbformat": 4,
 "nbformat_minor": 5
}
