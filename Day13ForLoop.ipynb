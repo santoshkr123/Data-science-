{
 "cells": [
  {
   "cell_type": "markdown",
   "id": "cbfe58e7-0411-4190-b402-99bc462d5aa5",
   "metadata": {},
   "source": [
    "# For loop"
   ]
  },
  {
   "cell_type": "code",
   "execution_count": 3,
   "id": "ab5b3627-40d5-45ee-b33a-cff63cf63995",
   "metadata": {},
   "outputs": [
    {
     "name": "stdout",
     "output_type": "stream",
     "text": [
      "1\n",
      "2\n",
      "3\n",
      "4\n",
      "5\n",
      "6\n",
      "7\n",
      "8\n",
      "9\n",
      "10\n",
      "[0, 1, 4, 9, 16, 25, 36, 49, 64, 81]\n"
     ]
    }
   ],
   "source": [
    "\"\"\"write a program and print to the square of the number till 10\"\"\"\n",
    "L=[]\n",
    "for i in range(10):\n",
    "    print(i+1)\n",
    "    L.append(i**2)\n",
    "print(L)    "
   ]
  },
  {
   "cell_type": "code",
   "execution_count": 5,
   "id": "f7a5c99b-6e8c-4d5f-a732-1815cab31e6d",
   "metadata": {},
   "outputs": [
    {
     "name": "stdout",
     "output_type": "stream",
     "text": [
      "1\n",
      "3\n",
      "5\n",
      "7\n",
      "9\n",
      "[0, 4, 16, 36, 64]\n"
     ]
    }
   ],
   "source": [
    "L=[]\n",
    "for i in range(0,10,2):\n",
    "    print(i+1)\n",
    "    L.append(i**2)\n",
    "print(L)    "
   ]
  },
  {
   "cell_type": "code",
   "execution_count": 23,
   "id": "b635b5eb-a93e-480d-8fd8-c280157d9ac6",
   "metadata": {},
   "outputs": [
    {
     "name": "stdout",
     "output_type": "stream",
     "text": [
      "The L1 is positive : [12, 87, 15, 36, 83]\n",
      "the L2 is negative: [-88, -16, -36, -25, -63]\n"
     ]
    }
   ],
   "source": [
    "\"\"\"write a program to separate positive and negative integers from the list\"\"\"\n",
    "L=[12,87,-88,15,36,-16,-36,83,-25,-63]\n",
    "L1=[]\n",
    "L2=[]\n",
    "for i in range(10):\n",
    "    if L[i]>=0:\n",
    "        L1.append(L[i])\n",
    "    else:\n",
    "        L2.append(L[i])\n",
    "print(\"The L1 is positive :\",L1)\n",
    "print(\"the L2 is negative:\",L2)"
   ]
  },
  {
   "cell_type": "code",
   "execution_count": 29,
   "id": "166a2252-9954-49a6-8708-84af943447ff",
   "metadata": {},
   "outputs": [
    {
     "name": "stdout",
     "output_type": "stream",
     "text": [
      "Even numbers are : [24, 36, 78, 98, 88, 16, 12]\n",
      "Odd numbers are : [25, 45]\n"
     ]
    }
   ],
   "source": [
    "\"\"\"write a program to separate even and odd numbers\"\"\"\n",
    "L=[24,25,36,78,98,88,16,12,45]\n",
    "L3=[]\n",
    "L4=[]\n",
    "for i in range(9):\n",
    "    if L[i]%2==0:\n",
    "        L3.append(L[i])\n",
    "    else:\n",
    "        L4.append(L[i])\n",
    "print(\"Even numbers are :\",L3)\n",
    "print(\"Odd numbers are :\",L4)\n"
   ]
  },
  {
   "cell_type": "code",
   "execution_count": 31,
   "id": "a1475b18-1618-407e-9c9e-effd0cd7b4a5",
   "metadata": {},
   "outputs": [
    {
     "name": "stdout",
     "output_type": "stream",
     "text": [
      "pen\n",
      "2.56\n",
      "apple\n",
      "loop terminated\n",
      "done\n"
     ]
    }
   ],
   "source": [
    "S={\"apple\",2.56,\"pen\"}\n",
    "for x in S:\n",
    "    print(x)\n",
    "else:\n",
    "    print(\"loop terminated\")\n",
    "print(\"done\")    "
   ]
  },
  {
   "cell_type": "code",
   "execution_count": 41,
   "id": "1cc135e9-c905-478a-8600-29bf8cb1717e",
   "metadata": {},
   "outputs": [
    {
     "name": "stdout",
     "output_type": "stream",
     "text": [
      "A 25\n",
      "B 88\n",
      "C 56\n"
     ]
    }
   ],
   "source": [
    "D={\"A\":25,\"B\":88,\"C\":56}\n",
    "for x in D:\n",
    "    print(x,D[x])"
   ]
  },
  {
   "cell_type": "markdown",
   "id": "8752af2c-2174-4ded-a80f-780d6c381040",
   "metadata": {},
   "source": [
    "# Nested loop"
   ]
  },
  {
   "cell_type": "code",
   "execution_count": 50,
   "id": "faf0d495-eb98-4e4c-af17-e81af3d7c430",
   "metadata": {},
   "outputs": [
    {
     "name": "stdin",
     "output_type": "stream",
     "text": [
      "enter a string i am learning python\n"
     ]
    },
    {
     "name": "stdout",
     "output_type": "stream",
     "text": [
      "['i', ' ', 'a', 'm', ' ', 'l', 'e', 'a', 'r', 'n', 'i', 'n', 'g', ' ', 'p', 'y', 't', 'h', 'o', 'n']\n",
      "i is vowel in the string\n",
      "1\n",
      "i is vowel in the string\n",
      "2\n",
      "e is vowel in the string\n",
      "1\n",
      "o is vowel in the string \n",
      "1\n",
      "u is vowel in the string \n",
      "1\n",
      "u is vowel in the string \n",
      "2\n",
      "u is vowel in the string \n",
      "3\n",
      "u is vowel in the string \n",
      "4\n",
      "u is vowel in the string \n",
      "5\n",
      "u is vowel in the string \n",
      "6\n",
      "u is vowel in the string \n",
      "7\n",
      "u is vowel in the string \n",
      "8\n",
      "u is vowel in the string \n",
      "9\n",
      "u is vowel in the string \n",
      "10\n",
      "u is vowel in the string \n",
      "11\n",
      "u is vowel in the string \n",
      "12\n",
      "u is vowel in the string \n",
      "13\n",
      "u is vowel in the string \n",
      "14\n",
      "u is vowel in the string \n",
      "15\n",
      "u is vowel in the string \n",
      "16\n",
      "u is vowel in the string \n",
      "17\n",
      "u is vowel in the string \n",
      "18\n",
      "u is vowel in the string \n",
      "19\n",
      "u is vowel in the string \n",
      "20\n"
     ]
    }
   ],
   "source": [
    "\"\"\"aske to user to enter a string and filter count vowels in the string\"\"\"\n",
    "\n",
    "L=[]\n",
    "p=input(\"enter a string\")\n",
    "for i in range(len(p)):\n",
    "    L.append(p[i])\n",
    "print(L)\n",
    "count=0\n",
    "for i in range(len(L)):\n",
    "    if [L[i]]==\"a\":\n",
    "        print(\"a is vowel in the string\")\n",
    "        count=count+1\n",
    "        print(count)\n",
    "count=0        \n",
    "for i in range(len(L)):\n",
    "    if L[i]==\"i\":\n",
    "        print(\"i is vowel in the string\")\n",
    "        count=count+1\n",
    "        print(count)\n",
    "count=0        \n",
    "for i in range(len(L)):\n",
    "    if L[i]==\"e\":\n",
    "        print(\"e is vowel in the string\")\n",
    "        count=count+1\n",
    "        print(count)\n",
    "count=0        \n",
    "for i in range(len(L)):\n",
    "    if L[i]==\"o\":\n",
    "        print(\"o is vowel in the string \")\n",
    "        count=count+1\n",
    "        print(count)\n",
    "count=0        \n",
    "        \n",
    "for i in range(len(L)):\n",
    "    print(\"u is vowel in the string \")\n",
    "    count=count+1\n",
    "    print(count)\n",
    "\n",
    "        "
   ]
  },
  {
   "cell_type": "code",
   "execution_count": null,
   "id": "a3114432-9434-43f4-97ea-8e48b872db10",
   "metadata": {},
   "outputs": [],
   "source": []
  }
 ],
 "metadata": {
  "kernelspec": {
   "display_name": "Python [conda env:base] *",
   "language": "python",
   "name": "conda-base-py"
  },
  "language_info": {
   "codemirror_mode": {
    "name": "ipython",
    "version": 3
   },
   "file_extension": ".py",
   "mimetype": "text/x-python",
   "name": "python",
   "nbconvert_exporter": "python",
   "pygments_lexer": "ipython3",
   "version": "3.12.7"
  }
 },
 "nbformat": 4,
 "nbformat_minor": 5
}
