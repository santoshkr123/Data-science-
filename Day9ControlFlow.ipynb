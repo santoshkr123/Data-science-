{
 "cells": [
  {
   "cell_type": "markdown",
   "id": "1cdba45e-0c16-4106-8614-ec6193bdf977",
   "metadata": {},
   "source": [
    "# if-elif-else conditions"
   ]
  },
  {
   "cell_type": "code",
   "execution_count": 3,
   "id": "f049d5fd-b120-4485-8f21-cc3c010a82e9",
   "metadata": {},
   "outputs": [
    {
     "name": "stdin",
     "output_type": "stream",
     "text": [
      "Enter a first value : 45\n",
      "Enter seond value : 45\n"
     ]
    },
    {
     "name": "stdout",
     "output_type": "stream",
     "text": [
      "Value is equal\n"
     ]
    }
   ],
   "source": [
    "\"\"\"enter two values from user and if the value will be greater print greater and if the value is not greater print no greater and if the value are equal print equal\"\"\"\n",
    "\n",
    "a=int(input(\"Enter a first value :\"))\n",
    "b=int(input(\"Enter seond value :\"))\n",
    "if a>b:\n",
    "    print(\"Value is greater \")\n",
    "elif a==b:\n",
    "    print(\"Value is equal\")\n",
    "else:\n",
    "    print(\"Value is less\")"
   ]
  },
  {
   "cell_type": "code",
   "execution_count": 5,
   "id": "b2804462-0264-4d3b-8b14-b4b4f1390184",
   "metadata": {},
   "outputs": [
    {
     "name": "stdin",
     "output_type": "stream",
     "text": [
      "Enter a number : 4\n"
     ]
    },
    {
     "name": "stdout",
     "output_type": "stream",
     "text": [
      "number is divisible by 2\n"
     ]
    }
   ],
   "source": [
    "\"\"\"take a value from the user and check it is divisible by 2 or 3 or neither 2 and 3 \"\"\"\n",
    "n=int(input(\"Enter a number :\"))\n",
    "if n%2==0:\n",
    "    print(\"number is divisible by 2\")\n",
    "elif n%3==0:\n",
    "    print(\"number is divisible by 3\")\n",
    "else:\n",
    "    print(\"number is not divisible by 2 and 3\")\n",
    "    \n"
   ]
  },
  {
   "cell_type": "code",
   "execution_count": 7,
   "id": "86e443b5-3cc8-4f0d-acf2-edadcd1dd706",
   "metadata": {},
   "outputs": [
    {
     "name": "stdin",
     "output_type": "stream",
     "text": [
      "Enter the marks of student  85\n"
     ]
    },
    {
     "name": "stdout",
     "output_type": "stream",
     "text": [
      "A grade\n"
     ]
    }
   ],
   "source": [
    "\"\"\"enter the marks of the student if marks is greaer than or equal to 85 print A grade if marks is greater than or equal to 80 print B Grade so on till EL grade \"\"\"\n",
    "x=int(input(\"Enter the marks of student \"))\n",
    "if x>=85:\n",
    "    print(\"A grade\")\n",
    "elif x>=80 and x<85:\n",
    "    print(\"B grade\")\n",
    "elif x>=75 and x<80:\n",
    "    print(\"C grade\")\n",
    "elif x>=70 and x<75:\n",
    "    print(\"D grade\")\n",
    "elif x>=65 and x70:\n",
    "    print(\"E garde\")\n",
    "else:\n",
    "    print(\"fail\")\n",
    "\n"
   ]
  },
  {
   "cell_type": "code",
   "execution_count": 9,
   "id": "8bce998a-dc03-4e6c-863e-76dd0eeb2968",
   "metadata": {},
   "outputs": [
    {
     "name": "stdin",
     "output_type": "stream",
     "text": [
      "Enter the number 7\n"
     ]
    },
    {
     "name": "stdout",
     "output_type": "stream",
     "text": [
      "Sunday\n"
     ]
    }
   ],
   "source": [
    "\"\"\"write a program and take the number from the user in between 1 to 7 if the number will be print 1 print Monday ,so on\"\"\"\n",
    "x=int(input(\"Enter the number\"))\n",
    "if x==1:\n",
    "    print(\"Monday\")\n",
    "elif x==2:\n",
    "    print(\"Tuesday\")\n",
    "elif x==3:\n",
    "    print(\"wednesday\")\n",
    "elif x==4:\n",
    "    print(\"Thursday\")\n",
    "elif x==5:\n",
    "    print(\"friday\")\n",
    "elif x==6:\n",
    "    print(\"Saturday\")\n",
    "elif x==7:\n",
    "    print(\"Sunday\")\n",
    "else :\n",
    "    print(\"No\")\n"
   ]
  },
  {
   "cell_type": "markdown",
   "id": "a16272ca-45a4-40ed-9086-50d5abc4b8cf",
   "metadata": {},
   "source": [
    "# nested if statement "
   ]
  },
  {
   "cell_type": "code",
   "execution_count": 14,
   "id": "efd9ef6b-962d-44e1-89ed-bd44eab4d4a2",
   "metadata": {},
   "outputs": [
    {
     "name": "stdin",
     "output_type": "stream",
     "text": [
      "Enter the value from user 25\n"
     ]
    },
    {
     "name": "stdout",
     "output_type": "stream",
     "text": [
      "Inside the if condition \n",
      "Inside the nested condition\n"
     ]
    }
   ],
   "source": [
    "\"\"\"enter the value from the user and is it greater than 10 or 20 and not\"\"\"\n",
    "a=int(input(\"Enter the value from user\"))\n",
    "if a>10:\n",
    "    print(\"Inside the if condition \")\n",
    "    if a>20:\n",
    "        print(\"Inside the nested condition\")\n",
    "    else:\n",
    "        print(\"inside the else part\")\n",
    "else:\n",
    "    print(\"outside the condition\")\n",
    "        "
   ]
  },
  {
   "cell_type": "code",
   "execution_count": 18,
   "id": "3460638a-489e-47c7-9945-034549675f99",
   "metadata": {},
   "outputs": [
    {
     "name": "stdin",
     "output_type": "stream",
     "text": [
      "Enter the class attended by student  80\n",
      "Enter the assighnmet submitted by student  15\n"
     ]
    },
    {
     "name": "stdout",
     "output_type": "stream",
     "text": [
      "Eligible for one exam\n",
      "eligible for one exam and two\n"
     ]
    }
   ],
   "source": [
    "\"\"\"enter the user no of class attended by student no of assighnemnts submitted by student if attendane will be greater than 75 then only student appear examm in one ,if student attendance greater than 75 and submitted more than 10 assighnment than appear only two\"\"\"\n",
    "x=int(input(\"Enter the class attended by student \"))\n",
    "y=int(input(\"Enter the assighnmet submitted by student \"))\n",
    "if x>75:\n",
    "    print(\"Eligible for one exam\")\n",
    "    if y>10:\n",
    "        print(\"eligible for one exam and two\")\n",
    "    else:\n",
    "        print(\"eligible for one exam but not two\")\n",
    "else:\n",
    "    print(\"you are suspended\")"
   ]
  },
  {
   "cell_type": "code",
   "execution_count": null,
   "id": "1c0831e9-7240-4060-9e19-317f5808f90a",
   "metadata": {},
   "outputs": [],
   "source": []
  }
 ],
 "metadata": {
  "kernelspec": {
   "display_name": "Python [conda env:base] *",
   "language": "python",
   "name": "conda-base-py"
  },
  "language_info": {
   "codemirror_mode": {
    "name": "ipython",
    "version": 3
   },
   "file_extension": ".py",
   "mimetype": "text/x-python",
   "name": "python",
   "nbconvert_exporter": "python",
   "pygments_lexer": "ipython3",
   "version": "3.12.7"
  }
 },
 "nbformat": 4,
 "nbformat_minor": 5
}
