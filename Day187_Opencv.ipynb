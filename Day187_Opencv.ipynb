{
 "cells": [
  {
   "cell_type": "code",
   "execution_count": 1,
   "id": "0498bab7-fd04-4f4b-b56d-f83e6a9ed05f",
   "metadata": {},
   "outputs": [
    {
     "name": "stdout",
     "output_type": "stream",
     "text": [
      "Defaulting to user installation because normal site-packages is not writeable\n",
      "Requirement already satisfied: opencv-python in c:\\users\\santo\\appdata\\roaming\\python\\python312\\site-packages (4.12.0.88)\n",
      "Requirement already satisfied: numpy<2.3.0,>=2 in c:\\users\\santo\\appdata\\roaming\\python\\python312\\site-packages (from opencv-python) (2.2.6)\n"
     ]
    }
   ],
   "source": [
    "!pip install opencv-python\n"
   ]
  },
  {
   "cell_type": "code",
   "execution_count": 4,
   "id": "25adb931-5341-4119-aa38-ded2c15253f4",
   "metadata": {},
   "outputs": [],
   "source": [
    "import cv2"
   ]
  },
  {
   "cell_type": "code",
   "execution_count": 3,
   "id": "a0aa3b00-56af-4d2c-84c5-1ab0dbf80140",
   "metadata": {},
   "outputs": [],
   "source": [
    "img=cv2.imread(\"cat.jpeg\")"
   ]
  },
  {
   "cell_type": "code",
   "execution_count": 4,
   "id": "55d0ade1-e3ef-4374-9e56-a776c68b3713",
   "metadata": {},
   "outputs": [
    {
     "data": {
      "text/plain": [
       "array([[[122, 145, 161],\n",
       "        [122, 145, 161],\n",
       "        [122, 145, 161],\n",
       "        ...,\n",
       "        [136, 155, 170],\n",
       "        [136, 155, 170],\n",
       "        [136, 155, 170]],\n",
       "\n",
       "       [[122, 145, 161],\n",
       "        [122, 145, 161],\n",
       "        [121, 144, 160],\n",
       "        ...,\n",
       "        [136, 155, 170],\n",
       "        [136, 155, 170],\n",
       "        [136, 155, 170]],\n",
       "\n",
       "       [[121, 144, 160],\n",
       "        [121, 144, 160],\n",
       "        [120, 143, 159],\n",
       "        ...,\n",
       "        [136, 155, 170],\n",
       "        [136, 155, 170],\n",
       "        [136, 155, 170]],\n",
       "\n",
       "       ...,\n",
       "\n",
       "       [[ 75,  91, 107],\n",
       "        [ 76,  92, 108],\n",
       "        [ 76,  92, 108],\n",
       "        ...,\n",
       "        [ 92, 111, 126],\n",
       "        [ 92, 111, 126],\n",
       "        [ 92, 111, 126]],\n",
       "\n",
       "       [[ 76,  92, 108],\n",
       "        [ 76,  92, 108],\n",
       "        [ 76,  92, 108],\n",
       "        ...,\n",
       "        [ 88, 107, 122],\n",
       "        [ 88, 107, 122],\n",
       "        [ 89, 108, 123]],\n",
       "\n",
       "       [[ 76,  92, 108],\n",
       "        [ 75,  91, 107],\n",
       "        [ 75,  91, 107],\n",
       "        ...,\n",
       "        [ 85, 104, 119],\n",
       "        [ 86, 105, 120],\n",
       "        [ 86, 105, 120]]], shape=(183, 275, 3), dtype=uint8)"
      ]
     },
     "execution_count": 4,
     "metadata": {},
     "output_type": "execute_result"
    }
   ],
   "source": [
    "img"
   ]
  },
  {
   "cell_type": "code",
   "execution_count": 5,
   "id": "38967d03-e98f-4eba-a497-f22283524f17",
   "metadata": {},
   "outputs": [],
   "source": [
    "# reading the image\n",
    "cv2.imshow(\"Cat image\",img)\n",
    "cv2.imshow(\"Image\",img)\n",
    "cv2.waitKey(0)\n",
    "cv2.destroyAllWindows()\n",
    "\n"
   ]
  },
  {
   "cell_type": "code",
   "execution_count": 8,
   "id": "f994db1a-28be-4a8a-9183-51b0fea1a2fc",
   "metadata": {},
   "outputs": [],
   "source": [
    "# reading the video\n",
    "vid=cv2.VideoCapture('animal.mp4')\n",
    "while True:\n",
    "    success,img=vid.read()\n",
    "    if success:\n",
    "        cv2.imshow(\"Video\",img)\n",
    "        if cv2.waitKey(1)& 0xFF==ord('p'):\n",
    "            cv2.destroyAllWindows()\n",
    "            break\n",
    "        else:\n",
    "            cv2.destroyAllWindows()\n",
    "            break\n",
    "        "
   ]
  },
  {
   "cell_type": "code",
   "execution_count": 4,
   "id": "a66f5613-fbbc-466d-aea4-85dbeeb2bbd8",
   "metadata": {},
   "outputs": [],
   "source": [
    "# reading the video from webcame\n",
    "vid=cv2.VideoCapture(0)\n",
    "while True:\n",
    "    success,img=vid.read()\n",
    "    if success:\n",
    "        cv2.imshow(\"Video\",img)\n",
    "        if cv2.waitKey(1)& 0xFF==ord('p'):\n",
    "            cv2.destroyAllWindows()\n",
    "            break\n",
    "        else:\n",
    "            cv2.destroyAllWindows()\n",
    "            break\n",
    "\n",
    "vid.release()\n",
    "        "
   ]
  },
  {
   "cell_type": "markdown",
   "id": "2d086475-f2ff-4fb3-abdd-b417eae0ca48",
   "metadata": {},
   "source": [
    "# Basic images processing"
   ]
  },
  {
   "cell_type": "code",
   "execution_count": 9,
   "id": "cbe2f9c8-8381-42c0-82a3-e614b68e2d0b",
   "metadata": {},
   "outputs": [],
   "source": [
    "#Converting to gray scale\n",
    "import cv2\n",
    "img=cv2.imread(\"cat.jpeg\")\n",
    "cv2.imshow(\"Original image\",img)\n",
    "gray=cv2.cvtColor(img,cv2.COLOR_BGR2GRAY)\n",
    "cv2.imshow(\"Gary\",gray)\n",
    "cv2.waitKey(0)\n",
    "cv2.destroyAllWindows()"
   ]
  },
  {
   "cell_type": "code",
   "execution_count": 10,
   "id": "7b46a1b0-bebe-4eeb-9e4b-7dd0c40ea006",
   "metadata": {},
   "outputs": [
    {
     "data": {
      "text/plain": [
       "(183, 275, 3)"
      ]
     },
     "execution_count": 10,
     "metadata": {},
     "output_type": "execute_result"
    }
   ],
   "source": [
    "img.shape"
   ]
  },
  {
   "cell_type": "code",
   "execution_count": 11,
   "id": "ad885491-01c0-4d26-82a6-9716b6ab8277",
   "metadata": {},
   "outputs": [
    {
     "data": {
      "text/plain": [
       "(183, 275)"
      ]
     },
     "execution_count": 11,
     "metadata": {},
     "output_type": "execute_result"
    }
   ],
   "source": [
    "gray.shape"
   ]
  },
  {
   "cell_type": "code",
   "execution_count": 12,
   "id": "fcbdd378-b345-45d8-8df8-fd3cc3a89241",
   "metadata": {},
   "outputs": [],
   "source": [
    "#Canny Edge Detection\n",
    "import cv2\n",
    "img=cv2.imread(\"cat.jpeg\")\n",
    "cv2.imshow(\"Original image\",img)\n",
    "gray=cv2.cvtColor(img,cv2.COLOR_BGR2GRAY)\n",
    "cv2.imshow(\"Gary\",gray)\n",
    "edge=cv2.Canny(img,100,100)\n",
    "cv2.imshow(\"Edge\",edge)\n",
    "cv2.waitKey(0)\n",
    "cv2.destroyAllWindows()"
   ]
  },
  {
   "cell_type": "code",
   "execution_count": 2,
   "id": "a287749e-c4db-4e02-bb46-0e947bbc4e01",
   "metadata": {},
   "outputs": [],
   "source": [
    "#Blurring the image\n",
    "import cv2\n",
    "img=cv2.imread(\"cat.jpeg\")\n",
    "cv2.imshow(\"Original image\",img)\n",
    "gray=cv2.cvtColor(img,cv2.COLOR_BGR2GRAY)\n",
    "cv2.imshow(\"Gary\",gray)\n",
    "blur=cv2.GaussianBlur(gray,(3,3),0)\n",
    "cv2.imshow(\"Blur Image\",blur)\n",
    "cv2.waitKey(0)\n",
    "cv2.destroyAllWindows()"
   ]
  },
  {
   "cell_type": "code",
   "execution_count": 24,
   "id": "f7ee7874-eac1-4d76-9f76-de766421b5b5",
   "metadata": {},
   "outputs": [],
   "source": [
    "#Dilate the images\n",
    "import cv2\n",
    "import numpy as np\n",
    "kernel=np.ones((3,3))\n",
    "img=cv2.imread(\"cat.jpeg\")\n",
    "cv2.imshow(\"Original image\",img)\n",
    "gray=cv2.cvtColor(img,cv2.COLOR_BGR2GRAY)\n",
    "cv2.imshow(\"Gary\",gray)\n",
    "dil=cv2.dilate(img,kernel)\n",
    "cv2.imshow(\"dilate images\",dil)\n",
    "cv2.waitKey(0)\n",
    "cv2.destroyAllWindows()"
   ]
  },
  {
   "cell_type": "code",
   "execution_count": 22,
   "id": "8a2c3890-c282-4369-9abb-ca67b78344f4",
   "metadata": {},
   "outputs": [],
   "source": [
    "#Dilate the images with edges\n",
    "import cv2\n",
    "import numpy as np\n",
    "kernel=np.ones((3,3))\n",
    "img=cv2.imread(\"cat.jpeg\")\n",
    "#cv2.imshow(\"Original image\",img)\n",
    "gray=cv2.cvtColor(img,cv2.COLOR_BGR2GRAY)\n",
    "#cv2.imshow(\"Gray\",gray)\n",
    "edge=cv2.Canny(img,100,100)\n",
    "cv2.imshow(\"Edge\",edge)\n",
    "dil=cv2.dilate(img,kernel)\n",
    "cv2.imshow(\"dilate images\",dil)\n",
    "cv2.waitKey(0)\n",
    "cv2.destroyAllWindows()"
   ]
  },
  {
   "cell_type": "code",
   "execution_count": 20,
   "id": "d2f1a46b-2235-4aa3-bd64-cef18fad235b",
   "metadata": {},
   "outputs": [],
   "source": [
    "#Erode\n",
    "import cv2\n",
    "import numpy as np\n",
    "kernel=np.ones((3,3))\n",
    "img=cv2.imread(\"cat.jpeg\")\n",
    "cv2.imshow(\"Original image\",img)\n",
    "gray=cv2.cvtColor(img,cv2.COLOR_BGR2GRAY)\n",
    "cv2.imshow(\"Gray\",gray)\n",
    "edge=cv2.Canny(gray,90,250)\n",
    "cv2.imshow(\"Edge\",edge)\n",
    "erode=cv2.erode(img,kernel)\n",
    "cv2.imshow(\"erode images\",erode)\n",
    "cv2.waitKey(0)\n",
    "cv2.destroyAllWindows()"
   ]
  },
  {
   "cell_type": "code",
   "execution_count": 18,
   "id": "44e37efe-3b1c-4f30-bbd5-4a6a5b0c0a15",
   "metadata": {},
   "outputs": [],
   "source": [
    "#Comparing Dilation with Erode\n",
    "import cv2\n",
    "import numpy as np\n",
    "kernel=np.ones((3,3))\n",
    "img=cv2.imread(\"cat.jpeg\")\n",
    "cv2.imshow(\"Original image\",img)\n",
    "gray=cv2.cvtColor(img,cv2.COLOR_BGR2GRAY)\n",
    "cv2.imshow(\"Gray\",gray)\n",
    "edge=cv2.Canny(gray,90,250)\n",
    "cv2.imshow(\"Edge\",edge)\n",
    "erode=cv2.erode(img,kernel)\n",
    "cv2.imshow(\"erode images\",erode)\n",
    "cv2.waitKey(0)\n",
    "cv2.destroyAllWindows()\n"
   ]
  },
  {
   "cell_type": "code",
   "execution_count": null,
   "id": "119459c8-e8c6-4ee4-a39d-f0ef91e43695",
   "metadata": {},
   "outputs": [],
   "source": []
  },
  {
   "cell_type": "code",
   "execution_count": 16,
   "id": "607e8dcd-a023-4035-ad75-c265d32be1ad",
   "metadata": {},
   "outputs": [],
   "source": [
    "#Resizing and cropping\n",
    "import cv2\n",
    "import numpy as np\n",
    "img=cv2.imread(\"cat.jpeg\")\n",
    "cv2.imshow(\"Original images\",img)\n",
    "resiz=cv2.resize(img,(500,400))\n",
    "cv2.imshow(\"Resize\",resiz)\n",
    "cv2.waitKey(0)\n",
    "cv2.destroyAllWindows()"
   ]
  },
  {
   "cell_type": "code",
   "execution_count": null,
   "id": "30b8acff-0339-438f-818a-b51dfdf1d6cf",
   "metadata": {},
   "outputs": [],
   "source": [
    "#cv2.imwrite('new.jpg',resiz)\n",
    "#to save the image from code to system"
   ]
  },
  {
   "cell_type": "code",
   "execution_count": 12,
   "id": "0dc53fc9-a273-4809-a7b3-e640b385e565",
   "metadata": {},
   "outputs": [],
   "source": [
    "# Cropping theimage\n",
    "import cv2\n",
    "import numpy as np\n",
    "img=cv2.imread(\"cat.jpeg\")\n",
    "cv2.imshow(\"original image\",img)\n",
    "\n",
    "crop=img[0:150,100:300]\n",
    "cv2.imshow('Cropped image',crop)\n",
    "cv2.waitKey(0)\n",
    "cv2.destroyAllWindows()"
   ]
  },
  {
   "cell_type": "code",
   "execution_count": 13,
   "id": "96c3eca1-5fff-46ac-8a87-430a37c1d588",
   "metadata": {},
   "outputs": [
    {
     "data": {
      "text/plain": [
       "(150, 175, 3)"
      ]
     },
     "execution_count": 13,
     "metadata": {},
     "output_type": "execute_result"
    }
   ],
   "source": [
    "crop.shape"
   ]
  },
  {
   "cell_type": "code",
   "execution_count": null,
   "id": "9b340070-750d-4803-a4f9-f2c97adecca9",
   "metadata": {},
   "outputs": [],
   "source": []
  }
 ],
 "metadata": {
  "kernelspec": {
   "display_name": "Python [conda env:base] *",
   "language": "python",
   "name": "conda-base-py"
  },
  "language_info": {
   "codemirror_mode": {
    "name": "ipython",
    "version": 3
   },
   "file_extension": ".py",
   "mimetype": "text/x-python",
   "name": "python",
   "nbconvert_exporter": "python",
   "pygments_lexer": "ipython3",
   "version": "3.12.7"
  }
 },
 "nbformat": 4,
 "nbformat_minor": 5
}
