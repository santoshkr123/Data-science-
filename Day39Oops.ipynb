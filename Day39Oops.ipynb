{
 "cells": [
  {
   "cell_type": "markdown",
   "id": "6b4f7a13-7c91-4cad-ba5d-936e5fb61a50",
   "metadata": {},
   "source": [
    "# Oops concept"
   ]
  },
  {
   "cell_type": "code",
   "execution_count": 5,
   "id": "e1dfb0ff-264d-4b0d-b93d-926e4f6d4951",
   "metadata": {},
   "outputs": [
    {
     "name": "stdout",
     "output_type": "stream",
     "text": [
      "python\n",
      "sikandar\n"
     ]
    }
   ],
   "source": [
    "class test():\n",
    "    def code(self):\n",
    "        print(\"python\")\n",
    "    def movie(self):\n",
    "        print(\"sikandar\")\n",
    "\n",
    "obj=test()\n",
    "obj.code()\n",
    "obj.movie()"
   ]
  },
  {
   "cell_type": "markdown",
   "id": "8c268a93-f5d2-45f5-8564-99f71912af02",
   "metadata": {},
   "source": [
    "# init() :\n",
    "# init() function is called automatically every time class is being used to create a new object"
   ]
  },
  {
   "cell_type": "code",
   "execution_count": 16,
   "id": "c9719df6-762b-4508-b8c7-9286b883133e",
   "metadata": {},
   "outputs": [
    {
     "data": {
      "text/plain": [
       "(78959565, 'rahul@gmail.com', 12345)"
      ]
     },
     "execution_count": 16,
     "metadata": {},
     "output_type": "execute_result"
    }
   ],
   "source": [
    "class student():\n",
    "    def __init__(self,phone_number,email_id,rollno):\n",
    "        self.phone_number=phone_number\n",
    "        self.email_id=email_id\n",
    "        self.rollno=rollno\n",
    "    def return_student_details(self):\n",
    "        return self.phone_number,self.email_id,self.rollno\n",
    "\n",
    "rahul=student(78959565,\"rahul@gmail.com\",12345)\n",
    "rahul.return_student_details()\n"
   ]
  },
  {
   "cell_type": "code",
   "execution_count": 18,
   "id": "deed3412-b13a-41e3-a8fc-3399d2c1028c",
   "metadata": {},
   "outputs": [
    {
     "data": {
      "text/plain": [
       "(7878899, 'rahul@gmail.com', 12345)"
      ]
     },
     "execution_count": 18,
     "metadata": {},
     "output_type": "execute_result"
    }
   ],
   "source": [
    "class student():\n",
    "    def __init__(self,phone_number,email_id,student_id):\n",
    "        self.phone_number=phone_number\n",
    "        self.email_id=email_id\n",
    "        self.student_id=student_id\n",
    "    def return_student_details(self):\n",
    "        return self.phone_number,self.email_id,self.student_id\n",
    "\n",
    "rahul=student(7878899,\"rahul@gmail.com\",12345)\n",
    "rahul.return_student_details()"
   ]
  },
  {
   "cell_type": "code",
   "execution_count": null,
   "id": "dd383947-f40d-4648-833d-a9cbe03e0d97",
   "metadata": {},
   "outputs": [],
   "source": []
  }
 ],
 "metadata": {
  "kernelspec": {
   "display_name": "Python [conda env:base] *",
   "language": "python",
   "name": "conda-base-py"
  },
  "language_info": {
   "codemirror_mode": {
    "name": "ipython",
    "version": 3
   },
   "file_extension": ".py",
   "mimetype": "text/x-python",
   "name": "python",
   "nbconvert_exporter": "python",
   "pygments_lexer": "ipython3",
   "version": "3.12.7"
  }
 },
 "nbformat": 4,
 "nbformat_minor": 5
}
