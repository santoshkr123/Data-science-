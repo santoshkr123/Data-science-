{
 "cells": [
  {
   "cell_type": "markdown",
   "id": "eb01e434-8544-4b4c-b3c3-eca9a0728ee7",
   "metadata": {},
   "source": [
    "# unit-8_Assignment"
   ]
  },
  {
   "cell_type": "code",
   "execution_count": null,
   "id": "ac361f77-4342-4a16-9fd7-d6c98eb2c615",
   "metadata": {},
   "outputs": [],
   "source": [
    "1) Python program to interchange first and last elements in a list\n",
    "Input [12, 35, 9, 56, 24]\n",
    "Output [24, 35, 9, 56, 12]"
   ]
  },
  {
   "cell_type": "code",
   "execution_count": 15,
   "id": "b25891d9-6212-4602-a36e-945804bd7ceb",
   "metadata": {},
   "outputs": [
    {
     "name": "stdout",
     "output_type": "stream",
     "text": [
      "[24, 35, 9, 56, 12]\n"
     ]
    }
   ],
   "source": [
    "n= [12,35,9,56,24]\n",
    "\n",
    "temp=n[0]\n",
    "n[0]=n[-1]\n",
    "n[-1]=temp\n",
    "print(n)\n"
   ]
  },
  {
   "cell_type": "code",
   "execution_count": null,
   "id": "d4a9d6c0-1b55-45ff-95a7-6bd1f7e93487",
   "metadata": {},
   "outputs": [],
   "source": [
    "2) Find sum and average of List in Python\n",
    "Input: [4, 5, 1, 2, 9, 7, 10, 8]\n",
    "Output:\n",
    "sum = 46\n",
    "average = 5.75"
   ]
  },
  {
   "cell_type": "code",
   "execution_count": 23,
   "id": "633acc83-1e87-4312-b2dc-d060486eb258",
   "metadata": {},
   "outputs": [
    {
     "name": "stdout",
     "output_type": "stream",
     "text": [
      "46\n",
      "5.75\n"
     ]
    }
   ],
   "source": [
    "n=[4, 5, 1, 2, 9, 7, 10, 8]\n",
    "sum=0\n",
    "for i in n:\n",
    "    sum=sum+i\n",
    "\n",
    "avg=sum/len(n)\n",
    "\n",
    "\n",
    "print(sum)\n",
    "print(avg)\n",
    "    \n"
   ]
  },
  {
   "cell_type": "code",
   "execution_count": null,
   "id": "339279d1-6aff-46bf-9b27-2b902a0bad00",
   "metadata": {},
   "outputs": [],
   "source": [
    "3) Python program to find second largest number in a list\n",
    "Input: list2 = [70, 11, 20, 4, 100]\n",
    "Output: 70"
   ]
  },
  {
   "cell_type": "code",
   "execution_count": 31,
   "id": "72584d97-50bd-48d6-865c-3bb32f911fd3",
   "metadata": {},
   "outputs": [
    {
     "name": "stdout",
     "output_type": "stream",
     "text": [
      "[100, 70, 20, 11, 4]\n",
      "70\n"
     ]
    }
   ],
   "source": [
    "n=[70, 11, 20, 4, 100]\n",
    "n.sort(reverse=True)\n",
    "print(n)\n",
    "second_largest=n[1]\n",
    "print(second_largest)\n",
    "\n",
    "    "
   ]
  },
  {
   "cell_type": "code",
   "execution_count": null,
   "id": "95dfcc0b-977e-47cb-9f9b-b5e08cf74f2b",
   "metadata": {},
   "outputs": [],
   "source": [
    "4) Python program to count positive and negative numbers in a list\n",
    "Input\n",
    "[10, -21, 4, -45, 66, -93, 1]\n",
    "Output\n",
    "Positive numbers in the list: 4\n",
    "Negative numbers in the list: 3"
   ]
  },
  {
   "cell_type": "code",
   "execution_count": 35,
   "id": "6b19ee4c-73f2-42c8-bb97-fccc5cec711f",
   "metadata": {},
   "outputs": [
    {
     "name": "stdout",
     "output_type": "stream",
     "text": [
      "Positive numbers in the list: 4\n",
      "Negative numbers in the list: 3\n"
     ]
    }
   ],
   "source": [
    "n=[10, -21, 4, -45, 66, -93, 1]\n",
    "pos_count=0\n",
    "neg_count=0\n",
    "for i in n:\n",
    "    if i>=0:\n",
    "        pos_count+=1\n",
    "    else:\n",
    "        neg_count+=1\n",
    "\n",
    "print(\"Positive numbers in the list:\",pos_count)\n",
    "print(\"Negative numbers in the list:\",neg_count)        \n"
   ]
  },
  {
   "cell_type": "code",
   "execution_count": null,
   "id": "ae756291-095e-4c74-affb-f11627680526",
   "metadata": {},
   "outputs": [],
   "source": [
    "5) Program to print duplicates from a list of integers\n",
    "Input [1, 2, 1, 2, 3, 4, 5, 1, 1, 2, 5, 6, 7, 8, 9, 9]\n",
    "Output\n",
    "[1, 2, 5, 9]"
   ]
  },
  {
   "cell_type": "code",
   "execution_count": 37,
   "id": "54522331-4a89-42c3-9d11-c9958ac1aa37",
   "metadata": {},
   "outputs": [
    {
     "name": "stdout",
     "output_type": "stream",
     "text": [
      "[1, 2, 5, 9]\n"
     ]
    }
   ],
   "source": [
    "n= [1, 2, 1, 2, 3, 4, 5, 1, 1, 2, 5, 6, 7, 8, 9, 9]\n",
    "uniq_list=[]\n",
    "dup_list=[]\n",
    "for i in n:\n",
    "    if i not in uniq_list:\n",
    "        uniq_list.append(i)\n",
    "    elif i not in dup_list:\n",
    "        dup_list.append(i)\n",
    "\n",
    "print(dup_list)\n",
    "    \n"
   ]
  },
  {
   "cell_type": "code",
   "execution_count": null,
   "id": "8b73f34f-be07-4db6-86be-a272c6d7930a",
   "metadata": {},
   "outputs": [],
   "source": [
    "6) Write a Python program to find all the values in a list that are greater than a \n",
    "specified number 200.\n",
    "Input\n",
    "[220, 330, 500]\n",
    "Output\n",
    "True"
   ]
  },
  {
   "cell_type": "code",
   "execution_count": 43,
   "id": "3ccc173b-0a39-40b1-8e60-6194abdd4287",
   "metadata": {},
   "outputs": [
    {
     "name": "stdin",
     "output_type": "stream",
     "text": [
      "Enter the numbers 220\n"
     ]
    },
    {
     "name": "stdout",
     "output_type": "stream",
     "text": [
      "True\n"
     ]
    }
   ],
   "source": [
    "n=[220, 330, 500]\n",
    "b=int(input(\"Enter the numbers\"))\n",
    "res=max(n)>b\n",
    "print(res)"
   ]
  },
  {
   "cell_type": "code",
   "execution_count": null,
   "id": "4b1ba581-113e-4328-93fd-92ae605b4c50",
   "metadata": {},
   "outputs": [],
   "source": [
    "7) Remove empty List from List\n",
    "Input [5, 6, [], 3, [], [], 9]\n",
    "Output [5, 6, 3, 9]"
   ]
  },
  {
   "cell_type": "code",
   "execution_count": 47,
   "id": "eb82097a-5c66-4c23-b018-e2350032dc6c",
   "metadata": {},
   "outputs": [
    {
     "name": "stdout",
     "output_type": "stream",
     "text": [
      "[5, 6, 3, 9]\n"
     ]
    }
   ],
   "source": [
    "n=[5, 6, [], 3, [], [], 9]\n",
    "\n",
    "while [] in n:\n",
    "    n.remove([])\n",
    "\n",
    "print(n)\n"
   ]
  },
  {
   "cell_type": "code",
   "execution_count": null,
   "id": "a1928087-cc9b-4232-be71-3aadc80ac80f",
   "metadata": {},
   "outputs": [],
   "source": [
    "8) How to count unique values inside a list\n",
    "Input [1, 2, 2, 5, 8, 4, 4, 8]\n",
    "Output \n",
    "No of unique items are: 5"
   ]
  },
  {
   "cell_type": "code",
   "execution_count": 49,
   "id": "f9e07f8d-1714-4181-98af-75cb3dcc78cb",
   "metadata": {},
   "outputs": [
    {
     "name": "stdout",
     "output_type": "stream",
     "text": [
      "No of unique items are: 5\n"
     ]
    }
   ],
   "source": [
    "n=[1, 2, 2, 5, 8, 4, 4, 8]\n",
    "l1=[]\n",
    "count=0\n",
    "for i in n:\n",
    "    if i not in l1:\n",
    "        count+=1\n",
    "        l1.append(i)\n",
    "\n",
    "print(\"No of unique items are:\",count)\n",
    "    \n"
   ]
  },
  {
   "cell_type": "code",
   "execution_count": null,
   "id": "9d561fb1-142e-4d63-8ac8-a36c1293fb17",
   "metadata": {},
   "outputs": [],
   "source": [
    "9) Append a list to the second list\n",
    "Input \n",
    "list1 = [1, 2, 3, 0]\n",
    "list2 = ['Red', 'Green', 'Black']\n",
    "Output\n",
    "[1, 2, 3, 0, 'Red', 'Green', 'Black']"
   ]
  },
  {
   "cell_type": "code",
   "execution_count": 55,
   "id": "05ceb809-307f-4126-9edd-1192cd496436",
   "metadata": {},
   "outputs": [
    {
     "name": "stdout",
     "output_type": "stream",
     "text": [
      "[1, 2, 3, 0, 'Red', 'Green', 'Black']\n"
     ]
    }
   ],
   "source": [
    "list1=[1, 2, 3, 0]\n",
    "list2 = ['Red', 'Green', 'Black']\n",
    "\n",
    "list3=list1+list2\n",
    "print(list3)\n",
    "\n",
    "\n"
   ]
  },
  {
   "cell_type": "code",
   "execution_count": null,
   "id": "69286913-115c-47fa-84eb-67b20d7bef7e",
   "metadata": {},
   "outputs": [],
   "source": [
    "10) Write a Python program to replace the last element in a list with another list.\n",
    "Sample data : [1, 3, 5, 7, 9, 10], [2, 4, 6, 8]\n",
    "Expected Output: [1, 3, 5, 7, 9, 2, 4, 6, 8]\n"
   ]
  },
  {
   "cell_type": "code",
   "execution_count": 57,
   "id": "8b4e1cf8-f7a6-49dd-a02d-933451b54c3c",
   "metadata": {},
   "outputs": [
    {
     "name": "stdout",
     "output_type": "stream",
     "text": [
      "[1, 3, 5, 7, 9, 2, 4, 6, 8]\n"
     ]
    }
   ],
   "source": [
    "L1=[1, 3, 5, 7, 9, 10]\n",
    "L2=[2, 4, 6, 8]\n",
    "L1[-1:]=L2\n",
    "print(L1)\n"
   ]
  },
  {
   "cell_type": "code",
   "execution_count": null,
   "id": "8a2f5424-8bd3-432f-a577-738c2280a68d",
   "metadata": {},
   "outputs": [],
   "source": []
  },
  {
   "cell_type": "code",
   "execution_count": null,
   "id": "47974bc5-77d3-446d-ba9b-545aaa1eacd0",
   "metadata": {},
   "outputs": [],
   "source": []
  },
  {
   "cell_type": "code",
   "execution_count": null,
   "id": "ff16a9d9-2011-41cb-a516-274e4f8d1881",
   "metadata": {},
   "outputs": [],
   "source": []
  },
  {
   "cell_type": "code",
   "execution_count": null,
   "id": "8855bd9d-c850-452c-af0c-99894b9d3a3a",
   "metadata": {},
   "outputs": [],
   "source": []
  },
  {
   "cell_type": "code",
   "execution_count": null,
   "id": "6e885bdf-3e16-45ba-a31f-e411dba953bf",
   "metadata": {},
   "outputs": [],
   "source": []
  },
  {
   "cell_type": "code",
   "execution_count": null,
   "id": "8712c7f6-9f36-4e23-b4c0-dc3010e6b98d",
   "metadata": {},
   "outputs": [],
   "source": []
  },
  {
   "cell_type": "code",
   "execution_count": null,
   "id": "6dbe1915-27d2-48ab-adaa-aab41b1e1bee",
   "metadata": {},
   "outputs": [],
   "source": []
  }
 ],
 "metadata": {
  "kernelspec": {
   "display_name": "Python [conda env:base] *",
   "language": "python",
   "name": "conda-base-py"
  },
  "language_info": {
   "codemirror_mode": {
    "name": "ipython",
    "version": 3
   },
   "file_extension": ".py",
   "mimetype": "text/x-python",
   "name": "python",
   "nbconvert_exporter": "python",
   "pygments_lexer": "ipython3",
   "version": "3.12.7"
  }
 },
 "nbformat": 4,
 "nbformat_minor": 5
}
