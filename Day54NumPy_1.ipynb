{
 "cells": [
  {
   "cell_type": "markdown",
   "id": "2317d391-56f9-49c8-aa8c-45cb8b7b3fee",
   "metadata": {},
   "source": [
    "# NumPy"
   ]
  },
  {
   "cell_type": "code",
   "execution_count": 4,
   "id": "e20e75e2-b57f-45dd-a8e9-9c62e101ab30",
   "metadata": {},
   "outputs": [
    {
     "name": "stdout",
     "output_type": "stream",
     "text": [
      "[1 2 3 4 5 6]\n",
      "<class 'numpy.ndarray'>\n"
     ]
    }
   ],
   "source": [
    "import numpy\n",
    "import numpy as np\n",
    "\n",
    "x=np.array([1,2,3,4,5,6])\n",
    "print(x)\n",
    "print(type(x))"
   ]
  },
  {
   "cell_type": "code",
   "execution_count": 8,
   "id": "8e9b24f1-c32c-4a9f-a1a1-d084d966e027",
   "metadata": {},
   "outputs": [
    {
     "name": "stdout",
     "output_type": "stream",
     "text": [
      "[1, 2, 3, 4, 5]\n",
      "<class 'list'>\n"
     ]
    }
   ],
   "source": [
    "l=[1,2,3,4,5]\n",
    "print(l)\n",
    "print(type(l))"
   ]
  },
  {
   "cell_type": "markdown",
   "id": "7bf25404-6fca-46e6-bb77-59a8eecfae13",
   "metadata": {},
   "source": [
    "# array is faster than list"
   ]
  },
  {
   "cell_type": "code",
   "execution_count": 13,
   "id": "7544df71-d7ab-42d7-9589-a42aaa50ca48",
   "metadata": {},
   "outputs": [
    {
     "name": "stdout",
     "output_type": "stream",
     "text": [
      "2.43 μs ± 208 ns per loop (mean ± std. dev. of 7 runs, 100,000 loops each)\n"
     ]
    }
   ],
   "source": [
    "%timeit [i**5 for i in range(1,10)]"
   ]
  },
  {
   "cell_type": "code",
   "execution_count": 15,
   "id": "c4126e9a-f5b9-4fda-9255-80175c8dd977",
   "metadata": {},
   "outputs": [
    {
     "name": "stdout",
     "output_type": "stream",
     "text": [
      "1.78 μs ± 315 ns per loop (mean ± std. dev. of 7 runs, 100,000 loops each)\n"
     ]
    }
   ],
   "source": [
    "import numpy as np\n",
    "%timeit np.arange(1,10)"
   ]
  },
  {
   "cell_type": "markdown",
   "id": "82fdd363-a197-444d-b693-50098500ac62",
   "metadata": {},
   "source": [
    "# creating numpy arrays"
   ]
  },
  {
   "cell_type": "code",
   "execution_count": 22,
   "id": "639caa67-8620-4a32-8989-a61ff342552c",
   "metadata": {},
   "outputs": [
    {
     "name": "stdout",
     "output_type": "stream",
     "text": [
      "[1 2 3 4 5]\n",
      "<class 'numpy.ndarray'>\n",
      "1\n"
     ]
    }
   ],
   "source": [
    "import numpy as np\n",
    "x=np.array([1,2,3,4,5])\n",
    "print(x)\n",
    "print(type(x))\n",
    "print(x.ndim)"
   ]
  },
  {
   "cell_type": "code",
   "execution_count": 28,
   "id": "d11ed8e1-afe0-4c6b-8106-99ea5146f834",
   "metadata": {},
   "outputs": [
    {
     "name": "stdout",
     "output_type": "stream",
     "text": [
      "[[1 2 3 4 5]]\n",
      "<class 'numpy.ndarray'>\n",
      "2\n"
     ]
    }
   ],
   "source": [
    "import numpy as np\n",
    "x=np.array([[1,2,3,4,5]])\n",
    "print(x)\n",
    "print(type(x))\n",
    "print(x.ndim)"
   ]
  },
  {
   "cell_type": "code",
   "execution_count": 34,
   "id": "7f8e834d-5c2a-4843-9a81-a853323026c9",
   "metadata": {},
   "outputs": [
    {
     "name": "stdout",
     "output_type": "stream",
     "text": [
      "[[[12 23 55 96]]]\n",
      "<class 'numpy.ndarray'>\n",
      "3\n"
     ]
    }
   ],
   "source": [
    "import numpy as np\n",
    "x=np.array([[[12,23,55,96]]])\n",
    "print(x)\n",
    "print(type(x))\n",
    "print(x.ndim)"
   ]
  },
  {
   "cell_type": "code",
   "execution_count": 36,
   "id": "fb2db0c2-4941-4844-a775-3ce0a73f24c4",
   "metadata": {},
   "outputs": [
    {
     "name": "stdin",
     "output_type": "stream",
     "text": [
      "enter a number 1\n",
      "enter a number 2\n",
      "enter a number 3\n",
      "enter a number 4\n"
     ]
    },
    {
     "name": "stdout",
     "output_type": "stream",
     "text": [
      "['1' '2' '3' '4']\n"
     ]
    }
   ],
   "source": [
    "import numpy as np\n",
    "m=[]\n",
    "for i in range(1,5):\n",
    "    num=input(\"enter a number\")\n",
    "    m.append(num)\n",
    "\n",
    "print(np.array(m))"
   ]
  },
  {
   "cell_type": "code",
   "execution_count": 38,
   "id": "4105677f-dd38-4732-a2ce-c0c430b9941b",
   "metadata": {},
   "outputs": [
    {
     "name": "stdin",
     "output_type": "stream",
     "text": [
      "enter a number 1\n",
      "enter a number 2\n",
      "enter a number 3\n",
      "enter a number 4\n"
     ]
    },
    {
     "name": "stdout",
     "output_type": "stream",
     "text": [
      "['1' '2' '3' '4']\n",
      "<class 'numpy.ndarray'>\n"
     ]
    }
   ],
   "source": [
    "import numpy as np\n",
    "m=[]\n",
    "for i in range(1,5):\n",
    "    num=input(\"enter a number\")\n",
    "    m.append(num)\n",
    "\n",
    "y=np.array(m)\n",
    "print(y)\n",
    "print(type(y))"
   ]
  },
  {
   "cell_type": "markdown",
   "id": "8421fc2c-0b85-4444-8ea7-1b211aebffc3",
   "metadata": {},
   "source": [
    "# creating 2d array"
   ]
  },
  {
   "cell_type": "code",
   "execution_count": 45,
   "id": "148bf2ac-f3e5-4fe4-9b81-e8e07780be39",
   "metadata": {},
   "outputs": [
    {
     "name": "stdout",
     "output_type": "stream",
     "text": [
      "[[ 1  2  3  4]\n",
      " [ 4  5  6  7]\n",
      " [10 12 13 14]]\n",
      "2\n"
     ]
    }
   ],
   "source": [
    "import numpy as np\n",
    "arr2=np.array([[1,2,3,4],[4,5,6,7],[10,12,13,14]])\n",
    "print(arr2)\n",
    "print(arr2.ndim)"
   ]
  },
  {
   "cell_type": "code",
   "execution_count": 49,
   "id": "6d9b84d0-f770-45e5-b2c8-a8b933bf133e",
   "metadata": {},
   "outputs": [
    {
     "name": "stdout",
     "output_type": "stream",
     "text": [
      "[[  1   2   3   4   5   6   7]\n",
      " [ 10  20  30  40  50  60  70]\n",
      " [100 200 300 400 500 600 700]]\n",
      "2\n"
     ]
    }
   ],
   "source": [
    "import numpy as np\n",
    "arr2=np.array([[1,2,3,4,5,6,7],[10,20,30,40,50,60,70],[100,200,300,400,500,600,700]])\n",
    "print(arr2)\n",
    "print(arr2.ndim)"
   ]
  },
  {
   "cell_type": "markdown",
   "id": "a6abde26-2dd3-47f7-b230-bcc4eba2e318",
   "metadata": {},
   "source": [
    "# creating 3d array"
   ]
  },
  {
   "cell_type": "code",
   "execution_count": 52,
   "id": "5fc6e11f-8d80-446f-aadc-d5a5ec661b5e",
   "metadata": {},
   "outputs": [
    {
     "name": "stdout",
     "output_type": "stream",
     "text": [
      "[[[1 2 3]\n",
      "  [4 5 6]\n",
      "  [7 8 9]]]\n",
      "3\n"
     ]
    }
   ],
   "source": [
    "import numpy as np\n",
    "arr3=np.array([[[1,2,3],[4,5,6],[7,8,9]]])\n",
    "print(arr3)\n",
    "print(arr3.ndim)"
   ]
  },
  {
   "cell_type": "markdown",
   "id": "8c245045-b5ed-417b-94be-7ee10d4887ee",
   "metadata": {},
   "source": [
    "# creating multidimensional array"
   ]
  },
  {
   "cell_type": "code",
   "execution_count": 57,
   "id": "e6c8cbb3-1a22-4ecb-975e-d92dc3e5441a",
   "metadata": {},
   "outputs": [
    {
     "name": "stdout",
     "output_type": "stream",
     "text": [
      "[[[[[[[[[[[[[[[1 2 3 4]]]]]]]]]]]]]]]\n",
      "15\n"
     ]
    }
   ],
   "source": [
    "arrn=np.array([1,2,3,4],ndmin=15)\n",
    "print(arrn)\n",
    "print(arrn.ndim)"
   ]
  },
  {
   "cell_type": "code",
   "execution_count": 63,
   "id": "2f725a53-f2d2-465b-893d-2f50f8c65ba0",
   "metadata": {},
   "outputs": [
    {
     "name": "stdout",
     "output_type": "stream",
     "text": [
      "[[[[[[[[[[[[[[[[[[[[[[[[[1 2 3 4]\n",
      "                        [5 6 7 8]]]]]]]]]]]]]]]]]]]]]]]]]\n",
      "25\n"
     ]
    }
   ],
   "source": [
    "arr3=np.array(([1,2,3,4],[5,6,7,8]),ndmin=25)\n",
    "print(arr3)\n",
    "print(arr3.ndim)"
   ]
  },
  {
   "cell_type": "code",
   "execution_count": null,
   "id": "a1b7f271-7b33-46b9-ad84-0d39a49e21b2",
   "metadata": {},
   "outputs": [],
   "source": []
  }
 ],
 "metadata": {
  "kernelspec": {
   "display_name": "Python [conda env:base] *",
   "language": "python",
   "name": "conda-base-py"
  },
  "language_info": {
   "codemirror_mode": {
    "name": "ipython",
    "version": 3
   },
   "file_extension": ".py",
   "mimetype": "text/x-python",
   "name": "python",
   "nbconvert_exporter": "python",
   "pygments_lexer": "ipython3",
   "version": "3.12.7"
  }
 },
 "nbformat": 4,
 "nbformat_minor": 5
}
