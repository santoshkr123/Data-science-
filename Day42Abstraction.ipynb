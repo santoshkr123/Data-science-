{
 "cells": [
  {
   "cell_type": "markdown",
   "id": "2e56fa9f-f6a3-401c-a979-c9ae36d9f879",
   "metadata": {},
   "source": [
    "# abstraction"
   ]
  },
  {
   "cell_type": "code",
   "execution_count": 9,
   "id": "a19b0470-0ab8-4ac8-bca0-d1c811a0f8a0",
   "metadata": {},
   "outputs": [
    {
     "name": "stdout",
     "output_type": "stream",
     "text": [
      "Students details availble here\n",
      "24\n",
      "students details are enrolled\n",
      "your exam is next week\n"
     ]
    }
   ],
   "source": [
    "import abc\n",
    "class ihh():\n",
    "    @abc.abstractmethod\n",
    "    def student_details(self):\n",
    "        pass\n",
    "    @abc.abstractmethod    \n",
    "    def homework_details(self):\n",
    "        pass\n",
    "    @abc.abstractmethod    \n",
    "    def exam_details(self):\n",
    "        pass\n",
    "\n",
    "class demo(ihh):\n",
    "    def student_details(self):\n",
    "        print(\"Students details availble here\")\n",
    "    def homework_details(self):\n",
    "        print(12+12)\n",
    "\n",
    "class test(ihh):\n",
    "    def student_details(self):\n",
    "        print(\"students details are enrolled\")\n",
    "    def exam_details(self):\n",
    "        print(\"your exam is next week\")\n",
    "\n",
    "demo_obj=demo()\n",
    "demo_obj.student_details()\n",
    "demo_obj.homework_details()\n",
    "\n",
    "demo_test=test()\n",
    "demo_test.student_details()\n",
    "demo_test.exam_details()\n",
    "\n",
    "         \n",
    "    "
   ]
  },
  {
   "cell_type": "markdown",
   "id": "5303bd1c-1224-4a55-8173-7d42f7051677",
   "metadata": {},
   "source": [
    "# decorators"
   ]
  },
  {
   "cell_type": "code",
   "execution_count": 14,
   "id": "3886d4f7-c73c-483a-bc53-df45c1ffece9",
   "metadata": {},
   "outputs": [
    {
     "name": "stdout",
     "output_type": "stream",
     "text": [
      "this is a check function\n"
     ]
    }
   ],
   "source": [
    "def check():\n",
    "    print(\"this is a check function\")\n",
    "\n",
    "check()"
   ]
  },
  {
   "cell_type": "code",
   "execution_count": 16,
   "id": "dc92eaf9-7ec5-4c0d-b876-21dd6a06b847",
   "metadata": {},
   "outputs": [
    {
     "name": "stdout",
     "output_type": "stream",
     "text": [
      "this is the starting function\n",
      "this is a check function\n",
      "this is the ending function\n"
     ]
    }
   ],
   "source": [
    "def check():\n",
    "    print(\"this is the starting function\")\n",
    "    print(\"this is a check function\")\n",
    "    print(\"this is the ending function\")\n",
    "\n",
    "check()"
   ]
  },
  {
   "cell_type": "code",
   "execution_count": 41,
   "id": "3764003d-8297-4eaf-ae60-5b1110c966cb",
   "metadata": {},
   "outputs": [],
   "source": [
    "def decor(func):\n",
    "    def inner_decor():\n",
    "        print(\"This is the starting function\")\n",
    "        func()\n",
    "        print(\"this is the ending function\")\n",
    "    return inner_decor\n",
    "\n",
    "@decor\n",
    "def check1():\n",
    "    print(5+6)   \n",
    "\n",
    "\n",
    "@decor\n",
    "def learn():\n",
    "    print(12*9)\n",
    "    \n",
    "        \n",
    "        "
   ]
  },
  {
   "cell_type": "code",
   "execution_count": 47,
   "id": "8660b174-9699-49c5-b36b-d6a910374d94",
   "metadata": {},
   "outputs": [
    {
     "name": "stdout",
     "output_type": "stream",
     "text": [
      "19692108423681\n",
      "0.0\n",
      "0.0009987354278564453\n"
     ]
    }
   ],
   "source": [
    "import time\n",
    "\n",
    "def timer_test(func):\n",
    "    def timer_test_inner():\n",
    "        start = time.time()\n",
    "        func()  \n",
    "        end = time.time()\n",
    "        print(end - start)\n",
    "    return timer_test_inner\n",
    "\n",
    "@timer_test\n",
    "def hello():\n",
    "    print(45 + 789 * 157982 ** 2)\n",
    "\n",
    "hello()\n",
    "\n",
    "@timer_test\n",
    "def demo():\n",
    "    for i in range(10000):\n",
    "        pass\n",
    "\n",
    "demo()\n"
   ]
  },
  {
   "cell_type": "code",
   "execution_count": 51,
   "id": "581eaa65-898f-4b97-b551-8dbc8f477da8",
   "metadata": {},
   "outputs": [
    {
     "name": "stdout",
     "output_type": "stream",
     "text": [
      "before the function runs\n",
      "decorators\n",
      "after the function runs\n"
     ]
    }
   ],
   "source": [
    "def my_decorator(func):\n",
    "    def wrapper():\n",
    "        print(\"before the function runs\")\n",
    "        func()\n",
    "        print(\"after the function runs\")\n",
    "    return wrapper    \n",
    "\n",
    "@my_decorator\n",
    "def say_hello():\n",
    "    print(\"decorators\")\n",
    "\n",
    "say_hello()"
   ]
  },
  {
   "cell_type": "code",
   "execution_count": null,
   "id": "3a06bfe3-1ef7-4dfa-a3c0-edad326d3099",
   "metadata": {},
   "outputs": [],
   "source": []
  }
 ],
 "metadata": {
  "kernelspec": {
   "display_name": "Python [conda env:base] *",
   "language": "python",
   "name": "conda-base-py"
  },
  "language_info": {
   "codemirror_mode": {
    "name": "ipython",
    "version": 3
   },
   "file_extension": ".py",
   "mimetype": "text/x-python",
   "name": "python",
   "nbconvert_exporter": "python",
   "pygments_lexer": "ipython3",
   "version": "3.12.7"
  }
 },
 "nbformat": 4,
 "nbformat_minor": 5
}
