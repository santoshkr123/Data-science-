{
 "cells": [
  {
   "cell_type": "markdown",
   "id": "60dc3f10-0591-45fa-b8fb-2ae159f9d2d3",
   "metadata": {},
   "source": [
    "# OOps(Object-Oriented Programming)"
   ]
  },
  {
   "cell_type": "code",
   "execution_count": 3,
   "id": "f05e498a-e50b-4b94-8de3-ad511fdc60c2",
   "metadata": {},
   "outputs": [
    {
     "name": "stdout",
     "output_type": "stream",
     "text": [
      "3\n",
      "<class 'int'>\n"
     ]
    }
   ],
   "source": [
    "a=3\n",
    "print(a)\n",
    "print(type(a))"
   ]
  },
  {
   "cell_type": "code",
   "execution_count": 5,
   "id": "10e5826b-888b-4d01-a121-0687d70760b2",
   "metadata": {},
   "outputs": [
    {
     "name": "stdout",
     "output_type": "stream",
     "text": [
      "lion\n",
      "<class 'str'>\n"
     ]
    }
   ],
   "source": [
    "a=\"lion\"\n",
    "print(a)\n",
    "print(type(a))"
   ]
  },
  {
   "cell_type": "code",
   "execution_count": 7,
   "id": "fe561bc1-b2ec-4538-a5fe-763969811e14",
   "metadata": {},
   "outputs": [
    {
     "name": "stdout",
     "output_type": "stream",
     "text": [
      "<class '__main__.test'>\n"
     ]
    }
   ],
   "source": [
    "class test():\n",
    "    pass\n",
    "\n",
    "obj=test()\n",
    "print(type(obj))\n",
    "    "
   ]
  },
  {
   "cell_type": "code",
   "execution_count": 9,
   "id": "5c89495e-9075-4d5e-bd00-855ace45f5a4",
   "metadata": {},
   "outputs": [
    {
     "ename": "TypeError",
     "evalue": "test.welcome() takes 0 positional arguments but 1 was given",
     "output_type": "error",
     "traceback": [
      "\u001b[1;31m---------------------------------------------------------------------------\u001b[0m",
      "\u001b[1;31mTypeError\u001b[0m                                 Traceback (most recent call last)",
      "Cell \u001b[1;32mIn[9], line 6\u001b[0m\n\u001b[0;32m      3\u001b[0m         \u001b[38;5;28mprint\u001b[39m(\u001b[38;5;124m\"\u001b[39m\u001b[38;5;124mPython\u001b[39m\u001b[38;5;124m\"\u001b[39m)\n\u001b[0;32m      5\u001b[0m obj\u001b[38;5;241m=\u001b[39mtest()\n\u001b[1;32m----> 6\u001b[0m obj\u001b[38;5;241m.\u001b[39mwelcome()\n",
      "\u001b[1;31mTypeError\u001b[0m: test.welcome() takes 0 positional arguments but 1 was given"
     ]
    }
   ],
   "source": [
    "class test():\n",
    "    def welcome():\n",
    "        print(\"Python\")\n",
    "\n",
    "obj=test()\n",
    "obj.welcome()"
   ]
  },
  {
   "cell_type": "code",
   "execution_count": 15,
   "id": "4d40f6f7-6488-4537-8617-0e1096e0d561",
   "metadata": {},
   "outputs": [
    {
     "name": "stdout",
     "output_type": "stream",
     "text": [
      "python\n",
      "python\n"
     ]
    }
   ],
   "source": [
    "class test():\n",
    "    def welcome(self):\n",
    "        print(\"python\")\n",
    "\n",
    "obj=test()\n",
    "obj.welcome()\n",
    "\n",
    "obj1=test()\n",
    "obj1.welcome()"
   ]
  },
  {
   "cell_type": "code",
   "execution_count": null,
   "id": "07042ba5-b38a-48cd-bb2b-0d53757d7fd0",
   "metadata": {},
   "outputs": [],
   "source": []
  },
  {
   "cell_type": "code",
   "execution_count": null,
   "id": "e19ab561-8302-40c1-ac8e-fd7ecd5ecdbf",
   "metadata": {},
   "outputs": [],
   "source": []
  },
  {
   "cell_type": "code",
   "execution_count": null,
   "id": "f980068d-0dcd-4b79-a446-4138ccd0adc8",
   "metadata": {},
   "outputs": [],
   "source": []
  }
 ],
 "metadata": {
  "kernelspec": {
   "display_name": "Python [conda env:base] *",
   "language": "python",
   "name": "conda-base-py"
  },
  "language_info": {
   "codemirror_mode": {
    "name": "ipython",
    "version": 3
   },
   "file_extension": ".py",
   "mimetype": "text/x-python",
   "name": "python",
   "nbconvert_exporter": "python",
   "pygments_lexer": "ipython3",
   "version": "3.12.7"
  }
 },
 "nbformat": 4,
 "nbformat_minor": 5
}
