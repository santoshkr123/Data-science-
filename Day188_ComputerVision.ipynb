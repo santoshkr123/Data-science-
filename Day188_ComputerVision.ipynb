{
 "cells": [
  {
   "cell_type": "markdown",
   "id": "f4daecd7-ff1b-4ac7-9409-604d75a89df7",
   "metadata": {},
   "source": [
    "# Coloring Images"
   ]
  },
  {
   "cell_type": "code",
   "execution_count": 42,
   "id": "42762b23-9174-49ca-ad0d-27f16f9113d9",
   "metadata": {},
   "outputs": [],
   "source": [
    "import cv2\n",
    "import numpy as np\n",
    "img=np.zeros((512,512,3),np.uint8)\n",
    "cv2.imshow(\"Image\",img)\n",
    "cv2.waitKey(0)\n",
    "cv2.destroyAllWindows()\n"
   ]
  },
  {
   "cell_type": "code",
   "execution_count": 43,
   "id": "80a4fb95-eed5-44e4-b7a4-4c675c9a85f8",
   "metadata": {},
   "outputs": [],
   "source": [
    "img[:]=255,255,255\n",
    "cv2.imshow(\"Image\",img)\n",
    "cv2.waitKey(0)\n",
    "cv2.destroyAllWindows()"
   ]
  },
  {
   "cell_type": "markdown",
   "id": "9f859747-b6e4-45b2-a9e1-c9eb412b15ac",
   "metadata": {},
   "source": [
    "# Drawing shapes in image"
   ]
  },
  {
   "cell_type": "code",
   "execution_count": 45,
   "id": "54adb800-0485-4d58-9f10-ab81ad481313",
   "metadata": {},
   "outputs": [],
   "source": [
    "#Drawing a line\n",
    "import cv2\n",
    "import numpy as np\n",
    "img=np.zeros((512,512,3),np.uint8)\n",
    "cv2.line(img,(100,100),(200,200),(255,0,0))\n",
    "cv2.imshow(\"Image\",img)\n",
    "cv2.waitKey(0)\n",
    "cv2.destroyAllWindows()\n"
   ]
  },
  {
   "cell_type": "code",
   "execution_count": 46,
   "id": "753b599a-10ee-4e79-b070-2fc737da7230",
   "metadata": {},
   "outputs": [],
   "source": [
    "import cv2\n",
    "import numpy as np\n",
    "img=np.zeros((512,512,3),np.uint8)\n",
    "cv2.line(img,(0,0),(img.shape[1],img.shape[0]),(255,0,0))\n",
    "cv2.imshow(\"Image\",img)\n",
    "cv2.waitKey(0)\n",
    "cv2.destroyAllWindows()\n"
   ]
  },
  {
   "cell_type": "markdown",
   "id": "5b3acad2-21c8-4c62-af63-ca6e382599db",
   "metadata": {},
   "source": [
    "# Drawing rectange in image"
   ]
  },
  {
   "cell_type": "code",
   "execution_count": 48,
   "id": "fe9a132b-3ae0-42cf-9f5a-98ec39132da1",
   "metadata": {},
   "outputs": [],
   "source": [
    "#Drawing a rectangle\n",
    "import cv2\n",
    "import numpy as np\n",
    "img=np.zeros((512,512,3),np.uint8)\n",
    "cv2.rectangle(img,(250,250),(50,50),(0,255,0),8)\n",
    "cv2.line(img,(250,250),(50,50),(0,255,0),8)\n",
    "cv2.imshow(\"Image\",img)\n",
    "cv2.waitKey(0)\n",
    "cv2.destroyAllWindows()\n"
   ]
  },
  {
   "cell_type": "markdown",
   "id": "ef389d71-bab2-4d89-99d0-2c45161e034b",
   "metadata": {},
   "source": [
    "# Drawing a circle"
   ]
  },
  {
   "cell_type": "code",
   "execution_count": 50,
   "id": "c083b653-2b72-46b2-9e5f-1f853c4c9414",
   "metadata": {},
   "outputs": [],
   "source": [
    "##Drawing a line\n",
    "import cv2\n",
    "import numpy as np\n",
    "img=np.zeros((512,512,3),np.uint8)\n",
    "cv2.circle(img,(250,250),25,(212,250,200),cv2.FILLED)\n",
    "cv2.imshow(\"Image\",img)\n",
    "cv2.waitKey(0)\n",
    "cv2.destroyAllWindows()\n"
   ]
  },
  {
   "cell_type": "markdown",
   "id": "a30761c9-fe9e-432f-8b00-c575db999155",
   "metadata": {},
   "source": [
    "# Adding text to image"
   ]
  },
  {
   "cell_type": "code",
   "execution_count": 52,
   "id": "0dccd8c3-ddb3-4902-8525-f0c1759f1202",
   "metadata": {},
   "outputs": [],
   "source": [
    "#Adding text to image\n",
    "import cv2\n",
    "import numpy as np\n",
    "img=np.zeros((512,512,3),np.uint8)\n",
    "cv2.putText(img,\"Hello everyone\",(50,50),cv2.FONT_ITALIC,1,(250,212,200))\n",
    "cv2.imshow(\"Image\",img)\n",
    "cv2.waitKey(0)\n",
    "cv2.destroyAllWindows()\n"
   ]
  },
  {
   "cell_type": "markdown",
   "id": "1e3f7e50-9d66-4f7e-a075-80991b7122f8",
   "metadata": {},
   "source": [
    "# Warp Perspective"
   ]
  },
  {
   "cell_type": "code",
   "execution_count": 54,
   "id": "34294f5f-6efb-4f1b-88c2-6fe6b8db7177",
   "metadata": {},
   "outputs": [],
   "source": [
    "import cv2\n",
    "import numpy as np\n",
    "\n",
    "# Desired output size\n",
    "width, height = 225, 255\n",
    "\n",
    "# Read image\n",
    "img = cv2.imread(\"cards.jpeg\")\n",
    "\n",
    "# Source points (manually ordered: TL, TR, BL, BR)\n",
    "p1 = np.float32([[127,48],    # Top-left\n",
    "                 [218,78],    # Top-right\n",
    "                 [88,176],    # Bottom-left\n",
    "                 [161,205]])  # Bottom-right\n",
    "\n",
    "# Destination points\n",
    "p2 = np.float32([[0,0], \n",
    "                 [width,0], \n",
    "                 [0,height], \n",
    "                 [width,height]])\n",
    "\n",
    "# Perspective Transform\n",
    "matrix = cv2.getPerspectiveTransform(p1, p2)\n",
    "new = cv2.warpPerspective(img, matrix, (width, height))\n",
    "\n",
    "# Show result\n",
    "cv2.imshow(\"Warped Image\", new)\n",
    "cv2.imshow(\"Original Image\", img)\n",
    "cv2.waitKey(0)\n",
    "cv2.destroyAllWindows()\n"
   ]
  },
  {
   "cell_type": "markdown",
   "id": "9447715b-3fe1-4419-9fc1-73ff5c0406f7",
   "metadata": {},
   "source": [
    "# Joining Images"
   ]
  },
  {
   "cell_type": "code",
   "execution_count": 56,
   "id": "3f6a47b1-b711-4c3c-a7c2-62ae08b1c811",
   "metadata": {},
   "outputs": [],
   "source": [
    "import cv2\n",
    "import numpy as np\n",
    "img=cv2.imread(\"dog.jpeg\")\n",
    "cv2.imshow(\"Image\",img)\n",
    "vertical=np.vstack((img,img))\n",
    "horizontal=np.hstack((img,img))\n",
    "cv2.imshow(\"Horizontal\",horizontal)\n",
    "cv2.imshow(\"Vertical\",vertical)\n",
    "cv2.waitKey(0)\n",
    "cv2.destroyAllWindows()"
   ]
  },
  {
   "cell_type": "code",
   "execution_count": 57,
   "id": "a2b1d3dd-8c4f-42b6-b822-60889c4e6fe5",
   "metadata": {},
   "outputs": [],
   "source": [
    "#Joining images different size and shape\n",
    "import cv2\n",
    "import numpy as np\n",
    "img1=cv2.imread(\"dog.jpeg\")\n",
    "img2=cv2.imread(\"cards.jpeg\")\n",
    "cv2.imshow(\"Image\",img1)\n",
    "cv2.imshow(\"Cards\",img2)\n",
    "img1=cv2.resize(img1,(500,500))\n",
    "img2=cv2.resize(img2,(500,500))\n",
    "#vertical=np.vstack((img,img))\n",
    "horizontal=np.hstack((img1,img2))\n",
    "cv2.imshow(\"Horizontal\",horizontal)\n",
    "#cv2.imshow(\"Vertical\",vertical)\n",
    "cv2.waitKey(0)\n",
    "cv2.destroyAllWindows()"
   ]
  },
  {
   "cell_type": "code",
   "execution_count": 58,
   "id": "c9d41e97-67e8-4e1c-a795-f46d47cdb5f6",
   "metadata": {},
   "outputs": [
    {
     "data": {
      "text/plain": [
       "(500, 500, 3)"
      ]
     },
     "execution_count": 58,
     "metadata": {},
     "output_type": "execute_result"
    }
   ],
   "source": [
    "img1.shape"
   ]
  },
  {
   "cell_type": "code",
   "execution_count": 59,
   "id": "c99dbc1e-7553-4e0d-a1b2-afbdf6e2fc7b",
   "metadata": {},
   "outputs": [],
   "source": [
    "temp=cv2.cvtColor(img1,cv2.COLOR_BGR2GRAY)"
   ]
  },
  {
   "cell_type": "code",
   "execution_count": 60,
   "id": "b552e8b9-931e-4aa3-8672-d3858602d676",
   "metadata": {},
   "outputs": [
    {
     "data": {
      "text/plain": [
       "(500, 500)"
      ]
     },
     "execution_count": 60,
     "metadata": {},
     "output_type": "execute_result"
    }
   ],
   "source": [
    "temp.shape"
   ]
  },
  {
   "cell_type": "code",
   "execution_count": 61,
   "id": "8c1ba35c-abae-4a48-be86-b05514a01e57",
   "metadata": {},
   "outputs": [],
   "source": [
    "temp=temp[:,:,np.newaxis]"
   ]
  },
  {
   "cell_type": "code",
   "execution_count": 62,
   "id": "42ffc3fe-081c-46cc-9e9c-689f2b66e080",
   "metadata": {},
   "outputs": [],
   "source": [
    "temp2=cv2.cvtColor(temp,cv2.COLOR_GRAY2BGR)"
   ]
  },
  {
   "cell_type": "code",
   "execution_count": 63,
   "id": "cabae187-3524-4942-a42c-7eba2b941179",
   "metadata": {},
   "outputs": [
    {
     "data": {
      "text/plain": [
       "array([[[231, 231, 231],\n",
       "        [231, 231, 231],\n",
       "        [231, 231, 231],\n",
       "        ...,\n",
       "        [216, 216, 216],\n",
       "        [215, 215, 215],\n",
       "        [215, 215, 215]],\n",
       "\n",
       "       [[231, 231, 231],\n",
       "        [231, 231, 231],\n",
       "        [231, 231, 231],\n",
       "        ...,\n",
       "        [216, 216, 216],\n",
       "        [215, 215, 215],\n",
       "        [215, 215, 215]],\n",
       "\n",
       "       [[232, 232, 232],\n",
       "        [232, 232, 232],\n",
       "        [232, 232, 232],\n",
       "        ...,\n",
       "        [216, 216, 216],\n",
       "        [216, 216, 216],\n",
       "        [215, 215, 215]],\n",
       "\n",
       "       ...,\n",
       "\n",
       "       [[145, 145, 145],\n",
       "        [145, 145, 145],\n",
       "        [145, 145, 145],\n",
       "        ...,\n",
       "        [121, 121, 121],\n",
       "        [120, 120, 120],\n",
       "        [120, 120, 120]],\n",
       "\n",
       "       [[144, 144, 144],\n",
       "        [144, 144, 144],\n",
       "        [144, 144, 144],\n",
       "        ...,\n",
       "        [119, 119, 119],\n",
       "        [120, 120, 120],\n",
       "        [120, 120, 120]],\n",
       "\n",
       "       [[144, 144, 144],\n",
       "        [144, 144, 144],\n",
       "        [144, 144, 144],\n",
       "        ...,\n",
       "        [119, 119, 119],\n",
       "        [120, 120, 120],\n",
       "        [121, 121, 121]]], shape=(500, 500, 3), dtype=uint8)"
      ]
     },
     "execution_count": 63,
     "metadata": {},
     "output_type": "execute_result"
    }
   ],
   "source": [
    "temp2"
   ]
  },
  {
   "cell_type": "code",
   "execution_count": 64,
   "id": "37ff632b-0a98-4b55-a4de-1187dc9bdb98",
   "metadata": {},
   "outputs": [],
   "source": [
    "#Joining image of different color space\n",
    "cv2.imshow(\"Image\",img1)\n",
    "temp3=cv2.cvtColor(img1,cv2.COLOR_BGR2HSV)\n",
    "cv2.imshow(\"HSV\",temp3)\n",
    "ver=np.vstack((img1,temp3))\n",
    "cv2.imshow(\"vertical\",ver)\n",
    "cv2.waitKey(0)\n",
    "cv2.destroyAllWindows()"
   ]
  },
  {
   "cell_type": "code",
   "execution_count": 65,
   "id": "6a3488e1-2b4a-4c24-a067-9b21f28f3466",
   "metadata": {},
   "outputs": [],
   "source": [
    "#Joining image of different color space\n",
    "img1=cv2.imread(\"dog.jpeg\")\n",
    "cv2.imshow(\"Image\",img1)\n",
    "temp3=cv2.cvtColor(img1,cv2.COLOR_BGR2HSV)\n",
    "cv2.imshow(\"HSV\",temp3)\n",
    "ver=np.vstack((img1,temp3))\n",
    "cv2.imshow(\"vertical\",ver)\n",
    "cv2.waitKey(0)\n",
    "cv2.destroyAllWindows()"
   ]
  },
  {
   "cell_type": "code",
   "execution_count": 66,
   "id": "73c20e7f-175c-4a60-b7b9-620c00ba1131",
   "metadata": {},
   "outputs": [],
   "source": [
    "# Joining Image with different color space gray\n",
    "img1=cv2.imread('dog.jpeg')\n",
    "img2=cv2.cvtColor(img1,cv2.COLOR_BGR2GRAY)\n",
    "#chaining code\n",
    "img2=cv2.cvtColor(img2,cv2.COLOR_GRAY2BGR)\n",
    "hor=np.hstack((img1,img2))\n",
    "cv2.imshow(\"Horizontal\",hor)\n",
    "cv2.imshow(\"Normal\",img1)\n",
    "cv2.imshow(\"Gray\",img2)\n",
    "cv2.waitKey(0)\n",
    "cv2.destroyAllWindows()"
   ]
  },
  {
   "cell_type": "markdown",
   "id": "2edf2152-48f3-475c-ba13-88db9e887317",
   "metadata": {},
   "source": [
    "# Blending of images"
   ]
  },
  {
   "cell_type": "code",
   "execution_count": 100,
   "id": "5b855d92-2caf-493b-8584-52d42162d5e4",
   "metadata": {},
   "outputs": [],
   "source": [
    "import cv2\n",
    "import numpy as np \n",
    "img1=cv2.imread(\"dog.jpeg\")\n",
    "img2=cv2.imread('cards.jpeg')\n",
    "cv2.imshow(\"Big Image\",img1)\n",
    "cv2.imshow('Small Image',img2)\n",
    "cv2.waitKey(0)\n",
    "cv2.destroyAllWindows()"
   ]
  },
  {
   "cell_type": "code",
   "execution_count": 102,
   "id": "7e14ba6b-f459-4545-809f-7fe7ac30df14",
   "metadata": {},
   "outputs": [
    {
     "data": {
      "text/plain": [
       "-1"
      ]
     },
     "execution_count": 102,
     "metadata": {},
     "output_type": "execute_result"
    }
   ],
   "source": [
    "img1.shape[0]-img2.shape[0]"
   ]
  },
  {
   "cell_type": "code",
   "execution_count": 84,
   "id": "0d95622e-a3c5-4b65-8269-818218ff7457",
   "metadata": {},
   "outputs": [
    {
     "data": {
      "text/plain": [
       "(225, 225, 3)"
      ]
     },
     "execution_count": 84,
     "metadata": {},
     "output_type": "execute_result"
    }
   ],
   "source": [
    "img2.shape"
   ]
  },
  {
   "cell_type": "code",
   "execution_count": 90,
   "id": "e44a298d-a7ee-458d-82fe-15cf5cb1e3b1",
   "metadata": {},
   "outputs": [],
   "source": [
    "x_offset=img1.shape[1]-img2.shape[1]\n",
    "y_offset=img1.shape[0]-img2.shape[0]"
   ]
  },
  {
   "cell_type": "code",
   "execution_count": 88,
   "id": "62c7dcd8-ad19-4fc7-bc3b-13e00da23581",
   "metadata": {},
   "outputs": [],
   "source": [
    "save=img1.copy()"
   ]
  },
  {
   "cell_type": "code",
   "execution_count": null,
   "id": "f6e18619-b1e6-4b21-b599-eb877034bba0",
   "metadata": {},
   "outputs": [],
   "source": [
    "img1[y_offset:,x_offset:]=img2\n",
    "cv2.imshow(\"Original\",save)\n",
    "cv2.imshow(\"Blended Image\",img1)\n",
    "cv2.waitKey(0)\n",
    "cv2.destroyAllWindows()"
   ]
  },
  {
   "cell_type": "code",
   "execution_count": null,
   "id": "59d38db5-0a19-42aa-a0fc-8112cebdb187",
   "metadata": {},
   "outputs": [],
   "source": [
    "#Bleding of image at bottom right corner \n",
    "import cv2\n",
    "import numpy as np \n",
    "img1=cv2.imread(\"dog.jpeg\")\n",
    "img2=cv2.imread('cards.jpeg')\n",
    "x_offset=img1.shape[1]-img2.shape[1]\n",
    "y_offset=img1.shape[0]-img2.shape[0]\n",
    "save=img1.copy()\n",
    "img1[y_offset:,x_offset:]=img2\n",
    "cv2.imshow(\"Original\",save)\n",
    "cv2.imshow('Original 2',img2)\n",
    "cv2.imshow(\"Blended Image\",img1)\n",
    "cv2.waitKey(0)\n",
    "cv2.destroyAllWindows()"
   ]
  },
  {
   "cell_type": "code",
   "execution_count": null,
   "id": "29155eba-86be-4522-8485-266a4c999c5e",
   "metadata": {},
   "outputs": [],
   "source": [
    "#Bleding of image at bottom left corner \n",
    "import cv2\n",
    "import numpy as np \n",
    "img1=cv2.imread(\"dog.jpeg\")\n",
    "img2=cv2.imread('cards.jfif')\n",
    "x_offset=img2.shape[1]\n",
    "y_offset=img1.shape[0]-img2.shape[0]\n",
    "save=img1.copy()\n",
    "img1[y_offset:,:x_offset]=img2\n",
    "cv2.imshow(\"Original\",save)\n",
    "cv2.imshow('Original 2',img2)\n",
    "cv2.imshow(\"Blended Image\",img1)\n",
    "cv2.waitKey(0)\n",
    "cv2.destroyAllWindows()"
   ]
  },
  {
   "cell_type": "code",
   "execution_count": null,
   "id": "592b4a3c-42af-46fa-9acf-9b79a401cdad",
   "metadata": {},
   "outputs": [],
   "source": [
    "#Bleding of image at top left corner \n",
    "import cv2\n",
    "import numpy as np \n",
    "img1=cv2.imread(\"dog.jpeg\")\n",
    "img2=cv2.imread('cards.jpeg')\n",
    "x_offset=img2.shape[1]\n",
    "y_offset=img2.shape[0]\n",
    "save=img1.copy()\n",
    "img1[:y_offset,:x_offset]=img2\n",
    "cv2.imshow(\"Original\",save)\n",
    "cv2.imshow('Original 2',img2)\n",
    "cv2.imshow(\"Blended Image\",img1)\n",
    "cv2.waitKey(0)\n",
    "cv2.destroyAllWindows()"
   ]
  },
  {
   "cell_type": "code",
   "execution_count": null,
   "id": "052f7c87-745f-46ad-9546-c30954f856a5",
   "metadata": {},
   "outputs": [],
   "source": [
    "#Bleding of image at top right corner \n",
    "import cv2\n",
    "import numpy as np \n",
    "img1=cv2.imread(\"dog.jpeg\")\n",
    "img2=cv2.imread('cards.jpeg')\n",
    "x_offset=img1.shape[1]-img2.shape[1]\n",
    "y_offset=img2.shape[0]\n",
    "save=img1.copy()\n",
    "img1[:y_offset,x_offset:]=img2\n",
    "cv2.imshow(\"Original\",save)\n",
    "cv2.imshow('Original 2',img2)\n",
    "cv2.imshow(\"Blended Image\",img1)\n",
    "cv2.waitKey(0)\n",
    "cv2.destroyAllWindows()"
   ]
  },
  {
   "cell_type": "code",
   "execution_count": null,
   "id": "1e1b5c85-c36d-4dd2-be44-c5a2bbb7fc2b",
   "metadata": {},
   "outputs": [],
   "source": [
    "#Bleding of image at middle of the bigger image\n",
    "import cv2\n",
    "import numpy as np \n",
    "img1=cv2.imread(\"dog.jpeg\")\n",
    "img2=cv2.imread('cards.jpeg')\n",
    "x_offset=img2.shape[1]\n",
    "y_offset=img2.shape[0]\n",
    "save=img1.copy()\n",
    "img1[120:120+y_offset,300:300+x_offset]=img2\n",
    "cv2.imshow(\"Original\",save)\n",
    "cv2.imshow('Original 2',img2)\n",
    "cv2.imshow(\"Blended Image\",img1)\n",
    "cv2.waitKey(0)\n",
    "cv2.destroyAllWindows()"
   ]
  }
 ],
 "metadata": {
  "kernelspec": {
   "display_name": "Python [conda env:base] *",
   "language": "python",
   "name": "conda-base-py"
  },
  "language_info": {
   "codemirror_mode": {
    "name": "ipython",
    "version": 3
   },
   "file_extension": ".py",
   "mimetype": "text/x-python",
   "name": "python",
   "nbconvert_exporter": "python",
   "pygments_lexer": "ipython3",
   "version": "3.12.7"
  }
 },
 "nbformat": 4,
 "nbformat_minor": 5
}
