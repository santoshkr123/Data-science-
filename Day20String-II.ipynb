{
 "cells": [
  {
   "cell_type": "markdown",
   "id": "6c65f456-0913-4b90-81cb-490f8fc5ba5b",
   "metadata": {},
   "source": [
    "# strip()method"
   ]
  },
  {
   "cell_type": "code",
   "execution_count": 5,
   "id": "cdec7c59-4433-442f-8982-0faf5ff39ac2",
   "metadata": {},
   "outputs": [
    {
     "name": "stdout",
     "output_type": "stream",
     "text": [
      "time is precious\n"
     ]
    }
   ],
   "source": [
    "a=\"       time is precious       \"\n",
    "b=a.strip()\n",
    "print(b)"
   ]
  },
  {
   "cell_type": "code",
   "execution_count": 9,
   "id": "ff31d4f5-d169-40d7-b6f2-e9524b8fb7ef",
   "metadata": {},
   "outputs": [
    {
     "name": "stdout",
     "output_type": "stream",
     "text": [
      "pyhton is a high level         programming langauage\n"
     ]
    }
   ],
   "source": [
    "a=\"                pyhton is a high level         programming langauage         \"\n",
    "d=a.strip()\n",
    "print(d)"
   ]
  },
  {
   "cell_type": "markdown",
   "id": "ecd931d0-c58e-4cd7-b15b-632677c1be04",
   "metadata": {},
   "source": [
    "# lower()method"
   ]
  },
  {
   "cell_type": "code",
   "execution_count": 12,
   "id": "ca19fa7a-a39a-45cf-b350-d40f410b9ae3",
   "metadata": {},
   "outputs": [
    {
     "name": "stdout",
     "output_type": "stream",
     "text": [
      "how are you man\n"
     ]
    }
   ],
   "source": [
    "a=\"hoW ARe You MAn\"\n",
    "b=a.lower()\n",
    "print(b)"
   ]
  },
  {
   "cell_type": "code",
   "execution_count": 14,
   "id": "3bee193e-6d62-41ed-ab56-7c3eae213149",
   "metadata": {},
   "outputs": [
    {
     "name": "stdout",
     "output_type": "stream",
     "text": [
      "pyhton is a programming languagecase sensitive\n"
     ]
    }
   ],
   "source": [
    "c=\"Pyhton Is A ProGRaMMing LanGUaGe\"\n",
    "e=\"CaSE SenSitive\"\n",
    "print(c.lower() + e.lower())"
   ]
  },
  {
   "cell_type": "markdown",
   "id": "deebb754-6c9c-415c-abb7-f0b1a4e0487d",
   "metadata": {},
   "source": [
    "# upper()mehod"
   ]
  },
  {
   "cell_type": "code",
   "execution_count": 17,
   "id": "30923190-cec9-46ad-a8d7-d64b84faced3",
   "metadata": {},
   "outputs": [
    {
     "name": "stdout",
     "output_type": "stream",
     "text": [
      "PYTHON IS A GOOD LANGUAGE\n"
     ]
    }
   ],
   "source": [
    "a=\"Python is a gOOd languaGe\"\n",
    "b=a.upper()\n",
    "print(b)"
   ]
  },
  {
   "cell_type": "code",
   "execution_count": 19,
   "id": "5b26c30c-3473-487b-b417-65b60bd7d28a",
   "metadata": {},
   "outputs": [
    {
     "name": "stdout",
     "output_type": "stream",
     "text": [
      "PYTHON IS A GOOD LANGUAGE CASESENSITIVE LANAGUGE\n"
     ]
    }
   ],
   "source": [
    "a=\"Python is a GOOD LanGuage\"\n",
    "b=\"caseSenSitive LanaguGe\"\n",
    "print(a.upper() + \" \" +b.upper())"
   ]
  },
  {
   "cell_type": "code",
   "execution_count": 21,
   "id": "be885443-35b2-48a8-b878-7d245f923404",
   "metadata": {},
   "outputs": [
    {
     "name": "stdout",
     "output_type": "stream",
     "text": [
      "honestry is the best policy tiger is a wild animal  good language\n"
     ]
    }
   ],
   "source": [
    "a=\"       Honestry is the best policy       \"\n",
    "b=\"              Tiger is a wild animal     \"\n",
    "c=\"Good LanGuage \"\n",
    "m=a.strip()\n",
    "n=b.strip()\n",
    "o=c.strip()\n",
    "print(m.lower()+ \" \" + n.lower()+ \"  \" + o.lower())"
   ]
  },
  {
   "cell_type": "markdown",
   "id": "6fd58ecd-e5f9-4259-be1b-b3beb4afe909",
   "metadata": {},
   "source": [
    "# replace()method"
   ]
  },
  {
   "cell_type": "code",
   "execution_count": 28,
   "id": "696dd82d-fc8f-4210-a3f0-b87b8cd97f0d",
   "metadata": {},
   "outputs": [
    {
     "name": "stdout",
     "output_type": "stream",
     "text": [
      "Hey are you man\n"
     ]
    }
   ],
   "source": [
    "a=\"How are you man\"\n",
    "print(a.replace(\"How\",\"Hey\"))"
   ]
  },
  {
   "cell_type": "code",
   "execution_count": 30,
   "id": "fee33a8a-4794-4729-8df7-30b7d1d06725",
   "metadata": {},
   "outputs": [
    {
     "name": "stdout",
     "output_type": "stream",
     "text": [
      "maths 28 / 30\n",
      "b=science 30 / 30\n",
      "c=english 20 / 30\n",
      "d=sst 12 / 30\n",
      "e= c++ 16 / 30\n"
     ]
    }
   ],
   "source": [
    "a=\"\"\"maths 28 out of 30\n",
    "b=science 30 out of 30\n",
    "c=english 20 out of 30\n",
    "d=sst 12 out of 30\n",
    "e= c++ 16 out of 30\"\"\"\n",
    "print(a.replace(\"out of\",\"/\"))"
   ]
  },
  {
   "cell_type": "code",
   "execution_count": 34,
   "id": "19097d10-1c2d-4962-916c-1eccef80d3d0",
   "metadata": {},
   "outputs": [
    {
     "name": "stdout",
     "output_type": "stream",
     "text": [
      "skills are required   for python  datascience  dataanalyst  code\n"
     ]
    }
   ],
   "source": [
    "p=\"skills are required , for python ,datascience ,dataanalyst ,code\"\n",
    "print(p.replace(\",\",\" \"))"
   ]
  },
  {
   "cell_type": "code",
   "execution_count": 38,
   "id": "580d4c2e-8844-4f2e-b637-aaa842ccc62a",
   "metadata": {},
   "outputs": [
    {
     "name": "stdout",
     "output_type": "stream",
     "text": [
      "How are you womenI am fines\n"
     ]
    }
   ],
   "source": [
    "q=\"How are you man\"\n",
    "s=\"I am fine\"\n",
    "print(q.replace(\"man\",\"women\") + s.replace(\"fine\",\"fines\"))"
   ]
  },
  {
   "cell_type": "code",
   "execution_count": null,
   "id": "9bf9b613-2a57-41d4-ad15-07c2268d25c2",
   "metadata": {},
   "outputs": [],
   "source": []
  }
 ],
 "metadata": {
  "kernelspec": {
   "display_name": "Python [conda env:base] *",
   "language": "python",
   "name": "conda-base-py"
  },
  "language_info": {
   "codemirror_mode": {
    "name": "ipython",
    "version": 3
   },
   "file_extension": ".py",
   "mimetype": "text/x-python",
   "name": "python",
   "nbconvert_exporter": "python",
   "pygments_lexer": "ipython3",
   "version": "3.12.7"
  }
 },
 "nbformat": 4,
 "nbformat_minor": 5
}
