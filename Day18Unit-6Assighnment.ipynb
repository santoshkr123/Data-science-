{
 "cells": [
  {
   "cell_type": "markdown",
   "id": "a9168375-bf11-457e-83a3-15e7bdbc01d0",
   "metadata": {},
   "source": [
    "# Unit-6 Task"
   ]
  },
  {
   "cell_type": "code",
   "execution_count": 39,
   "id": "85bb1699-d4bd-4a5f-a9b9-11b2ae72d93e",
   "metadata": {},
   "outputs": [
    {
     "name": "stdout",
     "output_type": "stream",
     "text": [
      "Number is in range\n"
     ]
    }
   ],
   "source": [
    "\"\"\"1) Write a Python function to check whether a number falls within a given range 10 to \n",
    "900\"\"\"\n",
    "\n",
    "def fallsN(n):\n",
    "    if n in range(10,901):\n",
    "        print(\"Number is in range\")\n",
    "    else:\n",
    "        print(\"Number is not in range\")\n",
    "\n",
    "fallsN(900)"
   ]
  },
  {
   "cell_type": "code",
   "execution_count": 25,
   "id": "ac7d5112-c70c-4809-9149-bae7e409ada8",
   "metadata": {},
   "outputs": [
    {
     "name": "stdout",
     "output_type": "stream",
     "text": [
      "120\n"
     ]
    }
   ],
   "source": [
    "\"\"\"2) Write a Python function to multiply all the numbers in a list\"\"\"\n",
    "\n",
    "def multiply(n):\n",
    "    total=1\n",
    "    for i in n:\n",
    "        total*=i\n",
    "    return total\n",
    "numbers=[2,3,4,5]\n",
    "print(multiply(numbers))"
   ]
  },
  {
   "cell_type": "code",
   "execution_count": 41,
   "id": "a4fe6018-0c66-4022-ac6a-f56195046195",
   "metadata": {},
   "outputs": [
    {
     "data": {
      "text/plain": [
       "[2, 4, 6, 8, 10]"
      ]
     },
     "execution_count": 41,
     "metadata": {},
     "output_type": "execute_result"
    }
   ],
   "source": [
    "\"\"\"3) Write a Python program to print the even numbers from a given list.\n",
    "Sample List : [1, 2, 3, 4, 5, 6, 7, 8, 9]\n",
    "Expected Result : [2, 4, 6, 8]\"\"\"\n",
    "\n",
    "def evenN(l):\n",
    "    evenL=[]\n",
    "    for num in l:\n",
    "        if num%2==0:\n",
    "            evenL.append(num)\n",
    "    return evenL\n",
    "\n",
    "evenN([1,2,3,4,5,6,7,8,9,10])\n",
    "            \n",
    "\n",
    "\n"
   ]
  },
  {
   "cell_type": "code",
   "execution_count": 49,
   "id": "c697a205-761b-4943-9d6e-00f1068fdf4c",
   "metadata": {},
   "outputs": [
    {
     "name": "stdout",
     "output_type": "stream",
     "text": [
      "[1, 2, 3, 4, 5]\n"
     ]
    }
   ],
   "source": [
    "\"\"\"4) Write a Python function that takes a list and returns a new list with distinct \n",
    "elements from the first list.\n",
    "Sample List : [1,2,3,3,3,3,4,5]\n",
    "Unique List : [1, 2, 3, 4, 5]\"\"\"\n",
    "\n",
    "\n",
    "\n",
    "def lists(l):\n",
    "    uniqueL=[]\n",
    "    for num in l:\n",
    "        if num not in uniqueL:\n",
    "            uniqueL.append(num)\n",
    "    return uniqueL\n",
    "\n",
    "print(lists([1,2,3,3,3,3,4,5]))\n",
    "    "
   ]
  },
  {
   "cell_type": "code",
   "execution_count": 59,
   "id": "3c6e6246-9a7b-4125-88d4-b6eeb8994baa",
   "metadata": {},
   "outputs": [
    {
     "name": "stdout",
     "output_type": "stream",
     "text": [
      "[1, 4, 9, 16, 25, 36, 49, 64, 81, 100, 121, 144, 169, 196, 225, 256, 289, 324, 361, 400, 441, 484, 529, 576, 625, 676, 729, 784, 841, 900]\n"
     ]
    }
   ],
   "source": [
    "\"\"\"5) Write a Python function to create and print a list where the values are the squares of \n",
    "numbers between 1 and 30 (both included)\"\"\"\n",
    "\n",
    "\n",
    "def squareL():\n",
    "    squareL=[]\n",
    "    for x in range(1,31):\n",
    "        squareL.append(x**2)\n",
    "    return squareL\n",
    "\n",
    "print(squareL())"
   ]
  },
  {
   "cell_type": "code",
   "execution_count": null,
   "id": "c9ef071a-05ac-4432-be7b-54c9386c6bf7",
   "metadata": {},
   "outputs": [],
   "source": []
  }
 ],
 "metadata": {
  "kernelspec": {
   "display_name": "Python [conda env:base] *",
   "language": "python",
   "name": "conda-base-py"
  },
  "language_info": {
   "codemirror_mode": {
    "name": "ipython",
    "version": 3
   },
   "file_extension": ".py",
   "mimetype": "text/x-python",
   "name": "python",
   "nbconvert_exporter": "python",
   "pygments_lexer": "ipython3",
   "version": "3.12.7"
  }
 },
 "nbformat": 4,
 "nbformat_minor": 5
}
