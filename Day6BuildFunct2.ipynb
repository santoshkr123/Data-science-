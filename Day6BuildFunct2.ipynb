{
 "cells": [
  {
   "cell_type": "markdown",
   "id": "61980626-151b-462e-a102-c113a97a4bde",
   "metadata": {},
   "source": [
    "input function int funtion ,float function"
   ]
  },
  {
   "cell_type": "code",
   "execution_count": 2,
   "id": "3e70af8b-eb58-494f-a90a-44ab7815473b",
   "metadata": {},
   "outputs": [
    {
     "name": "stdin",
     "output_type": "stream",
     "text": [
      "Enter a number :  45\n"
     ]
    }
   ],
   "source": [
    "a=input(\"Enter a number : \")"
   ]
  },
  {
   "cell_type": "code",
   "execution_count": 4,
   "id": "306f8a79-ae44-4f07-b539-91c740fe808a",
   "metadata": {},
   "outputs": [
    {
     "name": "stdout",
     "output_type": "stream",
     "text": [
      "45\n",
      "<class 'str'>\n"
     ]
    }
   ],
   "source": [
    "print(a)\n",
    "print(type(a))"
   ]
  },
  {
   "cell_type": "code",
   "execution_count": 6,
   "id": "7303accb-dea0-4246-b185-2faf891a649f",
   "metadata": {},
   "outputs": [
    {
     "name": "stdout",
     "output_type": "stream",
     "text": [
      "<class 'int'>\n"
     ]
    }
   ],
   "source": [
    "a=int(a)\n",
    "print(type(a))"
   ]
  },
  {
   "cell_type": "code",
   "execution_count": 8,
   "id": "a1f6c359-e22c-4231-969d-01c2a9425b77",
   "metadata": {},
   "outputs": [
    {
     "data": {
      "text/plain": [
       "65"
      ]
     },
     "execution_count": 8,
     "metadata": {},
     "output_type": "execute_result"
    }
   ],
   "source": [
    "a+20"
   ]
  },
  {
   "cell_type": "code",
   "execution_count": 10,
   "id": "31f75737-f2f5-44d3-8717-80313757755e",
   "metadata": {},
   "outputs": [
    {
     "name": "stdin",
     "output_type": "stream",
     "text": [
      "Enter a float number :  45.88\n"
     ]
    }
   ],
   "source": [
    "a=input(\"Enter a float number : \")"
   ]
  },
  {
   "cell_type": "code",
   "execution_count": 12,
   "id": "e0f2ca3a-7edc-4bbe-8b93-bcb7a76aa071",
   "metadata": {},
   "outputs": [
    {
     "name": "stdout",
     "output_type": "stream",
     "text": [
      "45.88\n",
      "<class 'str'>\n"
     ]
    }
   ],
   "source": [
    "print(a)\n",
    "print(type(a))"
   ]
  },
  {
   "cell_type": "code",
   "execution_count": 14,
   "id": "04b63382-5913-4d63-9c9a-3cacbedbca74",
   "metadata": {},
   "outputs": [
    {
     "name": "stdout",
     "output_type": "stream",
     "text": [
      "<class 'float'>\n"
     ]
    }
   ],
   "source": [
    "a=float(a)\n",
    "print(type(a))"
   ]
  },
  {
   "cell_type": "code",
   "execution_count": 16,
   "id": "ba330c21-d216-4fe8-8f2c-1e4bf9e7007b",
   "metadata": {},
   "outputs": [
    {
     "data": {
      "text/plain": [
       "\"Let's make a result of students ask to user enter the marks of Maths,Science ,Social,English,Java\""
      ]
     },
     "execution_count": 16,
     "metadata": {},
     "output_type": "execute_result"
    }
   ],
   "source": [
    "\"\"\"Let's make a result of students ask to user enter the marks of Maths,Science ,Social,English,Java\"\"\""
   ]
  },
  {
   "cell_type": "code",
   "execution_count": 18,
   "id": "4bb4c712-6322-4055-ab83-c7b0084fe30b",
   "metadata": {},
   "outputs": [
    {
     "name": "stdin",
     "output_type": "stream",
     "text": [
      "Enter marks of Maths : 85\n",
      "Enter marks of Science : 80\n",
      "Enter marks of Social : 78\n",
      "Enter marks of English : 89\n",
      "Enter marks of Java : 69\n"
     ]
    }
   ],
   "source": [
    "a=input(\"Enter marks of Maths :\")\n",
    "b=input(\"Enter marks of Science :\")\n",
    "c=input(\"Enter marks of Social :\")\n",
    "d=input(\"Enter marks of English :\")\n",
    "e=input(\"Enter marks of Java :\")"
   ]
  },
  {
   "cell_type": "code",
   "execution_count": 22,
   "id": "afc8e196-1cbd-4656-86d7-9d2321ab5209",
   "metadata": {},
   "outputs": [
    {
     "name": "stdout",
     "output_type": "stream",
     "text": [
      "401\n"
     ]
    }
   ],
   "source": [
    "a=int(a)\n",
    "b=int(b)\n",
    "c=int(c)\n",
    "d=int(d)\n",
    "e=int(e)\n",
    "\n",
    "print(a+b+c+d+e)"
   ]
  },
  {
   "cell_type": "code",
   "execution_count": 24,
   "id": "f706414a-dc0f-4d35-8057-8df7a3813645",
   "metadata": {},
   "outputs": [
    {
     "name": "stdout",
     "output_type": "stream",
     "text": [
      "80.2\n"
     ]
    }
   ],
   "source": [
    "print((401/500) * 100)"
   ]
  },
  {
   "cell_type": "markdown",
   "id": "f58ad83a-fc60-488c-954c-f36699d8e332",
   "metadata": {},
   "source": [
    "len function"
   ]
  },
  {
   "cell_type": "code",
   "execution_count": 26,
   "id": "e0a539a7-187e-4447-8f36-084d1ad95caa",
   "metadata": {},
   "outputs": [
    {
     "name": "stdout",
     "output_type": "stream",
     "text": [
      "Python is programming lang\n"
     ]
    }
   ],
   "source": [
    "a=\"Python is programming lang\"\n",
    "print(a)"
   ]
  },
  {
   "cell_type": "code",
   "execution_count": 28,
   "id": "2098ec96-b110-48b8-92e4-339571c73e72",
   "metadata": {},
   "outputs": [
    {
     "name": "stdout",
     "output_type": "stream",
     "text": [
      "26\n"
     ]
    }
   ],
   "source": [
    "print(len(a))"
   ]
  },
  {
   "cell_type": "code",
   "execution_count": 30,
   "id": "41d5b340-1666-4810-acdb-673df18a21cb",
   "metadata": {},
   "outputs": [
    {
     "name": "stdout",
     "output_type": "stream",
     "text": [
      "Pyhton is a good language Python is a case-sensitive\n"
     ]
    }
   ],
   "source": [
    "a=\"Pyhton is a good language \"\n",
    "b=\"Python is a case-sensitive\"\n",
    "print(a+b)"
   ]
  },
  {
   "cell_type": "code",
   "execution_count": 32,
   "id": "eb0f8f2e-4a92-47dc-9324-03b523c5f017",
   "metadata": {},
   "outputs": [
    {
     "name": "stdout",
     "output_type": "stream",
     "text": [
      "52\n"
     ]
    }
   ],
   "source": [
    "print(len(a+b))"
   ]
  },
  {
   "cell_type": "code",
   "execution_count": 36,
   "id": "8e4e36e0-ab87-4d11-b021-3d1b50a5a35a",
   "metadata": {},
   "outputs": [
    {
     "name": "stdout",
     "output_type": "stream",
     "text": [
      "6\n"
     ]
    }
   ],
   "source": [
    "l=[12,45,7896,36,88,56]\n",
    "print(len(l))"
   ]
  },
  {
   "cell_type": "code",
   "execution_count": 40,
   "id": "39cd923e-2152-4302-b5cb-e19a287b5f27",
   "metadata": {},
   "outputs": [
    {
     "ename": "TypeError",
     "evalue": "object of type 'int' has no len()",
     "output_type": "error",
     "traceback": [
      "\u001b[1;31m---------------------------------------------------------------------------\u001b[0m",
      "\u001b[1;31mTypeError\u001b[0m                                 Traceback (most recent call last)",
      "Cell \u001b[1;32mIn[40], line 2\u001b[0m\n\u001b[0;32m      1\u001b[0m a\u001b[38;5;241m=\u001b[39m\u001b[38;5;241m123456789\u001b[39m\n\u001b[1;32m----> 2\u001b[0m \u001b[38;5;28mprint\u001b[39m(\u001b[38;5;28mlen\u001b[39m(a))\n",
      "\u001b[1;31mTypeError\u001b[0m: object of type 'int' has no len()"
     ]
    }
   ],
   "source": [
    "a=123456789\n",
    "print(len(a))"
   ]
  },
  {
   "cell_type": "markdown",
   "id": "9d59cb3c-4048-4707-a19c-b6c0dbf62280",
   "metadata": {},
   "source": [
    "min() and max() function"
   ]
  },
  {
   "cell_type": "code",
   "execution_count": 42,
   "id": "08cc1fd6-5c58-44b6-b2e2-7377a03b50ba",
   "metadata": {},
   "outputs": [
    {
     "name": "stdout",
     "output_type": "stream",
     "text": [
      "1\n"
     ]
    }
   ],
   "source": [
    "L=[1,278,36,56,10,20,50]\n",
    "print(min(L))"
   ]
  },
  {
   "cell_type": "code",
   "execution_count": 44,
   "id": "0762867a-1846-4804-82a6-b436d0793bbd",
   "metadata": {},
   "outputs": [
    {
     "name": "stdout",
     "output_type": "stream",
     "text": [
      "278\n"
     ]
    }
   ],
   "source": [
    "print(max(L))"
   ]
  },
  {
   "cell_type": "code",
   "execution_count": 46,
   "id": "06417bf8-b33c-4949-a8b4-5192e774e877",
   "metadata": {},
   "outputs": [
    {
     "data": {
      "text/plain": [
       "'Ask to user to enter 5 values to find min values and max values '"
      ]
     },
     "execution_count": 46,
     "metadata": {},
     "output_type": "execute_result"
    }
   ],
   "source": [
    "\"\"\"Ask to user to enter 5 values to find min values and max values \"\"\"\n"
   ]
  },
  {
   "cell_type": "code",
   "execution_count": 48,
   "id": "4ba7756e-f792-47e2-a918-e3971a64db15",
   "metadata": {},
   "outputs": [
    {
     "name": "stdin",
     "output_type": "stream",
     "text": [
      "Enter a number : 12\n",
      "Enter a number : 14\n",
      "Enter a number : -56\n",
      "Enter a number : 45\n",
      "Enter a number : 23\n"
     ]
    }
   ],
   "source": [
    "a=input(\"Enter a number :\")\n",
    "b=input(\"Enter a number :\")\n",
    "c=input(\"Enter a number :\")\n",
    "d=input(\"Enter a number :\")\n",
    "e=input(\"Enter a number :\")"
   ]
  },
  {
   "cell_type": "code",
   "execution_count": 54,
   "id": "45ba2998-5b17-47d3-8aba-7da234e83063",
   "metadata": {},
   "outputs": [
    {
     "name": "stdout",
     "output_type": "stream",
     "text": [
      "all users are :  12 14 -56 45 23\n",
      "maximum value : 45\n",
      "minimum value : -56\n"
     ]
    }
   ],
   "source": [
    "a=int(a)\n",
    "b=int(b)\n",
    "c=int(c)\n",
    "d=int(d)\n",
    "e=int(e)\n",
    "\n",
    "print(\"all users are : \",a,b,c,d,e)\n",
    "print(\"maximum value :\" ,max(a,b,c,d,e))\n",
    "print(\"minimum value :\",min(a,b,c,d,e))"
   ]
  },
  {
   "cell_type": "markdown",
   "id": "c3a96a03-bfe4-4203-aa4f-4bd4853463c3",
   "metadata": {},
   "source": [
    "Sorted function"
   ]
  },
  {
   "cell_type": "code",
   "execution_count": 58,
   "id": "f0acc993-0117-4e38-b935-ac3f764a517a",
   "metadata": {},
   "outputs": [
    {
     "name": "stdout",
     "output_type": "stream",
     "text": [
      "[12, 23, 78, 85, 96]\n"
     ]
    }
   ],
   "source": [
    "a=12,23,85,96,78\n",
    "print(sorted(a))"
   ]
  },
  {
   "cell_type": "code",
   "execution_count": 60,
   "id": "94aba094-4f54-444a-b779-1a9a60a8d800",
   "metadata": {},
   "outputs": [
    {
     "name": "stdout",
     "output_type": "stream",
     "text": [
      "[-100, -23, 58, 78, 96]\n"
     ]
    }
   ],
   "source": [
    "l=[96,78,-23,58,-100]\n",
    "print(sorted(l))"
   ]
  },
  {
   "cell_type": "code",
   "execution_count": 62,
   "id": "a3696dce-27d5-464c-9a0f-71d3ddb1845d",
   "metadata": {},
   "outputs": [
    {
     "name": "stdout",
     "output_type": "stream",
     "text": [
      "[96, 78, 58, -23, -100]\n"
     ]
    }
   ],
   "source": [
    "print(sorted(l,reverse=True))"
   ]
  },
  {
   "cell_type": "code",
   "execution_count": 64,
   "id": "a140e9b2-e6c8-486b-8c62-917132f5dd70",
   "metadata": {},
   "outputs": [
    {
     "data": {
      "text/plain": [
       "'take 5 value from user and find asecnding and descending order '"
      ]
     },
     "execution_count": 64,
     "metadata": {},
     "output_type": "execute_result"
    }
   ],
   "source": [
    "\"\"\"take 5 value from user and find asecnding and descending order \"\"\"\n"
   ]
  },
  {
   "cell_type": "code",
   "execution_count": 68,
   "id": "06f9b387-19bf-4981-8b1f-99de6d04451a",
   "metadata": {},
   "outputs": [
    {
     "name": "stdin",
     "output_type": "stream",
     "text": [
      "Enter a value : 12\n",
      "Enter a value : 13\n",
      "Enter a value : 14\n",
      "Enter a value : 15\n",
      "Enter a value : 16\n"
     ]
    }
   ],
   "source": [
    "a=input(\"Enter a value :\")\n",
    "b=input(\"Enter a value :\")\n",
    "c=input(\"Enter a value :\")\n",
    "d=input(\"Enter a value :\")\n",
    "e=input(\"Enter a value :\")"
   ]
  },
  {
   "cell_type": "code",
   "execution_count": 72,
   "id": "2e329bc8-bb4c-40c7-8898-047069e4b50a",
   "metadata": {},
   "outputs": [
    {
     "name": "stdout",
     "output_type": "stream",
     "text": [
      "12 13 14 15 16\n"
     ]
    }
   ],
   "source": [
    "a=int(a)\n",
    "b=int(b)\n",
    "c=int(c)\n",
    "d=int(d)\n",
    "e=int(e)\n",
    "print(a,b,c,d,e)\n"
   ]
  },
  {
   "cell_type": "code",
   "execution_count": 74,
   "id": "d0662bd7-d417-4600-bb2f-5a1ddff2f666",
   "metadata": {},
   "outputs": [
    {
     "name": "stdout",
     "output_type": "stream",
     "text": [
      "[12, 13, 14, 15, 16]\n"
     ]
    }
   ],
   "source": [
    "x=(a,b,c,d,e)\n",
    "print(sorted(x))"
   ]
  },
  {
   "cell_type": "code",
   "execution_count": 76,
   "id": "f12d61d7-cad9-4d92-86c0-8aaae96afe01",
   "metadata": {},
   "outputs": [
    {
     "name": "stdout",
     "output_type": "stream",
     "text": [
      "[16, 15, 14, 13, 12]\n"
     ]
    }
   ],
   "source": [
    "print(sorted(x,reverse=True))"
   ]
  },
  {
   "cell_type": "code",
   "execution_count": 78,
   "id": "5469a94e-05e5-431d-91c5-92b2bc2fed7d",
   "metadata": {},
   "outputs": [
    {
     "data": {
      "text/plain": [
       "\u001b[1;31mSignature:\u001b[0m \u001b[0mdivmod\u001b[0m\u001b[1;33m(\u001b[0m\u001b[0mx\u001b[0m\u001b[1;33m,\u001b[0m \u001b[0my\u001b[0m\u001b[1;33m,\u001b[0m \u001b[1;33m/\u001b[0m\u001b[1;33m)\u001b[0m\u001b[1;33m\u001b[0m\u001b[1;33m\u001b[0m\u001b[0m\n",
       "\u001b[1;31mDocstring:\u001b[0m Return the tuple (x//y, x%y).  Invariant: div*y + mod == x.\n",
       "\u001b[1;31mType:\u001b[0m      builtin_function_or_method"
      ]
     },
     "metadata": {},
     "output_type": "display_data"
    }
   ],
   "source": [
    "divmod?"
   ]
  },
  {
   "cell_type": "code",
   "execution_count": 80,
   "id": "63fb00b7-684f-44a6-93f2-5240901e8f1b",
   "metadata": {},
   "outputs": [
    {
     "name": "stdout",
     "output_type": "stream",
     "text": [
      "Help on built-in function divmod in module builtins:\n",
      "\n",
      "divmod(x, y, /)\n",
      "    Return the tuple (x//y, x%y).  Invariant: div*y + mod == x.\n",
      "\n"
     ]
    }
   ],
   "source": [
    "help(divmod)"
   ]
  },
  {
   "cell_type": "code",
   "execution_count": null,
   "id": "60a96721-6567-4176-8b2f-92f6a14008df",
   "metadata": {},
   "outputs": [],
   "source": []
  }
 ],
 "metadata": {
  "kernelspec": {
   "display_name": "Python [conda env:base] *",
   "language": "python",
   "name": "conda-base-py"
  },
  "language_info": {
   "codemirror_mode": {
    "name": "ipython",
    "version": 3
   },
   "file_extension": ".py",
   "mimetype": "text/x-python",
   "name": "python",
   "nbconvert_exporter": "python",
   "pygments_lexer": "ipython3",
   "version": "3.12.7"
  }
 },
 "nbformat": 4,
 "nbformat_minor": 5
}
