{
 "cells": [
  {
   "cell_type": "code",
   "execution_count": 2,
   "id": "edbd8904-73e9-495a-879b-6ae64c2f1ef0",
   "metadata": {},
   "outputs": [
    {
     "name": "stdout",
     "output_type": "stream",
     "text": [
      "['x', 'y', 'z']\n"
     ]
    }
   ],
   "source": [
    "class ihh:\n",
    "    def student_details(self,name,email_id,phone_number):\n",
    "        print(name,email_id,phone_number)\n",
    "    @staticmethod    \n",
    "    def mentor_class(list_mentor):\n",
    "        print(list_mentor)\n",
    "    @classmethod\n",
    "    def class_name(cls):\n",
    "        cls.mentor_class([\"x\",\"y\",\"z\"])\n",
    "\n",
    "ihh.class_name()\n",
    "        "
   ]
  },
  {
   "cell_type": "code",
   "execution_count": 14,
   "id": "2b998de3-a6d4-4e91-8b03-f09c2d9cc81c",
   "metadata": {},
   "outputs": [
    {
     "name": "stdout",
     "output_type": "stream",
     "text": [
      "['x@gmail.com', 'y@gmail.com']\n"
     ]
    }
   ],
   "source": [
    "class ihh:\n",
    "    def student_details(self, name, email_id, phone_number):\n",
    "        print(name, email_id, phone_number)\n",
    "\n",
    "    @staticmethod\n",
    "    def mentor_mail_id(mail_id):\n",
    "        print(mail_id)\n",
    "\n",
    "    @staticmethod\n",
    "    def mentor_class(list_mentor):\n",
    "        ihh.mentor_mail_id([\"x@gmail.com\", \"y@gmail.com\"])\n",
    "\n",
    "    @classmethod\n",
    "    def class_name(cls):\n",
    "        cls.mentor_class([\"x\", \"y\", \"z\"])\n",
    "\n",
    "ihh.mentor_class([\"x\", \"y\", \"z\"])  \n"
   ]
  },
  {
   "cell_type": "markdown",
   "id": "7a352a9f-3f67-422e-8d6b-ad05f3412288",
   "metadata": {},
   "source": [
    "# special -magic/dunder method"
   ]
  },
  {
   "cell_type": "code",
   "execution_count": 17,
   "id": "4c00a085-0389-4f11-99ed-44d6b06c6f97",
   "metadata": {},
   "outputs": [
    {
     "data": {
      "text/plain": [
       "['__abs__',\n",
       " '__add__',\n",
       " '__and__',\n",
       " '__bool__',\n",
       " '__ceil__',\n",
       " '__class__',\n",
       " '__delattr__',\n",
       " '__dir__',\n",
       " '__divmod__',\n",
       " '__doc__',\n",
       " '__eq__',\n",
       " '__float__',\n",
       " '__floor__',\n",
       " '__floordiv__',\n",
       " '__format__',\n",
       " '__ge__',\n",
       " '__getattribute__',\n",
       " '__getnewargs__',\n",
       " '__getstate__',\n",
       " '__gt__',\n",
       " '__hash__',\n",
       " '__index__',\n",
       " '__init__',\n",
       " '__init_subclass__',\n",
       " '__int__',\n",
       " '__invert__',\n",
       " '__le__',\n",
       " '__lshift__',\n",
       " '__lt__',\n",
       " '__mod__',\n",
       " '__mul__',\n",
       " '__ne__',\n",
       " '__neg__',\n",
       " '__new__',\n",
       " '__or__',\n",
       " '__pos__',\n",
       " '__pow__',\n",
       " '__radd__',\n",
       " '__rand__',\n",
       " '__rdivmod__',\n",
       " '__reduce__',\n",
       " '__reduce_ex__',\n",
       " '__repr__',\n",
       " '__rfloordiv__',\n",
       " '__rlshift__',\n",
       " '__rmod__',\n",
       " '__rmul__',\n",
       " '__ror__',\n",
       " '__round__',\n",
       " '__rpow__',\n",
       " '__rrshift__',\n",
       " '__rshift__',\n",
       " '__rsub__',\n",
       " '__rtruediv__',\n",
       " '__rxor__',\n",
       " '__setattr__',\n",
       " '__sizeof__',\n",
       " '__str__',\n",
       " '__sub__',\n",
       " '__subclasshook__',\n",
       " '__truediv__',\n",
       " '__trunc__',\n",
       " '__xor__',\n",
       " 'as_integer_ratio',\n",
       " 'bit_count',\n",
       " 'bit_length',\n",
       " 'conjugate',\n",
       " 'denominator',\n",
       " 'from_bytes',\n",
       " 'imag',\n",
       " 'is_integer',\n",
       " 'numerator',\n",
       " 'real',\n",
       " 'to_bytes']"
      ]
     },
     "execution_count": 17,
     "metadata": {},
     "output_type": "execute_result"
    }
   ],
   "source": [
    "dir(int)"
   ]
  },
  {
   "cell_type": "code",
   "execution_count": 19,
   "id": "ce25a293-6a64-477c-b4ca-98d10bd7bd48",
   "metadata": {},
   "outputs": [
    {
     "data": {
      "text/plain": [
       "['__add__',\n",
       " '__class__',\n",
       " '__contains__',\n",
       " '__delattr__',\n",
       " '__dir__',\n",
       " '__doc__',\n",
       " '__eq__',\n",
       " '__format__',\n",
       " '__ge__',\n",
       " '__getattribute__',\n",
       " '__getitem__',\n",
       " '__getnewargs__',\n",
       " '__getstate__',\n",
       " '__gt__',\n",
       " '__hash__',\n",
       " '__init__',\n",
       " '__init_subclass__',\n",
       " '__iter__',\n",
       " '__le__',\n",
       " '__len__',\n",
       " '__lt__',\n",
       " '__mod__',\n",
       " '__mul__',\n",
       " '__ne__',\n",
       " '__new__',\n",
       " '__reduce__',\n",
       " '__reduce_ex__',\n",
       " '__repr__',\n",
       " '__rmod__',\n",
       " '__rmul__',\n",
       " '__setattr__',\n",
       " '__sizeof__',\n",
       " '__str__',\n",
       " '__subclasshook__',\n",
       " 'capitalize',\n",
       " 'casefold',\n",
       " 'center',\n",
       " 'count',\n",
       " 'encode',\n",
       " 'endswith',\n",
       " 'expandtabs',\n",
       " 'find',\n",
       " 'format',\n",
       " 'format_map',\n",
       " 'index',\n",
       " 'isalnum',\n",
       " 'isalpha',\n",
       " 'isascii',\n",
       " 'isdecimal',\n",
       " 'isdigit',\n",
       " 'isidentifier',\n",
       " 'islower',\n",
       " 'isnumeric',\n",
       " 'isprintable',\n",
       " 'isspace',\n",
       " 'istitle',\n",
       " 'isupper',\n",
       " 'join',\n",
       " 'ljust',\n",
       " 'lower',\n",
       " 'lstrip',\n",
       " 'maketrans',\n",
       " 'partition',\n",
       " 'removeprefix',\n",
       " 'removesuffix',\n",
       " 'replace',\n",
       " 'rfind',\n",
       " 'rindex',\n",
       " 'rjust',\n",
       " 'rpartition',\n",
       " 'rsplit',\n",
       " 'rstrip',\n",
       " 'split',\n",
       " 'splitlines',\n",
       " 'startswith',\n",
       " 'strip',\n",
       " 'swapcase',\n",
       " 'title',\n",
       " 'translate',\n",
       " 'upper',\n",
       " 'zfill']"
      ]
     },
     "execution_count": 19,
     "metadata": {},
     "output_type": "execute_result"
    }
   ],
   "source": [
    "dir(str)"
   ]
  },
  {
   "cell_type": "code",
   "execution_count": 21,
   "id": "cb24ad77-957a-429c-a0cb-19fb8f55444b",
   "metadata": {},
   "outputs": [
    {
     "data": {
      "text/plain": [
       "55"
      ]
     },
     "execution_count": 21,
     "metadata": {},
     "output_type": "execute_result"
    }
   ],
   "source": [
    "a=50\n",
    "a+5"
   ]
  },
  {
   "cell_type": "code",
   "execution_count": 23,
   "id": "e27a2792-9ae6-42c2-b814-f7eb09bc46ec",
   "metadata": {},
   "outputs": [
    {
     "data": {
      "text/plain": [
       "55"
      ]
     },
     "execution_count": 23,
     "metadata": {},
     "output_type": "execute_result"
    }
   ],
   "source": [
    "a.__add__(5)"
   ]
  },
  {
   "cell_type": "code",
   "execution_count": 25,
   "id": "d8b86b35-4c9f-4cba-aa56-62dcde265fff",
   "metadata": {},
   "outputs": [
    {
     "data": {
      "text/plain": [
       "['__abs__',\n",
       " '__add__',\n",
       " '__bool__',\n",
       " '__ceil__',\n",
       " '__class__',\n",
       " '__delattr__',\n",
       " '__dir__',\n",
       " '__divmod__',\n",
       " '__doc__',\n",
       " '__eq__',\n",
       " '__float__',\n",
       " '__floor__',\n",
       " '__floordiv__',\n",
       " '__format__',\n",
       " '__ge__',\n",
       " '__getattribute__',\n",
       " '__getformat__',\n",
       " '__getnewargs__',\n",
       " '__getstate__',\n",
       " '__gt__',\n",
       " '__hash__',\n",
       " '__init__',\n",
       " '__init_subclass__',\n",
       " '__int__',\n",
       " '__le__',\n",
       " '__lt__',\n",
       " '__mod__',\n",
       " '__mul__',\n",
       " '__ne__',\n",
       " '__neg__',\n",
       " '__new__',\n",
       " '__pos__',\n",
       " '__pow__',\n",
       " '__radd__',\n",
       " '__rdivmod__',\n",
       " '__reduce__',\n",
       " '__reduce_ex__',\n",
       " '__repr__',\n",
       " '__rfloordiv__',\n",
       " '__rmod__',\n",
       " '__rmul__',\n",
       " '__round__',\n",
       " '__rpow__',\n",
       " '__rsub__',\n",
       " '__rtruediv__',\n",
       " '__setattr__',\n",
       " '__sizeof__',\n",
       " '__str__',\n",
       " '__sub__',\n",
       " '__subclasshook__',\n",
       " '__truediv__',\n",
       " '__trunc__',\n",
       " 'as_integer_ratio',\n",
       " 'conjugate',\n",
       " 'fromhex',\n",
       " 'hex',\n",
       " 'imag',\n",
       " 'is_integer',\n",
       " 'real']"
      ]
     },
     "execution_count": 25,
     "metadata": {},
     "output_type": "execute_result"
    }
   ],
   "source": [
    "dir(float)"
   ]
  },
  {
   "cell_type": "code",
   "execution_count": 27,
   "id": "d0bdba7f-0dc7-4e6b-a23c-c7f59959491d",
   "metadata": {},
   "outputs": [
    {
     "name": "stdout",
     "output_type": "stream",
     "text": [
      "this is init\n"
     ]
    }
   ],
   "source": [
    "class demo:\n",
    "    def __init__(self):\n",
    "        print(\"this is init\")\n",
    "\n",
    "demo_obj=demo()"
   ]
  },
  {
   "cell_type": "code",
   "execution_count": 31,
   "id": "0ba97c03-144f-4ed8-97d9-2b0d35548591",
   "metadata": {},
   "outputs": [
    {
     "name": "stdout",
     "output_type": "stream",
     "text": [
      "python\n"
     ]
    }
   ],
   "source": [
    "class demo:\n",
    "    def __new__(cls):\n",
    "        print(\"python\")\n",
    "    def __init__(self):\n",
    "        print(\"code\")\n",
    "\n",
    "demo_obj=demo()"
   ]
  },
  {
   "cell_type": "markdown",
   "id": "00b06c13-1d50-4fd1-bb3d-64d8b0b86061",
   "metadata": {},
   "source": [
    "# property decorders-getter,setter,delete"
   ]
  },
  {
   "cell_type": "code",
   "execution_count": 42,
   "id": "fd466df5-4f66-425d-8432-31e4e1171402",
   "metadata": {},
   "outputs": [
    {
     "data": {
      "text/plain": [
       "700"
      ]
     },
     "execution_count": 42,
     "metadata": {},
     "output_type": "execute_result"
    }
   ],
   "source": [
    "class movie:\n",
    "    def __init__(self,movie_name,ticket_price):\n",
    "        self.movie_name=movie_name\n",
    "        self.__ticket_price=ticket_price\n",
    "    @property\n",
    "    def ticket_price_access(self):\n",
    "        return self.__ticket_price\n",
    "        \n",
    "    @ticket_price_access.setter\n",
    "    def ticket_price_set(self,price):\n",
    "        if price <=500:\n",
    "            pass\n",
    "        else:\n",
    "            self.__ticket_price=price\n",
    "            \n",
    "            \n",
    "    \n",
    "movie_obj=movie(\"sikandar\",1240)\n",
    "movie_obj.ticket_price_access\n",
    "\n",
    "movie_obj.ticket_price_set=700\n",
    "movie_obj.ticket_price_access\n",
    "\n",
    "\n"
   ]
  },
  {
   "cell_type": "code",
   "execution_count": 48,
   "id": "bd9f52d0-88e7-4d52-9f34-bc61ea17a88a",
   "metadata": {},
   "outputs": [
    {
     "ename": "AttributeError",
     "evalue": "'movie' object has no attribute '_movie__ticket_price'",
     "output_type": "error",
     "traceback": [
      "\u001b[1;31m---------------------------------------------------------------------------\u001b[0m",
      "\u001b[1;31mAttributeError\u001b[0m                            Traceback (most recent call last)",
      "Cell \u001b[1;32mIn[48], line 33\u001b[0m\n\u001b[0;32m     30\u001b[0m movie_obj\u001b[38;5;241m.\u001b[39mticket_price_access\n\u001b[0;32m     32\u001b[0m \u001b[38;5;28;01mdel\u001b[39;00m movie_obj\u001b[38;5;241m.\u001b[39mticket_price_del\n\u001b[1;32m---> 33\u001b[0m movie_obj\u001b[38;5;241m.\u001b[39mticket_price_access\n",
      "Cell \u001b[1;32mIn[48], line 7\u001b[0m, in \u001b[0;36mmovie.ticket_price_access\u001b[1;34m(self)\u001b[0m\n\u001b[0;32m      5\u001b[0m \u001b[38;5;129m@property\u001b[39m\n\u001b[0;32m      6\u001b[0m \u001b[38;5;28;01mdef\u001b[39;00m \u001b[38;5;21mticket_price_access\u001b[39m(\u001b[38;5;28mself\u001b[39m):\n\u001b[1;32m----> 7\u001b[0m     \u001b[38;5;28;01mreturn\u001b[39;00m \u001b[38;5;28mself\u001b[39m\u001b[38;5;241m.\u001b[39m__ticket_price\n",
      "\u001b[1;31mAttributeError\u001b[0m: 'movie' object has no attribute '_movie__ticket_price'"
     ]
    }
   ],
   "source": [
    "class movie:\n",
    "    def __init__(self,movie_name,ticket_price):\n",
    "        self.movie_name=movie_name\n",
    "        self.__ticket_price=ticket_price\n",
    "    @property\n",
    "    def ticket_price_access(self):\n",
    "        return self.__ticket_price\n",
    "        \n",
    "    @ticket_price_access.setter\n",
    "    def ticket_price_set(self,price):\n",
    "        if price <=500:\n",
    "            pass\n",
    "        else:\n",
    "            self.__ticket_price=price\n",
    "\n",
    "    @ticket_price_access.deleter\n",
    "    def ticket_price_del(self):\n",
    "        del self.__ticket_price\n",
    "            \n",
    "            \n",
    "        \n",
    "            \n",
    "            \n",
    "        \n",
    "\n",
    "movie_obj=movie(\"sikandar\",1240)\n",
    "movie_obj.ticket_price_access\n",
    "\n",
    "movie_obj.ticket_price_set=700\n",
    "movie_obj.ticket_price_access\n",
    "\n",
    "del movie_obj.ticket_price_del\n",
    "movie_obj.ticket_price_access\n",
    "\n",
    "\n"
   ]
  },
  {
   "cell_type": "code",
   "execution_count": null,
   "id": "6669121c-345d-41ba-bc08-9a0500f845c3",
   "metadata": {},
   "outputs": [],
   "source": []
  }
 ],
 "metadata": {
  "kernelspec": {
   "display_name": "Python [conda env:base] *",
   "language": "python",
   "name": "conda-base-py"
  },
  "language_info": {
   "codemirror_mode": {
    "name": "ipython",
    "version": 3
   },
   "file_extension": ".py",
   "mimetype": "text/x-python",
   "name": "python",
   "nbconvert_exporter": "python",
   "pygments_lexer": "ipython3",
   "version": "3.12.7"
  }
 },
 "nbformat": 4,
 "nbformat_minor": 5
}
