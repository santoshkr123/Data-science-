{
 "cells": [
  {
   "cell_type": "markdown",
   "id": "2666a885-247a-45da-8fc1-01d0ca60090e",
   "metadata": {},
   "source": [
    "# class method(@classmethod)"
   ]
  },
  {
   "cell_type": "code",
   "execution_count": 17,
   "id": "d7bc045c-08a1-4091-b6aa-9e6ef9ae711d",
   "metadata": {},
   "outputs": [
    {
     "name": "stdout",
     "output_type": "stream",
     "text": [
      "this is an amazing python learning\n"
     ]
    }
   ],
   "source": [
    "class apple:\n",
    "    def hello(self):\n",
    "        print(\"this is an amazing python learning\")\n",
    "\n",
    "app=apple() #creating an object\n",
    "app.hello()"
   ]
  },
  {
   "cell_type": "code",
   "execution_count": 19,
   "id": "66661728-a1ad-41ff-93c1-a401abdcf6fb",
   "metadata": {},
   "outputs": [
    {
     "data": {
      "text/plain": [
       "1980.0"
      ]
     },
     "execution_count": 19,
     "metadata": {},
     "output_type": "execute_result"
    }
   ],
   "source": [
    "class mobile:\n",
    "    base_price=1000\n",
    "    def __init__(self,number,id_name):\n",
    "        self.number=number\n",
    "        self.id_name=id_name\n",
    "    @classmethod\n",
    "    def revise_new_price(cls,inflation):\n",
    "        cls.base_price=cls.base_price +cls.base_price * inflation\n",
    "\n",
    "mobile.revise_new_price(0.10) #without creating an object using class method(@classmethod)\n",
    "mobile.base_price\n",
    "\n",
    "mobile.revise_new_price(0.8)\n",
    "mobile.base_price"
   ]
  },
  {
   "cell_type": "markdown",
   "id": "02fdae4e-3f3a-4558-adf1-e4b96787a797",
   "metadata": {},
   "source": [
    "# static method(@staticmethod)"
   ]
  },
  {
   "cell_type": "code",
   "execution_count": 31,
   "id": "591942f7-5b68-492c-af5c-0d7a71d7fe06",
   "metadata": {},
   "outputs": [
    {
     "name": "stdout",
     "output_type": "stream",
     "text": [
      "ram ram@gmail.com 8979788998\n",
      "ramu ramu@gmail.com 6515165161\n",
      "['x', 'y', 'z']\n",
      "['a', 'b', 'c']\n"
     ]
    }
   ],
   "source": [
    "class ihh():\n",
    "    def student_details(self,name,email_id,phone_number):\n",
    "        print(name,email_id,phone_number)\n",
    "    def exam_details(self,list_mentor):\n",
    "        self.list_mentor=list_mentor\n",
    "        print(list_mentor)\n",
    "\n",
    "obj1=ihh()\n",
    "obj1.student_details(\"ram\",\"ram@gmail.com\",8979788998)\n",
    "\n",
    "obj2=ihh()\n",
    "obj2.student_details(\"ramu\",\"ramu@gmail.com\",6515165161)\n",
    "\n",
    "obj1.exam_details([\"x\",\"y\",\"z\"])\n",
    "obj2.exam_details([\"a\",\"b\",\"c\"])\n"
   ]
  },
  {
   "cell_type": "code",
   "execution_count": 41,
   "id": "1f3b16e0-96c3-4373-ab2b-f823b81f7f79",
   "metadata": {},
   "outputs": [
    {
     "name": "stdout",
     "output_type": "stream",
     "text": [
      "['x', 'y', 'z']\n",
      "ram ram@gmail.com 4654655\n",
      "ramu ramu@gmail.com 4323554545\n"
     ]
    }
   ],
   "source": [
    "class ihh():\n",
    "    def student_details(self,name,email_id,phone_number):\n",
    "        print(name,email_id,phone_number)\n",
    "    @staticmethod    \n",
    "    def exam_details(list_mentor):\n",
    "        print(list_mentor)\n",
    "\n",
    "ihh.exam_details([\"x\",\"y\",\"z\"])\n",
    "\n",
    "st1=ihh()\n",
    "st1.student_details(\"ram\",\"ram@gmail.com\",4654655)\n",
    "\n",
    "st2=ihh()\n",
    "st2.student_details(\"ramu\",\"ramu@gmail.com\",4323554545)"
   ]
  },
  {
   "cell_type": "code",
   "execution_count": null,
   "id": "7fb69198-a68e-4ce4-82af-e1e70a7f9245",
   "metadata": {},
   "outputs": [],
   "source": []
  }
 ],
 "metadata": {
  "kernelspec": {
   "display_name": "Python [conda env:base] *",
   "language": "python",
   "name": "conda-base-py"
  },
  "language_info": {
   "codemirror_mode": {
    "name": "ipython",
    "version": 3
   },
   "file_extension": ".py",
   "mimetype": "text/x-python",
   "name": "python",
   "nbconvert_exporter": "python",
   "pygments_lexer": "ipython3",
   "version": "3.12.7"
  }
 },
 "nbformat": 4,
 "nbformat_minor": 5
}
