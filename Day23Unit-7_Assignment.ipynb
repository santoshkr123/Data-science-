{
 "cells": [
  {
   "cell_type": "markdown",
   "id": "9c8ecf77-69ea-496e-b1cc-bc6ee7ed2a7a",
   "metadata": {},
   "source": [
    "# unit-7_Assignment"
   ]
  },
  {
   "cell_type": "code",
   "execution_count": 9,
   "id": "43dd0cc6-80a1-4709-9fc3-a3f57134bf0e",
   "metadata": {},
   "outputs": [
    {
     "name": "stdout",
     "output_type": "stream",
     "text": [
      "This\n",
      "is\n",
      "python\n",
      "language\n"
     ]
    }
   ],
   "source": [
    "\"\"\"1) Python program to print even length words in a string\n",
    "Input: s = \"This is a python language\"\n",
    "Output: This is python language  \"\"\"\n",
    "\n",
    "\n",
    "s=\"This is a python language\"\n",
    "n=s.split(\" \")\n",
    "for i in n:\n",
    "    if len(i)%2==0:\n",
    "        print(i)\n"
   ]
  },
  {
   "cell_type": "code",
   "execution_count": 23,
   "id": "c5c09535-c9fe-42b6-b51d-8ab0a7234504",
   "metadata": {},
   "outputs": [
    {
     "data": {
      "text/plain": [
       "True"
      ]
     },
     "execution_count": 23,
     "metadata": {},
     "output_type": "execute_result"
    }
   ],
   "source": [
    "\"\"\"2) Python program to check if a string has at least one letter and one number\n",
    "Input: welcome2ourcountry34\n",
    "Output: True\"\"\"\n",
    "\n",
    "\n",
    "\n",
    "def checkstring(str):\n",
    "    one_letter=False\n",
    "    one_number=False\n",
    "    for i in str:\n",
    "        if i.isalpha():\n",
    "            one_letter=True\n",
    "        if i.isdigit():\n",
    "            one_number=True\n",
    "    return one_letter and one_number     \n",
    "    \n",
    "checkstring(\"welcome2ourcountry34\")\n"
   ]
  },
  {
   "cell_type": "code",
   "execution_count": 31,
   "id": "824879b5-e4d3-4515-9945-24de4e93af15",
   "metadata": {},
   "outputs": [
    {
     "name": "stdout",
     "output_type": "stream",
     "text": [
      "str is : pythonfor data analyst is No. 1 4 python\n",
      "count of numerics in string are : 2\n"
     ]
    }
   ],
   "source": [
    "\"\"\"3) Python program to find Frequency of numbers in String\n",
    "Output\n",
    "The original string is : pythonfor data analyst is No. 1 4 python\n",
    "Count of numerics in string : 2\"\"\"\n",
    "\n",
    "import re\n",
    "text_str=\"pythonfor data analyst is No. 1 4 python\"\n",
    "print(\"str is :\",text_str)\n",
    "\n",
    "res=len(re.findall(r'\\d+',text_str))\n",
    "print(\"count of numerics in string are :\",str(res))"
   ]
  },
  {
   "cell_type": "code",
   "execution_count": 45,
   "id": "a51d58d6-b266-427a-8d11-833d75372819",
   "metadata": {},
   "outputs": [
    {
     "data": {
      "text/plain": [
       "' 14,625,498. 002'"
      ]
     },
     "execution_count": 45,
     "metadata": {},
     "output_type": "execute_result"
    }
   ],
   "source": [
    "\"\"\"4) Write a program to Swap commas and dots in a String\n",
    "Input : 14, 625, 498.002\n",
    "Output : 14.625.498, 002\"\"\"\n",
    "\n",
    "\n",
    "\n",
    "def Swap(str1):\n",
    "    str1=str1.replace(\",\" , \"temp\")\n",
    "    str1=str1.replace(\".\" , \",\")\n",
    "    str1=str1.replace(\"temp\" , \".\")\n",
    "    return str1\n",
    "\n",
    "result=\" 14.625.498, 002\"\n",
    "Swap(result)"
   ]
  },
  {
   "cell_type": "code",
   "execution_count": 47,
   "id": "6561ac9e-5ee6-4be5-a272-b4c7dcb81b4b",
   "metadata": {},
   "outputs": [
    {
     "name": "stdout",
     "output_type": "stream",
     "text": [
      "Sum is 38 Average is  6.333333333333333\n"
     ]
    }
   ],
   "source": [
    "\"\"\"5) Calculate the sum and average of the digits present in a string\n",
    "input_str = \"Datapython29@#8496\"\n",
    "Output\n",
    "Sum is: 38 Average is 6.333333333333333\"\"\"\n",
    "\n",
    "\n",
    "\n",
    "input_str = \"Datapython29@#8496\"\n",
    "total=0\n",
    "count=0\n",
    "for i in input_str:\n",
    "    if i.isdigit():\n",
    "        total+=int(i)\n",
    "        count+=1\n",
    "\n",
    "average=total/count\n",
    "print(\"Sum is\",total,\"Average is \",average)\n",
    "        \n",
    "    "
   ]
  },
  {
   "cell_type": "code",
   "execution_count": 49,
   "id": "d3247b42-0633-4f58-85b2-542163cb0e53",
   "metadata": {},
   "outputs": [
    {
     "name": "stdout",
     "output_type": "stream",
     "text": [
      "Chars=8 Digit=2 Symbol=3\n"
     ]
    }
   ],
   "source": [
    "\"\"\"6) Count all letters, digits, and special symbols from a given string\n",
    "input \"A@un2st&#i5ve\"\n",
    "Output\n",
    "Chars = 8 Digits = 2 Symbol = 3\"\"\"\n",
    "\n",
    "\n",
    "input=\"A@un2st&#i5ve\"\n",
    "char_count=0\n",
    "digit_count=0\n",
    "symbol_count=0\n",
    "\n",
    "for i in input:\n",
    "    if i.isalpha():\n",
    "        char_count+=1\n",
    "    elif i.isdigit():\n",
    "        digit_count+=1\n",
    "    else:\n",
    "        symbol_count+=1\n",
    "        \n",
    "    \n",
    "\n",
    "print(f\"Chars={char_count} Digit={digit_count} Symbol={symbol_count}\")"
   ]
  },
  {
   "cell_type": "code",
   "execution_count": 57,
   "id": "ed22790b-6b07-4c23-85ef-c351572a8f56",
   "metadata": {},
   "outputs": [
    {
     "data": {
      "text/plain": [
       "'7) Take the input from the user and reverse it'"
      ]
     },
     "execution_count": 57,
     "metadata": {},
     "output_type": "execute_result"
    }
   ],
   "source": [
    "\"\"\"7) Take the input from the user and reverse it\"\"\"\n",
    "\n"
   ]
  },
  {
   "cell_type": "code",
   "execution_count": null,
   "id": "a38f5f36-8567-4e1e-867c-bc05285aa00e",
   "metadata": {},
   "outputs": [],
   "source": [
    "\n",
    "s = input(\"Enter a string from the user: \")\n",
    "\n",
    "print(\"Reverse string is:\", s[::-1])\n"
   ]
  },
  {
   "cell_type": "code",
   "execution_count": null,
   "id": "102aebff-9957-4e07-a7cb-fc73b9d42d85",
   "metadata": {},
   "outputs": [],
   "source": []
  }
 ],
 "metadata": {
  "kernelspec": {
   "display_name": "Python [conda env:base] *",
   "language": "python",
   "name": "conda-base-py"
  },
  "language_info": {
   "codemirror_mode": {
    "name": "ipython",
    "version": 3
   },
   "file_extension": ".py",
   "mimetype": "text/x-python",
   "name": "python",
   "nbconvert_exporter": "python",
   "pygments_lexer": "ipython3",
   "version": "3.12.7"
  }
 },
 "nbformat": 4,
 "nbformat_minor": 5
}
