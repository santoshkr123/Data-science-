{
 "cells": [
  {
   "cell_type": "markdown",
   "id": "5a4f38b2-c1b6-4abf-a8ef-5b15e6dd3ae0",
   "metadata": {},
   "source": [
    "# Tuples-I"
   ]
  },
  {
   "cell_type": "code",
   "execution_count": 3,
   "id": "bc194f44-9590-47c0-8430-cba9e7eb0132",
   "metadata": {},
   "outputs": [
    {
     "name": "stdout",
     "output_type": "stream",
     "text": [
      "(1, 2, 3, 4, 5, 6, 78, 96, 25, 55)\n",
      "<class 'tuple'>\n"
     ]
    }
   ],
   "source": [
    "T=(1,2,3,4,5,6,78,96,25,55)\n",
    "print(T)\n",
    "print(type(T))"
   ]
  },
  {
   "cell_type": "code",
   "execution_count": 5,
   "id": "6cc735f1-b1a9-4bc1-b536-3eb82dd8164b",
   "metadata": {},
   "outputs": [
    {
     "name": "stdout",
     "output_type": "stream",
     "text": [
      "(12, 23, 25, 88, 56.22, 63.99)\n",
      "<class 'tuple'>\n"
     ]
    }
   ],
   "source": [
    "T=(12,23,25,88,56.22,63.99)\n",
    "print(T)\n",
    "print(type(T))"
   ]
  },
  {
   "cell_type": "code",
   "execution_count": 9,
   "id": "3e985ca4-9259-44eb-8de4-dac968ad929f",
   "metadata": {},
   "outputs": [
    {
     "name": "stdout",
     "output_type": "stream",
     "text": [
      "()\n",
      "<class 'tuple'>\n"
     ]
    }
   ],
   "source": [
    "T=()\n",
    "print(T)\n",
    "print(type(T))"
   ]
  },
  {
   "cell_type": "code",
   "execution_count": 11,
   "id": "25ce7fe3-70e2-4096-ad16-0bf925b3c2cf",
   "metadata": {},
   "outputs": [
    {
     "name": "stdout",
     "output_type": "stream",
     "text": [
      "<class 'int'>\n"
     ]
    }
   ],
   "source": [
    "T=(25)\n",
    "print(type(T))"
   ]
  },
  {
   "cell_type": "code",
   "execution_count": 15,
   "id": "299e5322-b0c8-41fa-bc05-bd0b7c7f87f7",
   "metadata": {},
   "outputs": [
    {
     "name": "stdout",
     "output_type": "stream",
     "text": [
      "<class 'tuple'>\n"
     ]
    }
   ],
   "source": [
    "T=(25,)\n",
    "print(type(T))"
   ]
  },
  {
   "cell_type": "code",
   "execution_count": 17,
   "id": "5d246936-475e-432b-9f7c-f8ebac20eeea",
   "metadata": {},
   "outputs": [
    {
     "name": "stdout",
     "output_type": "stream",
     "text": [
      "<class 'tuple'>\n"
     ]
    }
   ],
   "source": [
    "T=(\"Hello\",)\n",
    "print(type(T))"
   ]
  },
  {
   "cell_type": "code",
   "execution_count": 21,
   "id": "851ccfd8-8dcc-460c-a23c-291c6c6cf426",
   "metadata": {},
   "outputs": [
    {
     "name": "stdout",
     "output_type": "stream",
     "text": [
      "<class 'tuple'>\n",
      "(1, 2, 3, 4, (5, 6, 7), (8, 9, 10))\n"
     ]
    }
   ],
   "source": [
    "T=(1,2,3,4,(5,6,7),(8,9,10))\n",
    "print(type(T))\n",
    "print(T)"
   ]
  },
  {
   "cell_type": "markdown",
   "id": "3ef5aedb-e078-4059-877a-79683b1492c5",
   "metadata": {},
   "source": [
    "# concatenation of tuple"
   ]
  },
  {
   "cell_type": "code",
   "execution_count": 24,
   "id": "c4bd321e-92b0-4c35-aa67-b15620a8b438",
   "metadata": {},
   "outputs": [
    {
     "name": "stdout",
     "output_type": "stream",
     "text": [
      "(1, 2, 3, 4, 5, 6, 7, 8)\n"
     ]
    }
   ],
   "source": [
    "tuple1=(1,2,3,4)\n",
    "tuple2=(5,6,7,8)\n",
    "print(tuple1+tuple2)"
   ]
  },
  {
   "cell_type": "markdown",
   "id": "b4c15c41-f076-4229-a000-d4d027bc6218",
   "metadata": {},
   "source": [
    "# nesting of tuples"
   ]
  },
  {
   "cell_type": "code",
   "execution_count": 27,
   "id": "d41370df-8777-4a71-9eb5-897d3031e81c",
   "metadata": {},
   "outputs": [
    {
     "name": "stdout",
     "output_type": "stream",
     "text": [
      "(1, 2, 3, 4, 5)\n",
      "(-1, -2, -3, -4)\n",
      "((1, 2, 3, 4, 5), (-1, -2, -3, -4))\n"
     ]
    }
   ],
   "source": [
    "tuple1=(1,2,3,4,5)\n",
    "tuple2=(-1,-2,-3,-4)\n",
    "tuple3=(tuple1,tuple2)\n",
    "print(tuple1)\n",
    "print(tuple2)\n",
    "print(tuple3)"
   ]
  },
  {
   "cell_type": "markdown",
   "id": "6c55e6de-8c55-4518-aea0-fed332f8277d",
   "metadata": {},
   "source": [
    "# multiply tuples"
   ]
  },
  {
   "cell_type": "code",
   "execution_count": 30,
   "id": "d284cea0-8e79-4c4d-bf8f-8331db1cd62a",
   "metadata": {},
   "outputs": [
    {
     "name": "stdout",
     "output_type": "stream",
     "text": [
      "('apple', 'Guava', 'Orange', 'apple', 'Guava', 'Orange')\n"
     ]
    }
   ],
   "source": [
    "t=(\"apple\",\"Guava\",\"Orange\")\n",
    "t1=t*2\n",
    "print(t1)"
   ]
  },
  {
   "cell_type": "code",
   "execution_count": 32,
   "id": "ba55399d-e5b5-43aa-ac0f-b21179d584d7",
   "metadata": {},
   "outputs": [
    {
     "name": "stdout",
     "output_type": "stream",
     "text": [
      "('apple', 'orange', 'Mango', 'apple', 'orange', 'Mango', 'apple', 'orange', 'Mango')\n"
     ]
    }
   ],
   "source": [
    "t=(\"apple\",\"orange\",\"Mango\")\n",
    "t1=t*3\n",
    "print(t1)"
   ]
  },
  {
   "cell_type": "markdown",
   "id": "1c9fefb6-1c5a-4146-8167-2aa82a72b4ed",
   "metadata": {},
   "source": [
    "# length of tuple"
   ]
  },
  {
   "cell_type": "code",
   "execution_count": 37,
   "id": "9402aa5b-7aab-4b2c-881f-15e2a29421f4",
   "metadata": {},
   "outputs": [
    {
     "name": "stdout",
     "output_type": "stream",
     "text": [
      "6\n"
     ]
    }
   ],
   "source": [
    "T=(12,13,15,\"helle\",\"parrot\",23.33)\n",
    "print(len(T))"
   ]
  },
  {
   "cell_type": "code",
   "execution_count": 39,
   "id": "dc62926e-6708-4be0-bfd4-719fa993dedb",
   "metadata": {},
   "outputs": [
    {
     "name": "stdout",
     "output_type": "stream",
     "text": [
      "(12, 13, 12, 13, 15, 18, 15, 19, 55)\n"
     ]
    }
   ],
   "source": [
    "T=(12,13,12,13,15,18,15,19,55)\n",
    "print(T)"
   ]
  },
  {
   "cell_type": "markdown",
   "id": "e496f982-396b-432f-8019-39a3096a6959",
   "metadata": {},
   "source": [
    "count()method"
   ]
  },
  {
   "cell_type": "code",
   "execution_count": 46,
   "id": "fd52bebb-6d37-486d-8e36-6c350c0248f2",
   "metadata": {},
   "outputs": [
    {
     "name": "stdout",
     "output_type": "stream",
     "text": [
      "2\n",
      "2\n"
     ]
    }
   ],
   "source": [
    "T=(12,13,12,15,16,16,18,18)\n",
    "print(T.count(12))\n",
    "print(T.count(16))"
   ]
  },
  {
   "cell_type": "markdown",
   "id": "b92695a7-84c3-4a7d-9e01-52762c424789",
   "metadata": {},
   "source": [
    "# indexing in tuple"
   ]
  },
  {
   "cell_type": "code",
   "execution_count": 49,
   "id": "84e8e8b9-fc5a-4053-bae1-a6d1a62f944f",
   "metadata": {},
   "outputs": [
    {
     "name": "stdout",
     "output_type": "stream",
     "text": [
      "12\n"
     ]
    }
   ],
   "source": [
    "t=(12,13,14,15,16,17,18)\n",
    "print(t[0])"
   ]
  },
  {
   "cell_type": "code",
   "execution_count": 51,
   "id": "9cb1b68c-7906-424f-95df-f184c4f3cebc",
   "metadata": {},
   "outputs": [
    {
     "name": "stdout",
     "output_type": "stream",
     "text": [
      "14\n"
     ]
    }
   ],
   "source": [
    "t=(12,13,14,15,16,17,18)\n",
    "print(t[2])"
   ]
  },
  {
   "cell_type": "code",
   "execution_count": 53,
   "id": "d3b54eb9-859d-4180-97a4-786602673f1a",
   "metadata": {},
   "outputs": [
    {
     "name": "stdout",
     "output_type": "stream",
     "text": [
      "17\n"
     ]
    }
   ],
   "source": [
    "t=(12,13,14,15,16,17,18)\n",
    "print(t[5])"
   ]
  },
  {
   "cell_type": "code",
   "execution_count": 57,
   "id": "60d0698d-8d64-46ae-b48f-6f548d6a95aa",
   "metadata": {},
   "outputs": [
    {
     "name": "stdout",
     "output_type": "stream",
     "text": [
      "18\n"
     ]
    }
   ],
   "source": [
    "t=(12,13,14,15,16,17,18)\n",
    "print(t[-1])"
   ]
  },
  {
   "cell_type": "markdown",
   "id": "d61be9d6-3eb4-4845-90a1-fb78fd54a136",
   "metadata": {},
   "source": [
    "# index() method in tuple"
   ]
  },
  {
   "cell_type": "code",
   "execution_count": 66,
   "id": "3e113877-9c2c-4aa7-9a0b-e0eeecf10f15",
   "metadata": {},
   "outputs": [
    {
     "name": "stdout",
     "output_type": "stream",
     "text": [
      "2\n"
     ]
    }
   ],
   "source": [
    "t=(12,13,19,88)\n",
    "t1=t.index(19)\n",
    "print(t1)"
   ]
  },
  {
   "cell_type": "code",
   "execution_count": 68,
   "id": "f1c1893b-9cc1-4378-b8d7-1b7834d1527a",
   "metadata": {},
   "outputs": [
    {
     "name": "stdout",
     "output_type": "stream",
     "text": [
      "4\n"
     ]
    }
   ],
   "source": [
    "t=(1,2,4,8,\"hello\",\"code\")\n",
    "t1=t.index(\"hello\")\n",
    "print(t1)"
   ]
  },
  {
   "cell_type": "markdown",
   "id": "8dd83efe-0c87-4744-af2f-d2cf48ab33bf",
   "metadata": {},
   "source": [
    "# slicing in tuple"
   ]
  },
  {
   "cell_type": "code",
   "execution_count": 71,
   "id": "3f10bbec-58d4-4a85-8cad-1a01d3f07667",
   "metadata": {},
   "outputs": [
    {
     "name": "stdout",
     "output_type": "stream",
     "text": [
      "(1, 2, 3, 4)\n"
     ]
    }
   ],
   "source": [
    "a=(1,2,3,4,5,6)\n",
    "print(a[0:4])\n"
   ]
  },
  {
   "cell_type": "code",
   "execution_count": 73,
   "id": "1e9a7e3e-74b8-4f90-857a-758e53df4932",
   "metadata": {},
   "outputs": [
    {
     "name": "stdout",
     "output_type": "stream",
     "text": [
      "(1, 2, 3, 4, 5)\n"
     ]
    }
   ],
   "source": [
    "a=(1,2,3,4,5,6)\n",
    "print(a[:5])"
   ]
  },
  {
   "cell_type": "code",
   "execution_count": 75,
   "id": "72074e1f-882e-4519-8c84-ed3c1050872f",
   "metadata": {},
   "outputs": [
    {
     "name": "stdout",
     "output_type": "stream",
     "text": [
      "(1, 2, 3, 4, 5, 6, 'code', 'python')\n"
     ]
    }
   ],
   "source": [
    "a=(1,2,3,4,5,6,\"code\",\"python\",\"datascience\")\n",
    "print(a[:8])"
   ]
  },
  {
   "cell_type": "code",
   "execution_count": 77,
   "id": "a50c8ca4-7f3a-4fa8-990a-c5f2f6a384af",
   "metadata": {},
   "outputs": [
    {
     "name": "stdout",
     "output_type": "stream",
     "text": [
      "(1, 3, 5)\n"
     ]
    }
   ],
   "source": [
    "a=(1,2,3,4,5,6)\n",
    "print(a[:5:2])"
   ]
  },
  {
   "cell_type": "code",
   "execution_count": 81,
   "id": "ba9e4410-3a52-47f1-8345-83dea7638dc2",
   "metadata": {},
   "outputs": [
    {
     "name": "stdout",
     "output_type": "stream",
     "text": [
      "('kesar', 'mango', 'code', 6, 5, 4, 3, 2, 1)\n"
     ]
    }
   ],
   "source": [
    "a=(1,2,3,4,5,6,\"code\",\"mango\",\"kesar\")\n",
    "print(a[::-1])"
   ]
  },
  {
   "cell_type": "markdown",
   "id": "1ac27775-18af-4411-b26c-637798ed3c76",
   "metadata": {},
   "source": [
    "# repetition in tuple"
   ]
  },
  {
   "cell_type": "code",
   "execution_count": 84,
   "id": "26c24a5a-dbad-4d90-a9e5-7e80d94844cb",
   "metadata": {},
   "outputs": [
    {
     "name": "stdout",
     "output_type": "stream",
     "text": [
      "36\n"
     ]
    }
   ],
   "source": [
    "t=(12)*3\n",
    "print(t)"
   ]
  },
  {
   "cell_type": "code",
   "execution_count": 86,
   "id": "b2063b92-0473-4332-ac79-2eab529c871f",
   "metadata": {},
   "outputs": [
    {
     "name": "stdout",
     "output_type": "stream",
     "text": [
      "hellohellohellohellohello\n"
     ]
    }
   ],
   "source": [
    "t=(\"hello\")*5\n",
    "print(t)"
   ]
  },
  {
   "cell_type": "code",
   "execution_count": 88,
   "id": "bec9c6b2-f2d5-4234-a1e7-a3f421655629",
   "metadata": {},
   "outputs": [
    {
     "ename": "AttributeError",
     "evalue": "'tuple' object has no attribute 'append'",
     "output_type": "error",
     "traceback": [
      "\u001b[1;31m---------------------------------------------------------------------------\u001b[0m",
      "\u001b[1;31mAttributeError\u001b[0m                            Traceback (most recent call last)",
      "Cell \u001b[1;32mIn[88], line 2\u001b[0m\n\u001b[0;32m      1\u001b[0m t\u001b[38;5;241m=\u001b[39m(\u001b[38;5;241m12\u001b[39m,\u001b[38;5;241m13\u001b[39m,\u001b[38;5;241m14\u001b[39m,\u001b[38;5;241m15\u001b[39m)\n\u001b[1;32m----> 2\u001b[0m \u001b[38;5;28mprint\u001b[39m(t\u001b[38;5;241m.\u001b[39mappend(\u001b[38;5;241m9\u001b[39m))\n",
      "\u001b[1;31mAttributeError\u001b[0m: 'tuple' object has no attribute 'append'"
     ]
    }
   ],
   "source": [
    "t=(12,13,14,15)\n",
    "print(t.append(9))"
   ]
  },
  {
   "cell_type": "code",
   "execution_count": 90,
   "id": "554527fb-78b5-4b1e-a904-4f0d88f2f66d",
   "metadata": {},
   "outputs": [
    {
     "ename": "NameError",
     "evalue": "name 't' is not defined",
     "output_type": "error",
     "traceback": [
      "\u001b[1;31m---------------------------------------------------------------------------\u001b[0m",
      "\u001b[1;31mNameError\u001b[0m                                 Traceback (most recent call last)",
      "Cell \u001b[1;32mIn[90], line 3\u001b[0m\n\u001b[0;32m      1\u001b[0m t\u001b[38;5;241m=\u001b[39m(\u001b[38;5;241m12\u001b[39m,\u001b[38;5;241m13\u001b[39m,\u001b[38;5;241m14\u001b[39m)\n\u001b[0;32m      2\u001b[0m \u001b[38;5;28;01mdel\u001b[39;00m(t)\n\u001b[1;32m----> 3\u001b[0m \u001b[38;5;28mprint\u001b[39m(t)\n",
      "\u001b[1;31mNameError\u001b[0m: name 't' is not defined"
     ]
    }
   ],
   "source": [
    "t=(12,13,14)\n",
    "del(t)\n",
    "print(t)"
   ]
  },
  {
   "cell_type": "markdown",
   "id": "57d56527-0893-4873-b495-92d2836856d1",
   "metadata": {},
   "source": [
    "# convert list into tuple"
   ]
  },
  {
   "cell_type": "code",
   "execution_count": 95,
   "id": "495b250c-3494-464d-84ba-d3ef3f73af0d",
   "metadata": {},
   "outputs": [
    {
     "name": "stdout",
     "output_type": "stream",
     "text": [
      "(12, 13, 14, 15, 16)\n",
      "<class 'tuple'>\n"
     ]
    }
   ],
   "source": [
    "L=[12,13,14,15,16]\n",
    "a=tuple(L)\n",
    "print(a)\n",
    "print(type(a))"
   ]
  },
  {
   "cell_type": "code",
   "execution_count": 99,
   "id": "18b6a98d-3dff-4655-a267-4bf2a3fc6db1",
   "metadata": {},
   "outputs": [
    {
     "name": "stdout",
     "output_type": "stream",
     "text": [
      "(12, 13, 15, 18, 'hello', 'code', 'datascience')\n",
      "<class 'tuple'>\n"
     ]
    }
   ],
   "source": [
    "L=[12,13,15,18,\"hello\",\"code\",\"datascience\"]\n",
    "b=tuple(L)\n",
    "print(b)\n",
    "print(type(b))"
   ]
  },
  {
   "cell_type": "code",
   "execution_count": 105,
   "id": "7b106fad-1599-4ae3-a075-4b2e4702b9ff",
   "metadata": {},
   "outputs": [
    {
     "name": "stdout",
     "output_type": "stream",
     "text": [
      "(15, 16, 18, 'code', 'python', 'datacenter')\n",
      "<class 'tuple'>\n",
      "('datacenter', 'python', 'code', 18, 16, 15)\n"
     ]
    }
   ],
   "source": [
    "\"\"\"convert a list into tuple and reverse it\"\"\"\n",
    "L1=[15,16,18,\"code\",\"python\",\"datacenter\"]\n",
    "t=tuple(L1)\n",
    "print(t)\n",
    "print(type(t))\n",
    "print(t[::-1])"
   ]
  },
  {
   "cell_type": "markdown",
   "id": "eb5828cf-9e38-418c-9aab-4230a02f385f",
   "metadata": {},
   "source": [
    "# how to add items in tuple"
   ]
  },
  {
   "cell_type": "code",
   "execution_count": 116,
   "id": "7ed5b850-0d5b-4b63-9773-7f1d102a7a49",
   "metadata": {},
   "outputs": [
    {
     "name": "stdout",
     "output_type": "stream",
     "text": [
      "[12, 13, 14, 15, 16]\n",
      "<class 'list'>\n",
      "[12, 13, 14, 15, 16, 18]\n",
      "(12, 13, 14, 15, 16, 18)\n",
      "<class 'tuple'>\n"
     ]
    }
   ],
   "source": [
    "\"\"\"how to add items 18 in tuple\"\"\"\n",
    "t=(12,13,14,15,16)\n",
    "l=list(t)\n",
    "print(l)\n",
    "print(type(l))\n",
    "l.append(18)\n",
    "print(l)\n",
    "t1=tuple(l)\n",
    "print(t1)\n",
    "print(type(t1))\n"
   ]
  },
  {
   "cell_type": "markdown",
   "id": "025286f0-b9a0-41ce-8aeb-474058aa0f29",
   "metadata": {},
   "source": [
    "# remove item from tuple"
   ]
  },
  {
   "cell_type": "code",
   "execution_count": 127,
   "id": "21772722-3489-4cd0-af4d-a15b760bc7af",
   "metadata": {},
   "outputs": [
    {
     "name": "stdout",
     "output_type": "stream",
     "text": [
      "[12, 13, 14, 15, 16]\n",
      "<class 'list'>\n",
      "[12, 13, 14, 16]\n",
      "(12, 13, 14, 16)\n",
      "<class 'tuple'>\n"
     ]
    }
   ],
   "source": [
    "t=(12,13,14,15,16)\n",
    "l1=list(t)\n",
    "print(l1)\n",
    "print(type(l1))\n",
    "l1.remove(15)\n",
    "print(l1)\n",
    "t2=tuple(l1)\n",
    "print(t2)\n",
    "print(type(t2))"
   ]
  },
  {
   "cell_type": "code",
   "execution_count": null,
   "id": "cd2cc073-08d7-44e9-af68-597bdd965709",
   "metadata": {},
   "outputs": [],
   "source": []
  }
 ],
 "metadata": {
  "kernelspec": {
   "display_name": "Python [conda env:base] *",
   "language": "python",
   "name": "conda-base-py"
  },
  "language_info": {
   "codemirror_mode": {
    "name": "ipython",
    "version": 3
   },
   "file_extension": ".py",
   "mimetype": "text/x-python",
   "name": "python",
   "nbconvert_exporter": "python",
   "pygments_lexer": "ipython3",
   "version": "3.12.7"
  }
 },
 "nbformat": 4,
 "nbformat_minor": 5
}
