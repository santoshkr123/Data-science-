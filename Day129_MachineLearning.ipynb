{
 "cells": [],
 "metadata": {},
 "nbformat": 4,
 "nbformat_minor": 5
}

🔢𝗗𝗮𝘆 𝟭𝟮𝟵– 𝗗𝗮𝘁𝗮 𝗦𝗰𝗶𝗲𝗻𝗰𝗲 𝗝𝗼𝘂𝗿𝗻𝗲𝘆 (𝗠𝗮𝗰𝗵𝗶𝗻𝗲 𝗟𝗲𝗮𝗿𝗻𝗶𝗻𝗴)
📊𝗧𝗼𝗽𝗶𝗰 : 𝗟𝗼𝗴𝗶𝘀𝘁𝗶𝗰 𝗥𝗲𝗴𝗿𝗲𝘀𝘀𝗶𝗼𝗻

🔍 𝗪𝗵𝗮𝘁 𝗶𝘀 𝗟𝗼𝗴𝗶𝘀𝘁𝗶𝗰 𝗥𝗲𝗴𝗿𝗲𝘀𝘀𝗶𝗼𝗻?
Logistic Regression is a 𝘀𝘂𝗽𝗲𝗿𝘃𝗶𝘀𝗲𝗱 𝗺𝗮𝗰𝗵𝗶𝗻𝗲 𝗹𝗲𝗮𝗿𝗻𝗶𝗻𝗴 𝗮𝗹𝗴𝗼𝗿𝗶𝘁𝗵𝗺 used for 𝗯𝗶𝗻𝗮𝗿𝘆 𝗰𝗹𝗮𝘀𝘀𝗶𝗳𝗶𝗰𝗮𝘁𝗶𝗼𝗻 𝘁𝗮𝘀𝗸𝘀. Unlike Linear Regression, which predicts continuous outputs, 𝗟𝗼𝗴𝗶𝘀𝘁𝗶𝗰 𝗥𝗲𝗴𝗿𝗲𝘀𝘀𝗶𝗼𝗻 𝗽𝗿𝗲𝗱𝗶𝗰𝘁𝘀 𝘁𝗵𝗲 𝗽𝗿𝗼𝗯𝗮𝗯𝗶𝗹𝗶𝘁𝘆 of a data point belonging to a particular class (0 or 1).

🧠 𝗛𝗼𝘄 𝗜𝘁 𝗪𝗼𝗿𝗸𝘀
It uses the 𝘀𝗶𝗴𝗺𝗼𝗶𝗱 𝗳𝘂𝗻𝗰𝘁𝗶𝗼𝗻 (also called logistic function) to map real-valued input to a value between 0 and 1:
σ(z)=1/1+e-z

This output is interpreted as a 𝗽𝗿𝗼𝗯𝗮𝗯𝗶𝗹𝗶𝘁𝘆.
𝗜𝗳 𝗽𝗿𝗼𝗯𝗮𝗯𝗶𝗹𝗶𝘁𝘆 ≥ 𝟬.𝟱, the output is classified as 𝟭.
𝗜𝗳 𝗽𝗿𝗼𝗯𝗮𝗯𝗶𝗹𝗶𝘁𝘆 < 𝟬.𝟱, it’s classified as 𝟬.

⚙️ 𝗨𝘀𝗲 𝗖𝗮𝘀𝗲𝘀 𝗼𝗳 𝗟𝗼𝗴𝗶𝘀𝘁𝗶𝗰 𝗥𝗲𝗴𝗿𝗲𝘀𝘀𝗶𝗼𝗻
𝗘𝗺𝗮𝗶𝗹 𝘀𝗽𝗮𝗺 𝗱𝗲𝘁𝗲𝗰𝘁𝗶𝗼𝗻 📧
𝗠𝗲𝗱𝗶𝗰𝗮𝗹 𝗱𝗶𝗮𝗴𝗻𝗼𝘀𝗶𝘀 (𝗲.𝗴., 𝗱𝗶𝘀𝗲𝗮𝘀𝗲 𝗽𝗿𝗲𝘀𝗲𝗻𝗰𝗲) 🧬
𝗖𝗿𝗲𝗱𝗶𝘁 𝗿𝗶𝘀𝗸 𝗮𝘀𝘀𝗲𝘀𝘀𝗺𝗲𝗻𝘁 💳
𝗖𝘂𝘀𝘁𝗼𝗺𝗲𝗿 𝗰𝗵𝘂𝗿𝗻 𝗽𝗿𝗲𝗱𝗶𝗰𝘁𝗶𝗼𝗻 📉
𝗩𝗼𝘁𝗶𝗻𝗴 𝗯𝗲𝗵𝗮𝘃𝗶𝗼𝗿 𝗰𝗹𝗮𝘀𝘀𝗶𝗳𝗶𝗰𝗮𝘁𝗶𝗼𝗻

✅ 𝗥𝗲𝗮𝗹-𝗟𝗶𝗳𝗲 𝗘𝘅𝗮𝗺𝗽𝗹𝗲:
𝗬𝗼𝘂 𝘄𝗮𝗻𝘁 𝘁𝗼 𝗽𝗿𝗲𝗱𝗶𝗰𝘁 𝘄𝗵𝗲𝘁𝗵𝗲𝗿 𝗮 𝗰𝘂𝘀𝘁𝗼𝗺𝗲𝗿 𝘄𝗶𝗹𝗹 𝗱𝗲𝗳𝗮𝘂𝗹𝘁 𝗼𝗻 𝗮 𝗹𝗼𝗮𝗻.
Using features like income, age, credit score — logistic regression will give you the probability that they will default (1) or not (0).

🎯 𝗟𝗼𝗴𝗶𝘀𝘁𝗶𝗰 𝗥𝗲𝗴𝗿𝗲𝘀𝘀𝗶𝗼𝗻 𝗶𝘀 𝗮 𝗳𝗼𝘂𝗻𝗱𝗮𝘁𝗶𝗼𝗻𝗮𝗹 𝘁𝗼𝗼𝗹 𝗶𝗻 𝗰𝗹𝗮𝘀𝘀𝗶𝗳𝗶𝗰𝗮𝘁𝗶𝗼𝗻 — 𝘀𝗶𝗺𝗽𝗹𝗲 𝘆𝗲𝘁 𝗽𝗼𝘄𝗲𝗿𝗳𝘂𝗹.
